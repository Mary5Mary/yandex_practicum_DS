{
 "cells": [
  {
   "cell_type": "markdown",
   "metadata": {
    "toc": true
   },
   "source": [
    "<h1>Содержание<span class=\"tocSkip\"></span></h1>\n",
    "<div class=\"toc\"><ul class=\"toc-item\"><li><span><a href=\"#Подготовка\" data-toc-modified-id=\"Подготовка-1\"><span class=\"toc-item-num\">1&nbsp;&nbsp;</span>Подготовка</a></span></li><li><span><a href=\"#Обучение\" data-toc-modified-id=\"Обучение-2\"><span class=\"toc-item-num\">2&nbsp;&nbsp;</span>Обучение</a></span><ul class=\"toc-item\"><li><span><a href=\"#RandomForestClassifier\" data-toc-modified-id=\"RandomForestClassifier-2.1\"><span class=\"toc-item-num\">2.1&nbsp;&nbsp;</span>RandomForestClassifier</a></span></li><li><span><a href=\"#LogisticRegression\" data-toc-modified-id=\"LogisticRegression-2.2\"><span class=\"toc-item-num\">2.2&nbsp;&nbsp;</span>LogisticRegression</a></span></li><li><span><a href=\"#LGBMClassifier\" data-toc-modified-id=\"LGBMClassifier-2.3\"><span class=\"toc-item-num\">2.3&nbsp;&nbsp;</span>LGBMClassifier</a></span></li><li><span><a href=\"#CatBoost\" data-toc-modified-id=\"CatBoost-2.4\"><span class=\"toc-item-num\">2.4&nbsp;&nbsp;</span>CatBoost</a></span></li></ul></li><li><span><a href=\"#Выводы\" data-toc-modified-id=\"Выводы-3\"><span class=\"toc-item-num\">3&nbsp;&nbsp;</span>Выводы</a></span></li><li><span><a href=\"#Чек-лист-проверки\" data-toc-modified-id=\"Чек-лист-проверки-4\"><span class=\"toc-item-num\">4&nbsp;&nbsp;</span>Чек-лист проверки</a></span></li></ul></div>"
   ]
  },
  {
   "cell_type": "markdown",
   "metadata": {},
   "source": [
    "# Проект для «Викишоп»"
   ]
  },
  {
   "cell_type": "markdown",
   "metadata": {},
   "source": [
    "Интернет-магазин «Викишоп» запускает новый сервис. Теперь пользователи могут редактировать и дополнять описания товаров, как в вики-сообществах. То есть клиенты предлагают свои правки и комментируют изменения других. Магазину нужен инструмент, который будет искать токсичные комментарии и отправлять их на модерацию. \n",
    "\n",
    "Обучите модель классифицировать комментарии на позитивные и негативные. В вашем распоряжении набор данных с разметкой о токсичности правок.\n",
    "\n",
    "Постройте модель со значением метрики качества *F1* не меньше 0.75. \n",
    "\n",
    "**Инструкция по выполнению проекта**\n",
    "\n",
    "1. Загрузите и подготовьте данные.\n",
    "2. Обучите разные модели. \n",
    "3. Сделайте выводы.\n",
    "\n",
    "Для выполнения проекта применять *BERT* необязательно, но вы можете попробовать.\n",
    "\n",
    "**Описание данных**\n",
    "\n",
    "Данные находятся в файле `toxic_comments.csv`. Столбец *text* в нём содержит текст комментария, а *toxic* — целевой признак."
   ]
  },
  {
   "cell_type": "markdown",
   "metadata": {},
   "source": [
    "## Подготовка"
   ]
  },
  {
   "cell_type": "code",
   "execution_count": 1,
   "metadata": {},
   "outputs": [
    {
     "name": "stderr",
     "output_type": "stream",
     "text": [
      "[nltk_data] Downloading package stopwords to /home/jovyan/nltk_data...\n",
      "[nltk_data]   Package stopwords is already up-to-date!\n"
     ]
    }
   ],
   "source": [
    "import pandas as pd\n",
    "import numpy as np\n",
    "import nltk\n",
    "from nltk.corpus import stopwords as nltk_stopwords\n",
    "from sklearn.feature_extraction.text import TfidfVectorizer, TfidfTransformer\n",
    "from sklearn.linear_model import LogisticRegression\n",
    "from nltk.stem import WordNetLemmatizer\n",
    "from sklearn.model_selection import GridSearchCV\n",
    "from catboost import CatBoostClassifier\n",
    "from lightgbm import LGBMClassifier \n",
    "import re\n",
    "from sklearn.feature_extraction.text import CountVectorizer\n",
    "from sklearn.metrics import classification_report, confusion_matrix, accuracy_score\n",
    "from sklearn.ensemble import RandomForestClassifier\n",
    "from sklearn.model_selection import train_test_split\n",
    "from sklearn.metrics import f1_score\n",
    "nltk.download('stopwords')\n",
    "RNS = 54321"
   ]
  },
  {
   "cell_type": "markdown",
   "metadata": {},
   "source": [
    "Загрузим данные "
   ]
  },
  {
   "cell_type": "code",
   "execution_count": 2,
   "metadata": {},
   "outputs": [
    {
     "name": "stdout",
     "output_type": "stream",
     "text": [
      "<class 'pandas.core.frame.DataFrame'>\n",
      "RangeIndex: 159571 entries, 0 to 159570\n",
      "Data columns (total 2 columns):\n",
      " #   Column  Non-Null Count   Dtype \n",
      "---  ------  --------------   ----- \n",
      " 0   text    159571 non-null  object\n",
      " 1   toxic   159571 non-null  int64 \n",
      "dtypes: int64(1), object(1)\n",
      "memory usage: 2.4+ MB\n"
     ]
    }
   ],
   "source": [
    "df = pd.read_csv(\"/datasets/toxic_comments.csv\")\n",
    "df.info()\n",
    "df1=df"
   ]
  },
  {
   "cell_type": "code",
   "execution_count": 3,
   "metadata": {},
   "outputs": [
    {
     "data": {
      "text/html": [
       "<div>\n",
       "<style scoped>\n",
       "    .dataframe tbody tr th:only-of-type {\n",
       "        vertical-align: middle;\n",
       "    }\n",
       "\n",
       "    .dataframe tbody tr th {\n",
       "        vertical-align: top;\n",
       "    }\n",
       "\n",
       "    .dataframe thead th {\n",
       "        text-align: right;\n",
       "    }\n",
       "</style>\n",
       "<table border=\"1\" class=\"dataframe\">\n",
       "  <thead>\n",
       "    <tr style=\"text-align: right;\">\n",
       "      <th></th>\n",
       "      <th>text</th>\n",
       "      <th>toxic</th>\n",
       "    </tr>\n",
       "  </thead>\n",
       "  <tbody>\n",
       "    <tr>\n",
       "      <th>0</th>\n",
       "      <td>Explanation\\nWhy the edits made under my usern...</td>\n",
       "      <td>0</td>\n",
       "    </tr>\n",
       "    <tr>\n",
       "      <th>1</th>\n",
       "      <td>D'aww! He matches this background colour I'm s...</td>\n",
       "      <td>0</td>\n",
       "    </tr>\n",
       "    <tr>\n",
       "      <th>2</th>\n",
       "      <td>Hey man, I'm really not trying to edit war. It...</td>\n",
       "      <td>0</td>\n",
       "    </tr>\n",
       "    <tr>\n",
       "      <th>3</th>\n",
       "      <td>\"\\nMore\\nI can't make any real suggestions on ...</td>\n",
       "      <td>0</td>\n",
       "    </tr>\n",
       "    <tr>\n",
       "      <th>4</th>\n",
       "      <td>You, sir, are my hero. Any chance you remember...</td>\n",
       "      <td>0</td>\n",
       "    </tr>\n",
       "  </tbody>\n",
       "</table>\n",
       "</div>"
      ],
      "text/plain": [
       "                                                text  toxic\n",
       "0  Explanation\\nWhy the edits made under my usern...      0\n",
       "1  D'aww! He matches this background colour I'm s...      0\n",
       "2  Hey man, I'm really not trying to edit war. It...      0\n",
       "3  \"\\nMore\\nI can't make any real suggestions on ...      0\n",
       "4  You, sir, are my hero. Any chance you remember...      0"
      ]
     },
     "execution_count": 3,
     "metadata": {},
     "output_type": "execute_result"
    }
   ],
   "source": [
    "df.head()"
   ]
  },
  {
   "cell_type": "markdown",
   "metadata": {},
   "source": [
    "Таргет в стобце toxic\n",
    "\n",
    "Текст в столбце text\n",
    "\n",
    "Очистим текст и проведем лематезацию"
   ]
  },
  {
   "cell_type": "code",
   "execution_count": 4,
   "metadata": {},
   "outputs": [],
   "source": [
    "documents = []\n",
    "stemmer = WordNetLemmatizer()\n",
    "\n",
    "for sen in range(0, len(df['text'])):\n",
    "    # Remove all the special characters\n",
    "    document = re.sub(r'\\W', ' ', str(df['text'][sen]))\n",
    "    \n",
    "    # remove all single characters\n",
    "    document = re.sub(r'\\s+[a-zA-Z]\\s+', ' ', document)\n",
    "    \n",
    "    # Remove single characters from the start\n",
    "    document = re.sub(r'\\^[a-zA-Z]\\s+', ' ', document) \n",
    "    \n",
    "    # Substituting multiple spaces with single space\n",
    "    document = re.sub(r'\\s+', ' ', document, flags=re.I)\n",
    "    \n",
    "    # Removing prefixed 'b'\n",
    "    document = re.sub(r'^b\\s+', '', document)\n",
    "    \n",
    "    # Converting to Lowercase\n",
    "    document = document.lower()\n",
    "    \n",
    "    # Lemmatization\n",
    "    document = document.split()\n",
    "\n",
    "    document = [stemmer.lemmatize(word) for word in document]\n",
    "    document = ' '.join(document)\n",
    "    \n",
    "    documents.append(document)"
   ]
  },
  {
   "cell_type": "code",
   "execution_count": 5,
   "metadata": {},
   "outputs": [],
   "source": [
    "df['lemm_text'] = documents"
   ]
  },
  {
   "cell_type": "code",
   "execution_count": null,
   "metadata": {},
   "outputs": [],
   "source": [
    "# #КОД РЕВЬЮЕРА\n",
    "# from tqdm import tqdm\n",
    "# tqdm.pandas()\n",
    "# data['text'] = data['text'].progress_apply(lemmatize_text)"
   ]
  },
  {
   "cell_type": "markdown",
   "metadata": {},
   "source": [
    "Проверим данные "
   ]
  },
  {
   "cell_type": "code",
   "execution_count": 6,
   "metadata": {},
   "outputs": [
    {
     "data": {
      "text/html": [
       "<div>\n",
       "<style scoped>\n",
       "    .dataframe tbody tr th:only-of-type {\n",
       "        vertical-align: middle;\n",
       "    }\n",
       "\n",
       "    .dataframe tbody tr th {\n",
       "        vertical-align: top;\n",
       "    }\n",
       "\n",
       "    .dataframe thead th {\n",
       "        text-align: right;\n",
       "    }\n",
       "</style>\n",
       "<table border=\"1\" class=\"dataframe\">\n",
       "  <thead>\n",
       "    <tr style=\"text-align: right;\">\n",
       "      <th></th>\n",
       "      <th>text</th>\n",
       "      <th>toxic</th>\n",
       "      <th>lemm_text</th>\n",
       "    </tr>\n",
       "  </thead>\n",
       "  <tbody>\n",
       "    <tr>\n",
       "      <th>0</th>\n",
       "      <td>Explanation\\nWhy the edits made under my usern...</td>\n",
       "      <td>0</td>\n",
       "      <td>explanation why the edits made under my userna...</td>\n",
       "    </tr>\n",
       "    <tr>\n",
       "      <th>1</th>\n",
       "      <td>D'aww! He matches this background colour I'm s...</td>\n",
       "      <td>0</td>\n",
       "      <td>d aww he match this background colour m seemin...</td>\n",
       "    </tr>\n",
       "    <tr>\n",
       "      <th>2</th>\n",
       "      <td>Hey man, I'm really not trying to edit war. It...</td>\n",
       "      <td>0</td>\n",
       "      <td>hey man m really not trying to edit war it jus...</td>\n",
       "    </tr>\n",
       "    <tr>\n",
       "      <th>3</th>\n",
       "      <td>\"\\nMore\\nI can't make any real suggestions on ...</td>\n",
       "      <td>0</td>\n",
       "      <td>more can make any real suggestion on improveme...</td>\n",
       "    </tr>\n",
       "    <tr>\n",
       "      <th>4</th>\n",
       "      <td>You, sir, are my hero. Any chance you remember...</td>\n",
       "      <td>0</td>\n",
       "      <td>you sir are my hero any chance you remember wh...</td>\n",
       "    </tr>\n",
       "  </tbody>\n",
       "</table>\n",
       "</div>"
      ],
      "text/plain": [
       "                                                text  toxic  \\\n",
       "0  Explanation\\nWhy the edits made under my usern...      0   \n",
       "1  D'aww! He matches this background colour I'm s...      0   \n",
       "2  Hey man, I'm really not trying to edit war. It...      0   \n",
       "3  \"\\nMore\\nI can't make any real suggestions on ...      0   \n",
       "4  You, sir, are my hero. Any chance you remember...      0   \n",
       "\n",
       "                                           lemm_text  \n",
       "0  explanation why the edits made under my userna...  \n",
       "1  d aww he match this background colour m seemin...  \n",
       "2  hey man m really not trying to edit war it jus...  \n",
       "3  more can make any real suggestion on improveme...  \n",
       "4  you sir are my hero any chance you remember wh...  "
      ]
     },
     "execution_count": 6,
     "metadata": {},
     "output_type": "execute_result"
    }
   ],
   "source": [
    "df.head()"
   ]
  },
  {
   "cell_type": "markdown",
   "metadata": {},
   "source": [
    "Удалим стопслова"
   ]
  },
  {
   "cell_type": "code",
   "execution_count": 7,
   "metadata": {},
   "outputs": [],
   "source": [
    "stopwords = set(nltk_stopwords.words('english'))"
   ]
  },
  {
   "cell_type": "code",
   "execution_count": 8,
   "metadata": {},
   "outputs": [],
   "source": [
    "X = df['lemm_text']\n",
    "y = df['toxic']"
   ]
  },
  {
   "cell_type": "markdown",
   "metadata": {},
   "source": [
    "Разделим на обучающую и тестовые выборки"
   ]
  },
  {
   "cell_type": "code",
   "execution_count": 9,
   "metadata": {},
   "outputs": [],
   "source": [
    "X_train, X_test, y_train, y_test = train_test_split(X, y, test_size=0.2, random_state=RNS, stratify=y) "
   ]
  },
  {
   "cell_type": "markdown",
   "metadata": {},
   "source": [
    "Проведем векторизацию текста"
   ]
  },
  {
   "cell_type": "code",
   "execution_count": 10,
   "metadata": {},
   "outputs": [],
   "source": [
    "tfidfconverter = TfidfVectorizer(stop_words=stopwords) \n",
    "X_train = tfidfconverter.fit_transform(X_train)\n",
    "X_test = tfidfconverter.transform(X_test)"
   ]
  },
  {
   "cell_type": "code",
   "execution_count": 11,
   "metadata": {},
   "outputs": [
    {
     "name": "stdout",
     "output_type": "stream",
     "text": [
      "(127656, 157015)\n",
      "(31915, 157015)\n",
      "(127656,)\n",
      "(31915,)\n"
     ]
    }
   ],
   "source": [
    "print(X_train.shape)\n",
    "print(X_test.shape)\n",
    "print(y_train.shape)\n",
    "print(y_test.shape)"
   ]
  },
  {
   "cell_type": "markdown",
   "metadata": {},
   "source": [
    "## Обучение"
   ]
  },
  {
   "cell_type": "markdown",
   "metadata": {},
   "source": [
    "Обучим несколько моделей, перед этим подберем гипперпараметры"
   ]
  },
  {
   "cell_type": "markdown",
   "metadata": {},
   "source": [
    "### RandomForestClassifier"
   ]
  },
  {
   "cell_type": "raw",
   "metadata": {},
   "source": [
    "model_RF = RandomForestClassifier(random_state=RNS)\n",
    "parameters = {'n_estimators'      : [1000,2000], \n",
    "              'max_depth'         : [11, 12], \n",
    "              'class_weight':['balanced']\n",
    "             }\n",
    "grid_search = GridSearchCV(estimator=model_RF,param_grid = parameters, n_jobs=-1,cv=2, scoring='f1') \n",
    "grid_search.fit(X_train, y_train)\n",
    "grid_search.best_params_ \n",
    "\n",
    "#{'class_weight': 'balanced', 'max_depth': 12, 'n_estimators': 1000}"
   ]
  },
  {
   "cell_type": "code",
   "execution_count": 12,
   "metadata": {},
   "outputs": [],
   "source": [
    "model_RF = RandomForestClassifier(random_state=RNS,  max_depth=12, n_estimators=1000, class_weight='balanced') "
   ]
  },
  {
   "cell_type": "code",
   "execution_count": 13,
   "metadata": {},
   "outputs": [
    {
     "data": {
      "text/plain": [
       "RandomForestClassifier(class_weight='balanced', max_depth=12, n_estimators=1000,\n",
       "                       random_state=54321)"
      ]
     },
     "execution_count": 13,
     "metadata": {},
     "output_type": "execute_result"
    }
   ],
   "source": [
    "model_RF.fit(X_train, y_train) "
   ]
  },
  {
   "cell_type": "code",
   "execution_count": 14,
   "metadata": {},
   "outputs": [],
   "source": [
    "y_pred = model_RF.predict(X_test)"
   ]
  },
  {
   "cell_type": "code",
   "execution_count": 15,
   "metadata": {},
   "outputs": [
    {
     "name": "stdout",
     "output_type": "stream",
     "text": [
      "0.37163063784360817\n"
     ]
    }
   ],
   "source": [
    "f1_model_RF = f1_score(y_test, y_pred)\n",
    "print(f1_score(y_test, y_pred))"
   ]
  },
  {
   "cell_type": "markdown",
   "metadata": {},
   "source": [
    "\n",
    "    \n",
    "Так же есть и другие методы подбора гиперпараметров Optuna/Halving GridSearch:\n",
    "    \n",
    "+  https://medium.com/databulls/tps-mar21-leaderboard-14-xgb-catboost-lgbm-optuna-cdffb5124368\n",
    "+  https://towardsdatascience.com/faster-hyperparameter-tuning-with-scikit-learn-71aa76d06f12\n",
    "+  https://scikit-learn.ru/3-2-tuning-the-hyper-parameters-of-an-estimator/ \n",
    "    \n",
    "\n"
   ]
  },
  {
   "cell_type": "markdown",
   "metadata": {},
   "source": [
    "### LogisticRegression"
   ]
  },
  {
   "cell_type": "raw",
   "metadata": {},
   "source": [
    "model_LR = LogisticRegression( random_state=RNS) \n",
    "parameters = {'C': [0.1, 1, 10],\n",
    "              'class_weight':['balanced'],\n",
    "              'max_iter': [1000]\n",
    "             }\n",
    "grid_search = GridSearchCV(estimator=model_LR, param_grid = parameters, n_jobs=-1,cv=2, scoring='f1') \n",
    "grid_search.fit(X_train, y_train)\n",
    "grid_search.best_params_\n",
    "#{'C': 10, 'class_weight': 'balanced', 'max_iter': 1000}"
   ]
  },
  {
   "cell_type": "code",
   "execution_count": 16,
   "metadata": {},
   "outputs": [],
   "source": [
    "model_LR = LogisticRegression(random_state=RNS, C=10 , class_weight='balanced', max_iter=1000) "
   ]
  },
  {
   "cell_type": "code",
   "execution_count": 17,
   "metadata": {},
   "outputs": [
    {
     "data": {
      "text/plain": [
       "LogisticRegression(C=10, class_weight='balanced', max_iter=1000,\n",
       "                   random_state=54321)"
      ]
     },
     "execution_count": 17,
     "metadata": {},
     "output_type": "execute_result"
    }
   ],
   "source": [
    "model_LR.fit(X_train, y_train) "
   ]
  },
  {
   "cell_type": "code",
   "execution_count": 18,
   "metadata": {},
   "outputs": [],
   "source": [
    "y_pred = model_LR.predict(X_test)"
   ]
  },
  {
   "cell_type": "code",
   "execution_count": 19,
   "metadata": {},
   "outputs": [
    {
     "name": "stdout",
     "output_type": "stream",
     "text": [
      "0.7641550208903616\n"
     ]
    }
   ],
   "source": [
    "f1_model_LR = f1_score(y_test, y_pred)\n",
    "print(f1_score(y_test, y_pred))"
   ]
  },
  {
   "cell_type": "markdown",
   "metadata": {},
   "source": [
    "### LGBMClassifier"
   ]
  },
  {
   "cell_type": "raw",
   "metadata": {},
   "source": [
    "model_LGC = LGBMClassifier(random_state=RNS)\n",
    "params = {'num_leaves': [50,60],\n",
    "          'max_depth': [7,9]\n",
    "         }\n",
    "grid_search = GridSearchCV(estimator=model_LGC, param_grid = params, cv = 2, n_jobs=-1, scoring='f1')\n",
    "grid_search.fit(X_train, y_train)\n",
    "grid_search.best_params_\n",
    "#{'max_depth': 9, 'num_leaves': 60}"
   ]
  },
  {
   "cell_type": "code",
   "execution_count": 20,
   "metadata": {},
   "outputs": [],
   "source": [
    "model_LGC = LGBMClassifier(random_state=RNS, max_depth=9, num_leaves=60)"
   ]
  },
  {
   "cell_type": "code",
   "execution_count": 21,
   "metadata": {},
   "outputs": [
    {
     "data": {
      "text/plain": [
       "LGBMClassifier(max_depth=9, num_leaves=60, random_state=54321)"
      ]
     },
     "execution_count": 21,
     "metadata": {},
     "output_type": "execute_result"
    }
   ],
   "source": [
    "model_LGC.fit(X_train, y_train) "
   ]
  },
  {
   "cell_type": "code",
   "execution_count": 22,
   "metadata": {},
   "outputs": [],
   "source": [
    "y_pred = model_LGC.predict(X_test)"
   ]
  },
  {
   "cell_type": "code",
   "execution_count": 23,
   "metadata": {},
   "outputs": [
    {
     "name": "stdout",
     "output_type": "stream",
     "text": [
      "0.6904901386447959\n"
     ]
    }
   ],
   "source": [
    "f1_model_LGC = f1_score(y_test, y_pred)\n",
    "print(f1_score(y_test, y_pred))"
   ]
  },
  {
   "cell_type": "markdown",
   "metadata": {},
   "source": [
    "### CatBoost"
   ]
  },
  {
   "cell_type": "markdown",
   "metadata": {},
   "source": [
    "Для модели  CatBoostClassifier ограничим длину вектора в 1500\n",
    "\n",
    "(и уменьшим выборку)"
   ]
  },
  {
   "cell_type": "code",
   "execution_count": 24,
   "metadata": {},
   "outputs": [
    {
     "name": "stdout",
     "output_type": "stream",
     "text": [
      "(4000, 1500)\n",
      "(1000, 1500)\n",
      "(4000,)\n",
      "(1000,)\n"
     ]
    }
   ],
   "source": [
    "sample_size = 5000\n",
    "df = df.sample(n=sample_size,random_state=RNS).reset_index(drop=True)\n",
    "X = df['lemm_text']\n",
    "y = df['toxic']\n",
    "X_train, X_test, y_train, y_test = train_test_split(X, y, test_size=0.2, random_state=RNS, stratify=y) \n",
    "tfidfconverter = TfidfVectorizer(stop_words=stopwords, max_features=1500)\n",
    "X_train = tfidfconverter.fit_transform(X_train)\n",
    "X_test = tfidfconverter.transform(X_test)\n",
    "print(X_train.shape)\n",
    "print(X_test.shape)\n",
    "print(y_train.shape)\n",
    "print(y_test.shape)"
   ]
  },
  {
   "cell_type": "raw",
   "metadata": {
    "scrolled": true
   },
   "source": [
    "model_CBR = CatBoostClassifier(random_state=RNS)\n",
    "parameters = {'depth': [8,10],\n",
    "              'learning_rate' : [0.1],\n",
    "              'iterations'    : [100, 1000]\n",
    "             }\n",
    "grid_search = GridSearchCV(estimator=model_CBR, param_grid = parameters, cv = 2, n_jobs=-1, scoring='f1')\n",
    "grid_search.fit(X_train, y_train)\n",
    "grid_search.best_params_\n",
    "#{'depth': 10, 'iterations': 1000, 'learning_rate': 0.1}\n"
   ]
  },
  {
   "cell_type": "code",
   "execution_count": 25,
   "metadata": {},
   "outputs": [],
   "source": [
    "model_CBR = CatBoostClassifier(random_state=RNS, depth=10, iterations=1000, learning_rate=0.1)"
   ]
  },
  {
   "cell_type": "code",
   "execution_count": 26,
   "metadata": {
    "scrolled": true
   },
   "outputs": [
    {
     "name": "stdout",
     "output_type": "stream",
     "text": [
      "0:\tlearn: 0.6011651\ttotal: 1.75s\tremaining: 29m 11s\n",
      "1:\tlearn: 0.5375869\ttotal: 3.35s\tremaining: 27m 49s\n",
      "2:\tlearn: 0.4734488\ttotal: 5.05s\tremaining: 28m\n",
      "3:\tlearn: 0.4258121\ttotal: 6.76s\tremaining: 28m 2s\n",
      "4:\tlearn: 0.3920432\ttotal: 8.46s\tremaining: 28m 3s\n",
      "5:\tlearn: 0.3640811\ttotal: 10.3s\tremaining: 28m 18s\n",
      "6:\tlearn: 0.3432929\ttotal: 11.9s\tremaining: 28m 12s\n",
      "7:\tlearn: 0.3237568\ttotal: 13.6s\tremaining: 28m 2s\n",
      "8:\tlearn: 0.3068992\ttotal: 15.1s\tremaining: 27m 43s\n",
      "9:\tlearn: 0.2935051\ttotal: 16.8s\tremaining: 27m 44s\n",
      "10:\tlearn: 0.2831053\ttotal: 18.5s\tremaining: 27m 45s\n",
      "11:\tlearn: 0.2735761\ttotal: 20.1s\tremaining: 27m 38s\n",
      "12:\tlearn: 0.2634449\ttotal: 21.9s\tremaining: 27m 43s\n",
      "13:\tlearn: 0.2548890\ttotal: 23.5s\tremaining: 27m 35s\n",
      "14:\tlearn: 0.2489533\ttotal: 25.1s\tremaining: 27m 29s\n",
      "15:\tlearn: 0.2428538\ttotal: 26.8s\tremaining: 27m 29s\n",
      "16:\tlearn: 0.2385977\ttotal: 28.4s\tremaining: 27m 22s\n",
      "17:\tlearn: 0.2351063\ttotal: 30.2s\tremaining: 27m 29s\n",
      "18:\tlearn: 0.2304962\ttotal: 31.9s\tremaining: 27m 27s\n",
      "19:\tlearn: 0.2258735\ttotal: 33.8s\tremaining: 27m 37s\n",
      "20:\tlearn: 0.2230463\ttotal: 35.5s\tremaining: 27m 36s\n",
      "21:\tlearn: 0.2210546\ttotal: 37.2s\tremaining: 27m 35s\n",
      "22:\tlearn: 0.2186464\ttotal: 38.9s\tremaining: 27m 33s\n",
      "23:\tlearn: 0.2156582\ttotal: 40.6s\tremaining: 27m 31s\n",
      "24:\tlearn: 0.2137430\ttotal: 42.4s\tremaining: 27m 33s\n",
      "25:\tlearn: 0.2118409\ttotal: 44s\tremaining: 27m 27s\n",
      "26:\tlearn: 0.2096360\ttotal: 45.7s\tremaining: 27m 26s\n",
      "27:\tlearn: 0.2071850\ttotal: 47.3s\tremaining: 27m 22s\n",
      "28:\tlearn: 0.2051313\ttotal: 49.1s\tremaining: 27m 22s\n",
      "29:\tlearn: 0.2037017\ttotal: 50.7s\tremaining: 27m 20s\n",
      "30:\tlearn: 0.2020410\ttotal: 52.5s\tremaining: 27m 21s\n",
      "31:\tlearn: 0.2002146\ttotal: 54.1s\tremaining: 27m 15s\n",
      "32:\tlearn: 0.1988092\ttotal: 55.7s\tremaining: 27m 13s\n",
      "33:\tlearn: 0.1965713\ttotal: 57.4s\tremaining: 27m 12s\n",
      "34:\tlearn: 0.1949532\ttotal: 59.1s\tremaining: 27m 10s\n",
      "35:\tlearn: 0.1940065\ttotal: 1m\tremaining: 27m 6s\n",
      "36:\tlearn: 0.1917428\ttotal: 1m 2s\tremaining: 27m 8s\n",
      "37:\tlearn: 0.1905993\ttotal: 1m 4s\tremaining: 27m 7s\n",
      "38:\tlearn: 0.1894995\ttotal: 1m 6s\tremaining: 27m 10s\n",
      "39:\tlearn: 0.1877743\ttotal: 1m 7s\tremaining: 27m 6s\n",
      "40:\tlearn: 0.1869161\ttotal: 1m 9s\tremaining: 27m 4s\n",
      "41:\tlearn: 0.1850050\ttotal: 1m 11s\tremaining: 27m 1s\n",
      "42:\tlearn: 0.1840877\ttotal: 1m 12s\tremaining: 27m\n",
      "43:\tlearn: 0.1822233\ttotal: 1m 14s\tremaining: 26m 57s\n",
      "44:\tlearn: 0.1810795\ttotal: 1m 16s\tremaining: 26m 55s\n",
      "45:\tlearn: 0.1799214\ttotal: 1m 17s\tremaining: 26m 51s\n",
      "46:\tlearn: 0.1786495\ttotal: 1m 19s\tremaining: 26m 50s\n",
      "47:\tlearn: 0.1778873\ttotal: 1m 21s\tremaining: 26m 50s\n",
      "48:\tlearn: 0.1762935\ttotal: 1m 22s\tremaining: 26m 49s\n",
      "49:\tlearn: 0.1754697\ttotal: 1m 24s\tremaining: 26m 45s\n",
      "50:\tlearn: 0.1748537\ttotal: 1m 26s\tremaining: 26m 42s\n",
      "51:\tlearn: 0.1741035\ttotal: 1m 27s\tremaining: 26m 38s\n",
      "52:\tlearn: 0.1731876\ttotal: 1m 29s\tremaining: 26m 35s\n",
      "53:\tlearn: 0.1725994\ttotal: 1m 30s\tremaining: 26m 33s\n",
      "54:\tlearn: 0.1718378\ttotal: 1m 32s\tremaining: 26m 32s\n",
      "55:\tlearn: 0.1710711\ttotal: 1m 34s\tremaining: 26m 30s\n",
      "56:\tlearn: 0.1697650\ttotal: 1m 36s\tremaining: 26m 32s\n",
      "57:\tlearn: 0.1685751\ttotal: 1m 37s\tremaining: 26m 28s\n",
      "58:\tlearn: 0.1676401\ttotal: 1m 39s\tremaining: 26m 27s\n",
      "59:\tlearn: 0.1667984\ttotal: 1m 41s\tremaining: 26m 23s\n",
      "60:\tlearn: 0.1658976\ttotal: 1m 42s\tremaining: 26m 21s\n",
      "61:\tlearn: 0.1648862\ttotal: 1m 44s\tremaining: 26m 19s\n",
      "62:\tlearn: 0.1643291\ttotal: 1m 46s\tremaining: 26m 17s\n",
      "63:\tlearn: 0.1636658\ttotal: 1m 47s\tremaining: 26m 15s\n",
      "64:\tlearn: 0.1624037\ttotal: 1m 49s\tremaining: 26m 12s\n",
      "65:\tlearn: 0.1620774\ttotal: 1m 50s\tremaining: 26m 9s\n",
      "66:\tlearn: 0.1613006\ttotal: 1m 52s\tremaining: 26m 12s\n",
      "67:\tlearn: 0.1603517\ttotal: 1m 54s\tremaining: 26m 10s\n",
      "68:\tlearn: 0.1594608\ttotal: 1m 56s\tremaining: 26m 9s\n",
      "69:\tlearn: 0.1583372\ttotal: 1m 57s\tremaining: 26m 5s\n",
      "70:\tlearn: 0.1569842\ttotal: 1m 59s\tremaining: 26m 2s\n",
      "71:\tlearn: 0.1562375\ttotal: 2m 1s\tremaining: 26m\n",
      "72:\tlearn: 0.1556930\ttotal: 2m 2s\tremaining: 26m\n",
      "73:\tlearn: 0.1550390\ttotal: 2m 4s\tremaining: 25m 58s\n",
      "74:\tlearn: 0.1545811\ttotal: 2m 6s\tremaining: 25m 58s\n",
      "75:\tlearn: 0.1538589\ttotal: 2m 8s\tremaining: 25m 57s\n",
      "76:\tlearn: 0.1526119\ttotal: 2m 9s\tremaining: 25m 55s\n",
      "77:\tlearn: 0.1518925\ttotal: 2m 11s\tremaining: 25m 55s\n",
      "78:\tlearn: 0.1511005\ttotal: 2m 13s\tremaining: 25m 56s\n",
      "79:\tlearn: 0.1503501\ttotal: 2m 15s\tremaining: 25m 53s\n",
      "80:\tlearn: 0.1499474\ttotal: 2m 16s\tremaining: 25m 52s\n",
      "81:\tlearn: 0.1489454\ttotal: 2m 18s\tremaining: 25m 50s\n",
      "82:\tlearn: 0.1483686\ttotal: 2m 20s\tremaining: 25m 47s\n",
      "83:\tlearn: 0.1477244\ttotal: 2m 21s\tremaining: 25m 46s\n",
      "84:\tlearn: 0.1469631\ttotal: 2m 23s\tremaining: 25m 44s\n",
      "85:\tlearn: 0.1459885\ttotal: 2m 25s\tremaining: 25m 43s\n",
      "86:\tlearn: 0.1450661\ttotal: 2m 26s\tremaining: 25m 42s\n",
      "87:\tlearn: 0.1445719\ttotal: 2m 28s\tremaining: 25m 39s\n",
      "88:\tlearn: 0.1436293\ttotal: 2m 30s\tremaining: 25m 38s\n",
      "89:\tlearn: 0.1431366\ttotal: 2m 31s\tremaining: 25m 36s\n",
      "90:\tlearn: 0.1422615\ttotal: 2m 33s\tremaining: 25m 37s\n",
      "91:\tlearn: 0.1417587\ttotal: 2m 35s\tremaining: 25m 35s\n",
      "92:\tlearn: 0.1403933\ttotal: 2m 37s\tremaining: 25m 35s\n",
      "93:\tlearn: 0.1399210\ttotal: 2m 39s\tremaining: 25m 36s\n",
      "94:\tlearn: 0.1394588\ttotal: 2m 41s\tremaining: 25m 34s\n",
      "95:\tlearn: 0.1390355\ttotal: 2m 42s\tremaining: 25m 32s\n",
      "96:\tlearn: 0.1385784\ttotal: 2m 44s\tremaining: 25m 31s\n",
      "97:\tlearn: 0.1378042\ttotal: 2m 46s\tremaining: 25m 32s\n",
      "98:\tlearn: 0.1365092\ttotal: 2m 48s\tremaining: 25m 31s\n",
      "99:\tlearn: 0.1357287\ttotal: 2m 49s\tremaining: 25m 29s\n",
      "100:\tlearn: 0.1346121\ttotal: 2m 51s\tremaining: 25m 30s\n",
      "101:\tlearn: 0.1340691\ttotal: 2m 54s\tremaining: 25m 32s\n",
      "102:\tlearn: 0.1336345\ttotal: 2m 56s\tremaining: 25m 34s\n",
      "103:\tlearn: 0.1331666\ttotal: 2m 58s\tremaining: 25m 36s\n",
      "104:\tlearn: 0.1317217\ttotal: 3m\tremaining: 25m 39s\n",
      "105:\tlearn: 0.1300277\ttotal: 3m 2s\tremaining: 25m 40s\n",
      "106:\tlearn: 0.1290051\ttotal: 3m 4s\tremaining: 25m 40s\n",
      "107:\tlearn: 0.1285762\ttotal: 3m 6s\tremaining: 25m 40s\n",
      "108:\tlearn: 0.1278165\ttotal: 3m 8s\tremaining: 25m 38s\n",
      "109:\tlearn: 0.1274076\ttotal: 3m 10s\tremaining: 25m 37s\n",
      "110:\tlearn: 0.1267860\ttotal: 3m 11s\tremaining: 25m 35s\n",
      "111:\tlearn: 0.1263901\ttotal: 3m 13s\tremaining: 25m 33s\n",
      "112:\tlearn: 0.1258153\ttotal: 3m 15s\tremaining: 25m 33s\n",
      "113:\tlearn: 0.1253872\ttotal: 3m 17s\tremaining: 25m 31s\n",
      "114:\tlearn: 0.1238482\ttotal: 3m 18s\tremaining: 25m 31s\n",
      "115:\tlearn: 0.1234543\ttotal: 3m 20s\tremaining: 25m 28s\n",
      "116:\tlearn: 0.1230813\ttotal: 3m 22s\tremaining: 25m 26s\n",
      "117:\tlearn: 0.1227304\ttotal: 3m 24s\tremaining: 25m 25s\n",
      "118:\tlearn: 0.1223735\ttotal: 3m 26s\tremaining: 25m 25s\n",
      "119:\tlearn: 0.1216553\ttotal: 3m 27s\tremaining: 25m 22s\n",
      "120:\tlearn: 0.1205549\ttotal: 3m 29s\tremaining: 25m 20s\n",
      "121:\tlearn: 0.1202077\ttotal: 3m 30s\tremaining: 25m 18s\n",
      "122:\tlearn: 0.1189413\ttotal: 3m 32s\tremaining: 25m 16s\n",
      "123:\tlearn: 0.1184826\ttotal: 3m 34s\tremaining: 25m 13s\n",
      "124:\tlearn: 0.1169819\ttotal: 3m 36s\tremaining: 25m 12s\n",
      "125:\tlearn: 0.1166330\ttotal: 3m 37s\tremaining: 25m 10s\n",
      "126:\tlearn: 0.1160337\ttotal: 3m 39s\tremaining: 25m 7s\n",
      "127:\tlearn: 0.1157010\ttotal: 3m 40s\tremaining: 25m 5s\n",
      "128:\tlearn: 0.1153677\ttotal: 3m 42s\tremaining: 25m 4s\n",
      "129:\tlearn: 0.1145760\ttotal: 3m 44s\tremaining: 25m 3s\n",
      "130:\tlearn: 0.1142529\ttotal: 3m 46s\tremaining: 25m 4s\n",
      "131:\tlearn: 0.1139425\ttotal: 3m 48s\tremaining: 25m 2s\n",
      "132:\tlearn: 0.1128125\ttotal: 3m 50s\tremaining: 25m\n",
      "133:\tlearn: 0.1119248\ttotal: 3m 51s\tremaining: 24m 58s\n",
      "134:\tlearn: 0.1116212\ttotal: 3m 53s\tremaining: 24m 56s\n",
      "135:\tlearn: 0.1113166\ttotal: 3m 55s\tremaining: 24m 54s\n",
      "136:\tlearn: 0.1108673\ttotal: 3m 57s\tremaining: 24m 53s\n",
      "137:\tlearn: 0.1098211\ttotal: 3m 58s\tremaining: 24m 51s\n",
      "138:\tlearn: 0.1095322\ttotal: 4m\tremaining: 24m 50s\n",
      "139:\tlearn: 0.1092662\ttotal: 4m 2s\tremaining: 24m 48s\n",
      "140:\tlearn: 0.1086417\ttotal: 4m 4s\tremaining: 24m 46s\n",
      "141:\tlearn: 0.1081298\ttotal: 4m 5s\tremaining: 24m 45s\n",
      "142:\tlearn: 0.1070588\ttotal: 4m 7s\tremaining: 24m 43s\n",
      "143:\tlearn: 0.1067902\ttotal: 4m 9s\tremaining: 24m 42s\n",
      "144:\tlearn: 0.1063265\ttotal: 4m 10s\tremaining: 24m 39s\n",
      "145:\tlearn: 0.1056481\ttotal: 4m 12s\tremaining: 24m 37s\n",
      "146:\tlearn: 0.1053773\ttotal: 4m 14s\tremaining: 24m 35s\n",
      "147:\tlearn: 0.1042905\ttotal: 4m 16s\tremaining: 24m 34s\n",
      "148:\tlearn: 0.1035700\ttotal: 4m 17s\tremaining: 24m 32s\n",
      "149:\tlearn: 0.1033089\ttotal: 4m 19s\tremaining: 24m 30s\n",
      "150:\tlearn: 0.1024945\ttotal: 4m 21s\tremaining: 24m 28s\n",
      "151:\tlearn: 0.1022444\ttotal: 4m 22s\tremaining: 24m 26s\n",
      "152:\tlearn: 0.1014888\ttotal: 4m 24s\tremaining: 24m 24s\n",
      "153:\tlearn: 0.1012421\ttotal: 4m 26s\tremaining: 24m 23s\n",
      "154:\tlearn: 0.1008673\ttotal: 4m 28s\tremaining: 24m 21s\n",
      "155:\tlearn: 0.0996584\ttotal: 4m 29s\tremaining: 24m 19s\n",
      "156:\tlearn: 0.0989678\ttotal: 4m 31s\tremaining: 24m 17s\n",
      "157:\tlearn: 0.0987256\ttotal: 4m 33s\tremaining: 24m 15s\n",
      "158:\tlearn: 0.0984910\ttotal: 4m 34s\tremaining: 24m 13s\n",
      "159:\tlearn: 0.0976109\ttotal: 4m 36s\tremaining: 24m 11s\n",
      "160:\tlearn: 0.0973870\ttotal: 4m 38s\tremaining: 24m 10s\n",
      "161:\tlearn: 0.0968813\ttotal: 4m 39s\tremaining: 24m 8s\n",
      "162:\tlearn: 0.0966602\ttotal: 4m 41s\tremaining: 24m 6s\n",
      "163:\tlearn: 0.0961458\ttotal: 4m 43s\tremaining: 24m 3s\n",
      "164:\tlearn: 0.0955952\ttotal: 4m 44s\tremaining: 24m 1s\n",
      "165:\tlearn: 0.0953817\ttotal: 4m 46s\tremaining: 24m\n",
      "166:\tlearn: 0.0950852\ttotal: 4m 48s\tremaining: 23m 58s\n",
      "167:\tlearn: 0.0948764\ttotal: 4m 49s\tremaining: 23m 55s\n",
      "168:\tlearn: 0.0940805\ttotal: 4m 51s\tremaining: 23m 54s\n",
      "169:\tlearn: 0.0936051\ttotal: 4m 53s\tremaining: 23m 52s\n",
      "170:\tlearn: 0.0934003\ttotal: 4m 54s\tremaining: 23m 49s\n",
      "171:\tlearn: 0.0930760\ttotal: 4m 56s\tremaining: 23m 47s\n",
      "172:\tlearn: 0.0923677\ttotal: 4m 58s\tremaining: 23m 45s\n",
      "173:\tlearn: 0.0917552\ttotal: 4m 59s\tremaining: 23m 42s\n",
      "174:\tlearn: 0.0907499\ttotal: 5m 1s\tremaining: 23m 40s\n",
      "175:\tlearn: 0.0900758\ttotal: 5m 3s\tremaining: 23m 38s\n",
      "176:\tlearn: 0.0898727\ttotal: 5m 4s\tremaining: 23m 37s\n",
      "177:\tlearn: 0.0896589\ttotal: 5m 7s\tremaining: 23m 38s\n",
      "178:\tlearn: 0.0890524\ttotal: 5m 9s\tremaining: 23m 37s\n",
      "179:\tlearn: 0.0888251\ttotal: 5m 10s\tremaining: 23m 36s\n",
      "180:\tlearn: 0.0886358\ttotal: 5m 12s\tremaining: 23m 34s\n",
      "181:\tlearn: 0.0884573\ttotal: 5m 14s\tremaining: 23m 32s\n",
      "182:\tlearn: 0.0882368\ttotal: 5m 15s\tremaining: 23m 30s\n",
      "183:\tlearn: 0.0880479\ttotal: 5m 17s\tremaining: 23m 28s\n",
      "184:\tlearn: 0.0878769\ttotal: 5m 19s\tremaining: 23m 26s\n",
      "185:\tlearn: 0.0875078\ttotal: 5m 20s\tremaining: 23m 24s\n",
      "186:\tlearn: 0.0871583\ttotal: 5m 22s\tremaining: 23m 22s\n",
      "187:\tlearn: 0.0869911\ttotal: 5m 24s\tremaining: 23m 20s\n",
      "188:\tlearn: 0.0864800\ttotal: 5m 26s\tremaining: 23m 18s\n",
      "189:\tlearn: 0.0860578\ttotal: 5m 27s\tremaining: 23m 16s\n",
      "190:\tlearn: 0.0852950\ttotal: 5m 29s\tremaining: 23m 14s\n",
      "191:\tlearn: 0.0846426\ttotal: 5m 30s\tremaining: 23m 12s\n",
      "192:\tlearn: 0.0844119\ttotal: 5m 32s\tremaining: 23m 10s\n",
      "193:\tlearn: 0.0841115\ttotal: 5m 34s\tremaining: 23m 9s\n",
      "194:\tlearn: 0.0834037\ttotal: 5m 36s\tremaining: 23m 7s\n",
      "195:\tlearn: 0.0830525\ttotal: 5m 37s\tremaining: 23m 6s\n",
      "196:\tlearn: 0.0828587\ttotal: 5m 39s\tremaining: 23m 3s\n",
      "197:\tlearn: 0.0821715\ttotal: 5m 41s\tremaining: 23m 1s\n",
      "198:\tlearn: 0.0820095\ttotal: 5m 42s\tremaining: 23m\n",
      "199:\tlearn: 0.0814439\ttotal: 5m 44s\tremaining: 22m 58s\n",
      "200:\tlearn: 0.0812686\ttotal: 5m 46s\tremaining: 22m 56s\n",
      "201:\tlearn: 0.0811052\ttotal: 5m 47s\tremaining: 22m 54s\n",
      "202:\tlearn: 0.0806611\ttotal: 5m 49s\tremaining: 22m 52s\n",
      "203:\tlearn: 0.0804436\ttotal: 5m 51s\tremaining: 22m 50s\n",
      "204:\tlearn: 0.0800137\ttotal: 5m 52s\tremaining: 22m 48s\n",
      "205:\tlearn: 0.0798255\ttotal: 5m 54s\tremaining: 22m 48s\n",
      "206:\tlearn: 0.0792976\ttotal: 5m 56s\tremaining: 22m 46s\n",
      "207:\tlearn: 0.0788714\ttotal: 5m 58s\tremaining: 22m 44s\n",
      "208:\tlearn: 0.0780806\ttotal: 5m 59s\tremaining: 22m 42s\n",
      "209:\tlearn: 0.0777331\ttotal: 6m 1s\tremaining: 22m 40s\n",
      "210:\tlearn: 0.0775834\ttotal: 6m 3s\tremaining: 22m 39s\n",
      "211:\tlearn: 0.0773687\ttotal: 6m 5s\tremaining: 22m 38s\n",
      "212:\tlearn: 0.0770404\ttotal: 6m 7s\tremaining: 22m 36s\n",
      "213:\tlearn: 0.0768889\ttotal: 6m 8s\tremaining: 22m 34s\n",
      "214:\tlearn: 0.0763654\ttotal: 6m 10s\tremaining: 22m 32s\n",
      "215:\tlearn: 0.0761768\ttotal: 6m 12s\tremaining: 22m 31s\n",
      "216:\tlearn: 0.0759551\ttotal: 6m 14s\tremaining: 22m 31s\n",
      "217:\tlearn: 0.0757142\ttotal: 6m 16s\tremaining: 22m 31s\n",
      "218:\tlearn: 0.0753978\ttotal: 6m 19s\tremaining: 22m 31s\n",
      "219:\tlearn: 0.0752566\ttotal: 6m 20s\tremaining: 22m 30s\n",
      "220:\tlearn: 0.0747784\ttotal: 6m 22s\tremaining: 22m 28s\n",
      "221:\tlearn: 0.0744704\ttotal: 6m 24s\tremaining: 22m 27s\n",
      "222:\tlearn: 0.0737655\ttotal: 6m 26s\tremaining: 22m 25s\n",
      "223:\tlearn: 0.0736282\ttotal: 6m 28s\tremaining: 22m 24s\n",
      "224:\tlearn: 0.0733365\ttotal: 6m 29s\tremaining: 22m 23s\n",
      "225:\tlearn: 0.0731870\ttotal: 6m 31s\tremaining: 22m 21s\n",
      "226:\tlearn: 0.0730515\ttotal: 6m 33s\tremaining: 22m 19s\n",
      "227:\tlearn: 0.0725008\ttotal: 6m 35s\tremaining: 22m 19s\n",
      "228:\tlearn: 0.0720413\ttotal: 6m 37s\tremaining: 22m 19s\n",
      "229:\tlearn: 0.0718711\ttotal: 6m 40s\tremaining: 22m 19s\n",
      "230:\tlearn: 0.0713049\ttotal: 6m 41s\tremaining: 22m 17s\n",
      "231:\tlearn: 0.0711056\ttotal: 6m 43s\tremaining: 22m 15s\n",
      "232:\tlearn: 0.0703578\ttotal: 6m 45s\tremaining: 22m 14s\n",
      "233:\tlearn: 0.0700266\ttotal: 6m 47s\tremaining: 22m 14s\n",
      "234:\tlearn: 0.0695552\ttotal: 6m 49s\tremaining: 22m 12s\n",
      "235:\tlearn: 0.0693598\ttotal: 6m 51s\tremaining: 22m 10s\n",
      "236:\tlearn: 0.0689639\ttotal: 6m 52s\tremaining: 22m 9s\n",
      "237:\tlearn: 0.0688381\ttotal: 6m 54s\tremaining: 22m 8s\n",
      "238:\tlearn: 0.0686024\ttotal: 6m 56s\tremaining: 22m 6s\n",
      "239:\tlearn: 0.0682324\ttotal: 6m 58s\tremaining: 22m 5s\n",
      "240:\tlearn: 0.0681105\ttotal: 7m\tremaining: 22m 4s\n",
      "241:\tlearn: 0.0674231\ttotal: 7m 2s\tremaining: 22m 3s\n",
      "242:\tlearn: 0.0673049\ttotal: 7m 4s\tremaining: 22m 2s\n",
      "243:\tlearn: 0.0671620\ttotal: 7m 6s\tremaining: 22m 1s\n",
      "244:\tlearn: 0.0667682\ttotal: 7m 8s\tremaining: 21m 59s\n",
      "245:\tlearn: 0.0665022\ttotal: 7m 9s\tremaining: 21m 57s\n",
      "246:\tlearn: 0.0661830\ttotal: 7m 11s\tremaining: 21m 55s\n",
      "247:\tlearn: 0.0660630\ttotal: 7m 13s\tremaining: 21m 54s\n",
      "248:\tlearn: 0.0659367\ttotal: 7m 15s\tremaining: 21m 52s\n",
      "249:\tlearn: 0.0658070\ttotal: 7m 17s\tremaining: 21m 51s\n",
      "250:\tlearn: 0.0656357\ttotal: 7m 19s\tremaining: 21m 50s\n",
      "251:\tlearn: 0.0653232\ttotal: 7m 20s\tremaining: 21m 47s\n",
      "252:\tlearn: 0.0651769\ttotal: 7m 22s\tremaining: 21m 46s\n",
      "253:\tlearn: 0.0648881\ttotal: 7m 24s\tremaining: 21m 45s\n",
      "254:\tlearn: 0.0647064\ttotal: 7m 26s\tremaining: 21m 43s\n",
      "255:\tlearn: 0.0645327\ttotal: 7m 27s\tremaining: 21m 41s\n",
      "256:\tlearn: 0.0644254\ttotal: 7m 29s\tremaining: 21m 39s\n",
      "257:\tlearn: 0.0641778\ttotal: 7m 31s\tremaining: 21m 37s\n",
      "258:\tlearn: 0.0639504\ttotal: 7m 32s\tremaining: 21m 35s\n",
      "259:\tlearn: 0.0638367\ttotal: 7m 34s\tremaining: 21m 34s\n",
      "260:\tlearn: 0.0634628\ttotal: 7m 36s\tremaining: 21m 32s\n",
      "261:\tlearn: 0.0628816\ttotal: 7m 38s\tremaining: 21m 30s\n",
      "262:\tlearn: 0.0622980\ttotal: 7m 39s\tremaining: 21m 28s\n",
      "263:\tlearn: 0.0621160\ttotal: 7m 41s\tremaining: 21m 26s\n",
      "264:\tlearn: 0.0620016\ttotal: 7m 43s\tremaining: 21m 24s\n",
      "265:\tlearn: 0.0617240\ttotal: 7m 45s\tremaining: 21m 23s\n",
      "266:\tlearn: 0.0616233\ttotal: 7m 46s\tremaining: 21m 21s\n",
      "267:\tlearn: 0.0615099\ttotal: 7m 48s\tremaining: 21m 19s\n",
      "268:\tlearn: 0.0609773\ttotal: 7m 50s\tremaining: 21m 17s\n",
      "269:\tlearn: 0.0605730\ttotal: 7m 51s\tremaining: 21m 15s\n",
      "270:\tlearn: 0.0604219\ttotal: 7m 53s\tremaining: 21m 14s\n",
      "271:\tlearn: 0.0602450\ttotal: 7m 55s\tremaining: 21m 12s\n",
      "272:\tlearn: 0.0597657\ttotal: 7m 57s\tremaining: 21m 11s\n",
      "273:\tlearn: 0.0596647\ttotal: 7m 59s\tremaining: 21m 9s\n",
      "274:\tlearn: 0.0595640\ttotal: 8m\tremaining: 21m 7s\n",
      "275:\tlearn: 0.0592472\ttotal: 8m 2s\tremaining: 21m 5s\n",
      "276:\tlearn: 0.0591497\ttotal: 8m 4s\tremaining: 21m 3s\n",
      "277:\tlearn: 0.0588446\ttotal: 8m 5s\tremaining: 21m 2s\n",
      "278:\tlearn: 0.0587387\ttotal: 8m 7s\tremaining: 21m\n",
      "279:\tlearn: 0.0583260\ttotal: 8m 9s\tremaining: 20m 58s\n",
      "280:\tlearn: 0.0581734\ttotal: 8m 11s\tremaining: 20m 56s\n",
      "281:\tlearn: 0.0579475\ttotal: 8m 12s\tremaining: 20m 54s\n",
      "282:\tlearn: 0.0578542\ttotal: 8m 14s\tremaining: 20m 53s\n",
      "283:\tlearn: 0.0577629\ttotal: 8m 16s\tremaining: 20m 52s\n",
      "284:\tlearn: 0.0576206\ttotal: 8m 18s\tremaining: 20m 51s\n",
      "285:\tlearn: 0.0574460\ttotal: 8m 20s\tremaining: 20m 49s\n",
      "286:\tlearn: 0.0570786\ttotal: 8m 22s\tremaining: 20m 48s\n",
      "287:\tlearn: 0.0569891\ttotal: 8m 24s\tremaining: 20m 47s\n",
      "288:\tlearn: 0.0568139\ttotal: 8m 26s\tremaining: 20m 45s\n",
      "289:\tlearn: 0.0567256\ttotal: 8m 28s\tremaining: 20m 44s\n",
      "290:\tlearn: 0.0565673\ttotal: 8m 29s\tremaining: 20m 42s\n",
      "291:\tlearn: 0.0564756\ttotal: 8m 31s\tremaining: 20m 40s\n",
      "292:\tlearn: 0.0563865\ttotal: 8m 33s\tremaining: 20m 39s\n",
      "293:\tlearn: 0.0563008\ttotal: 8m 35s\tremaining: 20m 37s\n",
      "294:\tlearn: 0.0558614\ttotal: 8m 37s\tremaining: 20m 35s\n",
      "295:\tlearn: 0.0557642\ttotal: 8m 38s\tremaining: 20m 34s\n",
      "296:\tlearn: 0.0556812\ttotal: 8m 40s\tremaining: 20m 32s\n",
      "297:\tlearn: 0.0554379\ttotal: 8m 42s\tremaining: 20m 30s\n",
      "298:\tlearn: 0.0553586\ttotal: 8m 44s\tremaining: 20m 29s\n",
      "299:\tlearn: 0.0551409\ttotal: 8m 46s\tremaining: 20m 27s\n",
      "300:\tlearn: 0.0546788\ttotal: 8m 47s\tremaining: 20m 25s\n",
      "301:\tlearn: 0.0545825\ttotal: 8m 49s\tremaining: 20m 24s\n",
      "302:\tlearn: 0.0544518\ttotal: 8m 51s\tremaining: 20m 23s\n",
      "303:\tlearn: 0.0543732\ttotal: 8m 53s\tremaining: 20m 21s\n",
      "304:\tlearn: 0.0542322\ttotal: 8m 55s\tremaining: 20m 19s\n",
      "305:\tlearn: 0.0540527\ttotal: 8m 57s\tremaining: 20m 18s\n",
      "306:\tlearn: 0.0538070\ttotal: 8m 58s\tremaining: 20m 16s\n",
      "307:\tlearn: 0.0535582\ttotal: 9m\tremaining: 20m 15s\n",
      "308:\tlearn: 0.0534625\ttotal: 9m 2s\tremaining: 20m 13s\n",
      "309:\tlearn: 0.0533160\ttotal: 9m 4s\tremaining: 20m 12s\n",
      "310:\tlearn: 0.0531910\ttotal: 9m 6s\tremaining: 20m 10s\n",
      "311:\tlearn: 0.0529121\ttotal: 9m 8s\tremaining: 20m 9s\n",
      "312:\tlearn: 0.0527200\ttotal: 9m 9s\tremaining: 20m 7s\n",
      "313:\tlearn: 0.0524469\ttotal: 9m 11s\tremaining: 20m 5s\n",
      "314:\tlearn: 0.0523694\ttotal: 9m 13s\tremaining: 20m 3s\n",
      "315:\tlearn: 0.0521890\ttotal: 9m 15s\tremaining: 20m 1s\n",
      "316:\tlearn: 0.0520463\ttotal: 9m 16s\tremaining: 20m\n",
      "317:\tlearn: 0.0516097\ttotal: 9m 18s\tremaining: 19m 58s\n",
      "318:\tlearn: 0.0515331\ttotal: 9m 20s\tremaining: 19m 56s\n",
      "319:\tlearn: 0.0514506\ttotal: 9m 22s\tremaining: 19m 54s\n",
      "320:\tlearn: 0.0511663\ttotal: 9m 24s\tremaining: 19m 53s\n",
      "321:\tlearn: 0.0510936\ttotal: 9m 25s\tremaining: 19m 51s\n",
      "322:\tlearn: 0.0508236\ttotal: 9m 27s\tremaining: 19m 50s\n",
      "323:\tlearn: 0.0505513\ttotal: 9m 29s\tremaining: 19m 48s\n",
      "324:\tlearn: 0.0504792\ttotal: 9m 31s\tremaining: 19m 46s\n",
      "325:\tlearn: 0.0501120\ttotal: 9m 33s\tremaining: 19m 45s\n",
      "326:\tlearn: 0.0500336\ttotal: 9m 35s\tremaining: 19m 43s\n",
      "327:\tlearn: 0.0499148\ttotal: 9m 36s\tremaining: 19m 42s\n",
      "328:\tlearn: 0.0498016\ttotal: 9m 39s\tremaining: 19m 40s\n",
      "329:\tlearn: 0.0496923\ttotal: 9m 40s\tremaining: 19m 39s\n",
      "330:\tlearn: 0.0496219\ttotal: 9m 42s\tremaining: 19m 37s\n",
      "331:\tlearn: 0.0494380\ttotal: 9m 44s\tremaining: 19m 36s\n",
      "332:\tlearn: 0.0493702\ttotal: 9m 46s\tremaining: 19m 34s\n",
      "333:\tlearn: 0.0491283\ttotal: 9m 48s\tremaining: 19m 32s\n",
      "334:\tlearn: 0.0490618\ttotal: 9m 50s\tremaining: 19m 31s\n",
      "335:\tlearn: 0.0488863\ttotal: 9m 52s\tremaining: 19m 30s\n",
      "336:\tlearn: 0.0488217\ttotal: 9m 54s\tremaining: 19m 28s\n",
      "337:\tlearn: 0.0486122\ttotal: 9m 56s\tremaining: 19m 27s\n",
      "338:\tlearn: 0.0484327\ttotal: 9m 58s\tremaining: 19m 26s\n",
      "339:\tlearn: 0.0483699\ttotal: 9m 59s\tremaining: 19m 24s\n",
      "340:\tlearn: 0.0483039\ttotal: 10m 1s\tremaining: 19m 23s\n",
      "341:\tlearn: 0.0480685\ttotal: 10m 4s\tremaining: 19m 22s\n",
      "342:\tlearn: 0.0479908\ttotal: 10m 5s\tremaining: 19m 20s\n",
      "343:\tlearn: 0.0478997\ttotal: 10m 7s\tremaining: 19m 18s\n",
      "344:\tlearn: 0.0476377\ttotal: 10m 9s\tremaining: 19m 17s\n",
      "345:\tlearn: 0.0473840\ttotal: 10m 11s\tremaining: 19m 16s\n",
      "346:\tlearn: 0.0470883\ttotal: 10m 14s\tremaining: 19m 15s\n",
      "347:\tlearn: 0.0470010\ttotal: 10m 15s\tremaining: 19m 14s\n",
      "348:\tlearn: 0.0469015\ttotal: 10m 17s\tremaining: 19m 12s\n",
      "349:\tlearn: 0.0467684\ttotal: 10m 19s\tremaining: 19m 10s\n",
      "350:\tlearn: 0.0463842\ttotal: 10m 21s\tremaining: 19m 9s\n",
      "351:\tlearn: 0.0463225\ttotal: 10m 23s\tremaining: 19m 7s\n",
      "352:\tlearn: 0.0461434\ttotal: 10m 25s\tremaining: 19m 6s\n",
      "353:\tlearn: 0.0460833\ttotal: 10m 27s\tremaining: 19m 5s\n",
      "354:\tlearn: 0.0459148\ttotal: 10m 29s\tremaining: 19m 4s\n",
      "355:\tlearn: 0.0458271\ttotal: 10m 31s\tremaining: 19m 3s\n",
      "356:\tlearn: 0.0455955\ttotal: 10m 33s\tremaining: 19m 1s\n",
      "357:\tlearn: 0.0455361\ttotal: 10m 35s\tremaining: 19m\n",
      "358:\tlearn: 0.0454779\ttotal: 10m 37s\tremaining: 18m 58s\n",
      "359:\tlearn: 0.0453169\ttotal: 10m 39s\tremaining: 18m 57s\n",
      "360:\tlearn: 0.0450893\ttotal: 10m 41s\tremaining: 18m 56s\n",
      "361:\tlearn: 0.0450326\ttotal: 10m 44s\tremaining: 18m 55s\n",
      "362:\tlearn: 0.0449692\ttotal: 10m 46s\tremaining: 18m 54s\n",
      "363:\tlearn: 0.0448769\ttotal: 10m 48s\tremaining: 18m 52s\n",
      "364:\tlearn: 0.0446313\ttotal: 10m 50s\tremaining: 18m 51s\n",
      "365:\tlearn: 0.0445438\ttotal: 10m 52s\tremaining: 18m 49s\n",
      "366:\tlearn: 0.0444015\ttotal: 10m 54s\tremaining: 18m 48s\n",
      "367:\tlearn: 0.0443461\ttotal: 10m 56s\tremaining: 18m 46s\n",
      "368:\tlearn: 0.0442920\ttotal: 10m 58s\tremaining: 18m 45s\n",
      "369:\tlearn: 0.0441175\ttotal: 11m\tremaining: 18m 43s\n",
      "370:\tlearn: 0.0440305\ttotal: 11m 2s\tremaining: 18m 42s\n",
      "371:\tlearn: 0.0439475\ttotal: 11m 4s\tremaining: 18m 41s\n",
      "372:\tlearn: 0.0438841\ttotal: 11m 6s\tremaining: 18m 40s\n",
      "373:\tlearn: 0.0437404\ttotal: 11m 8s\tremaining: 18m 38s\n",
      "374:\tlearn: 0.0435851\ttotal: 11m 10s\tremaining: 18m 37s\n",
      "375:\tlearn: 0.0433152\ttotal: 11m 12s\tremaining: 18m 35s\n",
      "376:\tlearn: 0.0432618\ttotal: 11m 14s\tremaining: 18m 34s\n",
      "377:\tlearn: 0.0431748\ttotal: 11m 16s\tremaining: 18m 32s\n",
      "378:\tlearn: 0.0431230\ttotal: 11m 18s\tremaining: 18m 31s\n",
      "379:\tlearn: 0.0430287\ttotal: 11m 20s\tremaining: 18m 30s\n",
      "380:\tlearn: 0.0428732\ttotal: 11m 22s\tremaining: 18m 29s\n",
      "381:\tlearn: 0.0426928\ttotal: 11m 24s\tremaining: 18m 27s\n",
      "382:\tlearn: 0.0424285\ttotal: 11m 26s\tremaining: 18m 26s\n",
      "383:\tlearn: 0.0423775\ttotal: 11m 28s\tremaining: 18m 25s\n",
      "384:\tlearn: 0.0423271\ttotal: 11m 30s\tremaining: 18m 23s\n",
      "385:\tlearn: 0.0420987\ttotal: 11m 32s\tremaining: 18m 22s\n",
      "386:\tlearn: 0.0420494\ttotal: 11m 34s\tremaining: 18m 20s\n",
      "387:\tlearn: 0.0418555\ttotal: 11m 36s\tremaining: 18m 19s\n",
      "388:\tlearn: 0.0417808\ttotal: 11m 39s\tremaining: 18m 18s\n",
      "389:\tlearn: 0.0415430\ttotal: 11m 41s\tremaining: 18m 16s\n",
      "390:\tlearn: 0.0414945\ttotal: 11m 43s\tremaining: 18m 15s\n",
      "391:\tlearn: 0.0414144\ttotal: 11m 45s\tremaining: 18m 13s\n",
      "392:\tlearn: 0.0413594\ttotal: 11m 47s\tremaining: 18m 12s\n",
      "393:\tlearn: 0.0413123\ttotal: 11m 49s\tremaining: 18m 10s\n",
      "394:\tlearn: 0.0412321\ttotal: 11m 51s\tremaining: 18m 9s\n",
      "395:\tlearn: 0.0411325\ttotal: 11m 53s\tremaining: 18m 7s\n",
      "396:\tlearn: 0.0410408\ttotal: 11m 55s\tremaining: 18m 6s\n",
      "397:\tlearn: 0.0409902\ttotal: 11m 57s\tremaining: 18m 5s\n",
      "398:\tlearn: 0.0407848\ttotal: 11m 59s\tremaining: 18m 3s\n",
      "399:\tlearn: 0.0407112\ttotal: 12m 1s\tremaining: 18m 2s\n",
      "400:\tlearn: 0.0405168\ttotal: 12m 3s\tremaining: 18m\n",
      "401:\tlearn: 0.0403339\ttotal: 12m 5s\tremaining: 17m 59s\n",
      "402:\tlearn: 0.0402270\ttotal: 12m 7s\tremaining: 17m 57s\n",
      "403:\tlearn: 0.0401813\ttotal: 12m 9s\tremaining: 17m 56s\n",
      "404:\tlearn: 0.0401371\ttotal: 12m 11s\tremaining: 17m 54s\n",
      "405:\tlearn: 0.0400700\ttotal: 12m 13s\tremaining: 17m 53s\n",
      "406:\tlearn: 0.0399910\ttotal: 12m 15s\tremaining: 17m 51s\n",
      "407:\tlearn: 0.0397035\ttotal: 12m 17s\tremaining: 17m 50s\n",
      "408:\tlearn: 0.0395577\ttotal: 12m 19s\tremaining: 17m 48s\n",
      "409:\tlearn: 0.0395142\ttotal: 12m 21s\tremaining: 17m 46s\n",
      "410:\tlearn: 0.0393801\ttotal: 12m 23s\tremaining: 17m 45s\n",
      "411:\tlearn: 0.0392154\ttotal: 12m 25s\tremaining: 17m 43s\n",
      "412:\tlearn: 0.0391706\ttotal: 12m 27s\tremaining: 17m 42s\n",
      "413:\tlearn: 0.0391230\ttotal: 12m 29s\tremaining: 17m 41s\n",
      "414:\tlearn: 0.0390266\ttotal: 12m 31s\tremaining: 17m 39s\n",
      "415:\tlearn: 0.0387416\ttotal: 12m 33s\tremaining: 17m 38s\n",
      "416:\tlearn: 0.0386993\ttotal: 12m 35s\tremaining: 17m 36s\n",
      "417:\tlearn: 0.0385798\ttotal: 12m 37s\tremaining: 17m 35s\n",
      "418:\tlearn: 0.0385260\ttotal: 12m 39s\tremaining: 17m 33s\n",
      "419:\tlearn: 0.0384674\ttotal: 12m 41s\tremaining: 17m 32s\n",
      "420:\tlearn: 0.0384273\ttotal: 12m 44s\tremaining: 17m 30s\n",
      "421:\tlearn: 0.0383349\ttotal: 12m 46s\tremaining: 17m 29s\n",
      "422:\tlearn: 0.0382892\ttotal: 12m 48s\tremaining: 17m 27s\n",
      "423:\tlearn: 0.0382498\ttotal: 12m 50s\tremaining: 17m 26s\n",
      "424:\tlearn: 0.0380989\ttotal: 12m 52s\tremaining: 17m 24s\n",
      "425:\tlearn: 0.0379142\ttotal: 12m 54s\tremaining: 17m 23s\n",
      "426:\tlearn: 0.0377852\ttotal: 12m 56s\tremaining: 17m 21s\n",
      "427:\tlearn: 0.0376220\ttotal: 12m 58s\tremaining: 17m 20s\n",
      "428:\tlearn: 0.0375655\ttotal: 13m\tremaining: 17m 18s\n",
      "429:\tlearn: 0.0375258\ttotal: 13m 2s\tremaining: 17m 17s\n",
      "430:\tlearn: 0.0374820\ttotal: 13m 4s\tremaining: 17m 16s\n",
      "431:\tlearn: 0.0373248\ttotal: 13m 6s\tremaining: 17m 14s\n",
      "432:\tlearn: 0.0372552\ttotal: 13m 8s\tremaining: 17m 12s\n",
      "433:\tlearn: 0.0372113\ttotal: 13m 10s\tremaining: 17m 11s\n",
      "434:\tlearn: 0.0370225\ttotal: 13m 12s\tremaining: 17m 9s\n",
      "435:\tlearn: 0.0369842\ttotal: 13m 14s\tremaining: 17m 8s\n",
      "436:\tlearn: 0.0369358\ttotal: 13m 16s\tremaining: 17m 6s\n",
      "437:\tlearn: 0.0368517\ttotal: 13m 18s\tremaining: 17m 5s\n",
      "438:\tlearn: 0.0366736\ttotal: 13m 20s\tremaining: 17m 3s\n",
      "439:\tlearn: 0.0364615\ttotal: 13m 22s\tremaining: 17m 1s\n",
      "440:\tlearn: 0.0363943\ttotal: 13m 24s\tremaining: 17m\n",
      "441:\tlearn: 0.0363561\ttotal: 13m 26s\tremaining: 16m 58s\n",
      "442:\tlearn: 0.0363148\ttotal: 13m 28s\tremaining: 16m 57s\n",
      "443:\tlearn: 0.0362740\ttotal: 13m 31s\tremaining: 16m 55s\n",
      "444:\tlearn: 0.0362364\ttotal: 13m 33s\tremaining: 16m 54s\n",
      "445:\tlearn: 0.0361773\ttotal: 13m 35s\tremaining: 16m 52s\n",
      "446:\tlearn: 0.0361073\ttotal: 13m 37s\tremaining: 16m 51s\n",
      "447:\tlearn: 0.0360544\ttotal: 13m 39s\tremaining: 16m 49s\n",
      "448:\tlearn: 0.0360188\ttotal: 13m 41s\tremaining: 16m 48s\n",
      "449:\tlearn: 0.0359118\ttotal: 13m 43s\tremaining: 16m 46s\n",
      "450:\tlearn: 0.0358768\ttotal: 13m 45s\tremaining: 16m 45s\n",
      "451:\tlearn: 0.0357395\ttotal: 13m 48s\tremaining: 16m 43s\n",
      "452:\tlearn: 0.0356767\ttotal: 13m 50s\tremaining: 16m 42s\n",
      "453:\tlearn: 0.0356430\ttotal: 13m 52s\tremaining: 16m 40s\n",
      "454:\tlearn: 0.0355779\ttotal: 13m 54s\tremaining: 16m 39s\n",
      "455:\tlearn: 0.0354778\ttotal: 13m 56s\tremaining: 16m 37s\n",
      "456:\tlearn: 0.0354444\ttotal: 13m 58s\tremaining: 16m 35s\n",
      "457:\tlearn: 0.0352788\ttotal: 14m\tremaining: 16m 34s\n",
      "458:\tlearn: 0.0352174\ttotal: 14m 2s\tremaining: 16m 32s\n",
      "459:\tlearn: 0.0351846\ttotal: 14m 4s\tremaining: 16m 31s\n",
      "460:\tlearn: 0.0350973\ttotal: 14m 6s\tremaining: 16m 29s\n",
      "461:\tlearn: 0.0350060\ttotal: 14m 8s\tremaining: 16m 28s\n",
      "462:\tlearn: 0.0348730\ttotal: 14m 10s\tremaining: 16m 26s\n",
      "463:\tlearn: 0.0348402\ttotal: 14m 12s\tremaining: 16m 24s\n",
      "464:\tlearn: 0.0347276\ttotal: 14m 14s\tremaining: 16m 23s\n",
      "465:\tlearn: 0.0346814\ttotal: 14m 16s\tremaining: 16m 21s\n",
      "466:\tlearn: 0.0346498\ttotal: 14m 18s\tremaining: 16m 20s\n",
      "467:\tlearn: 0.0345650\ttotal: 14m 20s\tremaining: 16m 18s\n",
      "468:\tlearn: 0.0345283\ttotal: 14m 22s\tremaining: 16m 17s\n",
      "469:\tlearn: 0.0344579\ttotal: 14m 25s\tremaining: 16m 15s\n",
      "470:\tlearn: 0.0342772\ttotal: 14m 27s\tremaining: 16m 13s\n",
      "471:\tlearn: 0.0341995\ttotal: 14m 29s\tremaining: 16m 12s\n",
      "472:\tlearn: 0.0341684\ttotal: 14m 31s\tremaining: 16m 10s\n",
      "473:\tlearn: 0.0340377\ttotal: 14m 33s\tremaining: 16m 9s\n",
      "474:\tlearn: 0.0339477\ttotal: 14m 35s\tremaining: 16m 7s\n",
      "475:\tlearn: 0.0338987\ttotal: 14m 37s\tremaining: 16m 5s\n",
      "476:\tlearn: 0.0338676\ttotal: 14m 39s\tremaining: 16m 4s\n",
      "477:\tlearn: 0.0338088\ttotal: 14m 41s\tremaining: 16m 2s\n",
      "478:\tlearn: 0.0337108\ttotal: 14m 43s\tremaining: 16m\n",
      "479:\tlearn: 0.0335486\ttotal: 14m 45s\tremaining: 15m 59s\n",
      "480:\tlearn: 0.0335177\ttotal: 14m 47s\tremaining: 15m 57s\n",
      "481:\tlearn: 0.0334872\ttotal: 14m 49s\tremaining: 15m 55s\n",
      "482:\tlearn: 0.0334576\ttotal: 14m 51s\tremaining: 15m 54s\n",
      "483:\tlearn: 0.0333685\ttotal: 14m 53s\tremaining: 15m 52s\n",
      "484:\tlearn: 0.0332569\ttotal: 14m 55s\tremaining: 15m 50s\n",
      "485:\tlearn: 0.0330958\ttotal: 14m 57s\tremaining: 15m 49s\n",
      "486:\tlearn: 0.0330628\ttotal: 14m 59s\tremaining: 15m 47s\n",
      "487:\tlearn: 0.0330169\ttotal: 15m 1s\tremaining: 15m 45s\n",
      "488:\tlearn: 0.0329699\ttotal: 15m 3s\tremaining: 15m 43s\n",
      "489:\tlearn: 0.0329409\ttotal: 15m 5s\tremaining: 15m 42s\n",
      "490:\tlearn: 0.0329001\ttotal: 15m 7s\tremaining: 15m 40s\n",
      "491:\tlearn: 0.0328716\ttotal: 15m 9s\tremaining: 15m 38s\n",
      "492:\tlearn: 0.0326624\ttotal: 15m 11s\tremaining: 15m 37s\n",
      "493:\tlearn: 0.0326199\ttotal: 15m 13s\tremaining: 15m 35s\n",
      "494:\tlearn: 0.0325091\ttotal: 15m 15s\tremaining: 15m 33s\n",
      "495:\tlearn: 0.0324241\ttotal: 15m 17s\tremaining: 15m 32s\n",
      "496:\tlearn: 0.0323962\ttotal: 15m 19s\tremaining: 15m 30s\n",
      "497:\tlearn: 0.0323031\ttotal: 15m 21s\tremaining: 15m 28s\n",
      "498:\tlearn: 0.0322198\ttotal: 15m 23s\tremaining: 15m 26s\n",
      "499:\tlearn: 0.0321759\ttotal: 15m 25s\tremaining: 15m 25s\n",
      "500:\tlearn: 0.0321486\ttotal: 15m 27s\tremaining: 15m 23s\n",
      "501:\tlearn: 0.0321160\ttotal: 15m 29s\tremaining: 15m 21s\n",
      "502:\tlearn: 0.0319507\ttotal: 15m 31s\tremaining: 15m 20s\n",
      "503:\tlearn: 0.0318860\ttotal: 15m 33s\tremaining: 15m 18s\n",
      "504:\tlearn: 0.0317894\ttotal: 15m 35s\tremaining: 15m 16s\n",
      "505:\tlearn: 0.0317607\ttotal: 15m 37s\tremaining: 15m 14s\n",
      "506:\tlearn: 0.0317168\ttotal: 15m 39s\tremaining: 15m 13s\n",
      "507:\tlearn: 0.0316902\ttotal: 15m 41s\tremaining: 15m 11s\n",
      "508:\tlearn: 0.0315833\ttotal: 15m 42s\tremaining: 15m 9s\n",
      "509:\tlearn: 0.0315577\ttotal: 15m 45s\tremaining: 15m 8s\n",
      "510:\tlearn: 0.0314757\ttotal: 15m 47s\tremaining: 15m 6s\n",
      "511:\tlearn: 0.0314500\ttotal: 15m 49s\tremaining: 15m 4s\n",
      "512:\tlearn: 0.0313952\ttotal: 15m 51s\tremaining: 15m 3s\n",
      "513:\tlearn: 0.0313460\ttotal: 15m 53s\tremaining: 15m 1s\n",
      "514:\tlearn: 0.0312902\ttotal: 15m 55s\tremaining: 14m 59s\n",
      "515:\tlearn: 0.0312116\ttotal: 15m 57s\tremaining: 14m 57s\n",
      "516:\tlearn: 0.0311669\ttotal: 15m 59s\tremaining: 14m 56s\n",
      "517:\tlearn: 0.0310130\ttotal: 16m 1s\tremaining: 14m 54s\n",
      "518:\tlearn: 0.0309364\ttotal: 16m 3s\tremaining: 14m 52s\n",
      "519:\tlearn: 0.0309112\ttotal: 16m 5s\tremaining: 14m 51s\n",
      "520:\tlearn: 0.0308709\ttotal: 16m 7s\tremaining: 14m 49s\n",
      "521:\tlearn: 0.0307663\ttotal: 16m 9s\tremaining: 14m 48s\n",
      "522:\tlearn: 0.0306698\ttotal: 16m 11s\tremaining: 14m 46s\n",
      "523:\tlearn: 0.0305720\ttotal: 16m 13s\tremaining: 14m 44s\n",
      "524:\tlearn: 0.0305473\ttotal: 16m 15s\tremaining: 14m 42s\n",
      "525:\tlearn: 0.0304684\ttotal: 16m 17s\tremaining: 14m 41s\n",
      "526:\tlearn: 0.0303464\ttotal: 16m 19s\tremaining: 14m 39s\n",
      "527:\tlearn: 0.0303220\ttotal: 16m 22s\tremaining: 14m 37s\n",
      "528:\tlearn: 0.0302164\ttotal: 16m 24s\tremaining: 14m 36s\n",
      "529:\tlearn: 0.0301792\ttotal: 16m 26s\tremaining: 14m 34s\n",
      "530:\tlearn: 0.0301552\ttotal: 16m 28s\tremaining: 14m 32s\n",
      "531:\tlearn: 0.0301319\ttotal: 16m 30s\tremaining: 14m 31s\n",
      "532:\tlearn: 0.0300803\ttotal: 16m 32s\tremaining: 14m 29s\n",
      "533:\tlearn: 0.0300544\ttotal: 16m 34s\tremaining: 14m 27s\n",
      "534:\tlearn: 0.0299067\ttotal: 16m 36s\tremaining: 14m 26s\n",
      "535:\tlearn: 0.0298685\ttotal: 16m 38s\tremaining: 14m 24s\n",
      "536:\tlearn: 0.0297620\ttotal: 16m 41s\tremaining: 14m 23s\n",
      "537:\tlearn: 0.0296703\ttotal: 16m 42s\tremaining: 14m 21s\n",
      "538:\tlearn: 0.0296356\ttotal: 16m 44s\tremaining: 14m 19s\n",
      "539:\tlearn: 0.0296123\ttotal: 16m 47s\tremaining: 14m 17s\n",
      "540:\tlearn: 0.0295897\ttotal: 16m 48s\tremaining: 14m 16s\n",
      "541:\tlearn: 0.0295206\ttotal: 16m 50s\tremaining: 14m 14s\n",
      "542:\tlearn: 0.0294140\ttotal: 16m 52s\tremaining: 14m 12s\n",
      "543:\tlearn: 0.0293902\ttotal: 16m 54s\tremaining: 14m 10s\n",
      "544:\tlearn: 0.0292784\ttotal: 16m 56s\tremaining: 14m 8s\n",
      "545:\tlearn: 0.0292378\ttotal: 16m 58s\tremaining: 14m 6s\n",
      "546:\tlearn: 0.0292124\ttotal: 17m\tremaining: 14m 5s\n",
      "547:\tlearn: 0.0291634\ttotal: 17m 2s\tremaining: 14m 3s\n",
      "548:\tlearn: 0.0291411\ttotal: 17m 5s\tremaining: 14m 2s\n",
      "549:\tlearn: 0.0290772\ttotal: 17m 7s\tremaining: 14m\n",
      "550:\tlearn: 0.0290199\ttotal: 17m 9s\tremaining: 13m 58s\n",
      "551:\tlearn: 0.0289935\ttotal: 17m 11s\tremaining: 13m 57s\n",
      "552:\tlearn: 0.0289475\ttotal: 17m 13s\tremaining: 13m 55s\n",
      "553:\tlearn: 0.0289260\ttotal: 17m 15s\tremaining: 13m 53s\n",
      "554:\tlearn: 0.0288202\ttotal: 17m 17s\tremaining: 13m 51s\n",
      "555:\tlearn: 0.0287958\ttotal: 17m 19s\tremaining: 13m 50s\n",
      "556:\tlearn: 0.0287728\ttotal: 17m 21s\tremaining: 13m 48s\n",
      "557:\tlearn: 0.0286740\ttotal: 17m 23s\tremaining: 13m 46s\n",
      "558:\tlearn: 0.0286527\ttotal: 17m 25s\tremaining: 13m 44s\n",
      "559:\tlearn: 0.0286310\ttotal: 17m 27s\tremaining: 13m 43s\n",
      "560:\tlearn: 0.0286053\ttotal: 17m 29s\tremaining: 13m 41s\n",
      "561:\tlearn: 0.0285718\ttotal: 17m 31s\tremaining: 13m 39s\n",
      "562:\tlearn: 0.0285222\ttotal: 17m 33s\tremaining: 13m 37s\n",
      "563:\tlearn: 0.0284768\ttotal: 17m 35s\tremaining: 13m 36s\n",
      "564:\tlearn: 0.0283553\ttotal: 17m 37s\tremaining: 13m 34s\n",
      "565:\tlearn: 0.0283344\ttotal: 17m 39s\tremaining: 13m 32s\n",
      "566:\tlearn: 0.0283086\ttotal: 17m 41s\tremaining: 13m 30s\n",
      "567:\tlearn: 0.0281914\ttotal: 17m 43s\tremaining: 13m 28s\n",
      "568:\tlearn: 0.0281678\ttotal: 17m 45s\tremaining: 13m 27s\n",
      "569:\tlearn: 0.0281264\ttotal: 17m 47s\tremaining: 13m 25s\n",
      "570:\tlearn: 0.0280762\ttotal: 17m 49s\tremaining: 13m 23s\n",
      "571:\tlearn: 0.0280559\ttotal: 17m 51s\tremaining: 13m 21s\n",
      "572:\tlearn: 0.0280211\ttotal: 17m 53s\tremaining: 13m 20s\n",
      "573:\tlearn: 0.0279615\ttotal: 17m 55s\tremaining: 13m 18s\n",
      "574:\tlearn: 0.0278586\ttotal: 17m 57s\tremaining: 13m 16s\n",
      "575:\tlearn: 0.0278387\ttotal: 17m 59s\tremaining: 13m 14s\n",
      "576:\tlearn: 0.0278038\ttotal: 18m 1s\tremaining: 13m 12s\n",
      "577:\tlearn: 0.0277563\ttotal: 18m 3s\tremaining: 13m 10s\n",
      "578:\tlearn: 0.0277368\ttotal: 18m 5s\tremaining: 13m 9s\n",
      "579:\tlearn: 0.0276689\ttotal: 18m 7s\tremaining: 13m 7s\n",
      "580:\tlearn: 0.0276347\ttotal: 18m 9s\tremaining: 13m 5s\n",
      "581:\tlearn: 0.0275665\ttotal: 18m 11s\tremaining: 13m 4s\n",
      "582:\tlearn: 0.0275348\ttotal: 18m 13s\tremaining: 13m 2s\n",
      "583:\tlearn: 0.0274902\ttotal: 18m 15s\tremaining: 13m\n",
      "584:\tlearn: 0.0274706\ttotal: 18m 17s\tremaining: 12m 58s\n",
      "585:\tlearn: 0.0274211\ttotal: 18m 19s\tremaining: 12m 57s\n",
      "586:\tlearn: 0.0273075\ttotal: 18m 21s\tremaining: 12m 55s\n",
      "587:\tlearn: 0.0272882\ttotal: 18m 23s\tremaining: 12m 53s\n",
      "588:\tlearn: 0.0272695\ttotal: 18m 25s\tremaining: 12m 51s\n",
      "589:\tlearn: 0.0272481\ttotal: 18m 27s\tremaining: 12m 49s\n",
      "590:\tlearn: 0.0272287\ttotal: 18m 29s\tremaining: 12m 47s\n",
      "591:\tlearn: 0.0272017\ttotal: 18m 31s\tremaining: 12m 46s\n",
      "592:\tlearn: 0.0271371\ttotal: 18m 34s\tremaining: 12m 44s\n",
      "593:\tlearn: 0.0270510\ttotal: 18m 36s\tremaining: 12m 43s\n",
      "594:\tlearn: 0.0270164\ttotal: 18m 38s\tremaining: 12m 41s\n",
      "595:\tlearn: 0.0268835\ttotal: 18m 40s\tremaining: 12m 39s\n",
      "596:\tlearn: 0.0268651\ttotal: 18m 42s\tremaining: 12m 37s\n",
      "597:\tlearn: 0.0268463\ttotal: 18m 44s\tremaining: 12m 36s\n",
      "598:\tlearn: 0.0268121\ttotal: 18m 47s\tremaining: 12m 34s\n",
      "599:\tlearn: 0.0267655\ttotal: 18m 49s\tremaining: 12m 32s\n",
      "600:\tlearn: 0.0267030\ttotal: 18m 51s\tremaining: 12m 31s\n",
      "601:\tlearn: 0.0266853\ttotal: 18m 53s\tremaining: 12m 29s\n",
      "602:\tlearn: 0.0266401\ttotal: 18m 55s\tremaining: 12m 27s\n",
      "603:\tlearn: 0.0266082\ttotal: 18m 57s\tremaining: 12m 25s\n",
      "604:\tlearn: 0.0265474\ttotal: 18m 59s\tremaining: 12m 24s\n",
      "605:\tlearn: 0.0265298\ttotal: 19m 1s\tremaining: 12m 22s\n",
      "606:\tlearn: 0.0264749\ttotal: 19m 4s\tremaining: 12m 20s\n",
      "607:\tlearn: 0.0264571\ttotal: 19m 6s\tremaining: 12m 19s\n",
      "608:\tlearn: 0.0264402\ttotal: 19m 8s\tremaining: 12m 17s\n",
      "609:\tlearn: 0.0263928\ttotal: 19m 10s\tremaining: 12m 15s\n",
      "610:\tlearn: 0.0263222\ttotal: 19m 12s\tremaining: 12m 13s\n",
      "611:\tlearn: 0.0263031\ttotal: 19m 15s\tremaining: 12m 12s\n",
      "612:\tlearn: 0.0262234\ttotal: 19m 17s\tremaining: 12m 10s\n",
      "613:\tlearn: 0.0261945\ttotal: 19m 19s\tremaining: 12m 8s\n",
      "614:\tlearn: 0.0261441\ttotal: 19m 21s\tremaining: 12m 7s\n",
      "615:\tlearn: 0.0260528\ttotal: 19m 23s\tremaining: 12m 5s\n",
      "616:\tlearn: 0.0260361\ttotal: 19m 25s\tremaining: 12m 3s\n",
      "617:\tlearn: 0.0259837\ttotal: 19m 27s\tremaining: 12m 1s\n",
      "618:\tlearn: 0.0259673\ttotal: 19m 29s\tremaining: 11m 59s\n",
      "619:\tlearn: 0.0258567\ttotal: 19m 31s\tremaining: 11m 58s\n",
      "620:\tlearn: 0.0258382\ttotal: 19m 33s\tremaining: 11m 56s\n",
      "621:\tlearn: 0.0258112\ttotal: 19m 36s\tremaining: 11m 54s\n",
      "622:\tlearn: 0.0257212\ttotal: 19m 38s\tremaining: 11m 52s\n",
      "623:\tlearn: 0.0256932\ttotal: 19m 40s\tremaining: 11m 51s\n",
      "624:\tlearn: 0.0256771\ttotal: 19m 41s\tremaining: 11m 49s\n",
      "625:\tlearn: 0.0256565\ttotal: 19m 44s\tremaining: 11m 47s\n",
      "626:\tlearn: 0.0255764\ttotal: 19m 46s\tremaining: 11m 45s\n",
      "627:\tlearn: 0.0255605\ttotal: 19m 48s\tremaining: 11m 43s\n",
      "628:\tlearn: 0.0255278\ttotal: 19m 49s\tremaining: 11m 41s\n",
      "629:\tlearn: 0.0255119\ttotal: 19m 51s\tremaining: 11m 40s\n",
      "630:\tlearn: 0.0254764\ttotal: 19m 53s\tremaining: 11m 38s\n",
      "631:\tlearn: 0.0254285\ttotal: 19m 55s\tremaining: 11m 36s\n",
      "632:\tlearn: 0.0254131\ttotal: 19m 57s\tremaining: 11m 34s\n",
      "633:\tlearn: 0.0253414\ttotal: 19m 59s\tremaining: 11m 32s\n",
      "634:\tlearn: 0.0253232\ttotal: 20m 1s\tremaining: 11m 30s\n",
      "635:\tlearn: 0.0252405\ttotal: 20m 3s\tremaining: 11m 28s\n",
      "636:\tlearn: 0.0251977\ttotal: 20m 5s\tremaining: 11m 26s\n",
      "637:\tlearn: 0.0251712\ttotal: 20m 7s\tremaining: 11m 25s\n",
      "638:\tlearn: 0.0251026\ttotal: 20m 9s\tremaining: 11m 23s\n",
      "639:\tlearn: 0.0250504\ttotal: 20m 11s\tremaining: 11m 21s\n",
      "640:\tlearn: 0.0250350\ttotal: 20m 14s\tremaining: 11m 19s\n",
      "641:\tlearn: 0.0249601\ttotal: 20m 16s\tremaining: 11m 18s\n",
      "642:\tlearn: 0.0248723\ttotal: 20m 18s\tremaining: 11m 16s\n",
      "643:\tlearn: 0.0248575\ttotal: 20m 20s\tremaining: 11m 14s\n",
      "644:\tlearn: 0.0248417\ttotal: 20m 22s\tremaining: 11m 12s\n",
      "645:\tlearn: 0.0248165\ttotal: 20m 24s\tremaining: 11m 10s\n",
      "646:\tlearn: 0.0247953\ttotal: 20m 26s\tremaining: 11m 8s\n",
      "647:\tlearn: 0.0246986\ttotal: 20m 27s\tremaining: 11m 6s\n",
      "648:\tlearn: 0.0246805\ttotal: 20m 29s\tremaining: 11m 4s\n",
      "649:\tlearn: 0.0246660\ttotal: 20m 31s\tremaining: 11m 3s\n",
      "650:\tlearn: 0.0246115\ttotal: 20m 33s\tremaining: 11m 1s\n",
      "651:\tlearn: 0.0245900\ttotal: 20m 35s\tremaining: 10m 59s\n",
      "652:\tlearn: 0.0245568\ttotal: 20m 37s\tremaining: 10m 57s\n",
      "653:\tlearn: 0.0245426\ttotal: 20m 39s\tremaining: 10m 55s\n",
      "654:\tlearn: 0.0245128\ttotal: 20m 41s\tremaining: 10m 53s\n",
      "655:\tlearn: 0.0244686\ttotal: 20m 43s\tremaining: 10m 51s\n",
      "656:\tlearn: 0.0243886\ttotal: 20m 44s\tremaining: 10m 49s\n",
      "657:\tlearn: 0.0243742\ttotal: 20m 46s\tremaining: 10m 47s\n",
      "658:\tlearn: 0.0243602\ttotal: 20m 48s\tremaining: 10m 46s\n",
      "659:\tlearn: 0.0243067\ttotal: 20m 50s\tremaining: 10m 44s\n",
      "660:\tlearn: 0.0242928\ttotal: 20m 52s\tremaining: 10m 42s\n",
      "661:\tlearn: 0.0242792\ttotal: 20m 55s\tremaining: 10m 40s\n",
      "662:\tlearn: 0.0242533\ttotal: 20m 57s\tremaining: 10m 39s\n",
      "663:\tlearn: 0.0242108\ttotal: 20m 59s\tremaining: 10m 37s\n",
      "664:\tlearn: 0.0241274\ttotal: 21m 1s\tremaining: 10m 35s\n",
      "665:\tlearn: 0.0241139\ttotal: 21m 3s\tremaining: 10m 33s\n",
      "666:\tlearn: 0.0240458\ttotal: 21m 5s\tremaining: 10m 31s\n",
      "667:\tlearn: 0.0240318\ttotal: 21m 7s\tremaining: 10m 29s\n",
      "668:\tlearn: 0.0240053\ttotal: 21m 9s\tremaining: 10m 28s\n",
      "669:\tlearn: 0.0239452\ttotal: 21m 11s\tremaining: 10m 26s\n",
      "670:\tlearn: 0.0238795\ttotal: 21m 13s\tremaining: 10m 24s\n",
      "671:\tlearn: 0.0238580\ttotal: 21m 15s\tremaining: 10m 22s\n",
      "672:\tlearn: 0.0238367\ttotal: 21m 17s\tremaining: 10m 20s\n",
      "673:\tlearn: 0.0237220\ttotal: 21m 18s\tremaining: 10m 18s\n",
      "674:\tlearn: 0.0236890\ttotal: 21m 20s\tremaining: 10m 16s\n",
      "675:\tlearn: 0.0236755\ttotal: 21m 22s\tremaining: 10m 14s\n",
      "676:\tlearn: 0.0236622\ttotal: 21m 24s\tremaining: 10m 12s\n",
      "677:\tlearn: 0.0236486\ttotal: 21m 26s\tremaining: 10m 11s\n",
      "678:\tlearn: 0.0235682\ttotal: 21m 28s\tremaining: 10m 9s\n",
      "679:\tlearn: 0.0235538\ttotal: 21m 30s\tremaining: 10m 7s\n",
      "680:\tlearn: 0.0235411\ttotal: 21m 31s\tremaining: 10m 5s\n",
      "681:\tlearn: 0.0235204\ttotal: 21m 33s\tremaining: 10m 3s\n",
      "682:\tlearn: 0.0234984\ttotal: 21m 35s\tremaining: 10m 1s\n",
      "683:\tlearn: 0.0234839\ttotal: 21m 36s\tremaining: 9m 59s\n",
      "684:\tlearn: 0.0234301\ttotal: 21m 38s\tremaining: 9m 57s\n",
      "685:\tlearn: 0.0234157\ttotal: 21m 40s\tremaining: 9m 55s\n",
      "686:\tlearn: 0.0233653\ttotal: 21m 42s\tremaining: 9m 53s\n",
      "687:\tlearn: 0.0233530\ttotal: 21m 44s\tremaining: 9m 51s\n",
      "688:\tlearn: 0.0233408\ttotal: 21m 46s\tremaining: 9m 49s\n",
      "689:\tlearn: 0.0233174\ttotal: 21m 48s\tremaining: 9m 47s\n",
      "690:\tlearn: 0.0232745\ttotal: 21m 52s\tremaining: 9m 46s\n",
      "691:\tlearn: 0.0232407\ttotal: 21m 57s\tremaining: 9m 46s\n",
      "692:\tlearn: 0.0232282\ttotal: 22m 3s\tremaining: 9m 46s\n",
      "693:\tlearn: 0.0231310\ttotal: 22m 8s\tremaining: 9m 45s\n",
      "694:\tlearn: 0.0231063\ttotal: 22m 14s\tremaining: 9m 45s\n",
      "695:\tlearn: 0.0230799\ttotal: 22m 19s\tremaining: 9m 44s\n",
      "696:\tlearn: 0.0230264\ttotal: 22m 25s\tremaining: 9m 44s\n",
      "697:\tlearn: 0.0230111\ttotal: 22m 32s\tremaining: 9m 45s\n",
      "698:\tlearn: 0.0229990\ttotal: 22m 39s\tremaining: 9m 45s\n",
      "699:\tlearn: 0.0229849\ttotal: 22m 45s\tremaining: 9m 45s\n",
      "700:\tlearn: 0.0229668\ttotal: 22m 52s\tremaining: 9m 45s\n",
      "701:\tlearn: 0.0229550\ttotal: 22m 58s\tremaining: 9m 45s\n",
      "702:\tlearn: 0.0229419\ttotal: 23m 3s\tremaining: 9m 44s\n",
      "703:\tlearn: 0.0228871\ttotal: 23m 8s\tremaining: 9m 43s\n",
      "704:\tlearn: 0.0228591\ttotal: 23m 15s\tremaining: 9m 43s\n",
      "705:\tlearn: 0.0228421\ttotal: 23m 21s\tremaining: 9m 43s\n",
      "706:\tlearn: 0.0228306\ttotal: 23m 27s\tremaining: 9m 43s\n",
      "707:\tlearn: 0.0227941\ttotal: 23m 33s\tremaining: 9m 42s\n",
      "708:\tlearn: 0.0227827\ttotal: 23m 38s\tremaining: 9m 42s\n",
      "709:\tlearn: 0.0227684\ttotal: 23m 44s\tremaining: 9m 42s\n",
      "710:\tlearn: 0.0227538\ttotal: 23m 51s\tremaining: 9m 41s\n",
      "711:\tlearn: 0.0226976\ttotal: 23m 57s\tremaining: 9m 41s\n",
      "712:\tlearn: 0.0226864\ttotal: 24m 4s\tremaining: 9m 41s\n",
      "713:\tlearn: 0.0226730\ttotal: 24m 12s\tremaining: 9m 41s\n",
      "714:\tlearn: 0.0226032\ttotal: 24m 19s\tremaining: 9m 41s\n",
      "715:\tlearn: 0.0225918\ttotal: 24m 25s\tremaining: 9m 41s\n",
      "716:\tlearn: 0.0225494\ttotal: 24m 31s\tremaining: 9m 40s\n",
      "717:\tlearn: 0.0225326\ttotal: 24m 38s\tremaining: 9m 40s\n",
      "718:\tlearn: 0.0225216\ttotal: 24m 44s\tremaining: 9m 40s\n",
      "719:\tlearn: 0.0224976\ttotal: 24m 51s\tremaining: 9m 39s\n",
      "720:\tlearn: 0.0224793\ttotal: 24m 56s\tremaining: 9m 39s\n",
      "721:\tlearn: 0.0224141\ttotal: 25m 2s\tremaining: 9m 38s\n",
      "722:\tlearn: 0.0223925\ttotal: 25m 8s\tremaining: 9m 38s\n",
      "723:\tlearn: 0.0223109\ttotal: 25m 13s\tremaining: 9m 37s\n",
      "724:\tlearn: 0.0222978\ttotal: 25m 18s\tremaining: 9m 36s\n",
      "725:\tlearn: 0.0222852\ttotal: 25m 25s\tremaining: 9m 35s\n",
      "726:\tlearn: 0.0222569\ttotal: 25m 32s\tremaining: 9m 35s\n",
      "727:\tlearn: 0.0222160\ttotal: 25m 37s\tremaining: 9m 34s\n",
      "728:\tlearn: 0.0222051\ttotal: 25m 44s\tremaining: 9m 34s\n",
      "729:\tlearn: 0.0221503\ttotal: 25m 50s\tremaining: 9m 33s\n",
      "730:\tlearn: 0.0221370\ttotal: 25m 58s\tremaining: 9m 33s\n",
      "731:\tlearn: 0.0221262\ttotal: 26m 6s\tremaining: 9m 33s\n",
      "732:\tlearn: 0.0221078\ttotal: 26m 12s\tremaining: 9m 32s\n",
      "733:\tlearn: 0.0220865\ttotal: 26m 19s\tremaining: 9m 32s\n",
      "734:\tlearn: 0.0220759\ttotal: 26m 25s\tremaining: 9m 31s\n",
      "735:\tlearn: 0.0220322\ttotal: 26m 32s\tremaining: 9m 31s\n",
      "736:\tlearn: 0.0220218\ttotal: 26m 39s\tremaining: 9m 30s\n",
      "737:\tlearn: 0.0220047\ttotal: 26m 45s\tremaining: 9m 29s\n",
      "738:\tlearn: 0.0219872\ttotal: 26m 51s\tremaining: 9m 29s\n",
      "739:\tlearn: 0.0219770\ttotal: 26m 57s\tremaining: 9m 28s\n",
      "740:\tlearn: 0.0219649\ttotal: 27m 3s\tremaining: 9m 27s\n",
      "741:\tlearn: 0.0219482\ttotal: 27m 6s\tremaining: 9m 25s\n",
      "742:\tlearn: 0.0219288\ttotal: 27m 12s\tremaining: 9m 24s\n",
      "743:\tlearn: 0.0218938\ttotal: 27m 18s\tremaining: 9m 23s\n",
      "744:\tlearn: 0.0218837\ttotal: 27m 23s\tremaining: 9m 22s\n",
      "745:\tlearn: 0.0218455\ttotal: 27m 29s\tremaining: 9m 21s\n",
      "746:\tlearn: 0.0217950\ttotal: 27m 34s\tremaining: 9m 20s\n",
      "747:\tlearn: 0.0217224\ttotal: 27m 40s\tremaining: 9m 19s\n",
      "748:\tlearn: 0.0216773\ttotal: 27m 46s\tremaining: 9m 18s\n",
      "749:\tlearn: 0.0216057\ttotal: 27m 51s\tremaining: 9m 17s\n",
      "750:\tlearn: 0.0215909\ttotal: 27m 58s\tremaining: 9m 16s\n",
      "751:\tlearn: 0.0215809\ttotal: 28m 4s\tremaining: 9m 15s\n",
      "752:\tlearn: 0.0215339\ttotal: 28m 10s\tremaining: 9m 14s\n",
      "753:\tlearn: 0.0215240\ttotal: 28m 16s\tremaining: 9m 13s\n",
      "754:\tlearn: 0.0214986\ttotal: 28m 23s\tremaining: 9m 12s\n",
      "755:\tlearn: 0.0214888\ttotal: 28m 29s\tremaining: 9m 11s\n",
      "756:\tlearn: 0.0214731\ttotal: 28m 36s\tremaining: 9m 11s\n",
      "757:\tlearn: 0.0214357\ttotal: 28m 41s\tremaining: 9m 9s\n",
      "758:\tlearn: 0.0213836\ttotal: 28m 47s\tremaining: 9m 8s\n",
      "759:\tlearn: 0.0213249\ttotal: 28m 52s\tremaining: 9m 7s\n",
      "760:\tlearn: 0.0213151\ttotal: 28m 58s\tremaining: 9m 5s\n",
      "761:\tlearn: 0.0212698\ttotal: 29m 4s\tremaining: 9m 4s\n",
      "762:\tlearn: 0.0212226\ttotal: 29m 10s\tremaining: 9m 3s\n",
      "763:\tlearn: 0.0212129\ttotal: 29m 17s\tremaining: 9m 2s\n",
      "764:\tlearn: 0.0211429\ttotal: 29m 23s\tremaining: 9m 1s\n",
      "765:\tlearn: 0.0211227\ttotal: 29m 29s\tremaining: 9m\n",
      "766:\tlearn: 0.0211131\ttotal: 29m 34s\tremaining: 8m 58s\n",
      "767:\tlearn: 0.0210627\ttotal: 29m 39s\tremaining: 8m 57s\n",
      "768:\tlearn: 0.0210346\ttotal: 29m 44s\tremaining: 8m 56s\n",
      "769:\tlearn: 0.0210245\ttotal: 29m 51s\tremaining: 8m 55s\n",
      "770:\tlearn: 0.0210137\ttotal: 29m 57s\tremaining: 8m 53s\n",
      "771:\tlearn: 0.0209755\ttotal: 30m 3s\tremaining: 8m 52s\n",
      "772:\tlearn: 0.0209352\ttotal: 30m 9s\tremaining: 8m 51s\n",
      "773:\tlearn: 0.0209207\ttotal: 30m 15s\tremaining: 8m 50s\n",
      "774:\tlearn: 0.0209113\ttotal: 30m 21s\tremaining: 8m 48s\n",
      "775:\tlearn: 0.0208830\ttotal: 30m 28s\tremaining: 8m 47s\n",
      "776:\tlearn: 0.0208738\ttotal: 30m 33s\tremaining: 8m 46s\n",
      "777:\tlearn: 0.0208210\ttotal: 30m 39s\tremaining: 8m 44s\n",
      "778:\tlearn: 0.0208079\ttotal: 30m 45s\tremaining: 8m 43s\n",
      "779:\tlearn: 0.0207782\ttotal: 30m 50s\tremaining: 8m 42s\n",
      "780:\tlearn: 0.0207692\ttotal: 30m 56s\tremaining: 8m 40s\n",
      "781:\tlearn: 0.0207530\ttotal: 31m 2s\tremaining: 8m 39s\n",
      "782:\tlearn: 0.0207443\ttotal: 31m 8s\tremaining: 8m 37s\n",
      "783:\tlearn: 0.0207275\ttotal: 31m 14s\tremaining: 8m 36s\n",
      "784:\tlearn: 0.0207189\ttotal: 31m 20s\tremaining: 8m 35s\n",
      "785:\tlearn: 0.0206671\ttotal: 31m 26s\tremaining: 8m 33s\n",
      "786:\tlearn: 0.0206574\ttotal: 31m 33s\tremaining: 8m 32s\n",
      "787:\tlearn: 0.0206448\ttotal: 31m 40s\tremaining: 8m 31s\n",
      "788:\tlearn: 0.0206365\ttotal: 31m 46s\tremaining: 8m 29s\n",
      "789:\tlearn: 0.0206064\ttotal: 31m 51s\tremaining: 8m 28s\n",
      "790:\tlearn: 0.0205624\ttotal: 31m 56s\tremaining: 8m 26s\n",
      "791:\tlearn: 0.0205513\ttotal: 31m 58s\tremaining: 8m 23s\n",
      "792:\tlearn: 0.0205310\ttotal: 32m\tremaining: 8m 21s\n",
      "793:\tlearn: 0.0204884\ttotal: 32m 4s\tremaining: 8m 19s\n",
      "794:\tlearn: 0.0204800\ttotal: 32m 8s\tremaining: 8m 17s\n",
      "795:\tlearn: 0.0204302\ttotal: 32m 12s\tremaining: 8m 15s\n",
      "796:\tlearn: 0.0204218\ttotal: 32m 16s\tremaining: 8m 13s\n",
      "797:\tlearn: 0.0204123\ttotal: 32m 20s\tremaining: 8m 11s\n",
      "798:\tlearn: 0.0203635\ttotal: 32m 25s\tremaining: 8m 9s\n",
      "799:\tlearn: 0.0203485\ttotal: 32m 29s\tremaining: 8m 7s\n",
      "800:\tlearn: 0.0203345\ttotal: 32m 33s\tremaining: 8m 5s\n",
      "801:\tlearn: 0.0202944\ttotal: 32m 37s\tremaining: 8m 3s\n",
      "802:\tlearn: 0.0202835\ttotal: 32m 42s\tremaining: 8m 1s\n",
      "803:\tlearn: 0.0202754\ttotal: 32m 46s\tremaining: 7m 59s\n",
      "804:\tlearn: 0.0202638\ttotal: 32m 51s\tremaining: 7m 57s\n",
      "805:\tlearn: 0.0202557\ttotal: 32m 56s\tremaining: 7m 55s\n",
      "806:\tlearn: 0.0202224\ttotal: 33m 1s\tremaining: 7m 53s\n",
      "807:\tlearn: 0.0201729\ttotal: 33m 5s\tremaining: 7m 51s\n",
      "808:\tlearn: 0.0201557\ttotal: 33m 9s\tremaining: 7m 49s\n",
      "809:\tlearn: 0.0201392\ttotal: 33m 14s\tremaining: 7m 47s\n",
      "810:\tlearn: 0.0201075\ttotal: 33m 19s\tremaining: 7m 45s\n",
      "811:\tlearn: 0.0200993\ttotal: 33m 23s\tremaining: 7m 43s\n",
      "812:\tlearn: 0.0200900\ttotal: 33m 28s\tremaining: 7m 41s\n",
      "813:\tlearn: 0.0200699\ttotal: 33m 32s\tremaining: 7m 39s\n",
      "814:\tlearn: 0.0200591\ttotal: 33m 37s\tremaining: 7m 37s\n",
      "815:\tlearn: 0.0200513\ttotal: 33m 41s\tremaining: 7m 35s\n",
      "816:\tlearn: 0.0200435\ttotal: 33m 46s\tremaining: 7m 33s\n",
      "817:\tlearn: 0.0200071\ttotal: 33m 50s\tremaining: 7m 31s\n",
      "818:\tlearn: 0.0199993\ttotal: 33m 54s\tremaining: 7m 29s\n",
      "819:\tlearn: 0.0199530\ttotal: 33m 59s\tremaining: 7m 27s\n",
      "820:\tlearn: 0.0199443\ttotal: 34m 4s\tremaining: 7m 25s\n",
      "821:\tlearn: 0.0199146\ttotal: 34m 8s\tremaining: 7m 23s\n",
      "822:\tlearn: 0.0199000\ttotal: 34m 12s\tremaining: 7m 21s\n",
      "823:\tlearn: 0.0198851\ttotal: 34m 16s\tremaining: 7m 19s\n",
      "824:\tlearn: 0.0198768\ttotal: 34m 20s\tremaining: 7m 17s\n",
      "825:\tlearn: 0.0198637\ttotal: 34m 25s\tremaining: 7m 15s\n",
      "826:\tlearn: 0.0198276\ttotal: 34m 29s\tremaining: 7m 12s\n",
      "827:\tlearn: 0.0198154\ttotal: 34m 33s\tremaining: 7m 10s\n",
      "828:\tlearn: 0.0198079\ttotal: 34m 37s\tremaining: 7m 8s\n",
      "829:\tlearn: 0.0197735\ttotal: 34m 42s\tremaining: 7m 6s\n",
      "830:\tlearn: 0.0197661\ttotal: 34m 46s\tremaining: 7m 4s\n",
      "831:\tlearn: 0.0197521\ttotal: 34m 50s\tremaining: 7m 2s\n",
      "832:\tlearn: 0.0197431\ttotal: 34m 55s\tremaining: 7m\n",
      "833:\tlearn: 0.0197244\ttotal: 34m 59s\tremaining: 6m 57s\n",
      "834:\tlearn: 0.0197170\ttotal: 35m 4s\tremaining: 6m 55s\n",
      "835:\tlearn: 0.0197091\ttotal: 35m 8s\tremaining: 6m 53s\n",
      "836:\tlearn: 0.0197018\ttotal: 35m 13s\tremaining: 6m 51s\n",
      "837:\tlearn: 0.0196947\ttotal: 35m 17s\tremaining: 6m 49s\n",
      "838:\tlearn: 0.0196863\ttotal: 35m 21s\tremaining: 6m 47s\n",
      "839:\tlearn: 0.0196735\ttotal: 35m 25s\tremaining: 6m 44s\n",
      "840:\tlearn: 0.0196532\ttotal: 35m 29s\tremaining: 6m 42s\n",
      "841:\tlearn: 0.0196213\ttotal: 35m 33s\tremaining: 6m 40s\n",
      "842:\tlearn: 0.0195866\ttotal: 35m 38s\tremaining: 6m 38s\n",
      "843:\tlearn: 0.0195771\ttotal: 35m 42s\tremaining: 6m 35s\n",
      "844:\tlearn: 0.0195668\ttotal: 35m 45s\tremaining: 6m 33s\n",
      "845:\tlearn: 0.0195543\ttotal: 35m 49s\tremaining: 6m 31s\n",
      "846:\tlearn: 0.0195323\ttotal: 35m 53s\tremaining: 6m 28s\n",
      "847:\tlearn: 0.0195127\ttotal: 35m 56s\tremaining: 6m 26s\n",
      "848:\tlearn: 0.0194750\ttotal: 36m\tremaining: 6m 24s\n",
      "849:\tlearn: 0.0194680\ttotal: 36m 4s\tremaining: 6m 21s\n",
      "850:\tlearn: 0.0194583\ttotal: 36m 8s\tremaining: 6m 19s\n",
      "851:\tlearn: 0.0194003\ttotal: 36m 12s\tremaining: 6m 17s\n",
      "852:\tlearn: 0.0193896\ttotal: 36m 17s\tremaining: 6m 15s\n",
      "853:\tlearn: 0.0193770\ttotal: 36m 21s\tremaining: 6m 12s\n",
      "854:\tlearn: 0.0193396\ttotal: 36m 25s\tremaining: 6m 10s\n",
      "855:\tlearn: 0.0193326\ttotal: 36m 30s\tremaining: 6m 8s\n",
      "856:\tlearn: 0.0193185\ttotal: 36m 34s\tremaining: 6m 6s\n",
      "857:\tlearn: 0.0192840\ttotal: 36m 39s\tremaining: 6m 3s\n",
      "858:\tlearn: 0.0192771\ttotal: 36m 43s\tremaining: 6m 1s\n",
      "859:\tlearn: 0.0192481\ttotal: 36m 48s\tremaining: 5m 59s\n",
      "860:\tlearn: 0.0192413\ttotal: 36m 52s\tremaining: 5m 57s\n",
      "861:\tlearn: 0.0192324\ttotal: 36m 56s\tremaining: 5m 54s\n",
      "862:\tlearn: 0.0192007\ttotal: 37m\tremaining: 5m 52s\n",
      "863:\tlearn: 0.0191882\ttotal: 37m 5s\tremaining: 5m 50s\n",
      "864:\tlearn: 0.0191815\ttotal: 37m 9s\tremaining: 5m 47s\n",
      "865:\tlearn: 0.0191569\ttotal: 37m 13s\tremaining: 5m 45s\n",
      "866:\tlearn: 0.0191334\ttotal: 37m 17s\tremaining: 5m 43s\n",
      "867:\tlearn: 0.0190953\ttotal: 37m 21s\tremaining: 5m 40s\n",
      "868:\tlearn: 0.0190882\ttotal: 37m 25s\tremaining: 5m 38s\n",
      "869:\tlearn: 0.0190810\ttotal: 37m 29s\tremaining: 5m 36s\n",
      "870:\tlearn: 0.0190552\ttotal: 37m 33s\tremaining: 5m 33s\n",
      "871:\tlearn: 0.0190485\ttotal: 37m 37s\tremaining: 5m 31s\n",
      "872:\tlearn: 0.0190419\ttotal: 37m 41s\tremaining: 5m 29s\n",
      "873:\tlearn: 0.0190044\ttotal: 37m 46s\tremaining: 5m 26s\n",
      "874:\tlearn: 0.0189514\ttotal: 37m 50s\tremaining: 5m 24s\n",
      "875:\tlearn: 0.0189448\ttotal: 37m 54s\tremaining: 5m 21s\n",
      "876:\tlearn: 0.0189376\ttotal: 37m 58s\tremaining: 5m 19s\n",
      "877:\tlearn: 0.0189262\ttotal: 38m 3s\tremaining: 5m 17s\n",
      "878:\tlearn: 0.0189076\ttotal: 38m 7s\tremaining: 5m 14s\n",
      "879:\tlearn: 0.0189012\ttotal: 38m 11s\tremaining: 5m 12s\n",
      "880:\tlearn: 0.0188715\ttotal: 38m 16s\tremaining: 5m 10s\n",
      "881:\tlearn: 0.0188599\ttotal: 38m 20s\tremaining: 5m 7s\n",
      "882:\tlearn: 0.0188126\ttotal: 38m 25s\tremaining: 5m 5s\n",
      "883:\tlearn: 0.0187923\ttotal: 38m 29s\tremaining: 5m 3s\n",
      "884:\tlearn: 0.0187859\ttotal: 38m 34s\tremaining: 5m\n",
      "885:\tlearn: 0.0187483\ttotal: 38m 38s\tremaining: 4m 58s\n",
      "886:\tlearn: 0.0187420\ttotal: 38m 42s\tremaining: 4m 55s\n",
      "887:\tlearn: 0.0187329\ttotal: 38m 46s\tremaining: 4m 53s\n",
      "888:\tlearn: 0.0187079\ttotal: 38m 50s\tremaining: 4m 50s\n",
      "889:\tlearn: 0.0186993\ttotal: 38m 53s\tremaining: 4m 48s\n",
      "890:\tlearn: 0.0186882\ttotal: 38m 57s\tremaining: 4m 45s\n",
      "891:\tlearn: 0.0186811\ttotal: 39m 1s\tremaining: 4m 43s\n",
      "892:\tlearn: 0.0186653\ttotal: 39m 5s\tremaining: 4m 41s\n",
      "893:\tlearn: 0.0186590\ttotal: 39m 9s\tremaining: 4m 38s\n",
      "894:\tlearn: 0.0186417\ttotal: 39m 13s\tremaining: 4m 36s\n",
      "895:\tlearn: 0.0186058\ttotal: 39m 17s\tremaining: 4m 33s\n",
      "896:\tlearn: 0.0185952\ttotal: 39m 20s\tremaining: 4m 31s\n",
      "897:\tlearn: 0.0185599\ttotal: 39m 24s\tremaining: 4m 28s\n",
      "898:\tlearn: 0.0185535\ttotal: 39m 28s\tremaining: 4m 26s\n",
      "899:\tlearn: 0.0185474\ttotal: 39m 32s\tremaining: 4m 23s\n",
      "900:\tlearn: 0.0185271\ttotal: 39m 35s\tremaining: 4m 21s\n",
      "901:\tlearn: 0.0184969\ttotal: 39m 40s\tremaining: 4m 18s\n",
      "902:\tlearn: 0.0184667\ttotal: 39m 44s\tremaining: 4m 16s\n",
      "903:\tlearn: 0.0184507\ttotal: 39m 48s\tremaining: 4m 13s\n",
      "904:\tlearn: 0.0184447\ttotal: 39m 52s\tremaining: 4m 11s\n",
      "905:\tlearn: 0.0184137\ttotal: 39m 55s\tremaining: 4m 8s\n",
      "906:\tlearn: 0.0184074\ttotal: 39m 59s\tremaining: 4m 6s\n",
      "907:\tlearn: 0.0183845\ttotal: 40m 3s\tremaining: 4m 3s\n",
      "908:\tlearn: 0.0183724\ttotal: 40m 7s\tremaining: 4m 1s\n",
      "909:\tlearn: 0.0183657\ttotal: 40m 11s\tremaining: 3m 58s\n",
      "910:\tlearn: 0.0183595\ttotal: 40m 15s\tremaining: 3m 55s\n",
      "911:\tlearn: 0.0183231\ttotal: 40m 18s\tremaining: 3m 53s\n",
      "912:\tlearn: 0.0183172\ttotal: 40m 22s\tremaining: 3m 50s\n",
      "913:\tlearn: 0.0183073\ttotal: 40m 26s\tremaining: 3m 48s\n",
      "914:\tlearn: 0.0182809\ttotal: 40m 30s\tremaining: 3m 45s\n",
      "915:\tlearn: 0.0182680\ttotal: 40m 34s\tremaining: 3m 43s\n",
      "916:\tlearn: 0.0182267\ttotal: 40m 38s\tremaining: 3m 40s\n",
      "917:\tlearn: 0.0182131\ttotal: 40m 41s\tremaining: 3m 38s\n",
      "918:\tlearn: 0.0181646\ttotal: 40m 46s\tremaining: 3m 35s\n",
      "919:\tlearn: 0.0181586\ttotal: 40m 50s\tremaining: 3m 33s\n",
      "920:\tlearn: 0.0181446\ttotal: 40m 54s\tremaining: 3m 30s\n",
      "921:\tlearn: 0.0181374\ttotal: 40m 57s\tremaining: 3m 27s\n",
      "922:\tlearn: 0.0181315\ttotal: 41m 1s\tremaining: 3m 25s\n",
      "923:\tlearn: 0.0181194\ttotal: 41m 5s\tremaining: 3m 22s\n",
      "924:\tlearn: 0.0180879\ttotal: 41m 9s\tremaining: 3m 20s\n",
      "925:\tlearn: 0.0180814\ttotal: 41m 13s\tremaining: 3m 17s\n",
      "926:\tlearn: 0.0180727\ttotal: 41m 17s\tremaining: 3m 15s\n",
      "927:\tlearn: 0.0180513\ttotal: 41m 21s\tremaining: 3m 12s\n",
      "928:\tlearn: 0.0180455\ttotal: 41m 25s\tremaining: 3m 9s\n",
      "929:\tlearn: 0.0180048\ttotal: 41m 28s\tremaining: 3m 7s\n",
      "930:\tlearn: 0.0179991\ttotal: 41m 32s\tremaining: 3m 4s\n",
      "931:\tlearn: 0.0179918\ttotal: 41m 36s\tremaining: 3m 2s\n",
      "932:\tlearn: 0.0179738\ttotal: 41m 40s\tremaining: 2m 59s\n",
      "933:\tlearn: 0.0179501\ttotal: 41m 44s\tremaining: 2m 56s\n",
      "934:\tlearn: 0.0179443\ttotal: 41m 48s\tremaining: 2m 54s\n",
      "935:\tlearn: 0.0179380\ttotal: 41m 52s\tremaining: 2m 51s\n",
      "936:\tlearn: 0.0179260\ttotal: 41m 55s\tremaining: 2m 49s\n",
      "937:\tlearn: 0.0179189\ttotal: 41m 59s\tremaining: 2m 46s\n",
      "938:\tlearn: 0.0179134\ttotal: 42m 3s\tremaining: 2m 43s\n",
      "939:\tlearn: 0.0178887\ttotal: 42m 7s\tremaining: 2m 41s\n",
      "940:\tlearn: 0.0178614\ttotal: 42m 10s\tremaining: 2m 38s\n",
      "941:\tlearn: 0.0178560\ttotal: 42m 14s\tremaining: 2m 36s\n",
      "942:\tlearn: 0.0178174\ttotal: 42m 18s\tremaining: 2m 33s\n",
      "943:\tlearn: 0.0178112\ttotal: 42m 22s\tremaining: 2m 30s\n",
      "944:\tlearn: 0.0178019\ttotal: 42m 25s\tremaining: 2m 28s\n",
      "945:\tlearn: 0.0177915\ttotal: 42m 29s\tremaining: 2m 25s\n",
      "946:\tlearn: 0.0177645\ttotal: 42m 33s\tremaining: 2m 22s\n",
      "947:\tlearn: 0.0177591\ttotal: 42m 37s\tremaining: 2m 20s\n",
      "948:\tlearn: 0.0177377\ttotal: 42m 41s\tremaining: 2m 17s\n",
      "949:\tlearn: 0.0177324\ttotal: 42m 44s\tremaining: 2m 14s\n",
      "950:\tlearn: 0.0177253\ttotal: 42m 48s\tremaining: 2m 12s\n",
      "951:\tlearn: 0.0176859\ttotal: 42m 51s\tremaining: 2m 9s\n",
      "952:\tlearn: 0.0176804\ttotal: 42m 55s\tremaining: 2m 7s\n",
      "953:\tlearn: 0.0176752\ttotal: 42m 59s\tremaining: 2m 4s\n",
      "954:\tlearn: 0.0176700\ttotal: 43m 3s\tremaining: 2m 1s\n",
      "955:\tlearn: 0.0176454\ttotal: 43m 7s\tremaining: 1m 59s\n",
      "956:\tlearn: 0.0176403\ttotal: 43m 11s\tremaining: 1m 56s\n",
      "957:\tlearn: 0.0176175\ttotal: 43m 15s\tremaining: 1m 53s\n",
      "958:\tlearn: 0.0176049\ttotal: 43m 19s\tremaining: 1m 51s\n",
      "959:\tlearn: 0.0175998\ttotal: 43m 23s\tremaining: 1m 48s\n",
      "960:\tlearn: 0.0175816\ttotal: 43m 27s\tremaining: 1m 45s\n",
      "961:\tlearn: 0.0175599\ttotal: 43m 30s\tremaining: 1m 43s\n",
      "962:\tlearn: 0.0175515\ttotal: 43m 34s\tremaining: 1m 40s\n",
      "963:\tlearn: 0.0175465\ttotal: 43m 38s\tremaining: 1m 37s\n",
      "964:\tlearn: 0.0175332\ttotal: 43m 42s\tremaining: 1m 35s\n",
      "965:\tlearn: 0.0175043\ttotal: 43m 46s\tremaining: 1m 32s\n",
      "966:\tlearn: 0.0174960\ttotal: 43m 50s\tremaining: 1m 29s\n",
      "967:\tlearn: 0.0174910\ttotal: 43m 54s\tremaining: 1m 27s\n",
      "968:\tlearn: 0.0174702\ttotal: 43m 58s\tremaining: 1m 24s\n",
      "969:\tlearn: 0.0174613\ttotal: 44m 1s\tremaining: 1m 21s\n",
      "970:\tlearn: 0.0174564\ttotal: 44m 5s\tremaining: 1m 19s\n",
      "971:\tlearn: 0.0174441\ttotal: 44m 9s\tremaining: 1m 16s\n",
      "972:\tlearn: 0.0174368\ttotal: 44m 13s\tremaining: 1m 13s\n",
      "973:\tlearn: 0.0174100\ttotal: 44m 17s\tremaining: 1m 10s\n",
      "974:\tlearn: 0.0174051\ttotal: 44m 20s\tremaining: 1m 8s\n",
      "975:\tlearn: 0.0173971\ttotal: 44m 24s\tremaining: 1m 5s\n",
      "976:\tlearn: 0.0173702\ttotal: 44m 28s\tremaining: 1m 2s\n",
      "977:\tlearn: 0.0173472\ttotal: 44m 32s\tremaining: 1m\n",
      "978:\tlearn: 0.0173392\ttotal: 44m 35s\tremaining: 57.4s\n",
      "979:\tlearn: 0.0173344\ttotal: 44m 39s\tremaining: 54.7s\n",
      "980:\tlearn: 0.0173296\ttotal: 44m 43s\tremaining: 52s\n",
      "981:\tlearn: 0.0173023\ttotal: 44m 46s\tremaining: 49.3s\n",
      "982:\tlearn: 0.0172968\ttotal: 44m 50s\tremaining: 46.5s\n",
      "983:\tlearn: 0.0172692\ttotal: 44m 54s\tremaining: 43.8s\n",
      "984:\tlearn: 0.0172568\ttotal: 44m 58s\tremaining: 41.1s\n",
      "985:\tlearn: 0.0172509\ttotal: 45m 2s\tremaining: 38.4s\n",
      "986:\tlearn: 0.0172443\ttotal: 45m 8s\tremaining: 35.7s\n",
      "987:\tlearn: 0.0172395\ttotal: 45m 18s\tremaining: 33s\n",
      "988:\tlearn: 0.0172337\ttotal: 45m 26s\tremaining: 30.3s\n",
      "989:\tlearn: 0.0172159\ttotal: 45m 34s\tremaining: 27.6s\n",
      "990:\tlearn: 0.0172105\ttotal: 45m 37s\tremaining: 24.9s\n",
      "991:\tlearn: 0.0172059\ttotal: 45m 40s\tremaining: 22.1s\n",
      "992:\tlearn: 0.0171851\ttotal: 45m 44s\tremaining: 19.3s\n",
      "993:\tlearn: 0.0171652\ttotal: 45m 47s\tremaining: 16.6s\n",
      "994:\tlearn: 0.0171559\ttotal: 45m 51s\tremaining: 13.8s\n",
      "995:\tlearn: 0.0171513\ttotal: 45m 54s\tremaining: 11.1s\n",
      "996:\tlearn: 0.0171213\ttotal: 45m 58s\tremaining: 8.3s\n",
      "997:\tlearn: 0.0171038\ttotal: 46m 2s\tremaining: 5.54s\n",
      "998:\tlearn: 0.0170993\ttotal: 46m 6s\tremaining: 2.77s\n",
      "999:\tlearn: 0.0170940\ttotal: 46m 9s\tremaining: 0us\n"
     ]
    },
    {
     "data": {
      "text/plain": [
       "<catboost.core.CatBoostClassifier at 0x7ffa707c5d30>"
      ]
     },
     "execution_count": 26,
     "metadata": {},
     "output_type": "execute_result"
    }
   ],
   "source": [
    "model_CBR.fit(X_train, y_train) "
   ]
  },
  {
   "cell_type": "code",
   "execution_count": 27,
   "metadata": {},
   "outputs": [],
   "source": [
    "y_pred = model_CBR.predict(X_test)"
   ]
  },
  {
   "cell_type": "code",
   "execution_count": 28,
   "metadata": {},
   "outputs": [
    {
     "name": "stdout",
     "output_type": "stream",
     "text": [
      "0.6153846153846154\n"
     ]
    }
   ],
   "source": [
    "f1_model_CBR = f1_score(y_test, y_pred)\n",
    "print(f1_score(y_test, y_pred))"
   ]
  },
  {
   "cell_type": "markdown",
   "metadata": {},
   "source": [
    " Tfidf можно не использовать для CatBoost(внутри него есть встроенные механизмы для работы с текстом):\n",
    "\n",
    "\n",
    "+  https://habr.com/ru/post/555064/\n",
    "\n",
    "</div>"
   ]
  },
  {
   "cell_type": "markdown",
   "metadata": {},
   "source": [
    "## Выводы"
   ]
  },
  {
   "cell_type": "code",
   "execution_count": 29,
   "metadata": {},
   "outputs": [
    {
     "data": {
      "text/html": [
       "<div>\n",
       "<style scoped>\n",
       "    .dataframe tbody tr th:only-of-type {\n",
       "        vertical-align: middle;\n",
       "    }\n",
       "\n",
       "    .dataframe tbody tr th {\n",
       "        vertical-align: top;\n",
       "    }\n",
       "\n",
       "    .dataframe thead th {\n",
       "        text-align: right;\n",
       "    }\n",
       "</style>\n",
       "<table border=\"1\" class=\"dataframe\">\n",
       "  <thead>\n",
       "    <tr style=\"text-align: right;\">\n",
       "      <th></th>\n",
       "      <th>f1_test</th>\n",
       "    </tr>\n",
       "  </thead>\n",
       "  <tbody>\n",
       "    <tr>\n",
       "      <th>RandomForestClassifier</th>\n",
       "      <td>0.371631</td>\n",
       "    </tr>\n",
       "    <tr>\n",
       "      <th>LogisticRegression</th>\n",
       "      <td>0.764155</td>\n",
       "    </tr>\n",
       "    <tr>\n",
       "      <th>LGBMClassifier</th>\n",
       "      <td>0.690490</td>\n",
       "    </tr>\n",
       "    <tr>\n",
       "      <th>CatBoostClassifier</th>\n",
       "      <td>0.615385</td>\n",
       "    </tr>\n",
       "  </tbody>\n",
       "</table>\n",
       "</div>"
      ],
      "text/plain": [
       "                         f1_test\n",
       "RandomForestClassifier  0.371631\n",
       "LogisticRegression      0.764155\n",
       "LGBMClassifier          0.690490\n",
       "CatBoostClassifier      0.615385"
      ]
     },
     "execution_count": 29,
     "metadata": {},
     "output_type": "execute_result"
    }
   ],
   "source": [
    "result = pd.DataFrame([f1_model_RF,f1_model_LR, f1_model_LGC, f1_model_CBR], \n",
    "                      index = ['RandomForestClassifier', 'LogisticRegression', 'LGBMClassifier', 'CatBoostClassifier'], \n",
    "                      columns = ['f1_test'])\n",
    "result"
   ]
  },
  {
   "cell_type": "markdown",
   "metadata": {},
   "source": [
    "Лучший результат со значением метрики F1 больше  0.75 у модели LogisticRegression \n",
    "Модель, обученная не на всех данных показывает значение метрики F1 меньше 0.75, а также в случае ограничения длины вектора на 1500 "
   ]
  },
  {
   "cell_type": "markdown",
   "metadata": {},
   "source": [
    "\n",
    "\n",
    "Для работы с текстами используют и другие подходы. Например, сейчас активно используются RNN (LSTM) и трансформеры (BERT и другие с улицы Сезам, например, ELMO). НО! Они не являются панацеей, не всегда они нужны, так как и TF-IDF или Word2Vec + модели из классического ML тоже могут справляться. \\\n",
    "BERT тяжелый, существует много его вариаций для разных задач, есть готовые модели, есть надстройки над библиотекой transformers. Если, обучать BERT на GPU (можно в Google Colab или Kaggle), то должно быть побыстрее.\\\n",
    "https://huggingface.co/transformers/model_doc/bert.html \\\n",
    "https://t.me/renat_alimbekov \\\n",
    "https://colah.github.io/posts/2015-08-Understanding-LSTMs/ - Про LSTM \\\n",
    "https://web.stanford.edu/~jurafsky/slp3/10.pdf - про энкодер-декодер модели, этеншены\\\n",
    "https://pytorch.org/tutorials/beginner/transformer_tutorial.html - официальный гайд\n",
    "по трансформеру от создателей pytorch\\\n",
    "https://transformer.huggingface.co/ - поболтать с трансформером \\\n",
    "Библиотеки: allennlp, fairseq, transformers, tensorflow-text — множество реализованных\n",
    "методов для трансформеров методов NLP \\\n",
    "Word2Vec https://radimrehurek.com/gensim/models/word2vec.html \n",
    "    \n",
    "</div>"
   ]
  },
  {
   "cell_type": "markdown",
   "metadata": {},
   "source": [
    "## Чек-лист проверки"
   ]
  },
  {
   "cell_type": "markdown",
   "metadata": {},
   "source": [
    "- [x]  Jupyter Notebook открыт\n",
    "- [x]  Весь код выполняется без ошибок\n",
    "- [x]  Ячейки с кодом расположены в порядке исполнения\n",
    "- [x]  Данные загружены и подготовлены\n",
    "- [x]  Модели обучены\n",
    "- [x]  Значение метрики *F1* не меньше 0.75\n",
    "- [x]  Выводы написаны"
   ]
  }
 ],
 "metadata": {
  "ExecuteTimeLog": [
   {
    "duration": 1346,
    "start_time": "2022-07-14T10:58:12.042Z"
   },
   {
    "duration": 173,
    "start_time": "2022-07-14T10:58:13.390Z"
   },
   {
    "duration": 373,
    "start_time": "2022-07-14T10:58:13.685Z"
   },
   {
    "duration": 12,
    "start_time": "2022-07-14T10:58:14.060Z"
   },
   {
    "duration": 58,
    "start_time": "2022-07-14T10:58:38.972Z"
   },
   {
    "duration": 50,
    "start_time": "2022-07-14T10:59:04.188Z"
   },
   {
    "duration": 3123,
    "start_time": "2022-07-14T10:59:15.772Z"
   },
   {
    "duration": 868,
    "start_time": "2022-07-14T11:00:38.211Z"
   },
   {
    "duration": 7,
    "start_time": "2022-07-14T11:04:21.949Z"
   },
   {
    "duration": 14,
    "start_time": "2022-07-14T11:04:23.635Z"
   },
   {
    "duration": 55,
    "start_time": "2022-07-14T11:05:37.866Z"
   },
   {
    "duration": 1363,
    "start_time": "2022-07-14T11:05:48.913Z"
   },
   {
    "duration": 3132,
    "start_time": "2022-07-14T11:05:50.278Z"
   },
   {
    "duration": 165,
    "start_time": "2022-07-14T11:05:53.419Z"
   },
   {
    "duration": 13922,
    "start_time": "2022-07-14T11:05:53.586Z"
   },
   {
    "duration": 1238,
    "start_time": "2022-07-15T06:45:20.221Z"
   },
   {
    "duration": 2229,
    "start_time": "2022-07-15T06:45:22.161Z"
   },
   {
    "duration": 104,
    "start_time": "2022-07-15T06:45:25.690Z"
   },
   {
    "duration": 3,
    "start_time": "2022-07-15T06:46:43.833Z"
   },
   {
    "duration": 736,
    "start_time": "2022-07-15T06:46:46.609Z"
   },
   {
    "duration": 41401,
    "start_time": "2022-07-15T06:46:47.347Z"
   },
   {
    "duration": 1767,
    "start_time": "2022-07-15T07:01:47.978Z"
   },
   {
    "duration": 800,
    "start_time": "2022-07-15T07:01:49.747Z"
   },
   {
    "duration": 41168,
    "start_time": "2022-07-15T07:01:50.549Z"
   },
   {
    "duration": 3,
    "start_time": "2022-07-15T07:02:31.719Z"
   },
   {
    "duration": 8658,
    "start_time": "2022-07-15T07:02:31.724Z"
   },
   {
    "duration": 115,
    "start_time": "2022-07-15T07:02:40.384Z"
   },
   {
    "duration": 0,
    "start_time": "2022-07-15T07:02:40.501Z"
   },
   {
    "duration": 0,
    "start_time": "2022-07-15T07:02:40.502Z"
   },
   {
    "duration": 0,
    "start_time": "2022-07-15T07:02:40.503Z"
   },
   {
    "duration": 0,
    "start_time": "2022-07-15T07:02:40.504Z"
   },
   {
    "duration": 0,
    "start_time": "2022-07-15T07:02:40.505Z"
   },
   {
    "duration": 7,
    "start_time": "2022-07-15T07:12:20.659Z"
   },
   {
    "duration": 1512,
    "start_time": "2022-07-15T07:12:40.124Z"
   },
   {
    "duration": 2504,
    "start_time": "2022-07-15T07:12:41.637Z"
   },
   {
    "duration": 47933,
    "start_time": "2022-07-15T07:12:44.143Z"
   },
   {
    "duration": 7,
    "start_time": "2022-07-15T07:13:32.078Z"
   },
   {
    "duration": 9425,
    "start_time": "2022-07-15T07:13:32.087Z"
   },
   {
    "duration": 1502,
    "start_time": "2022-07-15T07:13:56.440Z"
   },
   {
    "duration": 2501,
    "start_time": "2022-07-15T07:13:57.944Z"
   },
   {
    "duration": 47701,
    "start_time": "2022-07-15T07:14:00.447Z"
   },
   {
    "duration": 6,
    "start_time": "2022-07-15T07:14:48.150Z"
   },
   {
    "duration": 9999,
    "start_time": "2022-07-15T07:14:48.158Z"
   },
   {
    "duration": 47,
    "start_time": "2022-07-15T07:15:18.437Z"
   },
   {
    "duration": 1509,
    "start_time": "2022-07-15T07:15:30.822Z"
   },
   {
    "duration": 2518,
    "start_time": "2022-07-15T07:15:32.333Z"
   },
   {
    "duration": 47890,
    "start_time": "2022-07-15T07:15:34.853Z"
   },
   {
    "duration": 5,
    "start_time": "2022-07-15T07:16:22.745Z"
   },
   {
    "duration": 9907,
    "start_time": "2022-07-15T07:16:22.752Z"
   },
   {
    "duration": 50,
    "start_time": "2022-07-15T07:31:25.573Z"
   },
   {
    "duration": 1415,
    "start_time": "2022-07-15T07:31:32.330Z"
   },
   {
    "duration": 2423,
    "start_time": "2022-07-15T07:31:33.748Z"
   },
   {
    "duration": 46472,
    "start_time": "2022-07-15T07:31:36.173Z"
   },
   {
    "duration": 7,
    "start_time": "2022-07-15T07:32:22.646Z"
   },
   {
    "duration": 10591,
    "start_time": "2022-07-15T07:32:22.655Z"
   },
   {
    "duration": 3,
    "start_time": "2022-07-15T07:32:33.248Z"
   },
   {
    "duration": 160,
    "start_time": "2022-07-15T07:32:33.253Z"
   },
   {
    "duration": 0,
    "start_time": "2022-07-15T07:32:33.416Z"
   },
   {
    "duration": 0,
    "start_time": "2022-07-15T07:32:33.418Z"
   },
   {
    "duration": 0,
    "start_time": "2022-07-15T07:32:33.419Z"
   },
   {
    "duration": 6,
    "start_time": "2022-07-15T07:34:12.991Z"
   },
   {
    "duration": 1617,
    "start_time": "2022-07-15T07:34:28.091Z"
   },
   {
    "duration": 2507,
    "start_time": "2022-07-15T07:34:29.711Z"
   },
   {
    "duration": 47570,
    "start_time": "2022-07-15T07:34:32.220Z"
   },
   {
    "duration": 9,
    "start_time": "2022-07-15T07:35:19.793Z"
   },
   {
    "duration": 10537,
    "start_time": "2022-07-15T07:35:19.804Z"
   },
   {
    "duration": 3,
    "start_time": "2022-07-15T07:35:30.344Z"
   },
   {
    "duration": 60,
    "start_time": "2022-07-15T07:48:16.816Z"
   },
   {
    "duration": 1528,
    "start_time": "2022-07-15T07:48:24.036Z"
   },
   {
    "duration": 2383,
    "start_time": "2022-07-15T07:48:25.566Z"
   },
   {
    "duration": 44280,
    "start_time": "2022-07-15T07:48:27.951Z"
   },
   {
    "duration": 6,
    "start_time": "2022-07-15T07:49:12.232Z"
   },
   {
    "duration": 10216,
    "start_time": "2022-07-15T07:49:12.240Z"
   },
   {
    "duration": 3,
    "start_time": "2022-07-15T07:49:22.458Z"
   },
   {
    "duration": 1593,
    "start_time": "2022-07-15T08:20:09.366Z"
   },
   {
    "duration": 2368,
    "start_time": "2022-07-15T08:20:10.962Z"
   },
   {
    "duration": 12,
    "start_time": "2022-07-15T08:20:13.331Z"
   },
   {
    "duration": 6680,
    "start_time": "2022-07-15T08:20:13.344Z"
   },
   {
    "duration": 8,
    "start_time": "2022-07-15T08:20:20.026Z"
   },
   {
    "duration": 1304,
    "start_time": "2022-07-15T08:20:20.035Z"
   },
   {
    "duration": 3,
    "start_time": "2022-07-15T08:20:21.341Z"
   },
   {
    "duration": 111,
    "start_time": "2022-07-15T08:20:21.346Z"
   },
   {
    "duration": 341296,
    "start_time": "2022-07-15T08:20:21.459Z"
   },
   {
    "duration": 2290,
    "start_time": "2022-07-15T08:26:02.756Z"
   },
   {
    "duration": 15,
    "start_time": "2022-07-15T08:26:05.048Z"
   },
   {
    "duration": 7,
    "start_time": "2022-07-15T08:32:38.147Z"
   },
   {
    "duration": 7,
    "start_time": "2022-07-15T08:34:17.160Z"
   },
   {
    "duration": 147684,
    "start_time": "2022-07-15T08:36:46.312Z"
   },
   {
    "duration": 1799,
    "start_time": "2022-07-15T08:39:13.999Z"
   },
   {
    "duration": 22,
    "start_time": "2022-07-15T08:39:15.800Z"
   },
   {
    "duration": 5,
    "start_time": "2022-07-15T08:39:15.824Z"
   },
   {
    "duration": 110,
    "start_time": "2022-07-15T08:40:50.297Z"
   },
   {
    "duration": 149177,
    "start_time": "2022-07-15T08:40:53.121Z"
   },
   {
    "duration": 1674,
    "start_time": "2022-07-15T08:43:22.300Z"
   },
   {
    "duration": 26,
    "start_time": "2022-07-15T08:43:23.977Z"
   },
   {
    "duration": 6,
    "start_time": "2022-07-15T08:43:24.005Z"
   },
   {
    "duration": 4,
    "start_time": "2022-07-15T09:09:38.354Z"
   },
   {
    "duration": 6495,
    "start_time": "2022-07-15T09:10:01.908Z"
   },
   {
    "duration": 1608,
    "start_time": "2022-07-15T09:10:20.499Z"
   },
   {
    "duration": 17,
    "start_time": "2022-07-15T09:10:22.111Z"
   },
   {
    "duration": 3163,
    "start_time": "2022-07-15T09:11:12.274Z"
   },
   {
    "duration": 1534,
    "start_time": "2022-07-15T09:11:15.440Z"
   },
   {
    "duration": 12,
    "start_time": "2022-07-15T09:11:16.978Z"
   },
   {
    "duration": 6454,
    "start_time": "2022-07-15T09:11:16.993Z"
   },
   {
    "duration": 4,
    "start_time": "2022-07-15T09:11:23.449Z"
   },
   {
    "duration": 1380,
    "start_time": "2022-07-15T09:11:23.455Z"
   },
   {
    "duration": 3,
    "start_time": "2022-07-15T09:11:24.837Z"
   },
   {
    "duration": 118,
    "start_time": "2022-07-15T09:11:24.842Z"
   },
   {
    "duration": 143846,
    "start_time": "2022-07-15T09:11:24.962Z"
   },
   {
    "duration": 1570,
    "start_time": "2022-07-15T09:13:48.810Z"
   },
   {
    "duration": 20,
    "start_time": "2022-07-15T09:13:50.382Z"
   },
   {
    "duration": 7,
    "start_time": "2022-07-15T09:13:50.403Z"
   },
   {
    "duration": 8,
    "start_time": "2022-07-15T09:13:50.413Z"
   },
   {
    "duration": 6185,
    "start_time": "2022-07-15T09:13:50.423Z"
   },
   {
    "duration": 1678,
    "start_time": "2022-07-15T09:13:56.609Z"
   },
   {
    "duration": 20,
    "start_time": "2022-07-15T09:13:58.288Z"
   },
   {
    "duration": 6,
    "start_time": "2022-07-15T09:14:50.401Z"
   },
   {
    "duration": 8,
    "start_time": "2022-07-15T09:15:11.044Z"
   },
   {
    "duration": 15,
    "start_time": "2022-07-15T09:15:12.074Z"
   },
   {
    "duration": 5,
    "start_time": "2022-07-15T09:15:15.763Z"
   },
   {
    "duration": 10,
    "start_time": "2022-07-15T09:16:23.946Z"
   },
   {
    "duration": 1689,
    "start_time": "2022-07-15T09:18:02.968Z"
   },
   {
    "duration": 916,
    "start_time": "2022-07-15T09:18:04.659Z"
   },
   {
    "duration": 12,
    "start_time": "2022-07-15T09:18:05.577Z"
   },
   {
    "duration": 55,
    "start_time": "2022-07-15T09:18:05.600Z"
   },
   {
    "duration": 6980,
    "start_time": "2022-07-15T09:18:05.657Z"
   },
   {
    "duration": 7,
    "start_time": "2022-07-15T09:18:12.639Z"
   },
   {
    "duration": 1294,
    "start_time": "2022-07-15T09:18:12.647Z"
   },
   {
    "duration": 3,
    "start_time": "2022-07-15T09:18:13.943Z"
   },
   {
    "duration": 138,
    "start_time": "2022-07-15T09:18:13.948Z"
   },
   {
    "duration": 298503,
    "start_time": "2022-07-15T09:18:14.088Z"
   },
   {
    "duration": 2039,
    "start_time": "2022-07-15T09:23:12.592Z"
   },
   {
    "duration": 15,
    "start_time": "2022-07-15T09:23:14.633Z"
   },
   {
    "duration": 6,
    "start_time": "2022-07-15T09:23:14.650Z"
   },
   {
    "duration": 6,
    "start_time": "2022-07-15T09:23:14.658Z"
   },
   {
    "duration": 8037,
    "start_time": "2022-07-15T09:23:14.665Z"
   },
   {
    "duration": 100,
    "start_time": "2022-07-15T09:23:22.703Z"
   },
   {
    "duration": 112,
    "start_time": "2022-07-15T09:23:22.805Z"
   },
   {
    "duration": 11,
    "start_time": "2022-07-15T09:23:22.920Z"
   },
   {
    "duration": 1578,
    "start_time": "2022-07-15T09:32:08.381Z"
   },
   {
    "duration": 881,
    "start_time": "2022-07-15T09:32:09.961Z"
   },
   {
    "duration": 11,
    "start_time": "2022-07-15T09:32:10.844Z"
   },
   {
    "duration": 33,
    "start_time": "2022-07-15T09:32:10.857Z"
   },
   {
    "duration": 16041,
    "start_time": "2022-07-15T09:32:10.893Z"
   },
   {
    "duration": 4,
    "start_time": "2022-07-15T09:32:26.936Z"
   },
   {
    "duration": 3068,
    "start_time": "2022-07-15T09:32:26.941Z"
   },
   {
    "duration": 3,
    "start_time": "2022-07-15T09:32:30.011Z"
   },
   {
    "duration": 286,
    "start_time": "2022-07-15T09:32:30.016Z"
   },
   {
    "duration": 1085291,
    "start_time": "2022-07-15T09:32:30.304Z"
   },
   {
    "duration": 7097,
    "start_time": "2022-07-15T09:50:35.596Z"
   },
   {
    "duration": 24,
    "start_time": "2022-07-15T09:50:42.695Z"
   },
   {
    "duration": 6,
    "start_time": "2022-07-15T09:50:42.720Z"
   },
   {
    "duration": 6,
    "start_time": "2022-07-15T09:50:42.729Z"
   },
   {
    "duration": 12470,
    "start_time": "2022-07-15T09:50:42.737Z"
   },
   {
    "duration": 102,
    "start_time": "2022-07-15T09:50:55.209Z"
   },
   {
    "duration": 193,
    "start_time": "2022-07-15T09:50:55.313Z"
   },
   {
    "duration": 9,
    "start_time": "2022-07-15T09:50:55.507Z"
   },
   {
    "duration": 1472,
    "start_time": "2022-07-15T09:55:42.974Z"
   },
   {
    "duration": 851,
    "start_time": "2022-07-15T09:55:44.448Z"
   },
   {
    "duration": 14,
    "start_time": "2022-07-15T09:55:45.301Z"
   },
   {
    "duration": 43,
    "start_time": "2022-07-15T09:55:45.318Z"
   },
   {
    "duration": 14515,
    "start_time": "2022-07-15T09:55:45.363Z"
   },
   {
    "duration": 4,
    "start_time": "2022-07-15T09:55:59.880Z"
   },
   {
    "duration": 2883,
    "start_time": "2022-07-15T09:55:59.885Z"
   },
   {
    "duration": 2,
    "start_time": "2022-07-15T09:56:02.770Z"
   },
   {
    "duration": 274,
    "start_time": "2022-07-15T09:56:02.774Z"
   },
   {
    "duration": 2203474,
    "start_time": "2022-07-15T09:56:03.051Z"
   },
   {
    "duration": 9643,
    "start_time": "2022-07-15T10:32:46.526Z"
   },
   {
    "duration": 23,
    "start_time": "2022-07-15T10:32:56.171Z"
   },
   {
    "duration": 7,
    "start_time": "2022-07-15T10:32:56.200Z"
   },
   {
    "duration": 3,
    "start_time": "2022-07-15T10:32:56.208Z"
   },
   {
    "duration": 24292,
    "start_time": "2022-07-15T10:32:56.213Z"
   },
   {
    "duration": 104,
    "start_time": "2022-07-15T10:33:20.507Z"
   },
   {
    "duration": 128,
    "start_time": "2022-07-15T10:33:20.700Z"
   },
   {
    "duration": 7,
    "start_time": "2022-07-15T10:33:20.829Z"
   },
   {
    "duration": 1635,
    "start_time": "2022-07-18T03:48:30.552Z"
   },
   {
    "duration": 2458,
    "start_time": "2022-07-18T03:48:32.189Z"
   },
   {
    "duration": 10,
    "start_time": "2022-07-18T03:48:34.648Z"
   },
   {
    "duration": 17,
    "start_time": "2022-07-18T03:48:34.660Z"
   },
   {
    "duration": 13216,
    "start_time": "2022-07-18T03:48:34.680Z"
   },
   {
    "duration": 4,
    "start_time": "2022-07-18T03:48:47.898Z"
   },
   {
    "duration": 2664,
    "start_time": "2022-07-18T03:48:47.903Z"
   },
   {
    "duration": 2,
    "start_time": "2022-07-18T03:48:50.569Z"
   },
   {
    "duration": 277,
    "start_time": "2022-07-18T03:48:50.573Z"
   },
   {
    "duration": 3,
    "start_time": "2022-07-18T03:48:50.851Z"
   },
   {
    "duration": 122,
    "start_time": "2022-07-18T03:48:50.856Z"
   },
   {
    "duration": 0,
    "start_time": "2022-07-18T03:48:50.980Z"
   },
   {
    "duration": 0,
    "start_time": "2022-07-18T03:48:50.982Z"
   },
   {
    "duration": 0,
    "start_time": "2022-07-18T03:48:50.983Z"
   },
   {
    "duration": 0,
    "start_time": "2022-07-18T03:48:50.984Z"
   },
   {
    "duration": 0,
    "start_time": "2022-07-18T03:48:50.985Z"
   },
   {
    "duration": 0,
    "start_time": "2022-07-18T03:48:50.986Z"
   },
   {
    "duration": 0,
    "start_time": "2022-07-18T03:48:50.987Z"
   },
   {
    "duration": 0,
    "start_time": "2022-07-18T03:48:50.988Z"
   },
   {
    "duration": 0,
    "start_time": "2022-07-18T03:48:50.990Z"
   },
   {
    "duration": 0,
    "start_time": "2022-07-18T03:48:50.991Z"
   },
   {
    "duration": 8,
    "start_time": "2022-07-18T03:49:48.552Z"
   },
   {
    "duration": 11,
    "start_time": "2022-07-18T03:49:56.009Z"
   },
   {
    "duration": 6,
    "start_time": "2022-07-18T03:50:14.657Z"
   },
   {
    "duration": 15,
    "start_time": "2022-07-18T03:50:19.048Z"
   },
   {
    "duration": 34,
    "start_time": "2022-07-18T03:50:25.281Z"
   },
   {
    "duration": 2,
    "start_time": "2022-07-18T03:50:44.600Z"
   },
   {
    "duration": 24,
    "start_time": "2022-07-18T03:50:45.584Z"
   },
   {
    "duration": 908603,
    "start_time": "2022-07-18T03:51:05.152Z"
   },
   {
    "duration": 10,
    "start_time": "2022-07-18T04:15:11.503Z"
   },
   {
    "duration": 260,
    "start_time": "2022-07-18T04:15:40.207Z"
   },
   {
    "duration": 3,
    "start_time": "2022-07-18T04:15:42.967Z"
   },
   {
    "duration": 82822,
    "start_time": "2022-07-18T04:15:46.007Z"
   },
   {
    "duration": 641831,
    "start_time": "2022-07-18T04:20:28.456Z"
   },
   {
    "duration": 19,
    "start_time": "2022-07-18T04:35:09.043Z"
   },
   {
    "duration": 3,
    "start_time": "2022-07-18T04:35:13.597Z"
   },
   {
    "duration": 1808883,
    "start_time": "2022-07-18T04:35:14.525Z"
   },
   {
    "duration": 3,
    "start_time": "2022-07-18T05:11:16.696Z"
   },
   {
    "duration": 71189,
    "start_time": "2022-07-18T05:11:18.811Z"
   },
   {
    "duration": 674,
    "start_time": "2022-07-18T05:12:30.002Z"
   },
   {
    "duration": 25,
    "start_time": "2022-07-18T05:12:30.678Z"
   },
   {
    "duration": 20,
    "start_time": "2022-07-18T05:12:30.705Z"
   },
   {
    "duration": 3,
    "start_time": "2022-07-18T05:13:53.955Z"
   },
   {
    "duration": 74576,
    "start_time": "2022-07-18T05:13:54.743Z"
   },
   {
    "duration": 656,
    "start_time": "2022-07-18T05:15:09.323Z"
   },
   {
    "duration": 21,
    "start_time": "2022-07-18T05:15:09.981Z"
   },
   {
    "duration": 20,
    "start_time": "2022-07-18T05:15:10.004Z"
   },
   {
    "duration": 254,
    "start_time": "2022-07-18T05:16:05.959Z"
   },
   {
    "duration": 3,
    "start_time": "2022-07-18T05:16:08.250Z"
   },
   {
    "duration": 46,
    "start_time": "2022-07-18T05:16:25.060Z"
   },
   {
    "duration": 1646,
    "start_time": "2022-07-18T05:16:30.626Z"
   },
   {
    "duration": 2711,
    "start_time": "2022-07-18T05:16:32.274Z"
   },
   {
    "duration": 10,
    "start_time": "2022-07-18T05:16:34.988Z"
   },
   {
    "duration": 35,
    "start_time": "2022-07-18T05:16:35.000Z"
   },
   {
    "duration": 15129,
    "start_time": "2022-07-18T05:16:35.038Z"
   },
   {
    "duration": 5,
    "start_time": "2022-07-18T05:16:50.169Z"
   },
   {
    "duration": 2907,
    "start_time": "2022-07-18T05:16:50.176Z"
   },
   {
    "duration": 3,
    "start_time": "2022-07-18T05:16:53.085Z"
   },
   {
    "duration": 281,
    "start_time": "2022-07-18T05:16:53.090Z"
   },
   {
    "duration": 3,
    "start_time": "2022-07-18T05:16:53.372Z"
   },
   {
    "duration": 0,
    "start_time": "2022-07-18T05:25:20.153Z"
   },
   {
    "duration": 1552037,
    "start_time": "2022-07-18T05:25:35.641Z"
   },
   {
    "duration": 4,
    "start_time": "2022-07-18T05:54:40.243Z"
   },
   {
    "duration": 15,
    "start_time": "2022-07-18T05:54:43.802Z"
   },
   {
    "duration": 21141,
    "start_time": "2022-07-18T05:57:33.643Z"
   },
   {
    "duration": 230,
    "start_time": "2022-07-18T05:57:54.786Z"
   },
   {
    "duration": 42,
    "start_time": "2022-07-18T06:08:05.101Z"
   },
   {
    "duration": 2,
    "start_time": "2022-07-18T06:08:45.568Z"
   },
   {
    "duration": 213147,
    "start_time": "2022-07-18T06:08:47.582Z"
   },
   {
    "duration": 1954,
    "start_time": "2022-07-18T06:12:20.737Z"
   },
   {
    "duration": 41,
    "start_time": "2022-07-18T06:12:22.693Z"
   },
   {
    "duration": 8,
    "start_time": "2022-07-18T06:12:22.742Z"
   },
   {
    "duration": 267,
    "start_time": "2022-07-18T06:13:35.870Z"
   },
   {
    "duration": 3,
    "start_time": "2022-07-18T06:13:39.702Z"
   },
   {
    "duration": 221312,
    "start_time": "2022-07-18T06:13:43.773Z"
   },
   {
    "duration": 1687,
    "start_time": "2022-07-18T06:17:25.088Z"
   },
   {
    "duration": 22,
    "start_time": "2022-07-18T06:17:26.776Z"
   },
   {
    "duration": 26,
    "start_time": "2022-07-18T06:17:26.800Z"
   },
   {
    "duration": 3,
    "start_time": "2022-07-18T06:20:33.699Z"
   },
   {
    "duration": 82441,
    "start_time": "2022-07-18T06:20:46.300Z"
   },
   {
    "duration": 194,
    "start_time": "2022-07-18T06:22:08.743Z"
   },
   {
    "duration": 102,
    "start_time": "2022-07-18T06:22:08.938Z"
   },
   {
    "duration": 3,
    "start_time": "2022-07-18T06:22:09.041Z"
   },
   {
    "duration": 430635,
    "start_time": "2022-07-18T06:22:09.045Z"
   },
   {
    "duration": 3701,
    "start_time": "2022-07-18T06:29:19.682Z"
   },
   {
    "duration": 23,
    "start_time": "2022-07-18T06:29:23.384Z"
   },
   {
    "duration": 4,
    "start_time": "2022-07-18T06:29:23.424Z"
   },
   {
    "duration": 24808,
    "start_time": "2022-07-18T06:29:23.429Z"
   },
   {
    "duration": 106,
    "start_time": "2022-07-18T06:29:48.242Z"
   },
   {
    "duration": 199,
    "start_time": "2022-07-18T06:29:48.350Z"
   },
   {
    "duration": 25,
    "start_time": "2022-07-18T06:34:18.214Z"
   },
   {
    "duration": 1779,
    "start_time": "2022-07-18T10:21:06.363Z"
   },
   {
    "duration": 2671,
    "start_time": "2022-07-18T10:21:08.144Z"
   },
   {
    "duration": 16,
    "start_time": "2022-07-18T10:21:10.818Z"
   },
   {
    "duration": 13,
    "start_time": "2022-07-18T10:21:10.836Z"
   },
   {
    "duration": 6819,
    "start_time": "2022-07-18T10:21:10.850Z"
   },
   {
    "duration": 7,
    "start_time": "2022-07-18T10:21:17.671Z"
   },
   {
    "duration": 11,
    "start_time": "2022-07-18T10:21:17.680Z"
   },
   {
    "duration": 27,
    "start_time": "2022-07-18T10:21:17.693Z"
   },
   {
    "duration": 10,
    "start_time": "2022-07-18T10:21:17.722Z"
   },
   {
    "duration": 15,
    "start_time": "2022-07-18T10:21:17.735Z"
   },
   {
    "duration": 904,
    "start_time": "2022-07-18T10:21:17.751Z"
   },
   {
    "duration": 4,
    "start_time": "2022-07-18T10:21:18.656Z"
   },
   {
    "duration": 8,
    "start_time": "2022-07-18T10:21:18.662Z"
   },
   {
    "duration": 183661,
    "start_time": "2022-07-18T10:21:18.672Z"
   },
   {
    "duration": 3,
    "start_time": "2022-07-18T10:24:22.334Z"
   },
   {
    "duration": 13338,
    "start_time": "2022-07-18T10:24:22.339Z"
   },
   {
    "duration": 1492,
    "start_time": "2022-07-18T10:24:35.680Z"
   },
   {
    "duration": 5,
    "start_time": "2022-07-18T10:24:37.174Z"
   },
   {
    "duration": 10,
    "start_time": "2022-07-18T10:24:37.180Z"
   },
   {
    "duration": 191720,
    "start_time": "2022-07-18T10:24:37.191Z"
   },
   {
    "duration": 4,
    "start_time": "2022-07-18T10:27:48.914Z"
   },
   {
    "duration": 23192,
    "start_time": "2022-07-18T10:27:48.920Z"
   },
   {
    "duration": 5,
    "start_time": "2022-07-18T10:28:12.114Z"
   },
   {
    "duration": 91,
    "start_time": "2022-07-18T10:28:12.122Z"
   },
   {
    "duration": 9,
    "start_time": "2022-07-18T10:28:12.215Z"
   },
   {
    "duration": 1325899,
    "start_time": "2022-07-18T10:28:12.226Z"
   },
   {
    "duration": 2,
    "start_time": "2022-07-18T10:50:18.127Z"
   },
   {
    "duration": 19815,
    "start_time": "2022-07-18T10:50:18.132Z"
   },
   {
    "duration": 69,
    "start_time": "2022-07-18T10:50:37.949Z"
   },
   {
    "duration": 10,
    "start_time": "2022-07-18T10:50:38.020Z"
   },
   {
    "duration": 951,
    "start_time": "2022-07-18T10:50:38.031Z"
   },
   {
    "duration": 2152013,
    "start_time": "2022-07-18T10:50:38.984Z"
   },
   {
    "duration": 3,
    "start_time": "2022-07-18T11:26:30.998Z"
   },
   {
    "duration": 66977,
    "start_time": "2022-07-18T11:26:31.003Z"
   },
   {
    "duration": 13,
    "start_time": "2022-07-18T11:27:37.981Z"
   },
   {
    "duration": 5,
    "start_time": "2022-07-18T11:27:37.995Z"
   },
   {
    "duration": 119,
    "start_time": "2022-07-18T11:35:15.933Z"
   },
   {
    "duration": 17,
    "start_time": "2022-07-18T11:35:22.612Z"
   },
   {
    "duration": 3,
    "start_time": "2022-07-18T11:35:40.802Z"
   },
   {
    "duration": 11,
    "start_time": "2022-07-18T11:37:53.964Z"
   },
   {
    "duration": 7,
    "start_time": "2022-07-18T11:38:07.433Z"
   },
   {
    "duration": 7,
    "start_time": "2022-07-18T11:38:17.275Z"
   },
   {
    "duration": 7,
    "start_time": "2022-07-18T11:38:20.996Z"
   },
   {
    "duration": 8,
    "start_time": "2022-07-18T11:38:24.367Z"
   },
   {
    "duration": 4,
    "start_time": "2022-07-18T11:38:31.804Z"
   },
   {
    "duration": 8,
    "start_time": "2022-07-18T11:38:48.176Z"
   },
   {
    "duration": 1597,
    "start_time": "2022-07-18T11:59:43.423Z"
   },
   {
    "duration": 875,
    "start_time": "2022-07-18T11:59:45.022Z"
   },
   {
    "duration": 14,
    "start_time": "2022-07-18T11:59:45.898Z"
   },
   {
    "duration": 6023,
    "start_time": "2022-07-18T11:59:45.914Z"
   },
   {
    "duration": 0,
    "start_time": "2022-07-18T11:59:51.939Z"
   },
   {
    "duration": 0,
    "start_time": "2022-07-18T11:59:51.941Z"
   },
   {
    "duration": 0,
    "start_time": "2022-07-18T11:59:51.942Z"
   },
   {
    "duration": 0,
    "start_time": "2022-07-18T11:59:51.943Z"
   },
   {
    "duration": 0,
    "start_time": "2022-07-18T11:59:51.944Z"
   },
   {
    "duration": 0,
    "start_time": "2022-07-18T11:59:51.945Z"
   },
   {
    "duration": 0,
    "start_time": "2022-07-18T11:59:51.946Z"
   },
   {
    "duration": 0,
    "start_time": "2022-07-18T11:59:51.948Z"
   },
   {
    "duration": 0,
    "start_time": "2022-07-18T11:59:51.949Z"
   },
   {
    "duration": 0,
    "start_time": "2022-07-18T11:59:51.950Z"
   },
   {
    "duration": 0,
    "start_time": "2022-07-18T11:59:51.951Z"
   },
   {
    "duration": 0,
    "start_time": "2022-07-18T11:59:51.952Z"
   },
   {
    "duration": 0,
    "start_time": "2022-07-18T11:59:51.953Z"
   },
   {
    "duration": 0,
    "start_time": "2022-07-18T11:59:51.954Z"
   },
   {
    "duration": 0,
    "start_time": "2022-07-18T11:59:51.955Z"
   },
   {
    "duration": 0,
    "start_time": "2022-07-18T11:59:51.956Z"
   },
   {
    "duration": 0,
    "start_time": "2022-07-18T11:59:51.957Z"
   },
   {
    "duration": 0,
    "start_time": "2022-07-18T11:59:51.958Z"
   },
   {
    "duration": 0,
    "start_time": "2022-07-18T11:59:51.959Z"
   },
   {
    "duration": 0,
    "start_time": "2022-07-18T11:59:51.960Z"
   },
   {
    "duration": 0,
    "start_time": "2022-07-18T11:59:51.961Z"
   },
   {
    "duration": 0,
    "start_time": "2022-07-18T11:59:51.962Z"
   },
   {
    "duration": 0,
    "start_time": "2022-07-18T11:59:51.963Z"
   },
   {
    "duration": 0,
    "start_time": "2022-07-18T11:59:51.964Z"
   },
   {
    "duration": 0,
    "start_time": "2022-07-18T11:59:51.966Z"
   },
   {
    "duration": 0,
    "start_time": "2022-07-18T11:59:51.967Z"
   },
   {
    "duration": 0,
    "start_time": "2022-07-18T11:59:52.009Z"
   },
   {
    "duration": 0,
    "start_time": "2022-07-18T11:59:52.010Z"
   },
   {
    "duration": 0,
    "start_time": "2022-07-18T11:59:52.012Z"
   },
   {
    "duration": 0,
    "start_time": "2022-07-18T11:59:52.013Z"
   },
   {
    "duration": 0,
    "start_time": "2022-07-18T11:59:52.014Z"
   },
   {
    "duration": 0,
    "start_time": "2022-07-18T11:59:52.015Z"
   },
   {
    "duration": 1595,
    "start_time": "2022-07-18T12:00:28.109Z"
   },
   {
    "duration": 924,
    "start_time": "2022-07-18T12:00:29.706Z"
   },
   {
    "duration": 12,
    "start_time": "2022-07-18T12:00:30.632Z"
   },
   {
    "duration": 42028,
    "start_time": "2022-07-18T12:00:30.646Z"
   },
   {
    "duration": 29,
    "start_time": "2022-07-18T12:01:12.675Z"
   },
   {
    "duration": 14,
    "start_time": "2022-07-18T12:01:12.710Z"
   },
   {
    "duration": 16,
    "start_time": "2022-07-18T12:01:12.725Z"
   },
   {
    "duration": 12,
    "start_time": "2022-07-18T12:01:12.742Z"
   },
   {
    "duration": 71,
    "start_time": "2022-07-18T12:01:12.756Z"
   },
   {
    "duration": 6711,
    "start_time": "2022-07-18T12:01:12.830Z"
   },
   {
    "duration": 4,
    "start_time": "2022-07-18T12:01:19.543Z"
   },
   {
    "duration": 6,
    "start_time": "2022-07-18T12:01:19.549Z"
   },
   {
    "duration": 1621869,
    "start_time": "2022-07-18T12:01:19.557Z"
   },
   {
    "duration": 3,
    "start_time": "2022-07-18T12:28:21.428Z"
   },
   {
    "duration": 45081,
    "start_time": "2022-07-18T12:28:21.433Z"
   },
   {
    "duration": 4763,
    "start_time": "2022-07-18T12:29:06.516Z"
   },
   {
    "duration": 20,
    "start_time": "2022-07-18T12:29:11.281Z"
   },
   {
    "duration": 25,
    "start_time": "2022-07-18T12:29:11.303Z"
   },
   {
    "duration": 0,
    "start_time": "2022-07-18T13:55:01.294Z"
   },
   {
    "duration": 0,
    "start_time": "2022-07-18T13:55:01.295Z"
   },
   {
    "duration": 0,
    "start_time": "2022-07-18T13:55:01.296Z"
   },
   {
    "duration": 0,
    "start_time": "2022-07-18T13:55:01.297Z"
   },
   {
    "duration": 0,
    "start_time": "2022-07-18T13:55:01.298Z"
   },
   {
    "duration": 0,
    "start_time": "2022-07-18T13:55:01.299Z"
   },
   {
    "duration": 0,
    "start_time": "2022-07-18T13:55:01.299Z"
   },
   {
    "duration": 0,
    "start_time": "2022-07-18T13:55:01.300Z"
   },
   {
    "duration": 0,
    "start_time": "2022-07-18T13:55:01.301Z"
   },
   {
    "duration": 0,
    "start_time": "2022-07-18T13:55:01.303Z"
   },
   {
    "duration": 0,
    "start_time": "2022-07-18T13:55:01.304Z"
   },
   {
    "duration": 0,
    "start_time": "2022-07-18T13:55:01.305Z"
   },
   {
    "duration": 0,
    "start_time": "2022-07-18T13:55:01.306Z"
   },
   {
    "duration": 1593,
    "start_time": "2022-07-18T13:55:08.873Z"
   },
   {
    "duration": 883,
    "start_time": "2022-07-18T13:55:10.468Z"
   },
   {
    "duration": 12,
    "start_time": "2022-07-18T13:55:11.352Z"
   },
   {
    "duration": 42421,
    "start_time": "2022-07-18T13:55:11.366Z"
   },
   {
    "duration": 26,
    "start_time": "2022-07-18T13:55:53.789Z"
   },
   {
    "duration": 24,
    "start_time": "2022-07-18T13:55:53.817Z"
   },
   {
    "duration": 22,
    "start_time": "2022-07-18T13:55:53.842Z"
   },
   {
    "duration": 24,
    "start_time": "2022-07-18T13:55:53.865Z"
   },
   {
    "duration": 82,
    "start_time": "2022-07-18T13:55:53.891Z"
   },
   {
    "duration": 6782,
    "start_time": "2022-07-18T13:55:53.975Z"
   },
   {
    "duration": 4,
    "start_time": "2022-07-18T13:56:00.759Z"
   },
   {
    "duration": 27,
    "start_time": "2022-07-18T13:56:00.764Z"
   },
   {
    "duration": 1599211,
    "start_time": "2022-07-18T13:56:00.793Z"
   },
   {
    "duration": 15,
    "start_time": "2022-07-18T14:22:40.006Z"
   },
   {
    "duration": 44772,
    "start_time": "2022-07-18T14:22:40.025Z"
   },
   {
    "duration": 4748,
    "start_time": "2022-07-18T14:23:24.799Z"
   },
   {
    "duration": 20,
    "start_time": "2022-07-18T14:23:29.549Z"
   },
   {
    "duration": 3,
    "start_time": "2022-07-18T14:23:29.570Z"
   },
   {
    "duration": 356536,
    "start_time": "2022-07-18T14:23:29.575Z"
   },
   {
    "duration": 3,
    "start_time": "2022-07-18T14:29:26.113Z"
   },
   {
    "duration": 117092,
    "start_time": "2022-07-18T14:29:26.118Z"
   },
   {
    "duration": 6,
    "start_time": "2022-07-18T14:31:23.212Z"
   },
   {
    "duration": 30,
    "start_time": "2022-07-18T14:31:23.220Z"
   },
   {
    "duration": 3,
    "start_time": "2022-07-18T14:31:23.251Z"
   },
   {
    "duration": 2909010,
    "start_time": "2022-07-18T14:31:23.255Z"
   },
   {
    "duration": 2,
    "start_time": "2022-07-18T15:19:52.267Z"
   },
   {
    "duration": 709275,
    "start_time": "2022-07-18T15:19:52.271Z"
   },
   {
    "duration": 1261,
    "start_time": "2022-07-18T15:31:41.550Z"
   },
   {
    "duration": 23,
    "start_time": "2022-07-18T15:31:42.815Z"
   },
   {
    "duration": 6899,
    "start_time": "2022-07-18T15:31:42.839Z"
   },
   {
    "duration": 22179864,
    "start_time": "2022-07-18T15:31:49.740Z"
   },
   {
    "duration": 3,
    "start_time": "2022-07-18T21:41:29.606Z"
   },
   {
    "duration": 894694,
    "start_time": "2022-07-18T21:41:29.611Z"
   },
   {
    "duration": 151,
    "start_time": "2022-07-18T21:56:24.306Z"
   },
   {
    "duration": 29,
    "start_time": "2022-07-18T21:56:24.459Z"
   },
   {
    "duration": 12,
    "start_time": "2022-07-18T21:56:24.491Z"
   },
   {
    "duration": 3,
    "start_time": "2022-07-19T01:42:12.739Z"
   },
   {
    "duration": 0,
    "start_time": "2022-07-19T03:17:12.618Z"
   },
   {
    "duration": 0,
    "start_time": "2022-07-19T03:17:12.619Z"
   },
   {
    "duration": 0,
    "start_time": "2022-07-19T03:17:12.620Z"
   },
   {
    "duration": 0,
    "start_time": "2022-07-19T03:17:12.624Z"
   },
   {
    "duration": 1646,
    "start_time": "2022-07-19T03:17:39.438Z"
   },
   {
    "duration": 1023,
    "start_time": "2022-07-19T03:17:41.254Z"
   },
   {
    "duration": 16,
    "start_time": "2022-07-19T03:17:42.833Z"
   },
   {
    "duration": 39680,
    "start_time": "2022-07-19T03:17:44.583Z"
   },
   {
    "duration": 0,
    "start_time": "2022-07-19T03:18:24.266Z"
   },
   {
    "duration": 0,
    "start_time": "2022-07-19T03:18:24.267Z"
   },
   {
    "duration": 0,
    "start_time": "2022-07-19T03:18:24.268Z"
   },
   {
    "duration": 0,
    "start_time": "2022-07-19T03:18:24.269Z"
   },
   {
    "duration": 0,
    "start_time": "2022-07-19T03:18:24.270Z"
   },
   {
    "duration": 0,
    "start_time": "2022-07-19T03:18:24.271Z"
   },
   {
    "duration": 0,
    "start_time": "2022-07-19T03:18:24.272Z"
   },
   {
    "duration": 0,
    "start_time": "2022-07-19T03:18:24.273Z"
   },
   {
    "duration": 0,
    "start_time": "2022-07-19T03:18:24.274Z"
   },
   {
    "duration": 0,
    "start_time": "2022-07-19T03:18:24.275Z"
   },
   {
    "duration": 0,
    "start_time": "2022-07-19T03:18:24.276Z"
   },
   {
    "duration": 0,
    "start_time": "2022-07-19T03:18:24.277Z"
   },
   {
    "duration": 0,
    "start_time": "2022-07-19T03:18:24.278Z"
   },
   {
    "duration": 0,
    "start_time": "2022-07-19T03:18:24.279Z"
   },
   {
    "duration": 0,
    "start_time": "2022-07-19T03:18:24.280Z"
   },
   {
    "duration": 0,
    "start_time": "2022-07-19T03:18:24.281Z"
   },
   {
    "duration": 0,
    "start_time": "2022-07-19T03:18:24.282Z"
   },
   {
    "duration": 0,
    "start_time": "2022-07-19T03:18:24.283Z"
   },
   {
    "duration": 0,
    "start_time": "2022-07-19T03:18:24.283Z"
   },
   {
    "duration": 0,
    "start_time": "2022-07-19T03:18:24.284Z"
   },
   {
    "duration": 0,
    "start_time": "2022-07-19T03:18:24.285Z"
   },
   {
    "duration": 0,
    "start_time": "2022-07-19T03:18:24.286Z"
   },
   {
    "duration": 0,
    "start_time": "2022-07-19T03:18:24.287Z"
   },
   {
    "duration": 1600,
    "start_time": "2022-07-19T03:18:39.145Z"
   },
   {
    "duration": 1012,
    "start_time": "2022-07-19T03:18:40.747Z"
   },
   {
    "duration": 13,
    "start_time": "2022-07-19T03:18:41.761Z"
   },
   {
    "duration": 47933,
    "start_time": "2022-07-19T03:18:41.776Z"
   },
   {
    "duration": 36,
    "start_time": "2022-07-19T03:19:29.711Z"
   },
   {
    "duration": 11,
    "start_time": "2022-07-19T03:19:29.749Z"
   },
   {
    "duration": 6,
    "start_time": "2022-07-19T03:19:29.762Z"
   },
   {
    "duration": 6,
    "start_time": "2022-07-19T03:19:29.769Z"
   },
   {
    "duration": 97,
    "start_time": "2022-07-19T03:19:29.776Z"
   },
   {
    "duration": 7877,
    "start_time": "2022-07-19T03:19:29.875Z"
   },
   {
    "duration": 4,
    "start_time": "2022-07-19T03:19:37.754Z"
   },
   {
    "duration": 6,
    "start_time": "2022-07-19T03:19:37.760Z"
   },
   {
    "duration": 56459,
    "start_time": "2022-07-19T03:19:37.767Z"
   },
   {
    "duration": 12930,
    "start_time": "2022-07-19T03:20:34.228Z"
   },
   {
    "duration": 47,
    "start_time": "2022-07-19T03:20:47.209Z"
   },
   {
    "duration": 7,
    "start_time": "2022-07-19T03:20:47.262Z"
   },
   {
    "duration": 3494,
    "start_time": "2022-07-19T03:27:05.951Z"
   },
   {
    "duration": 2502,
    "start_time": "2022-07-19T03:27:09.447Z"
   },
   {
    "duration": 75,
    "start_time": "2022-07-19T03:27:11.952Z"
   },
   {
    "duration": 136421,
    "start_time": "2022-07-19T03:27:12.029Z"
   },
   {
    "duration": 83,
    "start_time": "2022-07-19T03:29:28.453Z"
   },
   {
    "duration": 100,
    "start_time": "2022-07-19T03:29:28.540Z"
   },
   {
    "duration": 14,
    "start_time": "2022-07-19T03:29:28.647Z"
   },
   {
    "duration": 51,
    "start_time": "2022-07-19T03:29:28.664Z"
   },
   {
    "duration": 229,
    "start_time": "2022-07-19T03:29:28.717Z"
   },
   {
    "duration": 22886,
    "start_time": "2022-07-19T03:29:28.948Z"
   },
   {
    "duration": 5,
    "start_time": "2022-07-19T03:29:51.838Z"
   },
   {
    "duration": 70,
    "start_time": "2022-07-19T03:29:51.844Z"
   },
   {
    "duration": 116428,
    "start_time": "2022-07-19T03:29:51.916Z"
   },
   {
    "duration": 11496,
    "start_time": "2022-07-19T03:31:48.354Z"
   },
   {
    "duration": 86,
    "start_time": "2022-07-19T03:31:59.852Z"
   },
   {
    "duration": 10,
    "start_time": "2022-07-19T03:31:59.940Z"
   },
   {
    "duration": 163485,
    "start_time": "2022-07-19T03:31:59.951Z"
   },
   {
    "duration": 78,
    "start_time": "2022-07-19T03:34:43.440Z"
   },
   {
    "duration": 107,
    "start_time": "2022-07-19T03:34:43.520Z"
   },
   {
    "duration": 3,
    "start_time": "2022-07-19T03:34:43.632Z"
   },
   {
    "duration": 2183401,
    "start_time": "2022-07-19T03:34:43.638Z"
   },
   {
    "duration": 1489,
    "start_time": "2022-07-19T04:11:07.041Z"
   },
   {
    "duration": 90,
    "start_time": "2022-07-19T04:11:08.532Z"
   },
   {
    "duration": 17097,
    "start_time": "2022-07-19T04:11:08.624Z"
   },
   {
    "duration": 4,
    "start_time": "2022-07-19T04:11:25.728Z"
   },
   {
    "duration": 509780,
    "start_time": "2022-07-19T04:11:25.734Z"
   },
   {
    "duration": 0,
    "start_time": "2022-07-19T04:19:55.517Z"
   },
   {
    "duration": 0,
    "start_time": "2022-07-19T04:19:55.520Z"
   },
   {
    "duration": 0,
    "start_time": "2022-07-19T04:19:55.521Z"
   },
   {
    "duration": 1277,
    "start_time": "2022-07-19T04:19:59.656Z"
   },
   {
    "duration": 3,
    "start_time": "2022-07-19T04:20:05.761Z"
   },
   {
    "duration": 3424,
    "start_time": "2022-07-19T04:20:51.024Z"
   },
   {
    "duration": 2482,
    "start_time": "2022-07-19T04:20:54.452Z"
   },
   {
    "duration": 17,
    "start_time": "2022-07-19T04:20:56.941Z"
   },
   {
    "duration": 115396,
    "start_time": "2022-07-19T04:20:57.013Z"
   },
   {
    "duration": 37,
    "start_time": "2022-07-19T04:22:52.411Z"
   },
   {
    "duration": 69,
    "start_time": "2022-07-19T04:22:52.449Z"
   },
   {
    "duration": 32,
    "start_time": "2022-07-19T04:22:52.520Z"
   },
   {
    "duration": 62,
    "start_time": "2022-07-19T04:22:52.554Z"
   },
   {
    "duration": 223,
    "start_time": "2022-07-19T04:22:52.618Z"
   },
   {
    "duration": 17005,
    "start_time": "2022-07-19T04:22:52.845Z"
   },
   {
    "duration": 61,
    "start_time": "2022-07-19T04:23:09.851Z"
   },
   {
    "duration": 17,
    "start_time": "2022-07-19T04:23:09.920Z"
   },
   {
    "duration": 109116,
    "start_time": "2022-07-19T04:23:09.939Z"
   },
   {
    "duration": 10329,
    "start_time": "2022-07-19T04:24:59.110Z"
   },
   {
    "duration": 78,
    "start_time": "2022-07-19T04:25:09.441Z"
   },
   {
    "duration": 3,
    "start_time": "2022-07-19T04:25:09.520Z"
   },
   {
    "duration": 142885,
    "start_time": "2022-07-19T04:25:09.525Z"
   },
   {
    "duration": 98,
    "start_time": "2022-07-19T04:27:32.412Z"
   },
   {
    "duration": 21,
    "start_time": "2022-07-19T04:27:32.511Z"
   },
   {
    "duration": 9,
    "start_time": "2022-07-19T04:27:32.533Z"
   },
   {
    "duration": 1760397,
    "start_time": "2022-07-19T04:27:32.544Z"
   },
   {
    "duration": 1482,
    "start_time": "2022-07-19T04:56:52.944Z"
   },
   {
    "duration": 88,
    "start_time": "2022-07-19T04:56:54.427Z"
   },
   {
    "duration": 605,
    "start_time": "2022-07-19T04:56:54.519Z"
   },
   {
    "duration": 3,
    "start_time": "2022-07-19T04:56:55.126Z"
   },
   {
    "duration": 2778702,
    "start_time": "2022-07-19T04:56:55.131Z"
   },
   {
    "duration": 85,
    "start_time": "2022-07-19T05:43:13.844Z"
   },
   {
    "duration": 73,
    "start_time": "2022-07-19T05:43:13.945Z"
   },
   {
    "duration": 22,
    "start_time": "2022-07-19T05:43:14.025Z"
   }
  ],
  "kernelspec": {
   "display_name": "Python 3 (ipykernel)",
   "language": "python",
   "name": "python3"
  },
  "language_info": {
   "codemirror_mode": {
    "name": "ipython",
    "version": 3
   },
   "file_extension": ".py",
   "mimetype": "text/x-python",
   "name": "python",
   "nbconvert_exporter": "python",
   "pygments_lexer": "ipython3",
   "version": "3.9.12"
  },
  "toc": {
   "base_numbering": 1,
   "nav_menu": {},
   "number_sections": true,
   "sideBar": true,
   "skip_h1_title": true,
   "title_cell": "Содержание",
   "title_sidebar": "Contents",
   "toc_cell": true,
   "toc_position": {
    "height": "calc(100% - 180px)",
    "left": "10px",
    "top": "150px",
    "width": "302.391px"
   },
   "toc_section_display": true,
   "toc_window_display": true
  }
 },
 "nbformat": 4,
 "nbformat_minor": 2
}
