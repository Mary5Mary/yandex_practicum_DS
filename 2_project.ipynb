{
 "cells": [
  {
   "cell_type": "markdown",
   "id": "e5d91223",
   "metadata": {},
   "source": [
    "# Исследование надежности заемщиков."
   ]
  },
  {
   "cell_type": "markdown",
   "id": "299a3fb3",
   "metadata": {},
   "source": [
    "**Цель исследования** — проверить гипотезы:\n",
    "\n",
    "1. Есть ли зависимость между количеством детей и возвратом кредита в срок?\n",
    "2. Есть ли зависимость между семейным положением и возвратом кредита в срок?\n",
    "3. Влияет ли уровень дохода на факт погашения кредита в срок.\n",
    "4. Как разные цели кредита влияют на его возврат в срок?\n",
    "\n",
    "**Ход исследования**\n",
    "\n",
    "Данные о клиентах получены из файла `data.csv`. \n",
    "О качестве данных ничего не известно. Поэтому перед проверкой гипотез необходим обзор данных, \n",
    "проверка данных на ошибки и оценка их влияния на исследование, \n",
    "исправление критичных ошибок данных.\n",
    " \n",
    "Таким образом, исследование пройдёт в три этапа:\n",
    " 1. Обзор данных.\n",
    " 2. Предобработка данных.\n",
    " 3. Проверка гипотез.\n"
   ]
  },
  {
   "cell_type": "markdown",
   "id": "4d37190c",
   "metadata": {},
   "source": [
    "### Шаг 1. Обзор данных"
   ]
  },
  {
   "cell_type": "code",
   "execution_count": 1,
   "id": "b2459d1c",
   "metadata": {},
   "outputs": [
    {
     "name": "stdout",
     "output_type": "stream",
     "text": [
      "<class 'pandas.core.frame.DataFrame'>\n",
      "RangeIndex: 21525 entries, 0 to 21524\n",
      "Data columns (total 12 columns):\n",
      "children            21525 non-null int64\n",
      "days_employed       19351 non-null float64\n",
      "dob_years           21525 non-null int64\n",
      "education           21525 non-null object\n",
      "education_id        21525 non-null int64\n",
      "family_status       21525 non-null object\n",
      "family_status_id    21525 non-null int64\n",
      "gender              21525 non-null object\n",
      "income_type         21525 non-null object\n",
      "debt                21525 non-null int64\n",
      "total_income        19351 non-null float64\n",
      "purpose             21525 non-null object\n",
      "dtypes: float64(2), int64(5), object(5)\n",
      "memory usage: 2.0+ MB\n"
     ]
    },
    {
     "data": {
      "text/html": [
       "<div>\n",
       "<style scoped>\n",
       "    .dataframe tbody tr th:only-of-type {\n",
       "        vertical-align: middle;\n",
       "    }\n",
       "\n",
       "    .dataframe tbody tr th {\n",
       "        vertical-align: top;\n",
       "    }\n",
       "\n",
       "    .dataframe thead th {\n",
       "        text-align: right;\n",
       "    }\n",
       "</style>\n",
       "<table border=\"1\" class=\"dataframe\">\n",
       "  <thead>\n",
       "    <tr style=\"text-align: right;\">\n",
       "      <th></th>\n",
       "      <th>children</th>\n",
       "      <th>days_employed</th>\n",
       "      <th>dob_years</th>\n",
       "      <th>education</th>\n",
       "      <th>education_id</th>\n",
       "      <th>family_status</th>\n",
       "      <th>family_status_id</th>\n",
       "      <th>gender</th>\n",
       "      <th>income_type</th>\n",
       "      <th>debt</th>\n",
       "      <th>total_income</th>\n",
       "      <th>purpose</th>\n",
       "    </tr>\n",
       "  </thead>\n",
       "  <tbody>\n",
       "    <tr>\n",
       "      <td>0</td>\n",
       "      <td>1</td>\n",
       "      <td>-8437.673028</td>\n",
       "      <td>42</td>\n",
       "      <td>высшее</td>\n",
       "      <td>0</td>\n",
       "      <td>женат / замужем</td>\n",
       "      <td>0</td>\n",
       "      <td>F</td>\n",
       "      <td>сотрудник</td>\n",
       "      <td>0</td>\n",
       "      <td>253875.639453</td>\n",
       "      <td>покупка жилья</td>\n",
       "    </tr>\n",
       "    <tr>\n",
       "      <td>1</td>\n",
       "      <td>1</td>\n",
       "      <td>-4024.803754</td>\n",
       "      <td>36</td>\n",
       "      <td>среднее</td>\n",
       "      <td>1</td>\n",
       "      <td>женат / замужем</td>\n",
       "      <td>0</td>\n",
       "      <td>F</td>\n",
       "      <td>сотрудник</td>\n",
       "      <td>0</td>\n",
       "      <td>112080.014102</td>\n",
       "      <td>приобретение автомобиля</td>\n",
       "    </tr>\n",
       "    <tr>\n",
       "      <td>2</td>\n",
       "      <td>0</td>\n",
       "      <td>-5623.422610</td>\n",
       "      <td>33</td>\n",
       "      <td>Среднее</td>\n",
       "      <td>1</td>\n",
       "      <td>женат / замужем</td>\n",
       "      <td>0</td>\n",
       "      <td>M</td>\n",
       "      <td>сотрудник</td>\n",
       "      <td>0</td>\n",
       "      <td>145885.952297</td>\n",
       "      <td>покупка жилья</td>\n",
       "    </tr>\n",
       "    <tr>\n",
       "      <td>3</td>\n",
       "      <td>3</td>\n",
       "      <td>-4124.747207</td>\n",
       "      <td>32</td>\n",
       "      <td>среднее</td>\n",
       "      <td>1</td>\n",
       "      <td>женат / замужем</td>\n",
       "      <td>0</td>\n",
       "      <td>M</td>\n",
       "      <td>сотрудник</td>\n",
       "      <td>0</td>\n",
       "      <td>267628.550329</td>\n",
       "      <td>дополнительное образование</td>\n",
       "    </tr>\n",
       "    <tr>\n",
       "      <td>4</td>\n",
       "      <td>0</td>\n",
       "      <td>340266.072047</td>\n",
       "      <td>53</td>\n",
       "      <td>среднее</td>\n",
       "      <td>1</td>\n",
       "      <td>гражданский брак</td>\n",
       "      <td>1</td>\n",
       "      <td>F</td>\n",
       "      <td>пенсионер</td>\n",
       "      <td>0</td>\n",
       "      <td>158616.077870</td>\n",
       "      <td>сыграть свадьбу</td>\n",
       "    </tr>\n",
       "    <tr>\n",
       "      <td>5</td>\n",
       "      <td>0</td>\n",
       "      <td>-926.185831</td>\n",
       "      <td>27</td>\n",
       "      <td>высшее</td>\n",
       "      <td>0</td>\n",
       "      <td>гражданский брак</td>\n",
       "      <td>1</td>\n",
       "      <td>M</td>\n",
       "      <td>компаньон</td>\n",
       "      <td>0</td>\n",
       "      <td>255763.565419</td>\n",
       "      <td>покупка жилья</td>\n",
       "    </tr>\n",
       "    <tr>\n",
       "      <td>6</td>\n",
       "      <td>0</td>\n",
       "      <td>-2879.202052</td>\n",
       "      <td>43</td>\n",
       "      <td>высшее</td>\n",
       "      <td>0</td>\n",
       "      <td>женат / замужем</td>\n",
       "      <td>0</td>\n",
       "      <td>F</td>\n",
       "      <td>компаньон</td>\n",
       "      <td>0</td>\n",
       "      <td>240525.971920</td>\n",
       "      <td>операции с жильем</td>\n",
       "    </tr>\n",
       "    <tr>\n",
       "      <td>7</td>\n",
       "      <td>0</td>\n",
       "      <td>-152.779569</td>\n",
       "      <td>50</td>\n",
       "      <td>СРЕДНЕЕ</td>\n",
       "      <td>1</td>\n",
       "      <td>женат / замужем</td>\n",
       "      <td>0</td>\n",
       "      <td>M</td>\n",
       "      <td>сотрудник</td>\n",
       "      <td>0</td>\n",
       "      <td>135823.934197</td>\n",
       "      <td>образование</td>\n",
       "    </tr>\n",
       "    <tr>\n",
       "      <td>8</td>\n",
       "      <td>2</td>\n",
       "      <td>-6929.865299</td>\n",
       "      <td>35</td>\n",
       "      <td>ВЫСШЕЕ</td>\n",
       "      <td>0</td>\n",
       "      <td>гражданский брак</td>\n",
       "      <td>1</td>\n",
       "      <td>F</td>\n",
       "      <td>сотрудник</td>\n",
       "      <td>0</td>\n",
       "      <td>95856.832424</td>\n",
       "      <td>на проведение свадьбы</td>\n",
       "    </tr>\n",
       "    <tr>\n",
       "      <td>9</td>\n",
       "      <td>0</td>\n",
       "      <td>-2188.756445</td>\n",
       "      <td>41</td>\n",
       "      <td>среднее</td>\n",
       "      <td>1</td>\n",
       "      <td>женат / замужем</td>\n",
       "      <td>0</td>\n",
       "      <td>M</td>\n",
       "      <td>сотрудник</td>\n",
       "      <td>0</td>\n",
       "      <td>144425.938277</td>\n",
       "      <td>покупка жилья для семьи</td>\n",
       "    </tr>\n",
       "  </tbody>\n",
       "</table>\n",
       "</div>"
      ],
      "text/plain": [
       "   children  days_employed  dob_years education  education_id  \\\n",
       "0         1   -8437.673028         42    высшее             0   \n",
       "1         1   -4024.803754         36   среднее             1   \n",
       "2         0   -5623.422610         33   Среднее             1   \n",
       "3         3   -4124.747207         32   среднее             1   \n",
       "4         0  340266.072047         53   среднее             1   \n",
       "5         0    -926.185831         27    высшее             0   \n",
       "6         0   -2879.202052         43    высшее             0   \n",
       "7         0    -152.779569         50   СРЕДНЕЕ             1   \n",
       "8         2   -6929.865299         35    ВЫСШЕЕ             0   \n",
       "9         0   -2188.756445         41   среднее             1   \n",
       "\n",
       "      family_status  family_status_id gender income_type  debt   total_income  \\\n",
       "0   женат / замужем                 0      F   сотрудник     0  253875.639453   \n",
       "1   женат / замужем                 0      F   сотрудник     0  112080.014102   \n",
       "2   женат / замужем                 0      M   сотрудник     0  145885.952297   \n",
       "3   женат / замужем                 0      M   сотрудник     0  267628.550329   \n",
       "4  гражданский брак                 1      F   пенсионер     0  158616.077870   \n",
       "5  гражданский брак                 1      M   компаньон     0  255763.565419   \n",
       "6   женат / замужем                 0      F   компаньон     0  240525.971920   \n",
       "7   женат / замужем                 0      M   сотрудник     0  135823.934197   \n",
       "8  гражданский брак                 1      F   сотрудник     0   95856.832424   \n",
       "9   женат / замужем                 0      M   сотрудник     0  144425.938277   \n",
       "\n",
       "                      purpose  \n",
       "0               покупка жилья  \n",
       "1     приобретение автомобиля  \n",
       "2               покупка жилья  \n",
       "3  дополнительное образование  \n",
       "4             сыграть свадьбу  \n",
       "5               покупка жилья  \n",
       "6           операции с жильем  \n",
       "7                 образование  \n",
       "8       на проведение свадьбы  \n",
       "9     покупка жилья для семьи  "
      ]
     },
     "metadata": {},
     "output_type": "display_data"
    }
   ],
   "source": [
    "import pandas as pd\n",
    "import seaborn as sns\n",
    "\n",
    "df = pd.read_csv('/datasets/data.csv')\n",
    "df.info()\n",
    "display(df.head(10))"
   ]
  },
  {
   "cell_type": "markdown",
   "id": "69068179",
   "metadata": {},
   "source": [
    "В таблице 12 столбцов. Тип данных во всех столбцах — `object`, `int64`, `float64`\n",
    "\n",
    "Согласно документации к данным:\n",
    "\n",
    "* `children` — количество детей в семье\n",
    "* `days_employed` — общий трудовой стаж в днях\n",
    "* `dob_years` — возраст клиента в годах\n",
    "* `education` — уровень образования клиента\n",
    "* `education_id` — идентификатор уровня образования\n",
    "* `family_status` — семейное положение\n",
    "* `family_status_id` — идентификатор семейного положения\n",
    "* `gender` — пол клиента\n",
    "* `income_type` — тип занятости\n",
    "*  `debt` — имел ли задолженность по возврату кредитов\n",
    "* `total_income` — ежемесячный доход\n",
    "* `purpose` — цель получения кредита"
   ]
  },
  {
   "cell_type": "markdown",
   "id": "59d2bdcb",
   "metadata": {},
   "source": [
    "### Шаг 2.1 Заполнение пропусков"
   ]
  },
  {
   "cell_type": "markdown",
   "id": "78ed0a68",
   "metadata": {},
   "source": [
    "В  столбцах `days_employed` и `total_income` есть пропущенные значения. \n"
   ]
  },
  {
   "cell_type": "code",
   "execution_count": 2,
   "id": "d1d0f459",
   "metadata": {},
   "outputs": [
    {
     "name": "stdout",
     "output_type": "stream",
     "text": [
      "2174\n",
      "2174\n",
      "10%\n"
     ]
    },
    {
     "data": {
      "text/html": [
       "<div>\n",
       "<style scoped>\n",
       "    .dataframe tbody tr th:only-of-type {\n",
       "        vertical-align: middle;\n",
       "    }\n",
       "\n",
       "    .dataframe tbody tr th {\n",
       "        vertical-align: top;\n",
       "    }\n",
       "\n",
       "    .dataframe thead th {\n",
       "        text-align: right;\n",
       "    }\n",
       "</style>\n",
       "<table border=\"1\" class=\"dataframe\">\n",
       "  <thead>\n",
       "    <tr style=\"text-align: right;\">\n",
       "      <th></th>\n",
       "      <th>children</th>\n",
       "      <th>days_employed</th>\n",
       "      <th>dob_years</th>\n",
       "      <th>education</th>\n",
       "      <th>education_id</th>\n",
       "      <th>family_status</th>\n",
       "      <th>family_status_id</th>\n",
       "      <th>gender</th>\n",
       "      <th>income_type</th>\n",
       "      <th>debt</th>\n",
       "      <th>total_income</th>\n",
       "      <th>purpose</th>\n",
       "    </tr>\n",
       "  </thead>\n",
       "  <tbody>\n",
       "    <tr>\n",
       "      <td>12</td>\n",
       "      <td>0</td>\n",
       "      <td>NaN</td>\n",
       "      <td>65</td>\n",
       "      <td>среднее</td>\n",
       "      <td>1</td>\n",
       "      <td>гражданский брак</td>\n",
       "      <td>1</td>\n",
       "      <td>M</td>\n",
       "      <td>пенсионер</td>\n",
       "      <td>0</td>\n",
       "      <td>NaN</td>\n",
       "      <td>сыграть свадьбу</td>\n",
       "    </tr>\n",
       "    <tr>\n",
       "      <td>26</td>\n",
       "      <td>0</td>\n",
       "      <td>NaN</td>\n",
       "      <td>41</td>\n",
       "      <td>среднее</td>\n",
       "      <td>1</td>\n",
       "      <td>женат / замужем</td>\n",
       "      <td>0</td>\n",
       "      <td>M</td>\n",
       "      <td>госслужащий</td>\n",
       "      <td>0</td>\n",
       "      <td>NaN</td>\n",
       "      <td>образование</td>\n",
       "    </tr>\n",
       "    <tr>\n",
       "      <td>29</td>\n",
       "      <td>0</td>\n",
       "      <td>NaN</td>\n",
       "      <td>63</td>\n",
       "      <td>среднее</td>\n",
       "      <td>1</td>\n",
       "      <td>Не женат / не замужем</td>\n",
       "      <td>4</td>\n",
       "      <td>F</td>\n",
       "      <td>пенсионер</td>\n",
       "      <td>0</td>\n",
       "      <td>NaN</td>\n",
       "      <td>строительство жилой недвижимости</td>\n",
       "    </tr>\n",
       "    <tr>\n",
       "      <td>41</td>\n",
       "      <td>0</td>\n",
       "      <td>NaN</td>\n",
       "      <td>50</td>\n",
       "      <td>среднее</td>\n",
       "      <td>1</td>\n",
       "      <td>женат / замужем</td>\n",
       "      <td>0</td>\n",
       "      <td>F</td>\n",
       "      <td>госслужащий</td>\n",
       "      <td>0</td>\n",
       "      <td>NaN</td>\n",
       "      <td>сделка с подержанным автомобилем</td>\n",
       "    </tr>\n",
       "    <tr>\n",
       "      <td>55</td>\n",
       "      <td>0</td>\n",
       "      <td>NaN</td>\n",
       "      <td>54</td>\n",
       "      <td>среднее</td>\n",
       "      <td>1</td>\n",
       "      <td>гражданский брак</td>\n",
       "      <td>1</td>\n",
       "      <td>F</td>\n",
       "      <td>пенсионер</td>\n",
       "      <td>1</td>\n",
       "      <td>NaN</td>\n",
       "      <td>сыграть свадьбу</td>\n",
       "    </tr>\n",
       "    <tr>\n",
       "      <td>65</td>\n",
       "      <td>0</td>\n",
       "      <td>NaN</td>\n",
       "      <td>21</td>\n",
       "      <td>среднее</td>\n",
       "      <td>1</td>\n",
       "      <td>Не женат / не замужем</td>\n",
       "      <td>4</td>\n",
       "      <td>M</td>\n",
       "      <td>компаньон</td>\n",
       "      <td>0</td>\n",
       "      <td>NaN</td>\n",
       "      <td>операции с коммерческой недвижимостью</td>\n",
       "    </tr>\n",
       "    <tr>\n",
       "      <td>67</td>\n",
       "      <td>0</td>\n",
       "      <td>NaN</td>\n",
       "      <td>52</td>\n",
       "      <td>высшее</td>\n",
       "      <td>0</td>\n",
       "      <td>женат / замужем</td>\n",
       "      <td>0</td>\n",
       "      <td>F</td>\n",
       "      <td>пенсионер</td>\n",
       "      <td>0</td>\n",
       "      <td>NaN</td>\n",
       "      <td>покупка жилья для семьи</td>\n",
       "    </tr>\n",
       "    <tr>\n",
       "      <td>72</td>\n",
       "      <td>1</td>\n",
       "      <td>NaN</td>\n",
       "      <td>32</td>\n",
       "      <td>высшее</td>\n",
       "      <td>0</td>\n",
       "      <td>женат / замужем</td>\n",
       "      <td>0</td>\n",
       "      <td>M</td>\n",
       "      <td>госслужащий</td>\n",
       "      <td>0</td>\n",
       "      <td>NaN</td>\n",
       "      <td>операции с коммерческой недвижимостью</td>\n",
       "    </tr>\n",
       "    <tr>\n",
       "      <td>82</td>\n",
       "      <td>2</td>\n",
       "      <td>NaN</td>\n",
       "      <td>50</td>\n",
       "      <td>высшее</td>\n",
       "      <td>0</td>\n",
       "      <td>женат / замужем</td>\n",
       "      <td>0</td>\n",
       "      <td>F</td>\n",
       "      <td>сотрудник</td>\n",
       "      <td>0</td>\n",
       "      <td>NaN</td>\n",
       "      <td>жилье</td>\n",
       "    </tr>\n",
       "    <tr>\n",
       "      <td>83</td>\n",
       "      <td>0</td>\n",
       "      <td>NaN</td>\n",
       "      <td>52</td>\n",
       "      <td>среднее</td>\n",
       "      <td>1</td>\n",
       "      <td>женат / замужем</td>\n",
       "      <td>0</td>\n",
       "      <td>M</td>\n",
       "      <td>сотрудник</td>\n",
       "      <td>0</td>\n",
       "      <td>NaN</td>\n",
       "      <td>жилье</td>\n",
       "    </tr>\n",
       "  </tbody>\n",
       "</table>\n",
       "</div>"
      ],
      "text/plain": [
       "    children  days_employed  dob_years education  education_id  \\\n",
       "12         0            NaN         65   среднее             1   \n",
       "26         0            NaN         41   среднее             1   \n",
       "29         0            NaN         63   среднее             1   \n",
       "41         0            NaN         50   среднее             1   \n",
       "55         0            NaN         54   среднее             1   \n",
       "65         0            NaN         21   среднее             1   \n",
       "67         0            NaN         52    высшее             0   \n",
       "72         1            NaN         32    высшее             0   \n",
       "82         2            NaN         50    высшее             0   \n",
       "83         0            NaN         52   среднее             1   \n",
       "\n",
       "            family_status  family_status_id gender  income_type  debt  \\\n",
       "12       гражданский брак                 1      M    пенсионер     0   \n",
       "26        женат / замужем                 0      M  госслужащий     0   \n",
       "29  Не женат / не замужем                 4      F    пенсионер     0   \n",
       "41        женат / замужем                 0      F  госслужащий     0   \n",
       "55       гражданский брак                 1      F    пенсионер     1   \n",
       "65  Не женат / не замужем                 4      M    компаньон     0   \n",
       "67        женат / замужем                 0      F    пенсионер     0   \n",
       "72        женат / замужем                 0      M  госслужащий     0   \n",
       "82        женат / замужем                 0      F    сотрудник     0   \n",
       "83        женат / замужем                 0      M    сотрудник     0   \n",
       "\n",
       "    total_income                                purpose  \n",
       "12           NaN                        сыграть свадьбу  \n",
       "26           NaN                            образование  \n",
       "29           NaN       строительство жилой недвижимости  \n",
       "41           NaN       сделка с подержанным автомобилем  \n",
       "55           NaN                        сыграть свадьбу  \n",
       "65           NaN  операции с коммерческой недвижимостью  \n",
       "67           NaN                покупка жилья для семьи  \n",
       "72           NaN  операции с коммерческой недвижимостью  \n",
       "82           NaN                                  жилье  \n",
       "83           NaN                                  жилье  "
      ]
     },
     "metadata": {},
     "output_type": "display_data"
    }
   ],
   "source": [
    "print(df['days_employed'].isna().sum())\n",
    "print(df['total_income'].isna().sum())\n",
    "print('{:.0%}'.format(df['total_income'].isna().sum()/df.shape[0]))\n",
    "\n",
    "display(df[df['total_income'].isna() == True].head(10))"
   ]
  },
  {
   "cell_type": "markdown",
   "id": "7845a281",
   "metadata": {},
   "source": [
    "В столбцах пропущено 2174 значения, что составляет 10% от списка.\n",
    "Возможно пропущены значения из-за не предоставления данных клиентами или из-за отсутствия их подтверждения. \n",
    "Возможно речь о случаях, когда не требуются данные о доходах и месте работы,  \n",
    "например если клиент является зарплатным.\n",
    "Заполним пропуски  медианным значением по столбцам.\n",
    "Заполнить пропуски медианным значением —\n",
    "лучшее решение для количественных переменных, так как могут присутсвовать значения сильно выделяющиеся среди большинства.\n"
   ]
  },
  {
   "cell_type": "markdown",
   "id": "af5ba293",
   "metadata": {},
   "source": [
    "\n",
    "<br> Ещё можно посмотреть долю пропущенных значений среди всех данных следующим способом\n",
    "    \n",
    "    df.isna().mean()\n",
    "</div>"
   ]
  },
  {
   "cell_type": "code",
   "execution_count": 3,
   "id": "a2aa55a5",
   "metadata": {},
   "outputs": [],
   "source": [
    "df['days_employed'] = df['days_employed'].fillna(df['days_employed'].median())\n",
    "df['total_income'] = df['total_income'].fillna(df['total_income'].median())\n"
   ]
  },
  {
   "cell_type": "markdown",
   "id": "7aefae94",
   "metadata": {},
   "source": [
    " Также здесь можно заполнить пропуски более оптимальным способом - медианой, в зависимости от типа занятости. Для этого отлично подойдёт функция transform:\n",
    "\n",
    "    df['total_income'] = df['total_income'].fillna(df.groupby('income_type')['total_income'].transform(\"median\"))\n",
    "\n",
    "Она создаёт новый столбец, который содержит столько же строк, сколько и изначальный, но только вместо оригинальных значений в каждой строке содержится медиана посчитанная по заданной группе. После этого вместо пропусков в оригинальном столбце мы подставляем значения из созданного столбца, то есть медианы в зависимости от группы.\n"
   ]
  },
  {
   "cell_type": "markdown",
   "id": "a1c54e1e",
   "metadata": {},
   "source": [
    "### Шаг 2.2 Проверка данных на аномалии и исправления."
   ]
  },
  {
   "cell_type": "markdown",
   "id": "f78bb216",
   "metadata": {},
   "source": [
    "Проверим уникальные значения в категориальных столбцах `purpose`, `children`, `family_status`,\t`family_status_id`, `debt`.\n"
   ]
  },
  {
   "cell_type": "code",
   "execution_count": 4,
   "id": "61a6bc57",
   "metadata": {},
   "outputs": [
    {
     "name": "stdout",
     "output_type": "stream",
     "text": [
      "[-1  0  1  2  3  4  5 20]\n",
      "['автомобили' 'автомобиль' 'высшее образование'\n",
      " 'дополнительное образование' 'жилье' 'заняться высшим образованием'\n",
      " 'заняться образованием' 'на покупку автомобиля'\n",
      " 'на покупку подержанного автомобиля' 'на покупку своего автомобиля'\n",
      " 'на проведение свадьбы' 'недвижимость' 'образование' 'операции с жильем'\n",
      " 'операции с коммерческой недвижимостью' 'операции с недвижимостью'\n",
      " 'операции со своей недвижимостью' 'покупка жилой недвижимости'\n",
      " 'покупка жилья' 'покупка жилья для сдачи' 'покупка жилья для семьи'\n",
      " 'покупка коммерческой недвижимости' 'покупка недвижимости'\n",
      " 'покупка своего жилья' 'получение высшего образования'\n",
      " 'получение дополнительного образования' 'получение образования'\n",
      " 'приобретение автомобиля' 'профильное образование' 'ремонт жилью'\n",
      " 'свадьба' 'свой автомобиль' 'сделка с автомобилем'\n",
      " 'сделка с подержанным автомобилем' 'строительство жилой недвижимости'\n",
      " 'строительство недвижимости' 'строительство собственной недвижимости'\n",
      " 'сыграть свадьбу']\n",
      "['женат / замужем' 'гражданский брак' 'вдовец / вдова' 'в разводе'\n",
      " 'Не женат / не замужем']\n",
      "[0 1 2 3 4]\n",
      "[0 1]\n"
     ]
    }
   ],
   "source": [
    "print(df['children'].sort_values().unique())\n",
    "print(df['purpose'].sort_values().unique())\n",
    "print(df['family_status'].unique())\n",
    "print(df['family_status_id'].unique())\n",
    "print(df['debt'].unique())"
   ]
  },
  {
   "cell_type": "markdown",
   "id": "f63e4650",
   "metadata": {},
   "source": [
    "Посчитаем количество аномальных значений в столбце `children` со значением 20 "
   ]
  },
  {
   "cell_type": "code",
   "execution_count": 5,
   "id": "ca9f7788",
   "metadata": {},
   "outputs": [
    {
     "name": "stdout",
     "output_type": "stream",
     "text": [
      "76\n"
     ]
    }
   ],
   "source": [
    "print(df[df['children'] == 20]['children'].count())"
   ]
  },
  {
   "cell_type": "markdown",
   "id": "e1f365b6",
   "metadata": {},
   "source": [
    "1. Отрицательное количество дней трудового стажа в столбце `days_employed` является аномалией. \n",
    "Возможно данная аномалия появилась из-за ошибок в заполнении форм, втом числе при вычислении стажа \n",
    "путем вычитания дат начала и конца трудового стажа, при перемене конца и начала. \n",
    "\n",
    "2. Аномалия в столбце `children` - отрицательное значение количества детей. \n",
    "Данная аномалия возникла из-за ручного ввода данных\n",
    "\n",
    "3. Аномальное количество детей - `20`   в 76 случаях. \n",
    "Данная аномалия возникла из-за ручного ввода данных.\n",
    ".\n",
    "4. В столбце `education` используются разные регистры. Данная ситуация возникла из-за ручного ввода данных.\n",
    "\n",
    "5. Повторяющиеся цели кредитов ( не явные дубликаты) в столбце `purpose`. Не будем исправлять на данном этапе, распределим на этапе категоризации целей кредита. \n",
    "\n",
    "Обработаем значения в столбцах:\n",
    "1. Заменим отрицательные значения в столбце `days_employed`  и `children`\n",
    "2. Изменим регистров столбце `education`\n",
    "3. Заменим в столбце  `children` значение 20 на 2, исходя из предположения ошибки ввода (лишний 0)\n"
   ]
  },
  {
   "cell_type": "code",
   "execution_count": 6,
   "id": "6a5af85b",
   "metadata": {},
   "outputs": [],
   "source": [
    "def positive_data(days_employed):\n",
    "    if days_employed < 0:\n",
    "        return days_employed*(-1)\n",
    "    return days_employed\n",
    "\n",
    "df['days_employed'] = df['days_employed'].apply(positive_data)\n",
    "df['children'] = df['children'].apply(positive_data)\n",
    "\n",
    "df['education'] = df['education'].str.lower()\n",
    "df['children'] = df['children'].replace(20,2)\n"
   ]
  },
  {
   "cell_type": "markdown",
   "id": "ce2a5c94",
   "metadata": {},
   "source": [
    "### Шаг 2.3. Изменение типов данных."
   ]
  },
  {
   "cell_type": "markdown",
   "id": "2d03c551",
   "metadata": {},
   "source": [
    "Учитываем только целую часть  в столбце `days_employed` и столбце `total_income`, т.е. изменим на данные на тип Int"
   ]
  },
  {
   "cell_type": "code",
   "execution_count": 7,
   "id": "b911d536",
   "metadata": {},
   "outputs": [
    {
     "name": "stdout",
     "output_type": "stream",
     "text": [
      "<class 'pandas.core.frame.DataFrame'>\n",
      "RangeIndex: 21525 entries, 0 to 21524\n",
      "Data columns (total 12 columns):\n",
      "children            21525 non-null int64\n",
      "days_employed       21525 non-null int64\n",
      "dob_years           21525 non-null int64\n",
      "education           21525 non-null object\n",
      "education_id        21525 non-null int64\n",
      "family_status       21525 non-null object\n",
      "family_status_id    21525 non-null int64\n",
      "gender              21525 non-null object\n",
      "income_type         21525 non-null object\n",
      "debt                21525 non-null int64\n",
      "total_income        21525 non-null int64\n",
      "purpose             21525 non-null object\n",
      "dtypes: int64(7), object(5)\n",
      "memory usage: 2.0+ MB\n"
     ]
    },
    {
     "data": {
      "text/html": [
       "<div>\n",
       "<style scoped>\n",
       "    .dataframe tbody tr th:only-of-type {\n",
       "        vertical-align: middle;\n",
       "    }\n",
       "\n",
       "    .dataframe tbody tr th {\n",
       "        vertical-align: top;\n",
       "    }\n",
       "\n",
       "    .dataframe thead th {\n",
       "        text-align: right;\n",
       "    }\n",
       "</style>\n",
       "<table border=\"1\" class=\"dataframe\">\n",
       "  <thead>\n",
       "    <tr style=\"text-align: right;\">\n",
       "      <th></th>\n",
       "      <th>children</th>\n",
       "      <th>days_employed</th>\n",
       "      <th>dob_years</th>\n",
       "      <th>education</th>\n",
       "      <th>education_id</th>\n",
       "      <th>family_status</th>\n",
       "      <th>family_status_id</th>\n",
       "      <th>gender</th>\n",
       "      <th>income_type</th>\n",
       "      <th>debt</th>\n",
       "      <th>total_income</th>\n",
       "      <th>purpose</th>\n",
       "    </tr>\n",
       "  </thead>\n",
       "  <tbody>\n",
       "    <tr>\n",
       "      <td>0</td>\n",
       "      <td>1</td>\n",
       "      <td>8437</td>\n",
       "      <td>42</td>\n",
       "      <td>высшее</td>\n",
       "      <td>0</td>\n",
       "      <td>женат / замужем</td>\n",
       "      <td>0</td>\n",
       "      <td>F</td>\n",
       "      <td>сотрудник</td>\n",
       "      <td>0</td>\n",
       "      <td>253875</td>\n",
       "      <td>покупка жилья</td>\n",
       "    </tr>\n",
       "    <tr>\n",
       "      <td>1</td>\n",
       "      <td>1</td>\n",
       "      <td>4024</td>\n",
       "      <td>36</td>\n",
       "      <td>среднее</td>\n",
       "      <td>1</td>\n",
       "      <td>женат / замужем</td>\n",
       "      <td>0</td>\n",
       "      <td>F</td>\n",
       "      <td>сотрудник</td>\n",
       "      <td>0</td>\n",
       "      <td>112080</td>\n",
       "      <td>приобретение автомобиля</td>\n",
       "    </tr>\n",
       "    <tr>\n",
       "      <td>2</td>\n",
       "      <td>0</td>\n",
       "      <td>5623</td>\n",
       "      <td>33</td>\n",
       "      <td>среднее</td>\n",
       "      <td>1</td>\n",
       "      <td>женат / замужем</td>\n",
       "      <td>0</td>\n",
       "      <td>M</td>\n",
       "      <td>сотрудник</td>\n",
       "      <td>0</td>\n",
       "      <td>145885</td>\n",
       "      <td>покупка жилья</td>\n",
       "    </tr>\n",
       "    <tr>\n",
       "      <td>3</td>\n",
       "      <td>3</td>\n",
       "      <td>4124</td>\n",
       "      <td>32</td>\n",
       "      <td>среднее</td>\n",
       "      <td>1</td>\n",
       "      <td>женат / замужем</td>\n",
       "      <td>0</td>\n",
       "      <td>M</td>\n",
       "      <td>сотрудник</td>\n",
       "      <td>0</td>\n",
       "      <td>267628</td>\n",
       "      <td>дополнительное образование</td>\n",
       "    </tr>\n",
       "    <tr>\n",
       "      <td>4</td>\n",
       "      <td>0</td>\n",
       "      <td>340266</td>\n",
       "      <td>53</td>\n",
       "      <td>среднее</td>\n",
       "      <td>1</td>\n",
       "      <td>гражданский брак</td>\n",
       "      <td>1</td>\n",
       "      <td>F</td>\n",
       "      <td>пенсионер</td>\n",
       "      <td>0</td>\n",
       "      <td>158616</td>\n",
       "      <td>сыграть свадьбу</td>\n",
       "    </tr>\n",
       "    <tr>\n",
       "      <td>5</td>\n",
       "      <td>0</td>\n",
       "      <td>926</td>\n",
       "      <td>27</td>\n",
       "      <td>высшее</td>\n",
       "      <td>0</td>\n",
       "      <td>гражданский брак</td>\n",
       "      <td>1</td>\n",
       "      <td>M</td>\n",
       "      <td>компаньон</td>\n",
       "      <td>0</td>\n",
       "      <td>255763</td>\n",
       "      <td>покупка жилья</td>\n",
       "    </tr>\n",
       "    <tr>\n",
       "      <td>6</td>\n",
       "      <td>0</td>\n",
       "      <td>2879</td>\n",
       "      <td>43</td>\n",
       "      <td>высшее</td>\n",
       "      <td>0</td>\n",
       "      <td>женат / замужем</td>\n",
       "      <td>0</td>\n",
       "      <td>F</td>\n",
       "      <td>компаньон</td>\n",
       "      <td>0</td>\n",
       "      <td>240525</td>\n",
       "      <td>операции с жильем</td>\n",
       "    </tr>\n",
       "    <tr>\n",
       "      <td>7</td>\n",
       "      <td>0</td>\n",
       "      <td>152</td>\n",
       "      <td>50</td>\n",
       "      <td>среднее</td>\n",
       "      <td>1</td>\n",
       "      <td>женат / замужем</td>\n",
       "      <td>0</td>\n",
       "      <td>M</td>\n",
       "      <td>сотрудник</td>\n",
       "      <td>0</td>\n",
       "      <td>135823</td>\n",
       "      <td>образование</td>\n",
       "    </tr>\n",
       "    <tr>\n",
       "      <td>8</td>\n",
       "      <td>2</td>\n",
       "      <td>6929</td>\n",
       "      <td>35</td>\n",
       "      <td>высшее</td>\n",
       "      <td>0</td>\n",
       "      <td>гражданский брак</td>\n",
       "      <td>1</td>\n",
       "      <td>F</td>\n",
       "      <td>сотрудник</td>\n",
       "      <td>0</td>\n",
       "      <td>95856</td>\n",
       "      <td>на проведение свадьбы</td>\n",
       "    </tr>\n",
       "    <tr>\n",
       "      <td>9</td>\n",
       "      <td>0</td>\n",
       "      <td>2188</td>\n",
       "      <td>41</td>\n",
       "      <td>среднее</td>\n",
       "      <td>1</td>\n",
       "      <td>женат / замужем</td>\n",
       "      <td>0</td>\n",
       "      <td>M</td>\n",
       "      <td>сотрудник</td>\n",
       "      <td>0</td>\n",
       "      <td>144425</td>\n",
       "      <td>покупка жилья для семьи</td>\n",
       "    </tr>\n",
       "  </tbody>\n",
       "</table>\n",
       "</div>"
      ],
      "text/plain": [
       "   children  days_employed  dob_years education  education_id  \\\n",
       "0         1           8437         42    высшее             0   \n",
       "1         1           4024         36   среднее             1   \n",
       "2         0           5623         33   среднее             1   \n",
       "3         3           4124         32   среднее             1   \n",
       "4         0         340266         53   среднее             1   \n",
       "5         0            926         27    высшее             0   \n",
       "6         0           2879         43    высшее             0   \n",
       "7         0            152         50   среднее             1   \n",
       "8         2           6929         35    высшее             0   \n",
       "9         0           2188         41   среднее             1   \n",
       "\n",
       "      family_status  family_status_id gender income_type  debt  total_income  \\\n",
       "0   женат / замужем                 0      F   сотрудник     0        253875   \n",
       "1   женат / замужем                 0      F   сотрудник     0        112080   \n",
       "2   женат / замужем                 0      M   сотрудник     0        145885   \n",
       "3   женат / замужем                 0      M   сотрудник     0        267628   \n",
       "4  гражданский брак                 1      F   пенсионер     0        158616   \n",
       "5  гражданский брак                 1      M   компаньон     0        255763   \n",
       "6   женат / замужем                 0      F   компаньон     0        240525   \n",
       "7   женат / замужем                 0      M   сотрудник     0        135823   \n",
       "8  гражданский брак                 1      F   сотрудник     0         95856   \n",
       "9   женат / замужем                 0      M   сотрудник     0        144425   \n",
       "\n",
       "                      purpose  \n",
       "0               покупка жилья  \n",
       "1     приобретение автомобиля  \n",
       "2               покупка жилья  \n",
       "3  дополнительное образование  \n",
       "4             сыграть свадьбу  \n",
       "5               покупка жилья  \n",
       "6           операции с жильем  \n",
       "7                 образование  \n",
       "8       на проведение свадьбы  \n",
       "9     покупка жилья для семьи  "
      ]
     },
     "metadata": {},
     "output_type": "display_data"
    }
   ],
   "source": [
    "df['days_employed'] = df['days_employed'].astype('int')\n",
    "df['total_income'] = df['total_income'].astype('int')\n",
    "\n",
    "df.info()\n",
    "display(df.head(10))"
   ]
  },
  {
   "cell_type": "markdown",
   "id": "8ec4b99d",
   "metadata": {},
   "source": [
    "### Шаг 2.4. Удаление дубликатов."
   ]
  },
  {
   "cell_type": "markdown",
   "id": "66aaa435",
   "metadata": {},
   "source": [
    "Найдем и удалим дубликаты"
   ]
  },
  {
   "cell_type": "code",
   "execution_count": 8,
   "id": "e4981dde",
   "metadata": {},
   "outputs": [
    {
     "name": "stdout",
     "output_type": "stream",
     "text": [
      "71\n"
     ]
    }
   ],
   "source": [
    "print(df.duplicated().sum())"
   ]
  },
  {
   "cell_type": "code",
   "execution_count": 9,
   "id": "525fc7dc",
   "metadata": {},
   "outputs": [
    {
     "name": "stdout",
     "output_type": "stream",
     "text": [
      "<class 'pandas.core.frame.DataFrame'>\n",
      "RangeIndex: 21454 entries, 0 to 21453\n",
      "Data columns (total 12 columns):\n",
      "children            21454 non-null int64\n",
      "days_employed       21454 non-null int64\n",
      "dob_years           21454 non-null int64\n",
      "education           21454 non-null object\n",
      "education_id        21454 non-null int64\n",
      "family_status       21454 non-null object\n",
      "family_status_id    21454 non-null int64\n",
      "gender              21454 non-null object\n",
      "income_type         21454 non-null object\n",
      "debt                21454 non-null int64\n",
      "total_income        21454 non-null int64\n",
      "purpose             21454 non-null object\n",
      "dtypes: int64(7), object(5)\n",
      "memory usage: 2.0+ MB\n"
     ]
    }
   ],
   "source": [
    "df = df.drop_duplicates().reset_index(drop=True)\n",
    "df.info()\n"
   ]
  },
  {
   "cell_type": "markdown",
   "id": "f4c93cdb",
   "metadata": {},
   "source": [
    "### Шаг 2.5. Формирование дополнительных датафреймов словарей, декомпозиция исходного датафрейма."
   ]
  },
  {
   "cell_type": "markdown",
   "id": "73266edc",
   "metadata": {},
   "source": [
    "Создадим два новых датафрейма со столбцами:\n",
    "education_id и education — в первом;\n",
    "family_status_id и family_status — во втором.\n",
    "Удалим из исходного датафрейма столбцы education и family_status, \n",
    "оставив только их идентификаторы"
   ]
  },
  {
   "cell_type": "code",
   "execution_count": 10,
   "id": "456a9874",
   "metadata": {},
   "outputs": [
    {
     "data": {
      "text/html": [
       "<div>\n",
       "<style scoped>\n",
       "    .dataframe tbody tr th:only-of-type {\n",
       "        vertical-align: middle;\n",
       "    }\n",
       "\n",
       "    .dataframe tbody tr th {\n",
       "        vertical-align: top;\n",
       "    }\n",
       "\n",
       "    .dataframe thead th {\n",
       "        text-align: right;\n",
       "    }\n",
       "</style>\n",
       "<table border=\"1\" class=\"dataframe\">\n",
       "  <thead>\n",
       "    <tr style=\"text-align: right;\">\n",
       "      <th></th>\n",
       "      <th>education_id</th>\n",
       "      <th>education</th>\n",
       "    </tr>\n",
       "  </thead>\n",
       "  <tbody>\n",
       "    <tr>\n",
       "      <td>0</td>\n",
       "      <td>0</td>\n",
       "      <td>высшее</td>\n",
       "    </tr>\n",
       "    <tr>\n",
       "      <td>1</td>\n",
       "      <td>1</td>\n",
       "      <td>среднее</td>\n",
       "    </tr>\n",
       "    <tr>\n",
       "      <td>2</td>\n",
       "      <td>2</td>\n",
       "      <td>неоконченное высшее</td>\n",
       "    </tr>\n",
       "    <tr>\n",
       "      <td>3</td>\n",
       "      <td>3</td>\n",
       "      <td>начальное</td>\n",
       "    </tr>\n",
       "    <tr>\n",
       "      <td>4</td>\n",
       "      <td>4</td>\n",
       "      <td>ученая степень</td>\n",
       "    </tr>\n",
       "  </tbody>\n",
       "</table>\n",
       "</div>"
      ],
      "text/plain": [
       "   education_id            education\n",
       "0             0               высшее\n",
       "1             1              среднее\n",
       "2             2  неоконченное высшее\n",
       "3             3            начальное\n",
       "4             4       ученая степень"
      ]
     },
     "metadata": {},
     "output_type": "display_data"
    },
    {
     "data": {
      "text/html": [
       "<div>\n",
       "<style scoped>\n",
       "    .dataframe tbody tr th:only-of-type {\n",
       "        vertical-align: middle;\n",
       "    }\n",
       "\n",
       "    .dataframe tbody tr th {\n",
       "        vertical-align: top;\n",
       "    }\n",
       "\n",
       "    .dataframe thead th {\n",
       "        text-align: right;\n",
       "    }\n",
       "</style>\n",
       "<table border=\"1\" class=\"dataframe\">\n",
       "  <thead>\n",
       "    <tr style=\"text-align: right;\">\n",
       "      <th></th>\n",
       "      <th>family_status_id</th>\n",
       "      <th>family_status</th>\n",
       "    </tr>\n",
       "  </thead>\n",
       "  <tbody>\n",
       "    <tr>\n",
       "      <td>0</td>\n",
       "      <td>0</td>\n",
       "      <td>женат / замужем</td>\n",
       "    </tr>\n",
       "    <tr>\n",
       "      <td>1</td>\n",
       "      <td>1</td>\n",
       "      <td>гражданский брак</td>\n",
       "    </tr>\n",
       "    <tr>\n",
       "      <td>2</td>\n",
       "      <td>2</td>\n",
       "      <td>вдовец / вдова</td>\n",
       "    </tr>\n",
       "    <tr>\n",
       "      <td>3</td>\n",
       "      <td>3</td>\n",
       "      <td>в разводе</td>\n",
       "    </tr>\n",
       "    <tr>\n",
       "      <td>4</td>\n",
       "      <td>4</td>\n",
       "      <td>Не женат / не замужем</td>\n",
       "    </tr>\n",
       "  </tbody>\n",
       "</table>\n",
       "</div>"
      ],
      "text/plain": [
       "   family_status_id          family_status\n",
       "0                 0        женат / замужем\n",
       "1                 1       гражданский брак\n",
       "2                 2         вдовец / вдова\n",
       "3                 3              в разводе\n",
       "4                 4  Не женат / не замужем"
      ]
     },
     "metadata": {},
     "output_type": "display_data"
    }
   ],
   "source": [
    "df_education = pd.DataFrame(columns=['education_id', 'education'] )\n",
    "df_education['education_id'] = df['education_id'].unique()\n",
    "df_education['education'] = df['education'].unique()\n",
    "display(df_education)\n",
    "\n",
    "df_family_status = pd.DataFrame(columns=['family_status_id', 'family_status'] )\n",
    "df_family_status['family_status_id'] = df['family_status_id'].unique()\n",
    "df_family_status['family_status'] = df['family_status'].unique()\n",
    "display(df_family_status)\n",
    "\n"
   ]
  },
  {
   "cell_type": "markdown",
   "id": "0cf05e45",
   "metadata": {},
   "source": [
    "удалим education family_status"
   ]
  },
  {
   "cell_type": "code",
   "execution_count": 11,
   "id": "ea96a555",
   "metadata": {},
   "outputs": [
    {
     "data": {
      "text/html": [
       "<div>\n",
       "<style scoped>\n",
       "    .dataframe tbody tr th:only-of-type {\n",
       "        vertical-align: middle;\n",
       "    }\n",
       "\n",
       "    .dataframe tbody tr th {\n",
       "        vertical-align: top;\n",
       "    }\n",
       "\n",
       "    .dataframe thead th {\n",
       "        text-align: right;\n",
       "    }\n",
       "</style>\n",
       "<table border=\"1\" class=\"dataframe\">\n",
       "  <thead>\n",
       "    <tr style=\"text-align: right;\">\n",
       "      <th></th>\n",
       "      <th>children</th>\n",
       "      <th>days_employed</th>\n",
       "      <th>dob_years</th>\n",
       "      <th>education_id</th>\n",
       "      <th>family_status_id</th>\n",
       "      <th>gender</th>\n",
       "      <th>income_type</th>\n",
       "      <th>debt</th>\n",
       "      <th>total_income</th>\n",
       "      <th>purpose</th>\n",
       "    </tr>\n",
       "  </thead>\n",
       "  <tbody>\n",
       "    <tr>\n",
       "      <td>0</td>\n",
       "      <td>1</td>\n",
       "      <td>8437</td>\n",
       "      <td>42</td>\n",
       "      <td>0</td>\n",
       "      <td>0</td>\n",
       "      <td>F</td>\n",
       "      <td>сотрудник</td>\n",
       "      <td>0</td>\n",
       "      <td>253875</td>\n",
       "      <td>покупка жилья</td>\n",
       "    </tr>\n",
       "    <tr>\n",
       "      <td>1</td>\n",
       "      <td>1</td>\n",
       "      <td>4024</td>\n",
       "      <td>36</td>\n",
       "      <td>1</td>\n",
       "      <td>0</td>\n",
       "      <td>F</td>\n",
       "      <td>сотрудник</td>\n",
       "      <td>0</td>\n",
       "      <td>112080</td>\n",
       "      <td>приобретение автомобиля</td>\n",
       "    </tr>\n",
       "    <tr>\n",
       "      <td>2</td>\n",
       "      <td>0</td>\n",
       "      <td>5623</td>\n",
       "      <td>33</td>\n",
       "      <td>1</td>\n",
       "      <td>0</td>\n",
       "      <td>M</td>\n",
       "      <td>сотрудник</td>\n",
       "      <td>0</td>\n",
       "      <td>145885</td>\n",
       "      <td>покупка жилья</td>\n",
       "    </tr>\n",
       "    <tr>\n",
       "      <td>3</td>\n",
       "      <td>3</td>\n",
       "      <td>4124</td>\n",
       "      <td>32</td>\n",
       "      <td>1</td>\n",
       "      <td>0</td>\n",
       "      <td>M</td>\n",
       "      <td>сотрудник</td>\n",
       "      <td>0</td>\n",
       "      <td>267628</td>\n",
       "      <td>дополнительное образование</td>\n",
       "    </tr>\n",
       "    <tr>\n",
       "      <td>4</td>\n",
       "      <td>0</td>\n",
       "      <td>340266</td>\n",
       "      <td>53</td>\n",
       "      <td>1</td>\n",
       "      <td>1</td>\n",
       "      <td>F</td>\n",
       "      <td>пенсионер</td>\n",
       "      <td>0</td>\n",
       "      <td>158616</td>\n",
       "      <td>сыграть свадьбу</td>\n",
       "    </tr>\n",
       "  </tbody>\n",
       "</table>\n",
       "</div>"
      ],
      "text/plain": [
       "   children  days_employed  dob_years  education_id  family_status_id gender  \\\n",
       "0         1           8437         42             0                 0      F   \n",
       "1         1           4024         36             1                 0      F   \n",
       "2         0           5623         33             1                 0      M   \n",
       "3         3           4124         32             1                 0      M   \n",
       "4         0         340266         53             1                 1      F   \n",
       "\n",
       "  income_type  debt  total_income                     purpose  \n",
       "0   сотрудник     0        253875               покупка жилья  \n",
       "1   сотрудник     0        112080     приобретение автомобиля  \n",
       "2   сотрудник     0        145885               покупка жилья  \n",
       "3   сотрудник     0        267628  дополнительное образование  \n",
       "4   пенсионер     0        158616             сыграть свадьбу  "
      ]
     },
     "metadata": {},
     "output_type": "display_data"
    }
   ],
   "source": [
    "df = df.drop(columns=['family_status', 'education'])\n",
    "display(df.head())"
   ]
  },
  {
   "cell_type": "markdown",
   "id": "eb13a8c0",
   "metadata": {},
   "source": [
    "### Шаг 2.6. Категоризация дохода."
   ]
  },
  {
   "cell_type": "markdown",
   "id": "82dd5694",
   "metadata": {},
   "source": [
    "Создадим категории по доходам за месяц по условию:\n",
    "* `0–30000` — `'E'`;\n",
    "* `30001–50000` — `'D'`;\n",
    "* `50001–200000` — `'C'`;\n",
    "* `200001–1000000` — `'B'`;\n",
    "* `1000001 и выше` — `'A'`.\n",
    "\n"
   ]
  },
  {
   "cell_type": "code",
   "execution_count": 1,
   "id": "09a1d450",
   "metadata": {},
   "outputs": [
    {
     "ename": "NameError",
     "evalue": "name 'df' is not defined",
     "output_type": "error",
     "traceback": [
      "\u001b[0;31m---------------------------------------------------------------------------\u001b[0m",
      "\u001b[0;31mNameError\u001b[0m                                 Traceback (most recent call last)",
      "\u001b[0;32m<ipython-input-1-a986c2c0390d>\u001b[0m in \u001b[0;36m<module>\u001b[0;34m\u001b[0m\n\u001b[1;32m     10\u001b[0m     \u001b[0;32mreturn\u001b[0m \u001b[0;34m'A'\u001b[0m\u001b[0;34m\u001b[0m\u001b[0;34m\u001b[0m\u001b[0m\n\u001b[1;32m     11\u001b[0m \u001b[0;34m\u001b[0m\u001b[0m\n\u001b[0;32m---> 12\u001b[0;31m \u001b[0mdf\u001b[0m\u001b[0;34m[\u001b[0m\u001b[0;34m'total_income_category'\u001b[0m\u001b[0;34m]\u001b[0m \u001b[0;34m=\u001b[0m \u001b[0mdf\u001b[0m\u001b[0;34m.\u001b[0m\u001b[0mapply\u001b[0m\u001b[0;34m(\u001b[0m\u001b[0mtotal_income_category\u001b[0m\u001b[0;34m)\u001b[0m\u001b[0;34m\u001b[0m\u001b[0;34m\u001b[0m\u001b[0m\n\u001b[0m\u001b[1;32m     13\u001b[0m \u001b[0mdisplay\u001b[0m\u001b[0;34m(\u001b[0m\u001b[0mdf\u001b[0m\u001b[0;34m.\u001b[0m\u001b[0mhead\u001b[0m\u001b[0;34m(\u001b[0m\u001b[0;36m10\u001b[0m\u001b[0;34m)\u001b[0m\u001b[0;34m)\u001b[0m\u001b[0;34m\u001b[0m\u001b[0;34m\u001b[0m\u001b[0m\n\u001b[1;32m     14\u001b[0m \u001b[0;34m\u001b[0m\u001b[0m\n",
      "\u001b[0;31mNameError\u001b[0m: name 'df' is not defined"
     ]
    }
   ],
   "source": [
    "def total_income_category(total_income):\n",
    "    if total_income <= 30000:\n",
    "        return 'E'\n",
    "    if total_income <= 50000:\n",
    "        return 'D'\n",
    "    if total_income <= 200000:\n",
    "        return 'C'\n",
    "    if total_income <= 1000000:\n",
    "        return 'B'\n",
    "    return 'A'\n",
    "\n",
    "df['total_income_category'] = df.apply(total_income_category)\n",
    "display(df.head(10))\n",
    "\n",
    "df_income_category = pd.DataFrame(columns=['total_income_category', 'total_income'] )\n",
    "df_income_category['total_income_category'] = df['total_income_category'].sort_values(ascending=False).unique()\n",
    "df_income_category['total_income'] = ['0–30000','30001–50000','50001–200000','200001–1000000','1000001 и выше']\n",
    "display(df_income_category)\n"
   ]
  },
  {
   "cell_type": "markdown",
   "id": "aa209d56",
   "metadata": {},
   "source": [
    "### Шаг 2.7. Категоризация целей кредита."
   ]
  },
  {
   "cell_type": "markdown",
   "id": "e8cc497b",
   "metadata": {},
   "source": [
    "Создадим 4 категории получения кредита:\n",
    "1. `операции с автомобилем`\n",
    "2. `операции с недвижимостью`\n",
    "3. `проведение свадьбы`\n",
    "4. `получение образования`\n",
    "\n",
    "Распределим все уникальные значении по указанным четырем категориям. \n"
   ]
  },
  {
   "cell_type": "code",
   "execution_count": 13,
   "id": "cbbe8650",
   "metadata": {},
   "outputs": [
    {
     "data": {
      "text/html": [
       "<div>\n",
       "<style scoped>\n",
       "    .dataframe tbody tr th:only-of-type {\n",
       "        vertical-align: middle;\n",
       "    }\n",
       "\n",
       "    .dataframe tbody tr th {\n",
       "        vertical-align: top;\n",
       "    }\n",
       "\n",
       "    .dataframe thead th {\n",
       "        text-align: right;\n",
       "    }\n",
       "</style>\n",
       "<table border=\"1\" class=\"dataframe\">\n",
       "  <thead>\n",
       "    <tr style=\"text-align: right;\">\n",
       "      <th></th>\n",
       "      <th>children</th>\n",
       "      <th>days_employed</th>\n",
       "      <th>dob_years</th>\n",
       "      <th>education_id</th>\n",
       "      <th>family_status_id</th>\n",
       "      <th>gender</th>\n",
       "      <th>income_type</th>\n",
       "      <th>debt</th>\n",
       "      <th>total_income</th>\n",
       "      <th>purpose</th>\n",
       "      <th>total_income_category</th>\n",
       "      <th>purpose_category</th>\n",
       "    </tr>\n",
       "  </thead>\n",
       "  <tbody>\n",
       "    <tr>\n",
       "      <td>0</td>\n",
       "      <td>1</td>\n",
       "      <td>8437</td>\n",
       "      <td>42</td>\n",
       "      <td>0</td>\n",
       "      <td>0</td>\n",
       "      <td>F</td>\n",
       "      <td>сотрудник</td>\n",
       "      <td>0</td>\n",
       "      <td>253875</td>\n",
       "      <td>покупка жилья</td>\n",
       "      <td>B</td>\n",
       "      <td>операции с недвижимостью</td>\n",
       "    </tr>\n",
       "    <tr>\n",
       "      <td>1</td>\n",
       "      <td>1</td>\n",
       "      <td>4024</td>\n",
       "      <td>36</td>\n",
       "      <td>1</td>\n",
       "      <td>0</td>\n",
       "      <td>F</td>\n",
       "      <td>сотрудник</td>\n",
       "      <td>0</td>\n",
       "      <td>112080</td>\n",
       "      <td>приобретение автомобиля</td>\n",
       "      <td>C</td>\n",
       "      <td>операции с автомобилем</td>\n",
       "    </tr>\n",
       "    <tr>\n",
       "      <td>2</td>\n",
       "      <td>0</td>\n",
       "      <td>5623</td>\n",
       "      <td>33</td>\n",
       "      <td>1</td>\n",
       "      <td>0</td>\n",
       "      <td>M</td>\n",
       "      <td>сотрудник</td>\n",
       "      <td>0</td>\n",
       "      <td>145885</td>\n",
       "      <td>покупка жилья</td>\n",
       "      <td>C</td>\n",
       "      <td>операции с недвижимостью</td>\n",
       "    </tr>\n",
       "    <tr>\n",
       "      <td>3</td>\n",
       "      <td>3</td>\n",
       "      <td>4124</td>\n",
       "      <td>32</td>\n",
       "      <td>1</td>\n",
       "      <td>0</td>\n",
       "      <td>M</td>\n",
       "      <td>сотрудник</td>\n",
       "      <td>0</td>\n",
       "      <td>267628</td>\n",
       "      <td>дополнительное образование</td>\n",
       "      <td>B</td>\n",
       "      <td>получение образования</td>\n",
       "    </tr>\n",
       "    <tr>\n",
       "      <td>4</td>\n",
       "      <td>0</td>\n",
       "      <td>340266</td>\n",
       "      <td>53</td>\n",
       "      <td>1</td>\n",
       "      <td>1</td>\n",
       "      <td>F</td>\n",
       "      <td>пенсионер</td>\n",
       "      <td>0</td>\n",
       "      <td>158616</td>\n",
       "      <td>сыграть свадьбу</td>\n",
       "      <td>C</td>\n",
       "      <td>проведение свадьбы</td>\n",
       "    </tr>\n",
       "    <tr>\n",
       "      <td>5</td>\n",
       "      <td>0</td>\n",
       "      <td>926</td>\n",
       "      <td>27</td>\n",
       "      <td>0</td>\n",
       "      <td>1</td>\n",
       "      <td>M</td>\n",
       "      <td>компаньон</td>\n",
       "      <td>0</td>\n",
       "      <td>255763</td>\n",
       "      <td>покупка жилья</td>\n",
       "      <td>B</td>\n",
       "      <td>операции с недвижимостью</td>\n",
       "    </tr>\n",
       "    <tr>\n",
       "      <td>6</td>\n",
       "      <td>0</td>\n",
       "      <td>2879</td>\n",
       "      <td>43</td>\n",
       "      <td>0</td>\n",
       "      <td>0</td>\n",
       "      <td>F</td>\n",
       "      <td>компаньон</td>\n",
       "      <td>0</td>\n",
       "      <td>240525</td>\n",
       "      <td>операции с жильем</td>\n",
       "      <td>B</td>\n",
       "      <td>операции с недвижимостью</td>\n",
       "    </tr>\n",
       "    <tr>\n",
       "      <td>7</td>\n",
       "      <td>0</td>\n",
       "      <td>152</td>\n",
       "      <td>50</td>\n",
       "      <td>1</td>\n",
       "      <td>0</td>\n",
       "      <td>M</td>\n",
       "      <td>сотрудник</td>\n",
       "      <td>0</td>\n",
       "      <td>135823</td>\n",
       "      <td>образование</td>\n",
       "      <td>C</td>\n",
       "      <td>получение образования</td>\n",
       "    </tr>\n",
       "    <tr>\n",
       "      <td>8</td>\n",
       "      <td>2</td>\n",
       "      <td>6929</td>\n",
       "      <td>35</td>\n",
       "      <td>0</td>\n",
       "      <td>1</td>\n",
       "      <td>F</td>\n",
       "      <td>сотрудник</td>\n",
       "      <td>0</td>\n",
       "      <td>95856</td>\n",
       "      <td>на проведение свадьбы</td>\n",
       "      <td>C</td>\n",
       "      <td>проведение свадьбы</td>\n",
       "    </tr>\n",
       "    <tr>\n",
       "      <td>9</td>\n",
       "      <td>0</td>\n",
       "      <td>2188</td>\n",
       "      <td>41</td>\n",
       "      <td>1</td>\n",
       "      <td>0</td>\n",
       "      <td>M</td>\n",
       "      <td>сотрудник</td>\n",
       "      <td>0</td>\n",
       "      <td>144425</td>\n",
       "      <td>покупка жилья для семьи</td>\n",
       "      <td>C</td>\n",
       "      <td>операции с недвижимостью</td>\n",
       "    </tr>\n",
       "  </tbody>\n",
       "</table>\n",
       "</div>"
      ],
      "text/plain": [
       "   children  days_employed  dob_years  education_id  family_status_id gender  \\\n",
       "0         1           8437         42             0                 0      F   \n",
       "1         1           4024         36             1                 0      F   \n",
       "2         0           5623         33             1                 0      M   \n",
       "3         3           4124         32             1                 0      M   \n",
       "4         0         340266         53             1                 1      F   \n",
       "5         0            926         27             0                 1      M   \n",
       "6         0           2879         43             0                 0      F   \n",
       "7         0            152         50             1                 0      M   \n",
       "8         2           6929         35             0                 1      F   \n",
       "9         0           2188         41             1                 0      M   \n",
       "\n",
       "  income_type  debt  total_income                     purpose  \\\n",
       "0   сотрудник     0        253875               покупка жилья   \n",
       "1   сотрудник     0        112080     приобретение автомобиля   \n",
       "2   сотрудник     0        145885               покупка жилья   \n",
       "3   сотрудник     0        267628  дополнительное образование   \n",
       "4   пенсионер     0        158616             сыграть свадьбу   \n",
       "5   компаньон     0        255763               покупка жилья   \n",
       "6   компаньон     0        240525           операции с жильем   \n",
       "7   сотрудник     0        135823                 образование   \n",
       "8   сотрудник     0         95856       на проведение свадьбы   \n",
       "9   сотрудник     0        144425     покупка жилья для семьи   \n",
       "\n",
       "  total_income_category          purpose_category  \n",
       "0                     B  операции с недвижимостью  \n",
       "1                     C    операции с автомобилем  \n",
       "2                     C  операции с недвижимостью  \n",
       "3                     B     получение образования  \n",
       "4                     C        проведение свадьбы  \n",
       "5                     B  операции с недвижимостью  \n",
       "6                     B  операции с недвижимостью  \n",
       "7                     C     получение образования  \n",
       "8                     C        проведение свадьбы  \n",
       "9                     C  операции с недвижимостью  "
      ]
     },
     "metadata": {},
     "output_type": "display_data"
    }
   ],
   "source": [
    "def purpose_category(purpose):\n",
    "    if purpose in ['автомобили','автомобиль', 'на покупку автомобиля', \n",
    "'на покупку подержанного автомобиля', 'на покупку своего автомобиля', 'приобретение автомобиля', \n",
    " 'свой автомобиль', 'сделка с автомобилем', 'сделка с подержанным автомобилем']:\n",
    "        return 'операции с автомобилем'\n",
    "    if purpose in ['жилье', 'недвижимость', 'операции с жильем', 'операции с коммерческой недвижимостью',\n",
    " 'операции с недвижимостью',  'операции со своей недвижимостью', 'покупка жилой недвижимости',\n",
    " 'покупка жилья', 'покупка жилья для сдачи', 'покупка жилья для семьи',\n",
    " 'покупка коммерческой недвижимости', 'покупка недвижимости',\n",
    " 'покупка своего жилья', 'ремонт жилью', 'строительство жилой недвижимости',\n",
    " 'строительство недвижимости', 'строительство собственной недвижимости']:\n",
    "        return 'операции с недвижимостью'\n",
    "    if purpose in ['проведение свадьбы', 'на проведение свадьбы', 'свадьба', 'сыграть свадьбу']:\n",
    "        return 'проведение свадьбы'\n",
    "    if purpose in ['высшее образование', 'дополнительное образование',  'заняться высшим образованием', \n",
    "'заняться образованием',  'образование', 'получение высшего образования',\n",
    " 'получение дополнительного образования', 'получение образования', 'профильное образование' ]:\n",
    "        return 'получение образования'\n",
    "    \n",
    "\n",
    "df['purpose_category'] = df['purpose'].apply(purpose_category)\n",
    "display(df.head(10))\n"
   ]
  },
  {
   "cell_type": "markdown",
   "id": "96cd68de",
   "metadata": {},
   "source": [
    "Тут можно упростить функцию и сделать следующим образом\n",
    "    \n",
    "    if  'авто' in purpose:\n",
    "        return 'операции с автомобилем'\n",
    "    elif 'недвиж' in purpose or 'жиль' in purpose:\n",
    "        return 'операции с недвижимостью'\n",
    "    elif 'свадьб' in purpose:\n",
    "        return 'проведение свадьбы'\n",
    "    elif 'образо' in purpose:\n",
    "        return 'получение образования'\n"
   ]
  },
  {
   "cell_type": "markdown",
   "id": "5084a868",
   "metadata": {},
   "source": [
    "Посчитаем количество кредитов по категориям и количество фактов задолженности по возврату кредитов, затем найдем процент кредитов с задолженностями к общему числу в категории.\n",
    "1. По семейному статусу\n",
    "2. По количеству детей \n",
    "3. По категории дохода\n",
    "4. По целям кредита \n",
    "\n"
   ]
  },
  {
   "cell_type": "code",
   "execution_count": 14,
   "id": "52cb9ff2",
   "metadata": {},
   "outputs": [
    {
     "data": {
      "text/html": [
       "<div>\n",
       "<style scoped>\n",
       "    .dataframe tbody tr th:only-of-type {\n",
       "        vertical-align: middle;\n",
       "    }\n",
       "\n",
       "    .dataframe tbody tr th {\n",
       "        vertical-align: top;\n",
       "    }\n",
       "\n",
       "    .dataframe thead th {\n",
       "        text-align: right;\n",
       "    }\n",
       "</style>\n",
       "<table border=\"1\" class=\"dataframe\">\n",
       "  <thead>\n",
       "    <tr style=\"text-align: right;\">\n",
       "      <th></th>\n",
       "      <th>family_status_id</th>\n",
       "      <th>debt</th>\n",
       "      <th>family_status</th>\n",
       "    </tr>\n",
       "  </thead>\n",
       "  <tbody>\n",
       "    <tr>\n",
       "      <td>0</td>\n",
       "      <td>0</td>\n",
       "      <td>931</td>\n",
       "      <td>женат / замужем</td>\n",
       "    </tr>\n",
       "    <tr>\n",
       "      <td>1</td>\n",
       "      <td>1</td>\n",
       "      <td>388</td>\n",
       "      <td>гражданский брак</td>\n",
       "    </tr>\n",
       "    <tr>\n",
       "      <td>2</td>\n",
       "      <td>2</td>\n",
       "      <td>63</td>\n",
       "      <td>вдовец / вдова</td>\n",
       "    </tr>\n",
       "    <tr>\n",
       "      <td>3</td>\n",
       "      <td>3</td>\n",
       "      <td>85</td>\n",
       "      <td>в разводе</td>\n",
       "    </tr>\n",
       "    <tr>\n",
       "      <td>4</td>\n",
       "      <td>4</td>\n",
       "      <td>274</td>\n",
       "      <td>Не женат / не замужем</td>\n",
       "    </tr>\n",
       "  </tbody>\n",
       "</table>\n",
       "</div>"
      ],
      "text/plain": [
       "   family_status_id  debt          family_status\n",
       "0                 0   931        женат / замужем\n",
       "1                 1   388       гражданский брак\n",
       "2                 2    63         вдовец / вдова\n",
       "3                 3    85              в разводе\n",
       "4                 4   274  Не женат / не замужем"
      ]
     },
     "metadata": {},
     "output_type": "display_data"
    },
    {
     "data": {
      "text/html": [
       "<div>\n",
       "<style scoped>\n",
       "    .dataframe tbody tr th:only-of-type {\n",
       "        vertical-align: middle;\n",
       "    }\n",
       "\n",
       "    .dataframe tbody tr th {\n",
       "        vertical-align: top;\n",
       "    }\n",
       "\n",
       "    .dataframe thead th {\n",
       "        text-align: right;\n",
       "    }\n",
       "</style>\n",
       "<table border=\"1\" class=\"dataframe\">\n",
       "  <thead>\n",
       "    <tr style=\"text-align: right;\">\n",
       "      <th></th>\n",
       "      <th>family_status_id</th>\n",
       "      <th>debt</th>\n",
       "      <th>family_status</th>\n",
       "    </tr>\n",
       "  </thead>\n",
       "  <tbody>\n",
       "    <tr>\n",
       "      <td>0</td>\n",
       "      <td>0</td>\n",
       "      <td>12339</td>\n",
       "      <td>женат / замужем</td>\n",
       "    </tr>\n",
       "    <tr>\n",
       "      <td>1</td>\n",
       "      <td>1</td>\n",
       "      <td>4151</td>\n",
       "      <td>гражданский брак</td>\n",
       "    </tr>\n",
       "    <tr>\n",
       "      <td>2</td>\n",
       "      <td>2</td>\n",
       "      <td>959</td>\n",
       "      <td>вдовец / вдова</td>\n",
       "    </tr>\n",
       "    <tr>\n",
       "      <td>3</td>\n",
       "      <td>3</td>\n",
       "      <td>1195</td>\n",
       "      <td>в разводе</td>\n",
       "    </tr>\n",
       "    <tr>\n",
       "      <td>4</td>\n",
       "      <td>4</td>\n",
       "      <td>2810</td>\n",
       "      <td>Не женат / не замужем</td>\n",
       "    </tr>\n",
       "  </tbody>\n",
       "</table>\n",
       "</div>"
      ],
      "text/plain": [
       "   family_status_id   debt          family_status\n",
       "0                 0  12339        женат / замужем\n",
       "1                 1   4151       гражданский брак\n",
       "2                 2    959         вдовец / вдова\n",
       "3                 3   1195              в разводе\n",
       "4                 4   2810  Не женат / не замужем"
      ]
     },
     "metadata": {},
     "output_type": "display_data"
    },
    {
     "name": "stdout",
     "output_type": "stream",
     "text": [
      "\n",
      "Задолженность по кредитам, %\n",
      "______________________________\n"
     ]
    },
    {
     "data": {
      "text/html": [
       "<div>\n",
       "<style scoped>\n",
       "    .dataframe tbody tr th:only-of-type {\n",
       "        vertical-align: middle;\n",
       "    }\n",
       "\n",
       "    .dataframe tbody tr th {\n",
       "        vertical-align: top;\n",
       "    }\n",
       "\n",
       "    .dataframe thead th {\n",
       "        text-align: right;\n",
       "    }\n",
       "</style>\n",
       "<table border=\"1\" class=\"dataframe\">\n",
       "  <thead>\n",
       "    <tr style=\"text-align: right;\">\n",
       "      <th></th>\n",
       "      <th>family_status_id</th>\n",
       "      <th>debt</th>\n",
       "      <th>family_status</th>\n",
       "    </tr>\n",
       "  </thead>\n",
       "  <tbody>\n",
       "    <tr>\n",
       "      <td>0</td>\n",
       "      <td>4</td>\n",
       "      <td>9.75</td>\n",
       "      <td>Не женат / не замужем</td>\n",
       "    </tr>\n",
       "    <tr>\n",
       "      <td>1</td>\n",
       "      <td>1</td>\n",
       "      <td>9.35</td>\n",
       "      <td>гражданский брак</td>\n",
       "    </tr>\n",
       "    <tr>\n",
       "      <td>2</td>\n",
       "      <td>0</td>\n",
       "      <td>7.55</td>\n",
       "      <td>женат / замужем</td>\n",
       "    </tr>\n",
       "    <tr>\n",
       "      <td>3</td>\n",
       "      <td>3</td>\n",
       "      <td>7.11</td>\n",
       "      <td>в разводе</td>\n",
       "    </tr>\n",
       "    <tr>\n",
       "      <td>4</td>\n",
       "      <td>2</td>\n",
       "      <td>6.57</td>\n",
       "      <td>вдовец / вдова</td>\n",
       "    </tr>\n",
       "  </tbody>\n",
       "</table>\n",
       "</div>"
      ],
      "text/plain": [
       "   family_status_id  debt          family_status\n",
       "0                 4  9.75  Не женат / не замужем\n",
       "1                 1  9.35       гражданский брак\n",
       "2                 0  7.55        женат / замужем\n",
       "3                 3  7.11              в разводе\n",
       "4                 2  6.57         вдовец / вдова"
      ]
     },
     "metadata": {},
     "output_type": "display_data"
    }
   ],
   "source": [
    "df_pivot_family_status_sum = df.pivot_table(index = [ 'family_status_id'],  values = 'debt', aggfunc = sum)\n",
    "display(df_pivot_family_status_sum.merge(df_family_status, on = 'family_status_id',how='right' ))\n",
    "\n",
    "df_pivot_family_status_len = df.pivot_table(index = [ 'family_status_id'],  values = 'debt', aggfunc = len)\n",
    "display(df_pivot_family_status_len.merge(df_family_status, on = 'family_status_id',how='right' ))\n",
    "\n",
    "def print_head():\n",
    "    print('')\n",
    "    print('Задолженность по кредитам, %')\n",
    "    print('______________________________')\n",
    "\n",
    "print_head()\n",
    "persent_family_status = (100*df_pivot_family_status_sum/df_pivot_family_status_len).sort_values(by = 'debt', ascending=False)\n",
    "display(persent_family_status.round(2).merge(df_family_status, on = 'family_status_id',how='right' ))\n"
   ]
  },
  {
   "cell_type": "code",
   "execution_count": 15,
   "id": "eaadc3ee",
   "metadata": {},
   "outputs": [
    {
     "data": {
      "text/html": [
       "<div>\n",
       "<style scoped>\n",
       "    .dataframe tbody tr th:only-of-type {\n",
       "        vertical-align: middle;\n",
       "    }\n",
       "\n",
       "    .dataframe tbody tr th {\n",
       "        vertical-align: top;\n",
       "    }\n",
       "\n",
       "    .dataframe thead th {\n",
       "        text-align: right;\n",
       "    }\n",
       "</style>\n",
       "<table border=\"1\" class=\"dataframe\">\n",
       "  <thead>\n",
       "    <tr style=\"text-align: right;\">\n",
       "      <th></th>\n",
       "      <th>debt</th>\n",
       "    </tr>\n",
       "    <tr>\n",
       "      <th>children</th>\n",
       "      <th></th>\n",
       "    </tr>\n",
       "  </thead>\n",
       "  <tbody>\n",
       "    <tr>\n",
       "      <td>0</td>\n",
       "      <td>1063</td>\n",
       "    </tr>\n",
       "    <tr>\n",
       "      <td>1</td>\n",
       "      <td>445</td>\n",
       "    </tr>\n",
       "    <tr>\n",
       "      <td>2</td>\n",
       "      <td>202</td>\n",
       "    </tr>\n",
       "    <tr>\n",
       "      <td>3</td>\n",
       "      <td>27</td>\n",
       "    </tr>\n",
       "    <tr>\n",
       "      <td>4</td>\n",
       "      <td>4</td>\n",
       "    </tr>\n",
       "    <tr>\n",
       "      <td>5</td>\n",
       "      <td>0</td>\n",
       "    </tr>\n",
       "  </tbody>\n",
       "</table>\n",
       "</div>"
      ],
      "text/plain": [
       "          debt\n",
       "children      \n",
       "0         1063\n",
       "1          445\n",
       "2          202\n",
       "3           27\n",
       "4            4\n",
       "5            0"
      ]
     },
     "metadata": {},
     "output_type": "display_data"
    },
    {
     "data": {
      "text/html": [
       "<div>\n",
       "<style scoped>\n",
       "    .dataframe tbody tr th:only-of-type {\n",
       "        vertical-align: middle;\n",
       "    }\n",
       "\n",
       "    .dataframe tbody tr th {\n",
       "        vertical-align: top;\n",
       "    }\n",
       "\n",
       "    .dataframe thead th {\n",
       "        text-align: right;\n",
       "    }\n",
       "</style>\n",
       "<table border=\"1\" class=\"dataframe\">\n",
       "  <thead>\n",
       "    <tr style=\"text-align: right;\">\n",
       "      <th></th>\n",
       "      <th>debt</th>\n",
       "    </tr>\n",
       "    <tr>\n",
       "      <th>children</th>\n",
       "      <th></th>\n",
       "    </tr>\n",
       "  </thead>\n",
       "  <tbody>\n",
       "    <tr>\n",
       "      <td>0</td>\n",
       "      <td>14091</td>\n",
       "    </tr>\n",
       "    <tr>\n",
       "      <td>1</td>\n",
       "      <td>4855</td>\n",
       "    </tr>\n",
       "    <tr>\n",
       "      <td>2</td>\n",
       "      <td>2128</td>\n",
       "    </tr>\n",
       "    <tr>\n",
       "      <td>3</td>\n",
       "      <td>330</td>\n",
       "    </tr>\n",
       "    <tr>\n",
       "      <td>4</td>\n",
       "      <td>41</td>\n",
       "    </tr>\n",
       "    <tr>\n",
       "      <td>5</td>\n",
       "      <td>9</td>\n",
       "    </tr>\n",
       "  </tbody>\n",
       "</table>\n",
       "</div>"
      ],
      "text/plain": [
       "           debt\n",
       "children       \n",
       "0         14091\n",
       "1          4855\n",
       "2          2128\n",
       "3           330\n",
       "4            41\n",
       "5             9"
      ]
     },
     "metadata": {},
     "output_type": "display_data"
    },
    {
     "name": "stdout",
     "output_type": "stream",
     "text": [
      "\n",
      "Задолженность по кредитам, %\n",
      "______________________________\n"
     ]
    },
    {
     "data": {
      "text/html": [
       "<div>\n",
       "<style scoped>\n",
       "    .dataframe tbody tr th:only-of-type {\n",
       "        vertical-align: middle;\n",
       "    }\n",
       "\n",
       "    .dataframe tbody tr th {\n",
       "        vertical-align: top;\n",
       "    }\n",
       "\n",
       "    .dataframe thead th {\n",
       "        text-align: right;\n",
       "    }\n",
       "</style>\n",
       "<table border=\"1\" class=\"dataframe\">\n",
       "  <thead>\n",
       "    <tr style=\"text-align: right;\">\n",
       "      <th></th>\n",
       "      <th>debt</th>\n",
       "    </tr>\n",
       "    <tr>\n",
       "      <th>children</th>\n",
       "      <th></th>\n",
       "    </tr>\n",
       "  </thead>\n",
       "  <tbody>\n",
       "    <tr>\n",
       "      <td>4</td>\n",
       "      <td>9.76</td>\n",
       "    </tr>\n",
       "    <tr>\n",
       "      <td>2</td>\n",
       "      <td>9.49</td>\n",
       "    </tr>\n",
       "    <tr>\n",
       "      <td>1</td>\n",
       "      <td>9.17</td>\n",
       "    </tr>\n",
       "    <tr>\n",
       "      <td>3</td>\n",
       "      <td>8.18</td>\n",
       "    </tr>\n",
       "    <tr>\n",
       "      <td>0</td>\n",
       "      <td>7.54</td>\n",
       "    </tr>\n",
       "    <tr>\n",
       "      <td>5</td>\n",
       "      <td>0.00</td>\n",
       "    </tr>\n",
       "  </tbody>\n",
       "</table>\n",
       "</div>"
      ],
      "text/plain": [
       "          debt\n",
       "children      \n",
       "4         9.76\n",
       "2         9.49\n",
       "1         9.17\n",
       "3         8.18\n",
       "0         7.54\n",
       "5         0.00"
      ]
     },
     "metadata": {},
     "output_type": "display_data"
    }
   ],
   "source": [
    "df_pivot_children_sum = df.pivot_table(index = ['children'],  values = 'debt', aggfunc = sum)\n",
    "display(df_pivot_children_sum)\n",
    "\n",
    "\n",
    "df_pivot_children_len = df.pivot_table(index = ['children'],  values = 'debt', aggfunc = len)\n",
    "display(df_pivot_children_len)\n",
    "print_head()\n",
    "display((100*df_pivot_children_sum/df_pivot_children_len).sort_values(by = 'debt', ascending=False).round(2))\n"
   ]
  },
  {
   "cell_type": "code",
   "execution_count": 16,
   "id": "956ea55b",
   "metadata": {},
   "outputs": [
    {
     "data": {
      "text/html": [
       "<div>\n",
       "<style scoped>\n",
       "    .dataframe tbody tr th:only-of-type {\n",
       "        vertical-align: middle;\n",
       "    }\n",
       "\n",
       "    .dataframe tbody tr th {\n",
       "        vertical-align: top;\n",
       "    }\n",
       "\n",
       "    .dataframe thead th {\n",
       "        text-align: right;\n",
       "    }\n",
       "</style>\n",
       "<table border=\"1\" class=\"dataframe\">\n",
       "  <thead>\n",
       "    <tr style=\"text-align: right;\">\n",
       "      <th></th>\n",
       "      <th>debt</th>\n",
       "    </tr>\n",
       "    <tr>\n",
       "      <th>total_income_category</th>\n",
       "      <th></th>\n",
       "    </tr>\n",
       "  </thead>\n",
       "  <tbody>\n",
       "    <tr>\n",
       "      <td>A</td>\n",
       "      <td>2</td>\n",
       "    </tr>\n",
       "    <tr>\n",
       "      <td>B</td>\n",
       "      <td>356</td>\n",
       "    </tr>\n",
       "    <tr>\n",
       "      <td>C</td>\n",
       "      <td>1360</td>\n",
       "    </tr>\n",
       "    <tr>\n",
       "      <td>D</td>\n",
       "      <td>21</td>\n",
       "    </tr>\n",
       "    <tr>\n",
       "      <td>E</td>\n",
       "      <td>2</td>\n",
       "    </tr>\n",
       "  </tbody>\n",
       "</table>\n",
       "</div>"
      ],
      "text/plain": [
       "                       debt\n",
       "total_income_category      \n",
       "A                         2\n",
       "B                       356\n",
       "C                      1360\n",
       "D                        21\n",
       "E                         2"
      ]
     },
     "metadata": {},
     "output_type": "display_data"
    },
    {
     "data": {
      "text/html": [
       "<div>\n",
       "<style scoped>\n",
       "    .dataframe tbody tr th:only-of-type {\n",
       "        vertical-align: middle;\n",
       "    }\n",
       "\n",
       "    .dataframe tbody tr th {\n",
       "        vertical-align: top;\n",
       "    }\n",
       "\n",
       "    .dataframe thead th {\n",
       "        text-align: right;\n",
       "    }\n",
       "</style>\n",
       "<table border=\"1\" class=\"dataframe\">\n",
       "  <thead>\n",
       "    <tr style=\"text-align: right;\">\n",
       "      <th></th>\n",
       "      <th>debt</th>\n",
       "    </tr>\n",
       "    <tr>\n",
       "      <th>total_income_category</th>\n",
       "      <th></th>\n",
       "    </tr>\n",
       "  </thead>\n",
       "  <tbody>\n",
       "    <tr>\n",
       "      <td>A</td>\n",
       "      <td>25</td>\n",
       "    </tr>\n",
       "    <tr>\n",
       "      <td>B</td>\n",
       "      <td>5041</td>\n",
       "    </tr>\n",
       "    <tr>\n",
       "      <td>C</td>\n",
       "      <td>16016</td>\n",
       "    </tr>\n",
       "    <tr>\n",
       "      <td>D</td>\n",
       "      <td>350</td>\n",
       "    </tr>\n",
       "    <tr>\n",
       "      <td>E</td>\n",
       "      <td>22</td>\n",
       "    </tr>\n",
       "  </tbody>\n",
       "</table>\n",
       "</div>"
      ],
      "text/plain": [
       "                        debt\n",
       "total_income_category       \n",
       "A                         25\n",
       "B                       5041\n",
       "C                      16016\n",
       "D                        350\n",
       "E                         22"
      ]
     },
     "metadata": {},
     "output_type": "display_data"
    },
    {
     "name": "stdout",
     "output_type": "stream",
     "text": [
      "\n",
      "Задолженность по кредитам, %\n",
      "______________________________\n"
     ]
    },
    {
     "data": {
      "text/html": [
       "<div>\n",
       "<style scoped>\n",
       "    .dataframe tbody tr th:only-of-type {\n",
       "        vertical-align: middle;\n",
       "    }\n",
       "\n",
       "    .dataframe tbody tr th {\n",
       "        vertical-align: top;\n",
       "    }\n",
       "\n",
       "    .dataframe thead th {\n",
       "        text-align: right;\n",
       "    }\n",
       "</style>\n",
       "<table border=\"1\" class=\"dataframe\">\n",
       "  <thead>\n",
       "    <tr style=\"text-align: right;\">\n",
       "      <th></th>\n",
       "      <th>total_income_category</th>\n",
       "      <th>debt</th>\n",
       "      <th>total_income</th>\n",
       "    </tr>\n",
       "  </thead>\n",
       "  <tbody>\n",
       "    <tr>\n",
       "      <td>0</td>\n",
       "      <td>E</td>\n",
       "      <td>9.09</td>\n",
       "      <td>0–30000</td>\n",
       "    </tr>\n",
       "    <tr>\n",
       "      <td>1</td>\n",
       "      <td>C</td>\n",
       "      <td>8.49</td>\n",
       "      <td>50001–200000</td>\n",
       "    </tr>\n",
       "    <tr>\n",
       "      <td>2</td>\n",
       "      <td>A</td>\n",
       "      <td>8.00</td>\n",
       "      <td>1000001 и выше</td>\n",
       "    </tr>\n",
       "    <tr>\n",
       "      <td>3</td>\n",
       "      <td>B</td>\n",
       "      <td>7.06</td>\n",
       "      <td>200001–1000000</td>\n",
       "    </tr>\n",
       "    <tr>\n",
       "      <td>4</td>\n",
       "      <td>D</td>\n",
       "      <td>6.00</td>\n",
       "      <td>30001–50000</td>\n",
       "    </tr>\n",
       "  </tbody>\n",
       "</table>\n",
       "</div>"
      ],
      "text/plain": [
       "  total_income_category  debt    total_income\n",
       "0                     E  9.09         0–30000\n",
       "1                     C  8.49    50001–200000\n",
       "2                     A  8.00  1000001 и выше\n",
       "3                     B  7.06  200001–1000000\n",
       "4                     D  6.00     30001–50000"
      ]
     },
     "metadata": {},
     "output_type": "display_data"
    }
   ],
   "source": [
    "df_pivot_income_category_sum = df.pivot_table(index = [ 'total_income_category'],  values = 'debt', aggfunc = sum)\n",
    "display(df_pivot_income_category_sum)\n",
    "\n",
    "df_pivot_income_category_len = df.pivot_table(index = [ 'total_income_category'],  values = 'debt', aggfunc = len)\n",
    "display(df_pivot_income_category_len)\n",
    "\n",
    "print_head() \n",
    "percent_income_category = (100*df_pivot_income_category_sum/df_pivot_income_category_len).sort_values(by = 'debt', ascending=False)\n",
    "display(percent_income_category.round(2).merge(df_income_category, on = 'total_income_category' ,how='right' ))"
   ]
  },
  {
   "cell_type": "code",
   "execution_count": 17,
   "id": "35ce4fb9",
   "metadata": {},
   "outputs": [
    {
     "data": {
      "text/html": [
       "<div>\n",
       "<style scoped>\n",
       "    .dataframe tbody tr th:only-of-type {\n",
       "        vertical-align: middle;\n",
       "    }\n",
       "\n",
       "    .dataframe tbody tr th {\n",
       "        vertical-align: top;\n",
       "    }\n",
       "\n",
       "    .dataframe thead th {\n",
       "        text-align: right;\n",
       "    }\n",
       "</style>\n",
       "<table border=\"1\" class=\"dataframe\">\n",
       "  <thead>\n",
       "    <tr style=\"text-align: right;\">\n",
       "      <th></th>\n",
       "      <th>debt</th>\n",
       "    </tr>\n",
       "    <tr>\n",
       "      <th>purpose_category</th>\n",
       "      <th></th>\n",
       "    </tr>\n",
       "  </thead>\n",
       "  <tbody>\n",
       "    <tr>\n",
       "      <td>операции с автомобилем</td>\n",
       "      <td>403</td>\n",
       "    </tr>\n",
       "    <tr>\n",
       "      <td>операции с недвижимостью</td>\n",
       "      <td>782</td>\n",
       "    </tr>\n",
       "    <tr>\n",
       "      <td>получение образования</td>\n",
       "      <td>370</td>\n",
       "    </tr>\n",
       "    <tr>\n",
       "      <td>проведение свадьбы</td>\n",
       "      <td>186</td>\n",
       "    </tr>\n",
       "  </tbody>\n",
       "</table>\n",
       "</div>"
      ],
      "text/plain": [
       "                          debt\n",
       "purpose_category              \n",
       "операции с автомобилем     403\n",
       "операции с недвижимостью   782\n",
       "получение образования      370\n",
       "проведение свадьбы         186"
      ]
     },
     "metadata": {},
     "output_type": "display_data"
    },
    {
     "data": {
      "text/html": [
       "<div>\n",
       "<style scoped>\n",
       "    .dataframe tbody tr th:only-of-type {\n",
       "        vertical-align: middle;\n",
       "    }\n",
       "\n",
       "    .dataframe tbody tr th {\n",
       "        vertical-align: top;\n",
       "    }\n",
       "\n",
       "    .dataframe thead th {\n",
       "        text-align: right;\n",
       "    }\n",
       "</style>\n",
       "<table border=\"1\" class=\"dataframe\">\n",
       "  <thead>\n",
       "    <tr style=\"text-align: right;\">\n",
       "      <th></th>\n",
       "      <th>debt</th>\n",
       "    </tr>\n",
       "    <tr>\n",
       "      <th>purpose_category</th>\n",
       "      <th></th>\n",
       "    </tr>\n",
       "  </thead>\n",
       "  <tbody>\n",
       "    <tr>\n",
       "      <td>операции с автомобилем</td>\n",
       "      <td>4306</td>\n",
       "    </tr>\n",
       "    <tr>\n",
       "      <td>операции с недвижимостью</td>\n",
       "      <td>10811</td>\n",
       "    </tr>\n",
       "    <tr>\n",
       "      <td>получение образования</td>\n",
       "      <td>4013</td>\n",
       "    </tr>\n",
       "    <tr>\n",
       "      <td>проведение свадьбы</td>\n",
       "      <td>2324</td>\n",
       "    </tr>\n",
       "  </tbody>\n",
       "</table>\n",
       "</div>"
      ],
      "text/plain": [
       "                           debt\n",
       "purpose_category               \n",
       "операции с автомобилем     4306\n",
       "операции с недвижимостью  10811\n",
       "получение образования      4013\n",
       "проведение свадьбы         2324"
      ]
     },
     "metadata": {},
     "output_type": "display_data"
    },
    {
     "name": "stdout",
     "output_type": "stream",
     "text": [
      "\n",
      "Задолженность по кредитам, %\n",
      "______________________________\n"
     ]
    },
    {
     "data": {
      "text/html": [
       "<div>\n",
       "<style scoped>\n",
       "    .dataframe tbody tr th:only-of-type {\n",
       "        vertical-align: middle;\n",
       "    }\n",
       "\n",
       "    .dataframe tbody tr th {\n",
       "        vertical-align: top;\n",
       "    }\n",
       "\n",
       "    .dataframe thead th {\n",
       "        text-align: right;\n",
       "    }\n",
       "</style>\n",
       "<table border=\"1\" class=\"dataframe\">\n",
       "  <thead>\n",
       "    <tr style=\"text-align: right;\">\n",
       "      <th></th>\n",
       "      <th>debt</th>\n",
       "    </tr>\n",
       "    <tr>\n",
       "      <th>purpose_category</th>\n",
       "      <th></th>\n",
       "    </tr>\n",
       "  </thead>\n",
       "  <tbody>\n",
       "    <tr>\n",
       "      <td>операции с автомобилем</td>\n",
       "      <td>9.36</td>\n",
       "    </tr>\n",
       "    <tr>\n",
       "      <td>получение образования</td>\n",
       "      <td>9.22</td>\n",
       "    </tr>\n",
       "    <tr>\n",
       "      <td>проведение свадьбы</td>\n",
       "      <td>8.00</td>\n",
       "    </tr>\n",
       "    <tr>\n",
       "      <td>операции с недвижимостью</td>\n",
       "      <td>7.23</td>\n",
       "    </tr>\n",
       "  </tbody>\n",
       "</table>\n",
       "</div>"
      ],
      "text/plain": [
       "                          debt\n",
       "purpose_category              \n",
       "операции с автомобилем    9.36\n",
       "получение образования     9.22\n",
       "проведение свадьбы        8.00\n",
       "операции с недвижимостью  7.23"
      ]
     },
     "metadata": {},
     "output_type": "display_data"
    }
   ],
   "source": [
    "df_pivot_purpose_sum = df.pivot_table(index = [ 'purpose_category'],  values = 'debt', aggfunc = sum)\n",
    "display(df_pivot_purpose_sum)\n",
    "\n",
    "df_pivot_purpose_len = df.pivot_table(index = [ 'purpose_category'],  values = 'debt', aggfunc = len)\n",
    "display(df_pivot_purpose_len)\n",
    "print_head()\n",
    "\n",
    "display((100*df_pivot_purpose_sum/df_pivot_purpose_len).sort_values(by = 'debt', ascending=False).round(2))\n"
   ]
  },
  {
   "cell_type": "markdown",
   "id": "ede5d6fb",
   "metadata": {},
   "source": [
    "Дополнительно рассмотрим двумерные зависимости \n",
    "1. От уровня дохода и целей кредита\n",
    "2. От семейного положения и количества детей "
   ]
  },
  {
   "cell_type": "code",
   "execution_count": 18,
   "id": "a9f33e7a",
   "metadata": {},
   "outputs": [
    {
     "data": {
      "text/html": [
       "<div>\n",
       "<style scoped>\n",
       "    .dataframe tbody tr th:only-of-type {\n",
       "        vertical-align: middle;\n",
       "    }\n",
       "\n",
       "    .dataframe tbody tr th {\n",
       "        vertical-align: top;\n",
       "    }\n",
       "\n",
       "    .dataframe thead th {\n",
       "        text-align: right;\n",
       "    }\n",
       "</style>\n",
       "<table border=\"1\" class=\"dataframe\">\n",
       "  <thead>\n",
       "    <tr style=\"text-align: right;\">\n",
       "      <th>total_income_category</th>\n",
       "      <th>A</th>\n",
       "      <th>B</th>\n",
       "      <th>C</th>\n",
       "      <th>D</th>\n",
       "      <th>E</th>\n",
       "    </tr>\n",
       "    <tr>\n",
       "      <th>purpose_category</th>\n",
       "      <th></th>\n",
       "      <th></th>\n",
       "      <th></th>\n",
       "      <th></th>\n",
       "      <th></th>\n",
       "    </tr>\n",
       "  </thead>\n",
       "  <tbody>\n",
       "    <tr>\n",
       "      <td>операции с автомобилем</td>\n",
       "      <td>0</td>\n",
       "      <td>86</td>\n",
       "      <td>307</td>\n",
       "      <td>10</td>\n",
       "      <td>0</td>\n",
       "    </tr>\n",
       "    <tr>\n",
       "      <td>операции с недвижимостью</td>\n",
       "      <td>1</td>\n",
       "      <td>172</td>\n",
       "      <td>601</td>\n",
       "      <td>6</td>\n",
       "      <td>2</td>\n",
       "    </tr>\n",
       "    <tr>\n",
       "      <td>получение образования</td>\n",
       "      <td>1</td>\n",
       "      <td>70</td>\n",
       "      <td>297</td>\n",
       "      <td>2</td>\n",
       "      <td>0</td>\n",
       "    </tr>\n",
       "    <tr>\n",
       "      <td>проведение свадьбы</td>\n",
       "      <td>0</td>\n",
       "      <td>28</td>\n",
       "      <td>155</td>\n",
       "      <td>3</td>\n",
       "      <td>0</td>\n",
       "    </tr>\n",
       "  </tbody>\n",
       "</table>\n",
       "</div>"
      ],
      "text/plain": [
       "total_income_category     A    B    C   D  E\n",
       "purpose_category                            \n",
       "операции с автомобилем    0   86  307  10  0\n",
       "операции с недвижимостью  1  172  601   6  2\n",
       "получение образования     1   70  297   2  0\n",
       "проведение свадьбы        0   28  155   3  0"
      ]
     },
     "metadata": {},
     "output_type": "display_data"
    },
    {
     "data": {
      "text/html": [
       "<div>\n",
       "<style scoped>\n",
       "    .dataframe tbody tr th:only-of-type {\n",
       "        vertical-align: middle;\n",
       "    }\n",
       "\n",
       "    .dataframe tbody tr th {\n",
       "        vertical-align: top;\n",
       "    }\n",
       "\n",
       "    .dataframe thead th {\n",
       "        text-align: right;\n",
       "    }\n",
       "</style>\n",
       "<table border=\"1\" class=\"dataframe\">\n",
       "  <thead>\n",
       "    <tr style=\"text-align: right;\">\n",
       "      <th>total_income_category</th>\n",
       "      <th>A</th>\n",
       "      <th>B</th>\n",
       "      <th>C</th>\n",
       "      <th>D</th>\n",
       "      <th>E</th>\n",
       "    </tr>\n",
       "    <tr>\n",
       "      <th>purpose_category</th>\n",
       "      <th></th>\n",
       "      <th></th>\n",
       "      <th></th>\n",
       "      <th></th>\n",
       "      <th></th>\n",
       "    </tr>\n",
       "  </thead>\n",
       "  <tbody>\n",
       "    <tr>\n",
       "      <td>операции с автомобилем</td>\n",
       "      <td>2</td>\n",
       "      <td>1031</td>\n",
       "      <td>3199</td>\n",
       "      <td>72</td>\n",
       "      <td>2</td>\n",
       "    </tr>\n",
       "    <tr>\n",
       "      <td>операции с недвижимостью</td>\n",
       "      <td>17</td>\n",
       "      <td>2568</td>\n",
       "      <td>8047</td>\n",
       "      <td>168</td>\n",
       "      <td>11</td>\n",
       "    </tr>\n",
       "    <tr>\n",
       "      <td>получение образования</td>\n",
       "      <td>4</td>\n",
       "      <td>897</td>\n",
       "      <td>3031</td>\n",
       "      <td>76</td>\n",
       "      <td>5</td>\n",
       "    </tr>\n",
       "    <tr>\n",
       "      <td>проведение свадьбы</td>\n",
       "      <td>2</td>\n",
       "      <td>545</td>\n",
       "      <td>1739</td>\n",
       "      <td>34</td>\n",
       "      <td>4</td>\n",
       "    </tr>\n",
       "  </tbody>\n",
       "</table>\n",
       "</div>"
      ],
      "text/plain": [
       "total_income_category      A     B     C    D   E\n",
       "purpose_category                                 \n",
       "операции с автомобилем     2  1031  3199   72   2\n",
       "операции с недвижимостью  17  2568  8047  168  11\n",
       "получение образования      4   897  3031   76   5\n",
       "проведение свадьбы         2   545  1739   34   4"
      ]
     },
     "metadata": {},
     "output_type": "display_data"
    },
    {
     "data": {
      "text/html": [
       "<div>\n",
       "<style scoped>\n",
       "    .dataframe tbody tr th:only-of-type {\n",
       "        vertical-align: middle;\n",
       "    }\n",
       "\n",
       "    .dataframe tbody tr th {\n",
       "        vertical-align: top;\n",
       "    }\n",
       "\n",
       "    .dataframe thead th {\n",
       "        text-align: right;\n",
       "    }\n",
       "</style>\n",
       "<table border=\"1\" class=\"dataframe\">\n",
       "  <thead>\n",
       "    <tr style=\"text-align: right;\">\n",
       "      <th>total_income_category</th>\n",
       "      <th>A</th>\n",
       "      <th>B</th>\n",
       "      <th>C</th>\n",
       "      <th>D</th>\n",
       "      <th>E</th>\n",
       "    </tr>\n",
       "    <tr>\n",
       "      <th>purpose_category</th>\n",
       "      <th></th>\n",
       "      <th></th>\n",
       "      <th></th>\n",
       "      <th></th>\n",
       "      <th></th>\n",
       "    </tr>\n",
       "  </thead>\n",
       "  <tbody>\n",
       "    <tr>\n",
       "      <td>операции с автомобилем</td>\n",
       "      <td>0.00</td>\n",
       "      <td>0.08</td>\n",
       "      <td>0.10</td>\n",
       "      <td>0.14</td>\n",
       "      <td>0.00</td>\n",
       "    </tr>\n",
       "    <tr>\n",
       "      <td>операции с недвижимостью</td>\n",
       "      <td>0.06</td>\n",
       "      <td>0.07</td>\n",
       "      <td>0.07</td>\n",
       "      <td>0.04</td>\n",
       "      <td>0.18</td>\n",
       "    </tr>\n",
       "    <tr>\n",
       "      <td>получение образования</td>\n",
       "      <td>0.25</td>\n",
       "      <td>0.08</td>\n",
       "      <td>0.10</td>\n",
       "      <td>0.03</td>\n",
       "      <td>0.00</td>\n",
       "    </tr>\n",
       "    <tr>\n",
       "      <td>проведение свадьбы</td>\n",
       "      <td>0.00</td>\n",
       "      <td>0.05</td>\n",
       "      <td>0.09</td>\n",
       "      <td>0.09</td>\n",
       "      <td>0.00</td>\n",
       "    </tr>\n",
       "  </tbody>\n",
       "</table>\n",
       "</div>"
      ],
      "text/plain": [
       "total_income_category        A     B     C     D     E\n",
       "purpose_category                                      \n",
       "операции с автомобилем    0.00  0.08  0.10  0.14  0.00\n",
       "операции с недвижимостью  0.06  0.07  0.07  0.04  0.18\n",
       "получение образования     0.25  0.08  0.10  0.03  0.00\n",
       "проведение свадьбы        0.00  0.05  0.09  0.09  0.00"
      ]
     },
     "metadata": {},
     "output_type": "display_data"
    },
    {
     "data": {
      "text/html": [
       "<div>\n",
       "<style scoped>\n",
       "    .dataframe tbody tr th:only-of-type {\n",
       "        vertical-align: middle;\n",
       "    }\n",
       "\n",
       "    .dataframe tbody tr th {\n",
       "        vertical-align: top;\n",
       "    }\n",
       "\n",
       "    .dataframe thead th {\n",
       "        text-align: right;\n",
       "    }\n",
       "</style>\n",
       "<table border=\"1\" class=\"dataframe\">\n",
       "  <thead>\n",
       "    <tr style=\"text-align: right;\">\n",
       "      <th></th>\n",
       "      <th>family_status_id</th>\n",
       "      <th>0</th>\n",
       "      <th>1</th>\n",
       "      <th>2</th>\n",
       "      <th>3</th>\n",
       "      <th>4</th>\n",
       "      <th>5</th>\n",
       "      <th>family_status</th>\n",
       "    </tr>\n",
       "  </thead>\n",
       "  <tbody>\n",
       "    <tr>\n",
       "      <td>0</td>\n",
       "      <td>0</td>\n",
       "      <td>516.0</td>\n",
       "      <td>247.0</td>\n",
       "      <td>148.0</td>\n",
       "      <td>17.0</td>\n",
       "      <td>3.0</td>\n",
       "      <td>0.0</td>\n",
       "      <td>женат / замужем</td>\n",
       "    </tr>\n",
       "    <tr>\n",
       "      <td>1</td>\n",
       "      <td>1</td>\n",
       "      <td>229.0</td>\n",
       "      <td>118.0</td>\n",
       "      <td>33.0</td>\n",
       "      <td>8.0</td>\n",
       "      <td>0.0</td>\n",
       "      <td>0.0</td>\n",
       "      <td>гражданский брак</td>\n",
       "    </tr>\n",
       "    <tr>\n",
       "      <td>2</td>\n",
       "      <td>2</td>\n",
       "      <td>53.0</td>\n",
       "      <td>7.0</td>\n",
       "      <td>3.0</td>\n",
       "      <td>0.0</td>\n",
       "      <td>0.0</td>\n",
       "      <td>NaN</td>\n",
       "      <td>вдовец / вдова</td>\n",
       "    </tr>\n",
       "    <tr>\n",
       "      <td>3</td>\n",
       "      <td>3</td>\n",
       "      <td>55.0</td>\n",
       "      <td>21.0</td>\n",
       "      <td>8.0</td>\n",
       "      <td>1.0</td>\n",
       "      <td>0.0</td>\n",
       "      <td>NaN</td>\n",
       "      <td>в разводе</td>\n",
       "    </tr>\n",
       "    <tr>\n",
       "      <td>4</td>\n",
       "      <td>4</td>\n",
       "      <td>210.0</td>\n",
       "      <td>52.0</td>\n",
       "      <td>10.0</td>\n",
       "      <td>1.0</td>\n",
       "      <td>1.0</td>\n",
       "      <td>NaN</td>\n",
       "      <td>Не женат / не замужем</td>\n",
       "    </tr>\n",
       "  </tbody>\n",
       "</table>\n",
       "</div>"
      ],
      "text/plain": [
       "   family_status_id      0      1      2     3    4    5  \\\n",
       "0                 0  516.0  247.0  148.0  17.0  3.0  0.0   \n",
       "1                 1  229.0  118.0   33.0   8.0  0.0  0.0   \n",
       "2                 2   53.0    7.0    3.0   0.0  0.0  NaN   \n",
       "3                 3   55.0   21.0    8.0   1.0  0.0  NaN   \n",
       "4                 4  210.0   52.0   10.0   1.0  1.0  NaN   \n",
       "\n",
       "           family_status  \n",
       "0        женат / замужем  \n",
       "1       гражданский брак  \n",
       "2         вдовец / вдова  \n",
       "3              в разводе  \n",
       "4  Не женат / не замужем  "
      ]
     },
     "metadata": {},
     "output_type": "display_data"
    },
    {
     "data": {
      "text/html": [
       "<div>\n",
       "<style scoped>\n",
       "    .dataframe tbody tr th:only-of-type {\n",
       "        vertical-align: middle;\n",
       "    }\n",
       "\n",
       "    .dataframe tbody tr th {\n",
       "        vertical-align: top;\n",
       "    }\n",
       "\n",
       "    .dataframe thead th {\n",
       "        text-align: right;\n",
       "    }\n",
       "</style>\n",
       "<table border=\"1\" class=\"dataframe\">\n",
       "  <thead>\n",
       "    <tr style=\"text-align: right;\">\n",
       "      <th></th>\n",
       "      <th>family_status_id</th>\n",
       "      <th>0</th>\n",
       "      <th>1</th>\n",
       "      <th>2</th>\n",
       "      <th>3</th>\n",
       "      <th>4</th>\n",
       "      <th>5</th>\n",
       "      <th>family_status</th>\n",
       "    </tr>\n",
       "  </thead>\n",
       "  <tbody>\n",
       "    <tr>\n",
       "      <td>0</td>\n",
       "      <td>0</td>\n",
       "      <td>7468.0</td>\n",
       "      <td>3004.0</td>\n",
       "      <td>1582.0</td>\n",
       "      <td>249.0</td>\n",
       "      <td>29.0</td>\n",
       "      <td>7.0</td>\n",
       "      <td>женат / замужем</td>\n",
       "    </tr>\n",
       "    <tr>\n",
       "      <td>1</td>\n",
       "      <td>1</td>\n",
       "      <td>2730.0</td>\n",
       "      <td>1000.0</td>\n",
       "      <td>355.0</td>\n",
       "      <td>56.0</td>\n",
       "      <td>8.0</td>\n",
       "      <td>2.0</td>\n",
       "      <td>гражданский брак</td>\n",
       "    </tr>\n",
       "    <tr>\n",
       "      <td>2</td>\n",
       "      <td>2</td>\n",
       "      <td>847.0</td>\n",
       "      <td>81.0</td>\n",
       "      <td>24.0</td>\n",
       "      <td>6.0</td>\n",
       "      <td>1.0</td>\n",
       "      <td>NaN</td>\n",
       "      <td>вдовец / вдова</td>\n",
       "    </tr>\n",
       "    <tr>\n",
       "      <td>3</td>\n",
       "      <td>3</td>\n",
       "      <td>784.0</td>\n",
       "      <td>316.0</td>\n",
       "      <td>83.0</td>\n",
       "      <td>11.0</td>\n",
       "      <td>1.0</td>\n",
       "      <td>NaN</td>\n",
       "      <td>в разводе</td>\n",
       "    </tr>\n",
       "    <tr>\n",
       "      <td>4</td>\n",
       "      <td>4</td>\n",
       "      <td>2262.0</td>\n",
       "      <td>454.0</td>\n",
       "      <td>84.0</td>\n",
       "      <td>8.0</td>\n",
       "      <td>2.0</td>\n",
       "      <td>NaN</td>\n",
       "      <td>Не женат / не замужем</td>\n",
       "    </tr>\n",
       "  </tbody>\n",
       "</table>\n",
       "</div>"
      ],
      "text/plain": [
       "   family_status_id       0       1       2      3     4    5  \\\n",
       "0                 0  7468.0  3004.0  1582.0  249.0  29.0  7.0   \n",
       "1                 1  2730.0  1000.0   355.0   56.0   8.0  2.0   \n",
       "2                 2   847.0    81.0    24.0    6.0   1.0  NaN   \n",
       "3                 3   784.0   316.0    83.0   11.0   1.0  NaN   \n",
       "4                 4  2262.0   454.0    84.0    8.0   2.0  NaN   \n",
       "\n",
       "           family_status  \n",
       "0        женат / замужем  \n",
       "1       гражданский брак  \n",
       "2         вдовец / вдова  \n",
       "3              в разводе  \n",
       "4  Не женат / не замужем  "
      ]
     },
     "metadata": {},
     "output_type": "display_data"
    },
    {
     "data": {
      "text/html": [
       "<div>\n",
       "<style scoped>\n",
       "    .dataframe tbody tr th:only-of-type {\n",
       "        vertical-align: middle;\n",
       "    }\n",
       "\n",
       "    .dataframe tbody tr th {\n",
       "        vertical-align: top;\n",
       "    }\n",
       "\n",
       "    .dataframe thead th {\n",
       "        text-align: right;\n",
       "    }\n",
       "</style>\n",
       "<table border=\"1\" class=\"dataframe\">\n",
       "  <thead>\n",
       "    <tr style=\"text-align: right;\">\n",
       "      <th></th>\n",
       "      <th>family_status_id</th>\n",
       "      <th>0</th>\n",
       "      <th>1</th>\n",
       "      <th>2</th>\n",
       "      <th>3</th>\n",
       "      <th>4</th>\n",
       "      <th>5</th>\n",
       "      <th>family_status</th>\n",
       "    </tr>\n",
       "  </thead>\n",
       "  <tbody>\n",
       "    <tr>\n",
       "      <td>0</td>\n",
       "      <td>0</td>\n",
       "      <td>0.07</td>\n",
       "      <td>0.08</td>\n",
       "      <td>0.09</td>\n",
       "      <td>0.07</td>\n",
       "      <td>0.1</td>\n",
       "      <td>0.0</td>\n",
       "      <td>женат / замужем</td>\n",
       "    </tr>\n",
       "    <tr>\n",
       "      <td>1</td>\n",
       "      <td>1</td>\n",
       "      <td>0.08</td>\n",
       "      <td>0.12</td>\n",
       "      <td>0.09</td>\n",
       "      <td>0.14</td>\n",
       "      <td>0.0</td>\n",
       "      <td>0.0</td>\n",
       "      <td>гражданский брак</td>\n",
       "    </tr>\n",
       "    <tr>\n",
       "      <td>2</td>\n",
       "      <td>2</td>\n",
       "      <td>0.06</td>\n",
       "      <td>0.09</td>\n",
       "      <td>0.12</td>\n",
       "      <td>0.00</td>\n",
       "      <td>0.0</td>\n",
       "      <td>NaN</td>\n",
       "      <td>вдовец / вдова</td>\n",
       "    </tr>\n",
       "    <tr>\n",
       "      <td>3</td>\n",
       "      <td>3</td>\n",
       "      <td>0.07</td>\n",
       "      <td>0.07</td>\n",
       "      <td>0.10</td>\n",
       "      <td>0.09</td>\n",
       "      <td>0.0</td>\n",
       "      <td>NaN</td>\n",
       "      <td>в разводе</td>\n",
       "    </tr>\n",
       "    <tr>\n",
       "      <td>4</td>\n",
       "      <td>4</td>\n",
       "      <td>0.09</td>\n",
       "      <td>0.11</td>\n",
       "      <td>0.12</td>\n",
       "      <td>0.12</td>\n",
       "      <td>0.5</td>\n",
       "      <td>NaN</td>\n",
       "      <td>Не женат / не замужем</td>\n",
       "    </tr>\n",
       "  </tbody>\n",
       "</table>\n",
       "</div>"
      ],
      "text/plain": [
       "   family_status_id     0     1     2     3    4    5          family_status\n",
       "0                 0  0.07  0.08  0.09  0.07  0.1  0.0        женат / замужем\n",
       "1                 1  0.08  0.12  0.09  0.14  0.0  0.0       гражданский брак\n",
       "2                 2  0.06  0.09  0.12  0.00  0.0  NaN         вдовец / вдова\n",
       "3                 3  0.07  0.07  0.10  0.09  0.0  NaN              в разводе\n",
       "4                 4  0.09  0.11  0.12  0.12  0.5  NaN  Не женат / не замужем"
      ]
     },
     "metadata": {},
     "output_type": "display_data"
    }
   ],
   "source": [
    "df_pivot_family_status_children_sum = df.pivot_table(index = [ 'family_status_id'], \n",
    "columns = ['children'],values = 'debt', aggfunc = sum)\n",
    "df_pivot_family_status_children_len = df.pivot_table(index = [ 'family_status_id'],  \n",
    "columns = ['children'],values = 'debt', aggfunc = len)\n",
    "\n",
    "df_pivot_income_category_purpose_sum = df.pivot_table(index = [ 'purpose_category'],  \n",
    "columns = ['total_income_category'],values = 'debt', aggfunc=sum)\n",
    "df_pivot_income_category_purpose_len = df.pivot_table(index = [ 'purpose_category'],\n",
    "columns = ['total_income_category'],values = 'debt', aggfunc=len)\n",
    "\n",
    "\n",
    "\n",
    "display(df_pivot_income_category_purpose_sum)\n",
    "display(df_pivot_income_category_purpose_len)\n",
    "display((df_pivot_income_category_purpose_sum/df_pivot_income_category_purpose_len).round(2))\n",
    "\n",
    "display(df_pivot_family_status_children_sum.merge(df_family_status, on = 'family_status_id',how='right'))\n",
    "display(df_pivot_family_status_children_len.merge(df_family_status, on = 'family_status_id',how='right'))\n",
    "display((df_pivot_family_status_children_sum/df_pivot_family_status_children_len).round(2).merge(df_family_status, on = 'family_status_id',how='right' ))"
   ]
  },
  {
   "cell_type": "code",
   "execution_count": 19,
   "id": "b6410f68",
   "metadata": {},
   "outputs": [
    {
     "data": {
      "image/png": "[encoded data removed]",
      "text/plain": [
       "<Figure size 432x288 with 2 Axes>"
      ]
     },
     "metadata": {
      "needs_background": "light"
     },
     "output_type": "display_data"
    }
   ],
   "source": [
    "\n",
    "uniform_data1 = (df_pivot_income_category_purpose_sum/df_pivot_income_category_purpose_len).round(2)\n",
    "ax1 = sns.heatmap(uniform_data1)"
   ]
  },
  {
   "cell_type": "code",
   "execution_count": 20,
   "id": "edc4661e",
   "metadata": {},
   "outputs": [
    {
     "data": {
      "image/png": "[encoded data removed]",
      "text/plain": [
       "<Figure size 432x288 with 2 Axes>"
      ]
     },
     "metadata": {
      "needs_background": "light"
     },
     "output_type": "display_data"
    }
   ],
   "source": [
    "uniform_data = (df_pivot_family_status_children_sum/df_pivot_family_status_children_len).round(2)\n",
    "ax = sns.heatmap(uniform_data)"
   ]
  },
  {
   "cell_type": "markdown",
   "id": "c55a1f2c",
   "metadata": {},
   "source": [
    "### Ответы на вопросы."
   ]
  },
  {
   "cell_type": "markdown",
   "id": "0deaf0fe",
   "metadata": {},
   "source": [
    "##### Вопрос 1:"
   ]
  },
  {
   "cell_type": "markdown",
   "id": "9534f99c",
   "metadata": {},
   "source": [
    "Есть ли зависимость между количеством детей и возвратом кредита в срок?\n"
   ]
  },
  {
   "cell_type": "markdown",
   "id": "07a76af8",
   "metadata": {},
   "source": [
    "##### Вывод 1:"
   ]
  },
  {
   "cell_type": "markdown",
   "id": "676b1f90",
   "metadata": {},
   "source": [
    "Определенно заемщики без детей имеют на 2% меньше случаев наличия задолженности \n",
    "Данные по заемщикам с 4 и 5 детьми сложно оценить из-за малого количества. "
   ]
  },
  {
   "cell_type": "markdown",
   "id": "6cb73fec",
   "metadata": {},
   "source": [
    "<div class=\"alert alert-success\">\n",
    "<b>✔️ Комментарий ревьюера v1:</b> \n",
    "<br>Верно! \n",
    "</div>"
   ]
  },
  {
   "cell_type": "markdown",
   "id": "9b5aea15",
   "metadata": {},
   "source": [
    "##### Вопрос 2:"
   ]
  },
  {
   "cell_type": "markdown",
   "id": "7eb7c9bc",
   "metadata": {},
   "source": [
    "Есть ли зависимость между семейным положением и возвратом кредита в срок?\n"
   ]
  },
  {
   "cell_type": "markdown",
   "id": "d4160f0b",
   "metadata": {},
   "source": [
    "##### Вывод 2:"
   ]
  },
  {
   "cell_type": "markdown",
   "id": "b3bd79f0",
   "metadata": {},
   "source": [
    "Выделяются 2 категории: те кто были в браке и те кто не были в оффициальном браке. Разница между этими группами в наличии задолженности по кредиту ориентировочно составляет 2%.\n",
    "Между `Не женат / не замужем` и `вдовец / вдова` составляет 3%.  "
   ]
  },
  {
   "cell_type": "markdown",
   "id": "8d0d18ea",
   "metadata": {},
   "source": [
    "##### Вопрос 3:"
   ]
  },
  {
   "cell_type": "markdown",
   "id": "43aed819",
   "metadata": {},
   "source": [
    "Влияет ли уровень дохода на факт погашения кредита в срок.\n"
   ]
  },
  {
   "cell_type": "markdown",
   "id": "5eeebcce",
   "metadata": {},
   "source": [
    "##### Вывод 3:"
   ]
  },
  {
   "cell_type": "markdown",
   "id": "cf4171f4",
   "metadata": {},
   "source": [
    "Разница в наличии задолженности по уровню дохода составила 3%. \n",
    "\n"
   ]
  },
  {
   "cell_type": "markdown",
   "id": "7048eda2",
   "metadata": {},
   "source": [
    "##### Вопрос 4:"
   ]
  },
  {
   "cell_type": "markdown",
   "id": "1b0ec217",
   "metadata": {},
   "source": [
    "Как разные цели кредита влияют на его возврат в срок?"
   ]
  },
  {
   "cell_type": "markdown",
   "id": "d905d836",
   "metadata": {},
   "source": [
    "##### Вывод 4:"
   ]
  },
  {
   "cell_type": "markdown",
   "id": "ee4624c3",
   "metadata": {},
   "source": [
    "\n",
    "Больше всего процент наличия задолженности в категории `операции с автомобилем`, меньше всего на `операции с недвижимостью`, разница составляет ориентировочно 2% "
   ]
  },
  {
   "cell_type": "markdown",
   "id": "7d975870",
   "metadata": {},
   "source": [
    "##### Вывод 5:"
   ]
  },
  {
   "cell_type": "markdown",
   "id": "265feafb",
   "metadata": {},
   "source": [
    "Из сводной таблицы по целям кредита и уровнем дохода видно, что наибольший процент у задолженности у категории `1000001 и выше` на `получение образования` (25%), затем у категории `0–30000` на `операции с  недвижимостью` (18%), далее  в категории `30001–50000` на `операции с автомобилем` (14%). Наименьший процент в категории `0–30000` на `все категории кроме` `операции с  недвижимостью`, в категории `1000001 и выше` на `операции с автомобилем` и `проведение свадьбы`. \n",
    "\n",
    "\n",
    "\n",
    "Из сводной таблицы по количеству детей и семейному статусу видно, что наибольший процент у `Не женат / не замужем` с 4 детьми (50%), `гражданский брак`  с 3 детьми (14%) и с 1 ребенком (12%), `Не женат / не замужем` с 2 и 3 детьми (12%), с 1 ребенком 11%,  `вдовец / вдова` с 2 детьми (12%). Наименьшие  показатели (0%) у семей с 5 детьми, а также с 4 детьми (кроме `Не женат / не замужем`) "
   ]
  },
  {
   "cell_type": "markdown",
   "id": "e2048481",
   "metadata": {},
   "source": [
    "## Общий вывод:"
   ]
  },
  {
   "cell_type": "markdown",
   "id": "359bc38d",
   "metadata": {},
   "source": [
    "Согласно выводам разница по задолженности по отдельным параметрам варьируется до  2% -3 %. \n",
    "Однако если рассмотреть сравнения по двум параметрам (семейное положение и количество детей) и (уровень дохода и цели кредита), то разница по задолженности варьируется до 50%. \n",
    "Соответственно гипотезы подтвердились отчасти, а для нахождения закономерностей необходимо рассматривать данные по нескольким параметрам"
   ]
  }
 ],
 "metadata": {
  "ExecuteTimeLog": [
   {
    "duration": 3445,
    "start_time": "2022-02-18T06:09:50.611Z"
   },
   {
    "duration": 94,
    "start_time": "2022-02-18T06:10:26.898Z"
   },
   {
    "duration": 108,
    "start_time": "2022-02-18T06:12:08.414Z"
   },
   {
    "duration": 176,
    "start_time": "2022-02-18T13:34:16.290Z"
   },
   {
    "duration": 620,
    "start_time": "2022-02-18T13:34:26.100Z"
   },
   {
    "duration": 3,
    "start_time": "2022-02-18T13:34:32.223Z"
   },
   {
    "duration": 3,
    "start_time": "2022-02-18T13:34:52.336Z"
   },
   {
    "duration": 4,
    "start_time": "2022-02-18T13:35:57.526Z"
   },
   {
    "duration": 182,
    "start_time": "2022-02-18T13:36:24.469Z"
   },
   {
    "duration": 14,
    "start_time": "2022-02-18T13:38:38.542Z"
   },
   {
    "duration": 7,
    "start_time": "2022-02-18T13:39:01.851Z"
   },
   {
    "duration": 13,
    "start_time": "2022-02-18T13:40:35.792Z"
   },
   {
    "duration": 4,
    "start_time": "2022-02-18T13:41:21.900Z"
   },
   {
    "duration": 4,
    "start_time": "2022-02-18T13:42:23.331Z"
   },
   {
    "duration": 4,
    "start_time": "2022-02-18T13:42:35.721Z"
   },
   {
    "duration": 8,
    "start_time": "2022-02-18T13:43:32.587Z"
   },
   {
    "duration": 8,
    "start_time": "2022-02-18T13:44:03.284Z"
   },
   {
    "duration": 9,
    "start_time": "2022-02-18T13:46:17.745Z"
   },
   {
    "duration": 3396,
    "start_time": "2022-02-18T13:47:27.892Z"
   },
   {
    "duration": 8,
    "start_time": "2022-02-18T13:47:52.232Z"
   },
   {
    "duration": 8,
    "start_time": "2022-02-18T13:48:03.645Z"
   },
   {
    "duration": 7,
    "start_time": "2022-02-18T13:51:54.746Z"
   },
   {
    "duration": 49,
    "start_time": "2022-02-18T13:53:04.299Z"
   },
   {
    "duration": 44,
    "start_time": "2022-02-18T13:53:15.743Z"
   },
   {
    "duration": 45,
    "start_time": "2022-02-18T13:53:48.655Z"
   },
   {
    "duration": 45,
    "start_time": "2022-02-18T13:54:17.671Z"
   },
   {
    "duration": 44,
    "start_time": "2022-02-18T13:54:55.846Z"
   },
   {
    "duration": 68,
    "start_time": "2022-02-18T13:55:09.534Z"
   },
   {
    "duration": 47,
    "start_time": "2022-02-18T13:56:20.579Z"
   },
   {
    "duration": 42,
    "start_time": "2022-02-18T13:57:12.444Z"
   },
   {
    "duration": 8,
    "start_time": "2022-02-18T13:57:39.590Z"
   },
   {
    "duration": 6,
    "start_time": "2022-02-18T13:58:29.843Z"
   },
   {
    "duration": 8,
    "start_time": "2022-02-18T14:01:56.440Z"
   },
   {
    "duration": 9,
    "start_time": "2022-02-18T14:02:13.629Z"
   },
   {
    "duration": 9,
    "start_time": "2022-02-18T14:02:22.879Z"
   },
   {
    "duration": 72,
    "start_time": "2022-02-18T14:03:59.943Z"
   },
   {
    "duration": 11,
    "start_time": "2022-02-18T14:04:07.411Z"
   },
   {
    "duration": 16,
    "start_time": "2022-02-18T14:05:40.647Z"
   },
   {
    "duration": 17,
    "start_time": "2022-02-18T14:06:32.944Z"
   },
   {
    "duration": 125,
    "start_time": "2022-02-18T14:28:58.718Z"
   },
   {
    "duration": 9,
    "start_time": "2022-02-18T14:29:42.366Z"
   },
   {
    "duration": 14,
    "start_time": "2022-02-18T14:30:55.856Z"
   },
   {
    "duration": 145,
    "start_time": "2022-02-18T15:03:24.734Z"
   },
   {
    "duration": 146,
    "start_time": "2022-02-18T15:03:57.346Z"
   },
   {
    "duration": 14,
    "start_time": "2022-02-18T15:05:50.868Z"
   },
   {
    "duration": 362,
    "start_time": "2022-02-18T15:15:23.525Z"
   },
   {
    "duration": 1896,
    "start_time": "2022-02-18T15:16:02.256Z"
   },
   {
    "duration": 1811,
    "start_time": "2022-02-18T15:17:15.840Z"
   },
   {
    "duration": 1957,
    "start_time": "2022-02-18T15:19:01.590Z"
   },
   {
    "duration": 1741,
    "start_time": "2022-02-18T15:21:34.010Z"
   },
   {
    "duration": 144,
    "start_time": "2022-02-18T15:22:06.231Z"
   },
   {
    "duration": 49,
    "start_time": "2022-02-18T15:23:32.446Z"
   },
   {
    "duration": 140,
    "start_time": "2022-02-18T15:23:41.848Z"
   },
   {
    "duration": 126,
    "start_time": "2022-02-18T15:24:23.088Z"
   },
   {
    "duration": 3562,
    "start_time": "2022-02-18T15:31:44.782Z"
   },
   {
    "duration": 1982,
    "start_time": "2022-02-18T15:32:05.026Z"
   },
   {
    "duration": 1699,
    "start_time": "2022-02-18T15:32:48.178Z"
   },
   {
    "duration": 61,
    "start_time": "2022-02-18T15:33:05.040Z"
   },
   {
    "duration": 17,
    "start_time": "2022-02-18T15:33:07.039Z"
   },
   {
    "duration": 13,
    "start_time": "2022-02-18T15:33:08.084Z"
   },
   {
    "duration": 22,
    "start_time": "2022-02-18T15:33:10.123Z"
   },
   {
    "duration": 133,
    "start_time": "2022-02-18T15:33:19.945Z"
   },
   {
    "duration": 168,
    "start_time": "2022-02-18T15:34:39.398Z"
   },
   {
    "duration": 164,
    "start_time": "2022-02-18T15:35:26.852Z"
   },
   {
    "duration": 130,
    "start_time": "2022-02-18T15:36:17.436Z"
   },
   {
    "duration": 20,
    "start_time": "2022-02-18T15:37:06.629Z"
   },
   {
    "duration": 19,
    "start_time": "2022-02-18T15:37:23.709Z"
   },
   {
    "duration": 22,
    "start_time": "2022-02-18T15:37:34.441Z"
   },
   {
    "duration": 22,
    "start_time": "2022-02-18T15:37:43.502Z"
   },
   {
    "duration": 276,
    "start_time": "2022-02-18T15:37:54.000Z"
   },
   {
    "duration": 130,
    "start_time": "2022-02-18T15:38:17.087Z"
   },
   {
    "duration": 32,
    "start_time": "2022-02-18T15:44:44.307Z"
   },
   {
    "duration": 29,
    "start_time": "2022-02-18T15:45:10.175Z"
   },
   {
    "duration": 20,
    "start_time": "2022-02-18T15:46:36.626Z"
   },
   {
    "duration": 12,
    "start_time": "2022-02-18T15:46:46.402Z"
   },
   {
    "duration": 19,
    "start_time": "2022-02-18T15:57:43.838Z"
   },
   {
    "duration": 23,
    "start_time": "2022-02-18T15:58:55.735Z"
   },
   {
    "duration": 20,
    "start_time": "2022-02-18T16:01:48.118Z"
   },
   {
    "duration": 17,
    "start_time": "2022-02-18T16:02:00.297Z"
   },
   {
    "duration": 17,
    "start_time": "2022-02-18T16:02:10.752Z"
   },
   {
    "duration": 27,
    "start_time": "2022-02-18T16:05:21.615Z"
   },
   {
    "duration": 4,
    "start_time": "2022-02-18T16:14:34.690Z"
   },
   {
    "duration": 8,
    "start_time": "2022-02-18T16:15:43.458Z"
   },
   {
    "duration": 27,
    "start_time": "2022-02-18T16:19:34.680Z"
   },
   {
    "duration": 21,
    "start_time": "2022-02-18T16:19:36.716Z"
   },
   {
    "duration": 16,
    "start_time": "2022-02-18T16:19:38.984Z"
   },
   {
    "duration": 25,
    "start_time": "2022-02-18T16:19:41.226Z"
   },
   {
    "duration": 6,
    "start_time": "2022-02-18T16:19:43.299Z"
   },
   {
    "duration": 15,
    "start_time": "2022-02-18T16:20:22.711Z"
   },
   {
    "duration": 9,
    "start_time": "2022-02-18T16:20:38.579Z"
   },
   {
    "duration": 5,
    "start_time": "2022-02-18T16:32:54.347Z"
   },
   {
    "duration": 9,
    "start_time": "2022-02-18T16:34:17.164Z"
   },
   {
    "duration": 9,
    "start_time": "2022-02-18T16:37:38.194Z"
   },
   {
    "duration": 135,
    "start_time": "2022-02-18T16:38:16.590Z"
   },
   {
    "duration": 135,
    "start_time": "2022-02-18T16:38:41.131Z"
   },
   {
    "duration": 135,
    "start_time": "2022-02-18T16:39:21.880Z"
   },
   {
    "duration": 43,
    "start_time": "2022-02-18T16:42:12.053Z"
   },
   {
    "duration": 21,
    "start_time": "2022-02-18T16:42:20.819Z"
   },
   {
    "duration": 4,
    "start_time": "2022-02-18T16:46:36.520Z"
   },
   {
    "duration": 597,
    "start_time": "2022-02-18T16:50:02.463Z"
   },
   {
    "duration": 17,
    "start_time": "2022-02-18T16:50:05.443Z"
   },
   {
    "duration": 6,
    "start_time": "2022-02-18T16:50:06.977Z"
   },
   {
    "duration": 22,
    "start_time": "2022-02-18T16:50:09.889Z"
   },
   {
    "duration": 5,
    "start_time": "2022-02-18T16:50:17.306Z"
   },
   {
    "duration": 50,
    "start_time": "2022-02-18T16:50:18.403Z"
   },
   {
    "duration": 25,
    "start_time": "2022-02-18T16:50:32.459Z"
   },
   {
    "duration": 24,
    "start_time": "2022-02-18T16:50:36.024Z"
   },
   {
    "duration": 16,
    "start_time": "2022-02-18T16:50:39.595Z"
   },
   {
    "duration": 26,
    "start_time": "2022-02-18T16:50:42.785Z"
   },
   {
    "duration": 6,
    "start_time": "2022-02-18T16:50:46.226Z"
   },
   {
    "duration": 29,
    "start_time": "2022-02-18T16:59:00.842Z"
   },
   {
    "duration": 22,
    "start_time": "2022-02-18T16:59:48.922Z"
   },
   {
    "duration": 16,
    "start_time": "2022-02-18T16:59:55.882Z"
   },
   {
    "duration": 26,
    "start_time": "2022-02-18T17:00:00.169Z"
   },
   {
    "duration": 621,
    "start_time": "2022-02-18T17:00:22.302Z"
   },
   {
    "duration": 18,
    "start_time": "2022-02-18T17:00:25.759Z"
   },
   {
    "duration": 7,
    "start_time": "2022-02-18T17:00:29.404Z"
   },
   {
    "duration": 22,
    "start_time": "2022-02-18T17:00:32.584Z"
   },
   {
    "duration": 5,
    "start_time": "2022-02-18T17:00:37.024Z"
   },
   {
    "duration": 24,
    "start_time": "2022-02-18T17:00:39.495Z"
   },
   {
    "duration": 23,
    "start_time": "2022-02-18T17:00:45.257Z"
   },
   {
    "duration": 15,
    "start_time": "2022-02-18T17:00:48.247Z"
   },
   {
    "duration": 25,
    "start_time": "2022-02-18T17:00:52.536Z"
   },
   {
    "duration": 6,
    "start_time": "2022-02-18T17:00:58.931Z"
   },
   {
    "duration": 5,
    "start_time": "2022-02-18T17:02:05.401Z"
   },
   {
    "duration": 23,
    "start_time": "2022-02-18T17:23:58.362Z"
   },
   {
    "duration": 8,
    "start_time": "2022-02-18T17:32:12.781Z"
   },
   {
    "duration": 10,
    "start_time": "2022-02-18T17:32:51.568Z"
   },
   {
    "duration": 19,
    "start_time": "2022-02-18T17:33:40.320Z"
   },
   {
    "duration": 18,
    "start_time": "2022-02-18T17:34:33.930Z"
   },
   {
    "duration": 4,
    "start_time": "2022-02-18T17:45:19.927Z"
   },
   {
    "duration": 7,
    "start_time": "2022-02-18T17:46:15.480Z"
   },
   {
    "duration": 4,
    "start_time": "2022-02-18T17:48:55.735Z"
   },
   {
    "duration": 7,
    "start_time": "2022-02-18T17:51:46.447Z"
   },
   {
    "duration": 272,
    "start_time": "2022-02-18T18:19:12.614Z"
   },
   {
    "duration": 225,
    "start_time": "2022-02-18T18:22:18.789Z"
   },
   {
    "duration": 4,
    "start_time": "2022-02-18T18:22:31.186Z"
   },
   {
    "duration": 20,
    "start_time": "2022-02-18T18:24:21.392Z"
   },
   {
    "duration": 6,
    "start_time": "2022-02-18T18:39:28.119Z"
   },
   {
    "duration": 19,
    "start_time": "2022-02-18T18:40:59.874Z"
   },
   {
    "duration": 12,
    "start_time": "2022-02-18T19:07:26.543Z"
   },
   {
    "duration": 22,
    "start_time": "2022-02-18T19:11:36.288Z"
   },
   {
    "duration": 133,
    "start_time": "2022-02-18T19:19:21.347Z"
   },
   {
    "duration": 138,
    "start_time": "2022-02-18T19:19:38.142Z"
   },
   {
    "duration": 365,
    "start_time": "2022-02-18T19:20:01.258Z"
   },
   {
    "duration": 12,
    "start_time": "2022-02-18T19:21:31.523Z"
   },
   {
    "duration": 137,
    "start_time": "2022-02-18T19:21:56.276Z"
   },
   {
    "duration": 132,
    "start_time": "2022-02-18T19:22:32.530Z"
   },
   {
    "duration": 159,
    "start_time": "2022-02-18T19:22:39.868Z"
   },
   {
    "duration": 174,
    "start_time": "2022-02-18T19:22:55.398Z"
   },
   {
    "duration": 201,
    "start_time": "2022-02-18T19:23:02.179Z"
   },
   {
    "duration": 3222,
    "start_time": "2022-02-18T19:23:09.692Z"
   },
   {
    "duration": -9178,
    "start_time": "2022-02-18T19:23:22.094Z"
   },
   {
    "duration": -9184,
    "start_time": "2022-02-18T19:23:22.101Z"
   },
   {
    "duration": 48,
    "start_time": "2022-02-18T19:23:13.908Z"
   },
   {
    "duration": 663,
    "start_time": "2022-02-18T19:23:26.184Z"
   },
   {
    "duration": 16,
    "start_time": "2022-02-18T19:23:28.025Z"
   },
   {
    "duration": 8,
    "start_time": "2022-02-18T19:23:29.185Z"
   },
   {
    "duration": 24,
    "start_time": "2022-02-18T19:23:30.492Z"
   },
   {
    "duration": 6,
    "start_time": "2022-02-18T19:23:31.663Z"
   },
   {
    "duration": 25,
    "start_time": "2022-02-18T19:23:32.534Z"
   },
   {
    "duration": 22,
    "start_time": "2022-02-18T19:23:33.748Z"
   },
   {
    "duration": 15,
    "start_time": "2022-02-18T19:23:35.595Z"
   },
   {
    "duration": 28,
    "start_time": "2022-02-18T19:23:36.263Z"
   },
   {
    "duration": 49,
    "start_time": "2022-02-18T19:23:38.174Z"
   },
   {
    "duration": 21,
    "start_time": "2022-02-18T19:23:38.788Z"
   },
   {
    "duration": 13,
    "start_time": "2022-02-18T19:23:41.015Z"
   },
   {
    "duration": 61,
    "start_time": "2022-02-18T19:23:52.383Z"
   },
   {
    "duration": 209,
    "start_time": "2022-02-18T19:23:59.639Z"
   },
   {
    "duration": 215,
    "start_time": "2022-02-18T19:25:17.755Z"
   },
   {
    "duration": 175,
    "start_time": "2022-02-18T19:25:48.409Z"
   },
   {
    "duration": 160,
    "start_time": "2022-02-18T19:25:56.351Z"
   },
   {
    "duration": 12,
    "start_time": "2022-02-18T19:26:13.446Z"
   },
   {
    "duration": 3618,
    "start_time": "2022-02-18T19:26:46.001Z"
   },
   {
    "duration": -9179,
    "start_time": "2022-02-18T19:26:58.800Z"
   },
   {
    "duration": 174,
    "start_time": "2022-02-18T19:27:02.747Z"
   },
   {
    "duration": 55,
    "start_time": "2022-02-18T19:27:04.318Z"
   },
   {
    "duration": 632,
    "start_time": "2022-02-18T19:27:16.740Z"
   },
   {
    "duration": 17,
    "start_time": "2022-02-18T19:27:18.786Z"
   },
   {
    "duration": 6,
    "start_time": "2022-02-18T19:27:19.708Z"
   },
   {
    "duration": 27,
    "start_time": "2022-02-18T19:27:21.543Z"
   },
   {
    "duration": 5,
    "start_time": "2022-02-18T19:27:23.147Z"
   },
   {
    "duration": 26,
    "start_time": "2022-02-18T19:27:24.245Z"
   },
   {
    "duration": 22,
    "start_time": "2022-02-18T19:27:25.971Z"
   },
   {
    "duration": 16,
    "start_time": "2022-02-18T19:27:27.749Z"
   },
   {
    "duration": 24,
    "start_time": "2022-02-18T19:27:28.261Z"
   },
   {
    "duration": 50,
    "start_time": "2022-02-18T19:27:32.927Z"
   },
   {
    "duration": 18,
    "start_time": "2022-02-18T19:27:34.366Z"
   },
   {
    "duration": 11,
    "start_time": "2022-02-18T19:27:57.671Z"
   },
   {
    "duration": 18,
    "start_time": "2022-02-18T19:28:22.154Z"
   },
   {
    "duration": 77,
    "start_time": "2022-02-20T05:20:38.943Z"
   },
   {
    "duration": 5,
    "start_time": "2022-02-20T05:21:15.113Z"
   },
   {
    "duration": 288,
    "start_time": "2022-02-20T05:25:14.802Z"
   },
   {
    "duration": 653,
    "start_time": "2022-02-20T05:25:30.931Z"
   },
   {
    "duration": 18,
    "start_time": "2022-02-20T05:25:32.914Z"
   },
   {
    "duration": 6,
    "start_time": "2022-02-20T05:25:34.965Z"
   },
   {
    "duration": 23,
    "start_time": "2022-02-20T05:25:36.995Z"
   },
   {
    "duration": 5,
    "start_time": "2022-02-20T05:25:38.538Z"
   },
   {
    "duration": 26,
    "start_time": "2022-02-20T05:25:39.816Z"
   },
   {
    "duration": 22,
    "start_time": "2022-02-20T05:25:41.433Z"
   },
   {
    "duration": 17,
    "start_time": "2022-02-20T05:25:43.431Z"
   },
   {
    "duration": 28,
    "start_time": "2022-02-20T05:25:44.244Z"
   },
   {
    "duration": 20,
    "start_time": "2022-02-20T05:25:46.666Z"
   },
   {
    "duration": 12,
    "start_time": "2022-02-20T05:25:48.112Z"
   },
   {
    "duration": 16,
    "start_time": "2022-02-20T05:25:52.179Z"
   },
   {
    "duration": 14,
    "start_time": "2022-02-20T05:25:55.980Z"
   },
   {
    "duration": 24,
    "start_time": "2022-02-20T05:26:21.792Z"
   },
   {
    "duration": 24,
    "start_time": "2022-02-20T05:27:24.644Z"
   },
   {
    "duration": 25,
    "start_time": "2022-02-20T05:33:08.397Z"
   },
   {
    "duration": 309,
    "start_time": "2022-02-20T05:40:23.016Z"
   },
   {
    "duration": 39,
    "start_time": "2022-02-20T05:40:43.548Z"
   },
   {
    "duration": 44,
    "start_time": "2022-02-20T05:41:06.277Z"
   },
   {
    "duration": 48,
    "start_time": "2022-02-20T05:41:23.385Z"
   },
   {
    "duration": 47,
    "start_time": "2022-02-20T05:43:15.932Z"
   },
   {
    "duration": 676,
    "start_time": "2022-02-20T05:48:13.606Z"
   },
   {
    "duration": 34,
    "start_time": "2022-02-20T05:48:14.284Z"
   },
   {
    "duration": 6,
    "start_time": "2022-02-20T05:48:14.323Z"
   },
   {
    "duration": 23,
    "start_time": "2022-02-20T05:48:18.163Z"
   },
   {
    "duration": 6,
    "start_time": "2022-02-20T05:48:20.250Z"
   },
   {
    "duration": 27,
    "start_time": "2022-02-20T05:48:21.045Z"
   },
   {
    "duration": 23,
    "start_time": "2022-02-20T05:48:22.473Z"
   },
   {
    "duration": 15,
    "start_time": "2022-02-20T05:48:24.022Z"
   },
   {
    "duration": 27,
    "start_time": "2022-02-20T05:48:24.500Z"
   },
   {
    "duration": 22,
    "start_time": "2022-02-20T05:48:26.753Z"
   },
   {
    "duration": 13,
    "start_time": "2022-02-20T05:48:28.486Z"
   },
   {
    "duration": 20,
    "start_time": "2022-02-20T05:48:29.638Z"
   },
   {
    "duration": 5657,
    "start_time": "2022-02-20T05:48:31.774Z"
   },
   {
    "duration": 46,
    "start_time": "2022-02-20T05:48:54.487Z"
   },
   {
    "duration": 34,
    "start_time": "2022-02-20T05:51:40.723Z"
   },
   {
    "duration": 56,
    "start_time": "2022-02-20T05:55:44.577Z"
   },
   {
    "duration": 59,
    "start_time": "2022-02-20T06:01:02.204Z"
   },
   {
    "duration": 95,
    "start_time": "2022-02-20T06:21:13.956Z"
   },
   {
    "duration": 79,
    "start_time": "2022-02-20T06:26:33.232Z"
   },
   {
    "duration": 112,
    "start_time": "2022-02-20T06:29:38.061Z"
   },
   {
    "duration": 101,
    "start_time": "2022-02-20T06:30:42.425Z"
   },
   {
    "duration": 580,
    "start_time": "2022-02-20T06:39:19.624Z"
   },
   {
    "duration": 286,
    "start_time": "2022-02-20T06:46:40.518Z"
   },
   {
    "duration": 299,
    "start_time": "2022-02-20T06:46:54.263Z"
   },
   {
    "duration": 98,
    "start_time": "2022-02-20T06:50:25.466Z"
   },
   {
    "duration": 292,
    "start_time": "2022-02-20T06:51:00.958Z"
   },
   {
    "duration": 284,
    "start_time": "2022-02-20T06:51:25.508Z"
   },
   {
    "duration": 102,
    "start_time": "2022-02-20T06:52:01.890Z"
   },
   {
    "duration": 85,
    "start_time": "2022-02-20T06:59:06.579Z"
   },
   {
    "duration": 75,
    "start_time": "2022-02-20T06:59:48.244Z"
   },
   {
    "duration": 294,
    "start_time": "2022-02-20T07:00:18.885Z"
   },
   {
    "duration": 286,
    "start_time": "2022-02-20T07:02:47.905Z"
   },
   {
    "duration": 100,
    "start_time": "2022-02-20T07:03:11.693Z"
   },
   {
    "duration": 130,
    "start_time": "2022-02-20T07:07:21.221Z"
   },
   {
    "duration": 135,
    "start_time": "2022-02-20T07:07:32.587Z"
   },
   {
    "duration": 612,
    "start_time": "2022-02-20T07:09:56.658Z"
   },
   {
    "duration": 17,
    "start_time": "2022-02-20T07:09:57.585Z"
   },
   {
    "duration": 6,
    "start_time": "2022-02-20T07:09:58.121Z"
   },
   {
    "duration": 24,
    "start_time": "2022-02-20T07:09:59.930Z"
   },
   {
    "duration": 5,
    "start_time": "2022-02-20T07:10:01.170Z"
   },
   {
    "duration": 24,
    "start_time": "2022-02-20T07:10:01.946Z"
   },
   {
    "duration": 22,
    "start_time": "2022-02-20T07:10:03.339Z"
   },
   {
    "duration": 16,
    "start_time": "2022-02-20T07:10:04.438Z"
   },
   {
    "duration": 26,
    "start_time": "2022-02-20T07:10:05.018Z"
   },
   {
    "duration": 21,
    "start_time": "2022-02-20T07:10:07.257Z"
   },
   {
    "duration": 13,
    "start_time": "2022-02-20T07:10:08.936Z"
   },
   {
    "duration": 18,
    "start_time": "2022-02-20T07:10:11.743Z"
   },
   {
    "duration": 25,
    "start_time": "2022-02-20T07:10:15.083Z"
   },
   {
    "duration": 100,
    "start_time": "2022-02-20T07:10:21.822Z"
   },
   {
    "duration": 87,
    "start_time": "2022-02-20T07:11:05.991Z"
   },
   {
    "duration": 98,
    "start_time": "2022-02-20T07:13:18.569Z"
   },
   {
    "duration": 398,
    "start_time": "2022-02-20T07:14:21.468Z"
   },
   {
    "duration": 277,
    "start_time": "2022-02-20T07:14:52.331Z"
   },
   {
    "duration": 86,
    "start_time": "2022-02-20T07:15:21.909Z"
   },
   {
    "duration": 110,
    "start_time": "2022-02-20T07:15:34.923Z"
   },
   {
    "duration": 78,
    "start_time": "2022-02-20T07:17:22.406Z"
   },
   {
    "duration": 100,
    "start_time": "2022-02-20T07:19:16.751Z"
   },
   {
    "duration": 30,
    "start_time": "2022-02-20T07:22:48.701Z"
   },
   {
    "duration": 20,
    "start_time": "2022-02-20T07:29:42.155Z"
   },
   {
    "duration": 18,
    "start_time": "2022-02-20T07:29:45.784Z"
   },
   {
    "duration": 19,
    "start_time": "2022-02-20T07:29:57.189Z"
   },
   {
    "duration": 22,
    "start_time": "2022-02-20T07:30:12.577Z"
   },
   {
    "duration": 40,
    "start_time": "2022-02-20T07:31:18.152Z"
   },
   {
    "duration": 70,
    "start_time": "2022-02-20T07:34:46.583Z"
   },
   {
    "duration": 19,
    "start_time": "2022-02-20T07:34:58.073Z"
   },
   {
    "duration": 114,
    "start_time": "2022-02-20T07:37:17.490Z"
   },
   {
    "duration": 25,
    "start_time": "2022-02-20T07:38:36.899Z"
   },
   {
    "duration": 23,
    "start_time": "2022-02-20T07:39:23.419Z"
   },
   {
    "duration": 18,
    "start_time": "2022-02-20T07:39:49.504Z"
   },
   {
    "duration": 20,
    "start_time": "2022-02-20T07:40:22.216Z"
   },
   {
    "duration": 250,
    "start_time": "2022-02-20T09:08:45.130Z"
   },
   {
    "duration": 28,
    "start_time": "2022-02-20T09:09:16.273Z"
   },
   {
    "duration": 6511,
    "start_time": "2022-02-20T09:09:50.787Z"
   },
   {
    "duration": 27,
    "start_time": "2022-02-20T09:09:57.981Z"
   },
   {
    "duration": 29,
    "start_time": "2022-02-20T09:12:17.992Z"
   },
   {
    "duration": 28,
    "start_time": "2022-02-20T09:12:30.890Z"
   },
   {
    "duration": 29,
    "start_time": "2022-02-20T09:13:05.640Z"
   },
   {
    "duration": 21,
    "start_time": "2022-02-20T09:14:14.122Z"
   },
   {
    "duration": 32,
    "start_time": "2022-02-20T09:29:08.504Z"
   },
   {
    "duration": 11,
    "start_time": "2022-02-20T09:29:48.964Z"
   },
   {
    "duration": 23,
    "start_time": "2022-02-20T09:50:22.598Z"
   },
   {
    "duration": 14,
    "start_time": "2022-02-20T09:59:31.616Z"
   },
   {
    "duration": 31,
    "start_time": "2022-02-20T10:01:19.892Z"
   },
   {
    "duration": 14,
    "start_time": "2022-02-20T10:02:34.926Z"
   },
   {
    "duration": 75,
    "start_time": "2022-02-20T10:03:17.297Z"
   },
   {
    "duration": 231,
    "start_time": "2022-02-20T10:05:26.171Z"
   },
   {
    "duration": 236,
    "start_time": "2022-02-20T10:05:57.797Z"
   },
   {
    "duration": 87,
    "start_time": "2022-02-20T10:11:42.455Z"
   },
   {
    "duration": 231,
    "start_time": "2022-02-20T10:12:10.043Z"
   },
   {
    "duration": 14,
    "start_time": "2022-02-20T10:13:04.871Z"
   },
   {
    "duration": 52,
    "start_time": "2022-02-20T10:26:50.055Z"
   },
   {
    "duration": 240,
    "start_time": "2022-02-20T10:27:40.354Z"
   },
   {
    "duration": 50,
    "start_time": "2022-02-20T10:28:56.015Z"
   },
   {
    "duration": 49,
    "start_time": "2022-02-20T10:29:06.785Z"
   },
   {
    "duration": 15,
    "start_time": "2022-02-20T10:29:52.223Z"
   },
   {
    "duration": 14,
    "start_time": "2022-02-20T10:30:06.042Z"
   },
   {
    "duration": 217,
    "start_time": "2022-02-20T10:30:49.478Z"
   },
   {
    "duration": 226,
    "start_time": "2022-02-20T10:31:31.636Z"
   },
   {
    "duration": 321,
    "start_time": "2022-02-20T10:32:43.361Z"
   },
   {
    "duration": 15,
    "start_time": "2022-02-20T10:33:17.000Z"
   },
   {
    "duration": 590,
    "start_time": "2022-02-21T04:53:28.016Z"
   },
   {
    "duration": 17,
    "start_time": "2022-02-21T04:53:31.065Z"
   },
   {
    "duration": 6,
    "start_time": "2022-02-21T04:53:33.430Z"
   },
   {
    "duration": 22,
    "start_time": "2022-02-21T04:53:35.551Z"
   },
   {
    "duration": 5,
    "start_time": "2022-02-21T04:53:37.719Z"
   },
   {
    "duration": 28,
    "start_time": "2022-02-21T04:53:40.361Z"
   },
   {
    "duration": 24,
    "start_time": "2022-02-21T04:53:44.236Z"
   },
   {
    "duration": 16,
    "start_time": "2022-02-21T04:53:47.921Z"
   },
   {
    "duration": 25,
    "start_time": "2022-02-21T04:53:48.755Z"
   },
   {
    "duration": 22,
    "start_time": "2022-02-21T04:53:58.666Z"
   },
   {
    "duration": 13,
    "start_time": "2022-02-21T04:54:00.081Z"
   },
   {
    "duration": 17,
    "start_time": "2022-02-21T04:54:02.835Z"
   },
   {
    "duration": 24,
    "start_time": "2022-02-21T04:54:08.947Z"
   },
   {
    "duration": 46,
    "start_time": "2022-02-21T04:54:11.370Z"
   },
   {
    "duration": 263,
    "start_time": "2022-02-21T04:54:13.235Z"
   },
   {
    "duration": 26,
    "start_time": "2022-02-21T04:54:28.738Z"
   },
   {
    "duration": 198,
    "start_time": "2022-02-21T05:00:11.352Z"
   },
   {
    "duration": 25,
    "start_time": "2022-02-21T05:00:48.717Z"
   },
   {
    "duration": 24,
    "start_time": "2022-02-21T05:01:19.223Z"
   },
   {
    "duration": 19,
    "start_time": "2022-02-21T05:02:11.866Z"
   },
   {
    "duration": 45,
    "start_time": "2022-02-21T05:03:20.224Z"
   },
   {
    "duration": 28,
    "start_time": "2022-02-21T05:04:23.377Z"
   },
   {
    "duration": 139,
    "start_time": "2022-02-21T05:05:48.133Z"
   },
   {
    "duration": 27,
    "start_time": "2022-02-21T05:06:56.937Z"
   },
   {
    "duration": 164,
    "start_time": "2022-02-21T05:08:01.374Z"
   },
   {
    "duration": 144,
    "start_time": "2022-02-21T05:08:05.715Z"
   },
   {
    "duration": 213,
    "start_time": "2022-02-21T05:08:11.239Z"
   },
   {
    "duration": 40,
    "start_time": "2022-02-21T05:10:06.213Z"
   },
   {
    "duration": 39,
    "start_time": "2022-02-21T05:10:23.408Z"
   },
   {
    "duration": 30,
    "start_time": "2022-02-21T05:11:15.612Z"
   },
   {
    "duration": 31,
    "start_time": "2022-02-21T05:11:25.680Z"
   },
   {
    "duration": 40,
    "start_time": "2022-02-21T05:15:28.189Z"
   },
   {
    "duration": 163,
    "start_time": "2022-02-21T05:16:33.741Z"
   },
   {
    "duration": 169,
    "start_time": "2022-02-21T05:16:59.369Z"
   },
   {
    "duration": 31,
    "start_time": "2022-02-21T05:17:06.024Z"
   },
   {
    "duration": 166,
    "start_time": "2022-02-21T05:18:10.109Z"
   },
   {
    "duration": 30,
    "start_time": "2022-02-21T05:18:35.156Z"
   },
   {
    "duration": 31,
    "start_time": "2022-02-21T05:19:54.292Z"
   },
   {
    "duration": 154,
    "start_time": "2022-02-21T05:20:21.421Z"
   },
   {
    "duration": 34,
    "start_time": "2022-02-21T05:21:01.927Z"
   },
   {
    "duration": 35,
    "start_time": "2022-02-21T05:24:16.114Z"
   },
   {
    "duration": 36,
    "start_time": "2022-02-21T05:24:47.844Z"
   },
   {
    "duration": 47,
    "start_time": "2022-02-21T05:25:22.075Z"
   },
   {
    "duration": 329,
    "start_time": "2022-02-21T05:25:40.739Z"
   },
   {
    "duration": 37,
    "start_time": "2022-02-21T05:26:28.200Z"
   },
   {
    "duration": 37,
    "start_time": "2022-02-21T05:26:43.578Z"
   },
   {
    "duration": 40,
    "start_time": "2022-02-21T05:26:53.992Z"
   },
   {
    "duration": 37,
    "start_time": "2022-02-21T05:28:17.529Z"
   },
   {
    "duration": 37,
    "start_time": "2022-02-21T05:28:34.809Z"
   },
   {
    "duration": 32,
    "start_time": "2022-02-21T05:29:30.608Z"
   },
   {
    "duration": 30,
    "start_time": "2022-02-21T05:29:45.279Z"
   },
   {
    "duration": 47,
    "start_time": "2022-02-21T05:30:06.463Z"
   },
   {
    "duration": 34,
    "start_time": "2022-02-21T05:30:13.777Z"
   },
   {
    "duration": 37,
    "start_time": "2022-02-21T05:31:41.344Z"
   },
   {
    "duration": 186,
    "start_time": "2022-02-21T05:34:39.282Z"
   },
   {
    "duration": 39,
    "start_time": "2022-02-21T05:34:49.867Z"
   },
   {
    "duration": 41,
    "start_time": "2022-02-21T05:35:25.108Z"
   },
   {
    "duration": 42,
    "start_time": "2022-02-21T05:36:34.653Z"
   },
   {
    "duration": 42,
    "start_time": "2022-02-21T05:38:37.978Z"
   },
   {
    "duration": 42,
    "start_time": "2022-02-21T05:39:26.387Z"
   },
   {
    "duration": 31,
    "start_time": "2022-02-21T05:39:27.040Z"
   },
   {
    "duration": 31,
    "start_time": "2022-02-21T05:39:27.737Z"
   },
   {
    "duration": 37,
    "start_time": "2022-02-21T05:39:29.730Z"
   },
   {
    "duration": 27,
    "start_time": "2022-02-21T05:44:11.040Z"
   },
   {
    "duration": 237,
    "start_time": "2022-02-21T05:44:41.012Z"
   },
   {
    "duration": 240,
    "start_time": "2022-02-21T05:45:05.828Z"
   },
   {
    "duration": 35,
    "start_time": "2022-02-21T05:45:31.571Z"
   },
   {
    "duration": 39,
    "start_time": "2022-02-21T05:45:53.460Z"
   },
   {
    "duration": 36,
    "start_time": "2022-02-21T05:47:48.288Z"
   },
   {
    "duration": 35,
    "start_time": "2022-02-21T05:50:04.621Z"
   },
   {
    "duration": 44,
    "start_time": "2022-02-21T05:51:52.710Z"
   },
   {
    "duration": 35,
    "start_time": "2022-02-21T05:52:13.812Z"
   },
   {
    "duration": 37,
    "start_time": "2022-02-21T06:03:15.894Z"
   },
   {
    "duration": 34,
    "start_time": "2022-02-21T06:03:44.686Z"
   },
   {
    "duration": 47,
    "start_time": "2022-02-21T06:04:29.191Z"
   },
   {
    "duration": 31,
    "start_time": "2022-02-21T06:05:02.920Z"
   },
   {
    "duration": 31,
    "start_time": "2022-02-21T06:05:27.251Z"
   },
   {
    "duration": 32,
    "start_time": "2022-02-21T06:05:51.513Z"
   },
   {
    "duration": 43,
    "start_time": "2022-02-21T06:06:32.478Z"
   },
   {
    "duration": 38,
    "start_time": "2022-02-21T06:07:16.791Z"
   },
   {
    "duration": 38,
    "start_time": "2022-02-21T06:07:37.885Z"
   },
   {
    "duration": 35,
    "start_time": "2022-02-21T06:07:52.710Z"
   },
   {
    "duration": 1037,
    "start_time": "2022-02-21T10:37:01.530Z"
   },
   {
    "duration": 60,
    "start_time": "2022-02-21T10:40:29.120Z"
   },
   {
    "duration": 1160,
    "start_time": "2022-02-21T10:40:56.813Z"
   },
   {
    "duration": 56,
    "start_time": "2022-02-21T10:41:03.290Z"
   },
   {
    "duration": 70,
    "start_time": "2022-02-21T10:44:04.797Z"
   },
   {
    "duration": 70,
    "start_time": "2022-02-21T10:45:12.838Z"
   },
   {
    "duration": 73,
    "start_time": "2022-02-21T10:47:37.223Z"
   },
   {
    "duration": 73,
    "start_time": "2022-02-21T10:48:54.448Z"
   },
   {
    "duration": 79,
    "start_time": "2022-02-21T10:49:09.692Z"
   },
   {
    "duration": 85,
    "start_time": "2022-02-21T10:53:13.888Z"
   },
   {
    "duration": 411,
    "start_time": "2022-02-21T10:53:20.102Z"
   },
   {
    "duration": 144,
    "start_time": "2022-02-21T10:53:50.993Z"
   },
   {
    "duration": 1450,
    "start_time": "2022-02-21T10:54:01.881Z"
   },
   {
    "duration": 106,
    "start_time": "2022-02-21T10:54:16.816Z"
   },
   {
    "duration": 125,
    "start_time": "2022-02-21T11:24:01.456Z"
   },
   {
    "duration": 117,
    "start_time": "2022-02-21T11:24:29.988Z"
   },
   {
    "duration": 145,
    "start_time": "2022-02-21T11:25:51.858Z"
   },
   {
    "duration": 807,
    "start_time": "2022-02-21T11:45:07.811Z"
   },
   {
    "duration": 305,
    "start_time": "2022-02-21T11:45:24.644Z"
   },
   {
    "duration": 396,
    "start_time": "2022-02-21T11:46:56.503Z"
   },
   {
    "duration": 394,
    "start_time": "2022-02-21T11:48:08.154Z"
   },
   {
    "duration": 282,
    "start_time": "2022-02-21T11:48:37.297Z"
   },
   {
    "duration": 317,
    "start_time": "2022-02-21T11:49:19.724Z"
   },
   {
    "duration": 1270,
    "start_time": "2022-02-21T12:09:11.529Z"
   },
   {
    "duration": 20,
    "start_time": "2022-02-21T12:09:12.801Z"
   },
   {
    "duration": 7,
    "start_time": "2022-02-21T12:09:12.954Z"
   },
   {
    "duration": 23,
    "start_time": "2022-02-21T12:09:13.495Z"
   },
   {
    "duration": 6,
    "start_time": "2022-02-21T12:09:13.998Z"
   },
   {
    "duration": 28,
    "start_time": "2022-02-21T12:09:14.464Z"
   },
   {
    "duration": 24,
    "start_time": "2022-02-21T12:09:15.095Z"
   },
   {
    "duration": 17,
    "start_time": "2022-02-21T12:09:15.785Z"
   },
   {
    "duration": 28,
    "start_time": "2022-02-21T12:09:16.039Z"
   },
   {
    "duration": 22,
    "start_time": "2022-02-21T12:09:17.416Z"
   },
   {
    "duration": 14,
    "start_time": "2022-02-21T12:09:17.864Z"
   },
   {
    "duration": 39,
    "start_time": "2022-02-21T12:09:18.698Z"
   },
   {
    "duration": 25,
    "start_time": "2022-02-21T12:09:19.529Z"
   },
   {
    "duration": 50,
    "start_time": "2022-02-21T12:09:20.945Z"
   },
   {
    "duration": 37,
    "start_time": "2022-02-21T12:09:20.997Z"
   },
   {
    "duration": 38,
    "start_time": "2022-02-21T12:09:21.316Z"
   },
   {
    "duration": 40,
    "start_time": "2022-02-21T12:09:21.888Z"
   },
   {
    "duration": 109,
    "start_time": "2022-02-21T12:09:22.998Z"
   },
   {
    "duration": 296,
    "start_time": "2022-02-21T12:09:23.895Z"
   },
   {
    "duration": 307,
    "start_time": "2022-02-21T12:09:24.623Z"
   },
   {
    "duration": 1196,
    "start_time": "2022-03-03T14:47:28.288Z"
   },
   {
    "duration": 16,
    "start_time": "2022-03-03T14:47:29.486Z"
   },
   {
    "duration": 6,
    "start_time": "2022-03-03T14:47:29.503Z"
   },
   {
    "duration": 42,
    "start_time": "2022-03-03T14:47:29.510Z"
   },
   {
    "duration": 8,
    "start_time": "2022-03-03T14:47:29.554Z"
   },
   {
    "duration": 30,
    "start_time": "2022-03-03T14:47:29.564Z"
   },
   {
    "duration": 48,
    "start_time": "2022-03-03T14:47:29.596Z"
   },
   {
    "duration": 26,
    "start_time": "2022-03-03T14:47:29.647Z"
   },
   {
    "duration": 25,
    "start_time": "2022-03-03T14:47:29.674Z"
   },
   {
    "duration": 58,
    "start_time": "2022-03-03T14:47:29.701Z"
   },
   {
    "duration": 15,
    "start_time": "2022-03-03T14:47:29.761Z"
   },
   {
    "duration": 56,
    "start_time": "2022-03-03T14:47:29.778Z"
   },
   {
    "duration": 38,
    "start_time": "2022-03-03T14:47:29.836Z"
   },
   {
    "duration": 71,
    "start_time": "2022-03-03T14:47:29.876Z"
   },
   {
    "duration": 34,
    "start_time": "2022-03-03T14:47:29.949Z"
   },
   {
    "duration": 76,
    "start_time": "2022-03-03T14:47:29.985Z"
   },
   {
    "duration": 33,
    "start_time": "2022-03-03T14:47:30.063Z"
   },
   {
    "duration": 154,
    "start_time": "2022-03-03T14:47:30.098Z"
   },
   {
    "duration": 310,
    "start_time": "2022-03-03T14:47:30.254Z"
   },
   {
    "duration": 274,
    "start_time": "2022-03-03T14:47:30.565Z"
   },
   {
    "duration": 8,
    "start_time": "2022-03-03T14:56:00.046Z"
   },
   {
    "duration": 7,
    "start_time": "2022-03-03T14:56:26.515Z"
   },
   {
    "duration": 261,
    "start_time": "2022-03-05T05:59:13.734Z"
   }
  ],
  "kernelspec": {
   "display_name": "Python 3 (ipykernel)",
   "language": "python",
   "name": "python3"
  },
  "language_info": {
   "codemirror_mode": {
    "name": "ipython",
    "version": 3
   },
   "file_extension": ".py",
   "mimetype": "text/x-python",
   "name": "python",
   "nbconvert_exporter": "python",
   "pygments_lexer": "ipython3",
   "version": "3.9.12"
  },
  "toc": {
   "base_numbering": 1,
   "nav_menu": {},
   "number_sections": true,
   "sideBar": true,
   "skip_h1_title": true,
   "title_cell": "Table of Contents",
   "title_sidebar": "Contents",
   "toc_cell": false,
   "toc_position": {},
   "toc_section_display": true,
   "toc_window_display": false
  }
 },
 "nbformat": 4,
 "nbformat_minor": 5
}
