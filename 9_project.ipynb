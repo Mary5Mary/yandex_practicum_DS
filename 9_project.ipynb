{
 "cells": [
  {
   "cell_type": "markdown",
   "metadata": {
    "toc": true
   },
   "source": [
    "<h1>Содержание<span class=\"tocSkip\"></span></h1>\n",
    "<div class=\"toc\"><ul class=\"toc-item\"><li><span><a href=\"#Загрузка-данных\" data-toc-modified-id=\"Загрузка-данных-1\"><span class=\"toc-item-num\">1&nbsp;&nbsp;</span>Загрузка данных</a></span></li><li><span><a href=\"#Умножение-матриц\" data-toc-modified-id=\"Умножение-матриц-2\"><span class=\"toc-item-num\">2&nbsp;&nbsp;</span>Умножение матриц</a></span></li><li><span><a href=\"#Алгоритм-преобразования\" data-toc-modified-id=\"Алгоритм-преобразования-3\"><span class=\"toc-item-num\">3&nbsp;&nbsp;</span>Алгоритм преобразования</a></span></li><li><span><a href=\"#Проверка-алгоритма\" data-toc-modified-id=\"Проверка-алгоритма-4\"><span class=\"toc-item-num\">4&nbsp;&nbsp;</span>Проверка алгоритма</a></span></li><li><span><a href=\"#Чек-лист-проверки\" data-toc-modified-id=\"Чек-лист-проверки-5\"><span class=\"toc-item-num\">5&nbsp;&nbsp;</span>Чек-лист проверки</a></span></li></ul></div>"
   ]
  },
  {
   "cell_type": "markdown",
   "metadata": {},
   "source": [
    "# Защита персональных данных клиентов"
   ]
  },
  {
   "cell_type": "markdown",
   "metadata": {},
   "source": [
    "Вам нужно защитить данные клиентов страховой компании «Хоть потоп». Разработайте такой метод преобразования данных, чтобы по ним было сложно восстановить персональную информацию. Обоснуйте корректность его работы.\n",
    "\n",
    "Нужно защитить данные, чтобы при преобразовании качество моделей машинного обучения не ухудшилось. Подбирать наилучшую модель не требуется."
   ]
  },
  {
   "cell_type": "markdown",
   "metadata": {},
   "source": [
    "## Загрузка данных"
   ]
  },
  {
   "cell_type": "code",
   "execution_count": 1,
   "metadata": {},
   "outputs": [],
   "source": [
    "import pandas as pd\n",
    "import numpy as np\n",
    "from sklearn.model_selection import train_test_split\n",
    "from sklearn.linear_model import LinearRegression\n",
    "from sklearn.metrics import r2_score"
   ]
  },
  {
   "cell_type": "code",
   "execution_count": 2,
   "metadata": {},
   "outputs": [],
   "source": [
    "df = pd.read_csv('/datasets/insurance.csv')"
   ]
  },
  {
   "cell_type": "code",
   "execution_count": 3,
   "metadata": {},
   "outputs": [
    {
     "name": "stdout",
     "output_type": "stream",
     "text": [
      "<class 'pandas.core.frame.DataFrame'>\n",
      "RangeIndex: 5000 entries, 0 to 4999\n",
      "Data columns (total 5 columns):\n",
      " #   Column             Non-Null Count  Dtype  \n",
      "---  ------             --------------  -----  \n",
      " 0   Пол                5000 non-null   int64  \n",
      " 1   Возраст            5000 non-null   float64\n",
      " 2   Зарплата           5000 non-null   float64\n",
      " 3   Члены семьи        5000 non-null   int64  \n",
      " 4   Страховые выплаты  5000 non-null   int64  \n",
      "dtypes: float64(2), int64(3)\n",
      "memory usage: 195.4 KB\n"
     ]
    }
   ],
   "source": [
    "df.info()"
   ]
  },
  {
   "cell_type": "markdown",
   "metadata": {},
   "source": [
    "Проверим на наличие дупликатов, при наличии удалим их"
   ]
  },
  {
   "cell_type": "code",
   "execution_count": 4,
   "metadata": {},
   "outputs": [
    {
     "data": {
      "text/plain": [
       "153"
      ]
     },
     "execution_count": 4,
     "metadata": {},
     "output_type": "execute_result"
    }
   ],
   "source": [
    "df.duplicated().sum()"
   ]
  },
  {
   "cell_type": "code",
   "execution_count": 5,
   "metadata": {},
   "outputs": [
    {
     "data": {
      "text/plain": [
       "(4847, 5)"
      ]
     },
     "execution_count": 5,
     "metadata": {},
     "output_type": "execute_result"
    }
   ],
   "source": [
    "df=df.drop_duplicates()\n",
    "df.shape"
   ]
  },
  {
   "cell_type": "markdown",
   "metadata": {},
   "source": [
    "Посмотрим распределение значений."
   ]
  },
  {
   "cell_type": "code",
   "execution_count": 6,
   "metadata": {},
   "outputs": [
    {
     "data": {
      "text/html": [
       "<div>\n",
       "<style scoped>\n",
       "    .dataframe tbody tr th:only-of-type {\n",
       "        vertical-align: middle;\n",
       "    }\n",
       "\n",
       "    .dataframe tbody tr th {\n",
       "        vertical-align: top;\n",
       "    }\n",
       "\n",
       "    .dataframe thead th {\n",
       "        text-align: right;\n",
       "    }\n",
       "</style>\n",
       "<table border=\"1\" class=\"dataframe\">\n",
       "  <thead>\n",
       "    <tr style=\"text-align: right;\">\n",
       "      <th></th>\n",
       "      <th>Пол</th>\n",
       "      <th>Возраст</th>\n",
       "      <th>Зарплата</th>\n",
       "      <th>Члены семьи</th>\n",
       "      <th>Страховые выплаты</th>\n",
       "    </tr>\n",
       "  </thead>\n",
       "  <tbody>\n",
       "    <tr>\n",
       "      <th>count</th>\n",
       "      <td>4847.000000</td>\n",
       "      <td>4847.000000</td>\n",
       "      <td>4847.000000</td>\n",
       "      <td>4847.000000</td>\n",
       "      <td>4847.000000</td>\n",
       "    </tr>\n",
       "    <tr>\n",
       "      <th>mean</th>\n",
       "      <td>0.498453</td>\n",
       "      <td>31.023932</td>\n",
       "      <td>39895.811842</td>\n",
       "      <td>1.203425</td>\n",
       "      <td>0.152259</td>\n",
       "    </tr>\n",
       "    <tr>\n",
       "      <th>std</th>\n",
       "      <td>0.500049</td>\n",
       "      <td>8.487995</td>\n",
       "      <td>9972.953985</td>\n",
       "      <td>1.098664</td>\n",
       "      <td>0.468934</td>\n",
       "    </tr>\n",
       "    <tr>\n",
       "      <th>min</th>\n",
       "      <td>0.000000</td>\n",
       "      <td>18.000000</td>\n",
       "      <td>5300.000000</td>\n",
       "      <td>0.000000</td>\n",
       "      <td>0.000000</td>\n",
       "    </tr>\n",
       "    <tr>\n",
       "      <th>25%</th>\n",
       "      <td>0.000000</td>\n",
       "      <td>24.000000</td>\n",
       "      <td>33200.000000</td>\n",
       "      <td>0.000000</td>\n",
       "      <td>0.000000</td>\n",
       "    </tr>\n",
       "    <tr>\n",
       "      <th>50%</th>\n",
       "      <td>0.000000</td>\n",
       "      <td>30.000000</td>\n",
       "      <td>40200.000000</td>\n",
       "      <td>1.000000</td>\n",
       "      <td>0.000000</td>\n",
       "    </tr>\n",
       "    <tr>\n",
       "      <th>75%</th>\n",
       "      <td>1.000000</td>\n",
       "      <td>37.000000</td>\n",
       "      <td>46600.000000</td>\n",
       "      <td>2.000000</td>\n",
       "      <td>0.000000</td>\n",
       "    </tr>\n",
       "    <tr>\n",
       "      <th>max</th>\n",
       "      <td>1.000000</td>\n",
       "      <td>65.000000</td>\n",
       "      <td>79000.000000</td>\n",
       "      <td>6.000000</td>\n",
       "      <td>5.000000</td>\n",
       "    </tr>\n",
       "  </tbody>\n",
       "</table>\n",
       "</div>"
      ],
      "text/plain": [
       "               Пол      Возраст      Зарплата  Члены семьи  Страховые выплаты\n",
       "count  4847.000000  4847.000000   4847.000000  4847.000000        4847.000000\n",
       "mean      0.498453    31.023932  39895.811842     1.203425           0.152259\n",
       "std       0.500049     8.487995   9972.953985     1.098664           0.468934\n",
       "min       0.000000    18.000000   5300.000000     0.000000           0.000000\n",
       "25%       0.000000    24.000000  33200.000000     0.000000           0.000000\n",
       "50%       0.000000    30.000000  40200.000000     1.000000           0.000000\n",
       "75%       1.000000    37.000000  46600.000000     2.000000           0.000000\n",
       "max       1.000000    65.000000  79000.000000     6.000000           5.000000"
      ]
     },
     "execution_count": 6,
     "metadata": {},
     "output_type": "execute_result"
    }
   ],
   "source": [
    "df.describe()"
   ]
  },
  {
   "cell_type": "markdown",
   "metadata": {},
   "source": [
    "Выбросов не замечено.\n",
    "\n",
    "Преобразуем колонки в целое число"
   ]
  },
  {
   "cell_type": "code",
   "execution_count": 7,
   "metadata": {},
   "outputs": [],
   "source": [
    "df['Возраст'] = df['Возраст'].astype('int')\n",
    "df['Зарплата'] = df['Зарплата'].astype('int')\n"
   ]
  },
  {
   "cell_type": "markdown",
   "metadata": {},
   "source": [
    "Проверим уникальные значения для оценки данных на наличие аномалий"
   ]
  },
  {
   "cell_type": "code",
   "execution_count": 8,
   "metadata": {},
   "outputs": [
    {
     "name": "stdout",
     "output_type": "stream",
     "text": [
      "[1 0]\n",
      "[41 46 29 21 28 43 39 25 36 32 38 23 40 34 26 42 27 33 47 30 19 31 22 20\n",
      " 24 18 37 48 45 44 52 49 35 56 65 55 57 54 50 53 51 58 59 60 61 62]\n",
      "[1 0 2 4 3 5 6]\n",
      "[0 1 2 3 5 4]\n"
     ]
    }
   ],
   "source": [
    "print(df['Пол'].unique())\n",
    "print(df['Возраст'].unique())\n",
    "print(df['Члены семьи'].unique())\n",
    "print(df['Страховые выплаты'].unique())"
   ]
  },
  {
   "cell_type": "markdown",
   "metadata": {},
   "source": [
    "Аномалии не выявлены\n",
    "\n",
    "Итого получили данные с 5 столбцами и 4847 строками "
   ]
  },
  {
   "cell_type": "code",
   "execution_count": 9,
   "metadata": {},
   "outputs": [
    {
     "name": "stdout",
     "output_type": "stream",
     "text": [
      "<class 'pandas.core.frame.DataFrame'>\n",
      "Int64Index: 4847 entries, 0 to 4999\n",
      "Data columns (total 5 columns):\n",
      " #   Column             Non-Null Count  Dtype\n",
      "---  ------             --------------  -----\n",
      " 0   Пол                4847 non-null   int64\n",
      " 1   Возраст            4847 non-null   int64\n",
      " 2   Зарплата           4847 non-null   int64\n",
      " 3   Члены семьи        4847 non-null   int64\n",
      " 4   Страховые выплаты  4847 non-null   int64\n",
      "dtypes: int64(5)\n",
      "memory usage: 227.2 KB\n"
     ]
    }
   ],
   "source": [
    "df.info()"
   ]
  },
  {
   "cell_type": "markdown",
   "metadata": {},
   "source": [
    "## Умножение матриц"
   ]
  },
  {
   "cell_type": "markdown",
   "metadata": {},
   "source": [
    "В этом задании вы можете записывать формулы в *Jupyter Notebook.*\n",
    "\n",
    "Чтобы записать формулу внутри текста, окружите её символами доллара \\\\$; если снаружи —  двойными символами \\\\$\\\\$. Эти формулы записываются на языке вёрстки *LaTeX.* \n",
    "\n",
    "Для примера мы записали формулы линейной регрессии. Можете их скопировать и отредактировать, чтобы решить задачу.\n",
    "\n",
    "Работать в *LaTeX* необязательно."
   ]
  },
  {
   "cell_type": "markdown",
   "metadata": {},
   "source": [
    "Обозначения:\n",
    "\n",
    "- $X$ — матрица признаков (нулевой столбец состоит из единиц)\n",
    "\n",
    "- $y$ — вектор целевого признака\n",
    "\n",
    "- $P$ — матрица, на которую умножаются признаки\n",
    "\n",
    "- $w$ — вектор весов линейной регрессии (нулевой элемент равен сдвигу)"
   ]
  },
  {
   "cell_type": "markdown",
   "metadata": {},
   "source": [
    "Предсказания:\n",
    "\n",
    "$$\n",
    "a = Xw\n",
    "$$\n",
    "\n",
    "Задача обучения:\n",
    "\n",
    "$$\n",
    "w = \\arg\\min_w MSE(Xw, y)\n",
    "$$\n",
    "\n",
    "Формула обучения:\n",
    "\n",
    "$$\n",
    "w = (X^T X)^{-1} X^T y\n",
    "$$"
   ]
  },
  {
   "cell_type": "markdown",
   "metadata": {},
   "source": [
    "Признаки умножают на обратимую матрицу. \n",
    "\n",
    "Изменится ли качество линейной регрессии? (Её можно обучить заново.)\n",
    "\n",
    "**Ответ:** \n",
    "\n",
    "Не изменится. Укажите, как связаны параметры линейной регрессии в исходной задаче и в преобразованной.\n",
    "\n",
    "**Обоснование:** \n",
    "\n",
    "$$\n",
    "a = Xw\n",
    "$$\n",
    "Преобразуем матрицу\n",
    "$$\n",
    "X1 = XP\n",
    "$$\n",
    "\n",
    "Подставим значение Х1 в формулы\n",
    "$$\n",
    "a1 = XPw1\n",
    "$$\n",
    "\n",
    "$$\n",
    "w = \\arg\\min_w MSE(Xw, y)\n",
    "$$\n",
    "\n",
    "$$\n",
    "w1 = (X1^T X1)^{-1} X1^T y\n",
    "$$\n",
    "\n",
    "\n",
    "$$\n",
    "w1 = ((XP)^T (XP))^{-1} (XP)^T y \n",
    "$$\n",
    "\n",
    "Используем следующие свойства матриц для преобразования:\n",
    "\n",
    "$$\n",
    "(AB)^T = B^T A^T\n",
    "$$\n",
    "$$\n",
    "AA^{-1} = E\n",
    "$$\n",
    "$$\n",
    "AE = A\n",
    "$$\n",
    "$$\n",
    "(A)^{-1} = B^{-1} A^{-1}\n",
    "$$\n",
    "\n",
    "Преобразуем а1\n",
    "$$\n",
    "a1=XPw1=XP((XP)^T (XP))^{-1} (XP)^T y = XP (XP)^{-1} ((XP)^T)^{-1} (XP)^T y = XPP^{-1} X^{-1}((XP)^T)^{-1} (XP)^T y = XX^{-1}(P^TX^T)^{-1}P^TX^T y=XX^{-1}(X^T)^{-1} (P^T)^{-1} P^T X^T y = XX^{-1}(X^T)X^Ty=X(X^TX)^{-1} X^T y = Xw = a\n",
    "$$\n",
    "\n",
    "\n",
    "**Ответ:** \n",
    "\n",
    "Качество линейной регрессии не изменится в случае, если матрица Р невырожденная, т.е. детерминант не равен 0\n",
    "\n"
   ]
  },
  {
   "cell_type": "markdown",
   "metadata": {},
   "source": [
    "$$\n",
    "a = Xw = XEw = XPP^{-1}w = (XP)P^{-1}w = (XP)w'\n",
    "$$\n",
    "\n",
    "$$\n",
    "w' = ((XP)^T XP)^{-1} (XP)^T y\n",
    "$$\n",
    "$$\n",
    "w' = (P^T (X^T X) P)^{-1} (XP)^T y\n",
    "$$\n",
    "$$\n",
    "w' = ((X^T X) P)^{-1} (P^T)^{-1} P^T X^T y\n",
    "$$\n",
    "$$\n",
    "w' = P^{-1}(X^T X)^{-1} X^T y\n",
    "$$\n",
    "\n",
    "$$\n",
    "w' = P^{-1}w \n",
    "$$"
   ]
  },
  {
   "cell_type": "markdown",
   "metadata": {},
   "source": [
    "\n",
    "    \n",
    "Если есть время и желание, то можно воту этот маткриал просмотреть:<br>\n",
    "Обзоры по применению криптографии в машинном обучении: https://arxiv.org/pdf/1902.04109.pdf, https://www.researchgate.net/publication/342746786_Some_Applications_of_Machine_Learning_in_Cryptography\n",
    "Подробнее про аналогичный алгоритм: https://www.cs.cmu.edu/~rjhall/JOS_revised_May_31a.pdf<br><br>\n"
   ]
  },
  {
   "cell_type": "code",
   "execution_count": null,
   "metadata": {},
   "outputs": [],
   "source": []
  },
  {
   "cell_type": "markdown",
   "metadata": {},
   "source": [
    "## Алгоритм преобразования"
   ]
  },
  {
   "cell_type": "markdown",
   "metadata": {},
   "source": [
    "**Алгоритм**\n",
    "\n",
    "Испоьзуем доказательство выше\n",
    "\n",
    "1. Построим случайную квадратную  матрицу Р, размерностью равную колличеству признаков\n",
    "2. Проверим значение детерминанта, т.е. проверка матрицы на обратимость \n",
    "\n",
    "3. Получим матрицу Х1 = РХ\n",
    "\n",
    "4. Построи модель, проверим значения на данных до преобразования и после. \n",
    "\n",
    "\n",
    "Создадим функцию преобразования данных"
   ]
  },
  {
   "cell_type": "code",
   "execution_count": 10,
   "metadata": {},
   "outputs": [],
   "source": [
    "def transformation(matrix):\n",
    "    n = matrix.shape[1]\n",
    "    np.random.seed(12345)\n",
    "    random_matrix = np.random.randint(1, 10, (n,n))\n",
    "    det = np.linalg.det(random_matrix)\n",
    "    if det == 0:\n",
    "        np.random.seed(123456)\n",
    "        random_matrix = np.random.randint(1, 10, (n,n))\n",
    "        det = np.linalg.det(random_matrix)\n",
    "        if det == 0:\n",
    "            print('Error!')\n",
    "    transform_matrix = matrix @ random_matrix\n",
    "    return transform_matrix, random_matrix"
   ]
  },
  {
   "cell_type": "code",
   "execution_count": 11,
   "metadata": {},
   "outputs": [
    {
     "data": {
      "text/plain": [
       "array([[    1,    41, 49600,     1,     0],\n",
       "       [    0,    46, 38000,     1,     1],\n",
       "       [    0,    29, 21000,     0,     0],\n",
       "       ...,\n",
       "       [    0,    20, 33900,     2,     0],\n",
       "       [    1,    22, 32700,     3,     0],\n",
       "       [    1,    28, 40600,     1,     0]])"
      ]
     },
     "execution_count": 11,
     "metadata": {},
     "output_type": "execute_result"
    }
   ],
   "source": [
    "df_matrix = np.array(df)\n",
    "df_matrix"
   ]
  },
  {
   "cell_type": "markdown",
   "metadata": {},
   "source": [
    "Преобразем данные, используя написанную функцию"
   ]
  },
  {
   "cell_type": "code",
   "execution_count": 12,
   "metadata": {},
   "outputs": [
    {
     "data": {
      "text/plain": [
       "array([[347333,  49696, 149097,  99295, 149143],\n",
       "       [266153,  38102, 114338,  76105, 114378],\n",
       "       [147087,  21058,  63203,  42058,  63232],\n",
       "       ...,\n",
       "       [237374,  33956, 101856,  67856, 101878],\n",
       "       [228990,  32774,  98280,  65473,  98309],\n",
       "       [284294,  40670, 122006,  81269, 122039]])"
      ]
     },
     "execution_count": 12,
     "metadata": {},
     "output_type": "execute_result"
    }
   ],
   "source": [
    "df_transform_matrix, random_matrix = transformation(df_matrix)\n",
    "df_transform_matrix"
   ]
  },
  {
   "cell_type": "markdown",
   "metadata": {},
   "source": [
    "Заметим, что получить исходные данные из полученной матрицы, без random_matrix затруднительно"
   ]
  },
  {
   "cell_type": "code",
   "execution_count": 13,
   "metadata": {},
   "outputs": [
    {
     "data": {
      "text/plain": [
       "array([[3, 6, 2, 5, 6],\n",
       "       [3, 2, 7, 2, 8],\n",
       "       [7, 1, 3, 2, 3],\n",
       "       [7, 8, 8, 8, 9],\n",
       "       [8, 2, 8, 5, 1]])"
      ]
     },
     "execution_count": 13,
     "metadata": {},
     "output_type": "execute_result"
    }
   ],
   "source": [
    "random_matrix"
   ]
  },
  {
   "cell_type": "markdown",
   "metadata": {},
   "source": [
    "Проверим детерминант "
   ]
  },
  {
   "cell_type": "code",
   "execution_count": 14,
   "metadata": {},
   "outputs": [
    {
     "data": {
      "text/plain": [
       "457.9999999999998"
      ]
     },
     "execution_count": 14,
     "metadata": {},
     "output_type": "execute_result"
    }
   ],
   "source": [
    "np.linalg.det(random_matrix)"
   ]
  },
  {
   "cell_type": "markdown",
   "metadata": {},
   "source": [
    "**Обоснование**\n",
    "\n",
    "Теоретические доказательства приведены в п. 2\n",
    "\n",
    "Посчитаем вектор весов и вектор предсказаний до преобразования и после"
   ]
  },
  {
   "cell_type": "code",
   "execution_count": 15,
   "metadata": {},
   "outputs": [],
   "source": [
    "features = np.array(df.drop('Страховые выплаты', axis=1))\n",
    "target = np.array(df['Страховые выплаты'])\n"
   ]
  },
  {
   "cell_type": "code",
   "execution_count": 16,
   "metadata": {},
   "outputs": [],
   "source": [
    "w = np.linalg.inv(np.dot(features.T,features)).dot(features.T).dot(target)\n",
    "a = features.dot(w)"
   ]
  },
  {
   "cell_type": "code",
   "execution_count": 17,
   "metadata": {},
   "outputs": [],
   "source": [
    "features_tr, random_matrix = transformation(features)"
   ]
  },
  {
   "cell_type": "code",
   "execution_count": 18,
   "metadata": {},
   "outputs": [],
   "source": [
    "w1 = np.linalg.inv(np.dot(features_tr.T,features_tr)).dot(features_tr.T).dot(target)\n",
    "a1 = features_tr.dot(w1)"
   ]
  },
  {
   "cell_type": "markdown",
   "metadata": {},
   "source": [
    "Проверим разницу между векторами предсказаний до преобразования и после"
   ]
  },
  {
   "cell_type": "code",
   "execution_count": 19,
   "metadata": {},
   "outputs": [
    {
     "data": {
      "text/plain": [
       "False"
      ]
     },
     "execution_count": 19,
     "metadata": {},
     "output_type": "execute_result"
    }
   ],
   "source": [
    "np.allclose(a,a1,atol=1e-7)"
   ]
  },
  {
   "cell_type": "markdown",
   "metadata": {},
   "source": [
    "## Проверка алгоритма"
   ]
  },
  {
   "cell_type": "markdown",
   "metadata": {},
   "source": [
    "Построим модель, обучим на данных до преобразования и после преобразования"
   ]
  },
  {
   "cell_type": "code",
   "execution_count": 20,
   "metadata": {},
   "outputs": [],
   "source": [
    "features_train, features_test, target_train, target_test = train_test_split(\n",
    "    features, target, test_size=0.25, random_state=12345)"
   ]
  },
  {
   "cell_type": "code",
   "execution_count": 21,
   "metadata": {},
   "outputs": [
    {
     "name": "stdout",
     "output_type": "stream",
     "text": [
      "R2 = 0.42307727615837565\n"
     ]
    }
   ],
   "source": [
    "model = LinearRegression()\n",
    "model.fit(features_train, target_train)\n",
    "R2_LR_df = r2_score(target_test, model.predict(features_test))\n",
    "print(\"R2 =\", R2_LR_df)"
   ]
  },
  {
   "cell_type": "code",
   "execution_count": 22,
   "metadata": {},
   "outputs": [],
   "source": [
    "features_tr_train, features_tr_test, target_train, target_test = train_test_split(\n",
    "    features_tr, target, test_size=0.25, random_state=12345)"
   ]
  },
  {
   "cell_type": "code",
   "execution_count": 23,
   "metadata": {},
   "outputs": [
    {
     "name": "stdout",
     "output_type": "stream",
     "text": [
      "R2 = 0.42307727615839963\n"
     ]
    }
   ],
   "source": [
    "model = LinearRegression()\n",
    "model.fit(features_tr_train, target_train)\n",
    "R2_LR_df_tr = r2_score(target_test, model.predict(features_tr_test))\n",
    "print(\"R2 =\", R2_LR_df_tr)"
   ]
  },
  {
   "cell_type": "code",
   "execution_count": 24,
   "metadata": {},
   "outputs": [
    {
     "data": {
      "text/html": [
       "<div>\n",
       "<style scoped>\n",
       "    .dataframe tbody tr th:only-of-type {\n",
       "        vertical-align: middle;\n",
       "    }\n",
       "\n",
       "    .dataframe tbody tr th {\n",
       "        vertical-align: top;\n",
       "    }\n",
       "\n",
       "    .dataframe thead th {\n",
       "        text-align: right;\n",
       "    }\n",
       "</style>\n",
       "<table border=\"1\" class=\"dataframe\">\n",
       "  <thead>\n",
       "    <tr style=\"text-align: right;\">\n",
       "      <th></th>\n",
       "      <th>R2</th>\n",
       "    </tr>\n",
       "  </thead>\n",
       "  <tbody>\n",
       "    <tr>\n",
       "      <th>Линейная регрессия</th>\n",
       "      <td>0.423077</td>\n",
       "    </tr>\n",
       "    <tr>\n",
       "      <th>Линейная регрессия на преобразованных признаках</th>\n",
       "      <td>0.423077</td>\n",
       "    </tr>\n",
       "  </tbody>\n",
       "</table>\n",
       "</div>"
      ],
      "text/plain": [
       "                                                       R2\n",
       "Линейная регрессия                               0.423077\n",
       "Линейная регрессия на преобразованных признаках  0.423077"
      ]
     },
     "execution_count": 24,
     "metadata": {},
     "output_type": "execute_result"
    }
   ],
   "source": [
    "result = pd.DataFrame([R2_LR_df,R2_LR_df_tr], columns=['R2'], index=['Линейная регрессия','Линейная регрессия на преобразованных признаках'])\n",
    "result"
   ]
  },
  {
   "cell_type": "markdown",
   "metadata": {},
   "source": [
    "Выводы: Качество линейной регрессии не изменится после преобразования данных, путем путем умножения на обратимую матрицу. "
   ]
  },
  {
   "cell_type": "markdown",
   "metadata": {},
   "source": [
    "## Чек-лист проверки"
   ]
  },
  {
   "cell_type": "markdown",
   "metadata": {},
   "source": [
    "Поставьте 'x' в выполненных пунктах. Далее нажмите Shift+Enter."
   ]
  },
  {
   "cell_type": "markdown",
   "metadata": {},
   "source": [
    "- [x]  Jupyter Notebook открыт\n",
    "- [x]  Весь код выполняется без ошибок\n",
    "- [x]  Ячейки с кодом расположены в порядке исполнения\n",
    "- [x]  Выполнен шаг 1: данные загружены\n",
    "- [x]  Выполнен шаг 2: получен ответ на вопрос об умножении матриц\n",
    "    - [x]  Указан правильный вариант ответа\n",
    "    - [x]  Вариант обоснован\n",
    "- [x]  Выполнен шаг 3: предложен алгоритм преобразования\n",
    "    - [x]  Алгоритм описан\n",
    "    - [x]  Алгоритм обоснован\n",
    "- [x]  Выполнен шаг 4: алгоритм проверен\n",
    "    - [x]  Алгоритм реализован\n",
    "    - [x]  Проведено сравнение качества моделей до и после преобразования"
   ]
  },
  {
   "cell_type": "code",
   "execution_count": null,
   "metadata": {},
   "outputs": [],
   "source": []
  }
 ],
 "metadata": {
  "ExecuteTimeLog": [
   {
    "duration": 428,
    "start_time": "2022-06-10T05:15:31.497Z"
   },
   {
    "duration": 73,
    "start_time": "2022-06-10T05:15:33.349Z"
   },
   {
    "duration": 15,
    "start_time": "2022-06-10T05:15:45.238Z"
   },
   {
    "duration": 12,
    "start_time": "2022-06-10T05:15:53.982Z"
   },
   {
    "duration": 52,
    "start_time": "2022-06-14T05:33:57.011Z"
   },
   {
    "duration": 357,
    "start_time": "2022-06-14T05:33:59.862Z"
   },
   {
    "duration": 96,
    "start_time": "2022-06-14T05:34:00.273Z"
   },
   {
    "duration": 12,
    "start_time": "2022-06-14T05:34:00.710Z"
   },
   {
    "duration": 26,
    "start_time": "2022-06-14T05:34:01.486Z"
   },
   {
    "duration": 13,
    "start_time": "2022-06-14T05:34:58.844Z"
   },
   {
    "duration": 12,
    "start_time": "2022-06-14T05:35:08.038Z"
   },
   {
    "duration": 6,
    "start_time": "2022-06-14T05:47:02.974Z"
   },
   {
    "duration": 22,
    "start_time": "2022-06-14T05:51:46.075Z"
   },
   {
    "duration": 11,
    "start_time": "2022-06-14T06:45:07.873Z"
   },
   {
    "duration": 11,
    "start_time": "2022-06-14T06:46:10.854Z"
   },
   {
    "duration": 4,
    "start_time": "2022-06-14T06:46:26.095Z"
   },
   {
    "duration": 8,
    "start_time": "2022-06-14T06:52:41.450Z"
   },
   {
    "duration": 5,
    "start_time": "2022-06-14T06:53:07.549Z"
   },
   {
    "duration": 6,
    "start_time": "2022-06-14T06:56:18.602Z"
   },
   {
    "duration": 10,
    "start_time": "2022-06-14T06:56:58.482Z"
   },
   {
    "duration": 8,
    "start_time": "2022-06-15T05:54:48.015Z"
   },
   {
    "duration": 349,
    "start_time": "2022-06-15T05:54:56.819Z"
   },
   {
    "duration": 78,
    "start_time": "2022-06-15T05:54:57.371Z"
   },
   {
    "duration": 10,
    "start_time": "2022-06-15T05:54:57.827Z"
   },
   {
    "duration": 9,
    "start_time": "2022-06-15T05:54:58.427Z"
   },
   {
    "duration": 8,
    "start_time": "2022-06-15T05:54:58.939Z"
   },
   {
    "duration": 22,
    "start_time": "2022-06-15T05:54:59.427Z"
   },
   {
    "duration": 4,
    "start_time": "2022-06-15T05:55:00.091Z"
   },
   {
    "duration": 8,
    "start_time": "2022-06-15T05:55:00.643Z"
   },
   {
    "duration": 11,
    "start_time": "2022-06-15T05:55:01.595Z"
   },
   {
    "duration": 3,
    "start_time": "2022-06-15T05:55:07.836Z"
   },
   {
    "duration": 3,
    "start_time": "2022-06-15T05:55:26.371Z"
   },
   {
    "duration": 65,
    "start_time": "2022-06-15T06:03:14.364Z"
   },
   {
    "duration": 3,
    "start_time": "2022-06-15T06:03:42.997Z"
   },
   {
    "duration": 4,
    "start_time": "2022-06-15T06:03:47.437Z"
   },
   {
    "duration": 5,
    "start_time": "2022-06-15T06:03:59.885Z"
   },
   {
    "duration": 3,
    "start_time": "2022-06-15T06:04:50.971Z"
   },
   {
    "duration": 5,
    "start_time": "2022-06-15T06:05:01.750Z"
   },
   {
    "duration": 44,
    "start_time": "2022-06-15T06:05:51.269Z"
   },
   {
    "duration": 4,
    "start_time": "2022-06-15T06:06:03.951Z"
   },
   {
    "duration": 4,
    "start_time": "2022-06-15T06:11:53.831Z"
   },
   {
    "duration": 4,
    "start_time": "2022-06-15T06:11:54.761Z"
   },
   {
    "duration": 4,
    "start_time": "2022-06-15T06:11:55.243Z"
   },
   {
    "duration": 4,
    "start_time": "2022-06-15T06:12:03.050Z"
   },
   {
    "duration": 5,
    "start_time": "2022-06-15T06:12:19.760Z"
   },
   {
    "duration": 4,
    "start_time": "2022-06-15T06:16:45.901Z"
   },
   {
    "duration": 5,
    "start_time": "2022-06-15T06:19:36.419Z"
   },
   {
    "duration": 4,
    "start_time": "2022-06-15T06:20:40.227Z"
   },
   {
    "duration": 3,
    "start_time": "2022-06-15T06:21:33.053Z"
   },
   {
    "duration": 5,
    "start_time": "2022-06-15T06:21:33.685Z"
   },
   {
    "duration": 3,
    "start_time": "2022-06-15T06:28:23.231Z"
   },
   {
    "duration": 8,
    "start_time": "2022-06-15T06:28:23.594Z"
   },
   {
    "duration": 3,
    "start_time": "2022-06-15T06:28:51.401Z"
   },
   {
    "duration": 5,
    "start_time": "2022-06-15T06:28:51.745Z"
   },
   {
    "duration": 5,
    "start_time": "2022-06-15T06:29:33.297Z"
   },
   {
    "duration": 6,
    "start_time": "2022-06-15T06:30:08.641Z"
   },
   {
    "duration": 624,
    "start_time": "2022-06-15T06:36:24.102Z"
   },
   {
    "duration": 5,
    "start_time": "2022-06-15T06:36:33.633Z"
   },
   {
    "duration": 6,
    "start_time": "2022-06-15T06:36:34.267Z"
   },
   {
    "duration": 4,
    "start_time": "2022-06-15T06:36:35.456Z"
   },
   {
    "duration": 41,
    "start_time": "2022-06-15T06:36:36.249Z"
   },
   {
    "duration": 5,
    "start_time": "2022-06-15T06:36:47.920Z"
   },
   {
    "duration": 4,
    "start_time": "2022-06-15T06:37:59.989Z"
   },
   {
    "duration": 6,
    "start_time": "2022-06-15T06:38:00.392Z"
   },
   {
    "duration": 13,
    "start_time": "2022-06-15T06:52:18.937Z"
   },
   {
    "duration": 7,
    "start_time": "2022-06-15T06:52:29.473Z"
   },
   {
    "duration": 12,
    "start_time": "2022-06-15T06:52:31.067Z"
   },
   {
    "duration": 10,
    "start_time": "2022-06-15T06:52:55.083Z"
   },
   {
    "duration": 1086,
    "start_time": "2022-06-15T06:59:20.553Z"
   },
   {
    "duration": 32,
    "start_time": "2022-06-15T06:59:21.642Z"
   },
   {
    "duration": 22,
    "start_time": "2022-06-15T06:59:21.677Z"
   },
   {
    "duration": 29,
    "start_time": "2022-06-15T06:59:21.701Z"
   },
   {
    "duration": 7,
    "start_time": "2022-06-15T06:59:21.732Z"
   },
   {
    "duration": 30,
    "start_time": "2022-06-15T06:59:21.741Z"
   },
   {
    "duration": 6,
    "start_time": "2022-06-15T06:59:21.773Z"
   },
   {
    "duration": 10,
    "start_time": "2022-06-15T06:59:21.782Z"
   },
   {
    "duration": 13,
    "start_time": "2022-06-15T06:59:21.794Z"
   },
   {
    "duration": 16,
    "start_time": "2022-06-15T06:59:21.809Z"
   },
   {
    "duration": 9,
    "start_time": "2022-06-15T06:59:21.827Z"
   },
   {
    "duration": 6,
    "start_time": "2022-06-15T06:59:21.867Z"
   },
   {
    "duration": 12,
    "start_time": "2022-06-15T06:59:21.875Z"
   },
   {
    "duration": 11,
    "start_time": "2022-06-15T06:59:21.891Z"
   },
   {
    "duration": 13,
    "start_time": "2022-06-15T06:59:21.904Z"
   },
   {
    "duration": 58,
    "start_time": "2022-06-15T06:59:21.919Z"
   },
   {
    "duration": 10,
    "start_time": "2022-06-15T06:59:22.065Z"
   },
   {
    "duration": 9,
    "start_time": "2022-06-15T06:59:22.078Z"
   },
   {
    "duration": 190,
    "start_time": "2022-06-15T06:59:22.089Z"
   },
   {
    "duration": 8,
    "start_time": "2022-06-15T06:59:22.281Z"
   },
   {
    "duration": 17,
    "start_time": "2022-06-15T06:59:22.291Z"
   },
   {
    "duration": 14,
    "start_time": "2022-06-15T06:59:22.310Z"
   },
   {
    "duration": 17,
    "start_time": "2022-06-15T06:59:22.326Z"
   },
   {
    "duration": 13,
    "start_time": "2022-06-15T06:59:22.345Z"
   },
   {
    "duration": 1276,
    "start_time": "2022-06-15T07:19:06.957Z"
   },
   {
    "duration": 30,
    "start_time": "2022-06-15T07:19:08.235Z"
   },
   {
    "duration": 11,
    "start_time": "2022-06-15T07:19:08.267Z"
   },
   {
    "duration": 10,
    "start_time": "2022-06-15T07:19:08.368Z"
   },
   {
    "duration": 7,
    "start_time": "2022-06-15T07:19:08.564Z"
   },
   {
    "duration": 23,
    "start_time": "2022-06-15T07:19:09.156Z"
   },
   {
    "duration": 5,
    "start_time": "2022-06-15T07:19:09.771Z"
   },
   {
    "duration": 6,
    "start_time": "2022-06-15T07:19:10.207Z"
   },
   {
    "duration": 10,
    "start_time": "2022-06-15T07:19:10.688Z"
   },
   {
    "duration": 5,
    "start_time": "2022-06-15T07:22:34.930Z"
   }
  ],
  "kernelspec": {
   "display_name": "Python 3 (ipykernel)",
   "language": "python",
   "name": "python3"
  },
  "language_info": {
   "codemirror_mode": {
    "name": "ipython",
    "version": 3
   },
   "file_extension": ".py",
   "mimetype": "text/x-python",
   "name": "python",
   "nbconvert_exporter": "python",
   "pygments_lexer": "ipython3",
   "version": "3.9.12"
  },
  "toc": {
   "base_numbering": 1,
   "nav_menu": {},
   "number_sections": true,
   "sideBar": true,
   "skip_h1_title": true,
   "title_cell": "Содержание",
   "title_sidebar": "Contents",
   "toc_cell": true,
   "toc_position": {},
   "toc_section_display": true,
   "toc_window_display": true
  }
 },
 "nbformat": 4,
 "nbformat_minor": 2
}
