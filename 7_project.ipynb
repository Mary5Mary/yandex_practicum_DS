{
 "cells": [
  {
   "cell_type": "markdown",
   "metadata": {},
   "source": [
    "# Выбор локации для скважины"
   ]
  },
  {
   "cell_type": "markdown",
   "metadata": {},
   "source": [
    "Допустим, вы работаете в добывающей компании «ГлавРосГосНефть». Нужно решить, где бурить новую скважину.\n",
    "\n",
    "Вам предоставлены пробы нефти в трёх регионах: в каждом 10 000 месторождений, где измерили качество нефти и объём её запасов. Постройте модель машинного обучения, которая поможет определить регион, где добыча принесёт наибольшую прибыль. Проанализируйте возможную прибыль и риски техникой *Bootstrap.*\n",
    "\n",
    "Шаги для выбора локации:\n",
    "\n",
    "- В избранном регионе ищут месторождения, для каждого определяют значения признаков;\n",
    "- Строят модель и оценивают объём запасов;\n",
    "- Выбирают месторождения с самым высокими оценками значений. Количество месторождений зависит от бюджета компании и стоимости разработки одной скважины;\n",
    "- Прибыль равна суммарной прибыли отобранных месторождений."
   ]
  },
  {
   "cell_type": "markdown",
   "metadata": {},
   "source": [
    "## Загрузка и подготовка данных"
   ]
  },
  {
   "cell_type": "markdown",
   "metadata": {},
   "source": [
    "### Описание данных:\n",
    "Данные геологоразведки трёх регионов находятся в файлах:\n",
    "* /datasets/geo_data_0.csv.\n",
    "* /datasets/geo_data_1.csv. \n",
    "* /datasets/geo_data_2.csv."
   ]
  },
  {
   "cell_type": "code",
   "execution_count": 1,
   "metadata": {},
   "outputs": [],
   "source": [
    "import pandas as pd\n",
    "from math import sqrt\n",
    "import numpy as np\n",
    "import matplotlib.pyplot as plt\n",
    "import seaborn as sns\n",
    "from sklearn.model_selection import train_test_split\n",
    "from sklearn.linear_model import LinearRegression\n",
    "from sklearn.preprocessing import StandardScaler \n",
    "from sklearn.metrics import mean_squared_error"
   ]
  },
  {
   "cell_type": "code",
   "execution_count": 3,
   "metadata": {},
   "outputs": [
    {
     "name": "stdout",
     "output_type": "stream",
     "text": [
      "<class 'pandas.core.frame.DataFrame'>\n",
      "RangeIndex: 100000 entries, 0 to 99999\n",
      "Data columns (total 5 columns):\n",
      " #   Column   Non-Null Count   Dtype  \n",
      "---  ------   --------------   -----  \n",
      " 0   id       100000 non-null  object \n",
      " 1   f0       100000 non-null  float64\n",
      " 2   f1       100000 non-null  float64\n",
      " 3   f2       100000 non-null  float64\n",
      " 4   product  100000 non-null  float64\n",
      "dtypes: float64(4), object(1)\n",
      "memory usage: 3.8+ MB\n",
      "<class 'pandas.core.frame.DataFrame'>\n",
      "RangeIndex: 100000 entries, 0 to 99999\n",
      "Data columns (total 5 columns):\n",
      " #   Column   Non-Null Count   Dtype  \n",
      "---  ------   --------------   -----  \n",
      " 0   id       100000 non-null  object \n",
      " 1   f0       100000 non-null  float64\n",
      " 2   f1       100000 non-null  float64\n",
      " 3   f2       100000 non-null  float64\n",
      " 4   product  100000 non-null  float64\n",
      "dtypes: float64(4), object(1)\n",
      "memory usage: 3.8+ MB\n",
      "<class 'pandas.core.frame.DataFrame'>\n",
      "RangeIndex: 100000 entries, 0 to 99999\n",
      "Data columns (total 5 columns):\n",
      " #   Column   Non-Null Count   Dtype  \n",
      "---  ------   --------------   -----  \n",
      " 0   id       100000 non-null  object \n",
      " 1   f0       100000 non-null  float64\n",
      " 2   f1       100000 non-null  float64\n",
      " 3   f2       100000 non-null  float64\n",
      " 4   product  100000 non-null  float64\n",
      "dtypes: float64(4), object(1)\n",
      "memory usage: 3.8+ MB\n"
     ]
    },
    {
     "data": {
      "text/html": [
       "<div>\n",
       "<style scoped>\n",
       "    .dataframe tbody tr th:only-of-type {\n",
       "        vertical-align: middle;\n",
       "    }\n",
       "\n",
       "    .dataframe tbody tr th {\n",
       "        vertical-align: top;\n",
       "    }\n",
       "\n",
       "    .dataframe thead th {\n",
       "        text-align: right;\n",
       "    }\n",
       "</style>\n",
       "<table border=\"1\" class=\"dataframe\">\n",
       "  <thead>\n",
       "    <tr style=\"text-align: right;\">\n",
       "      <th></th>\n",
       "      <th>id</th>\n",
       "      <th>f0</th>\n",
       "      <th>f1</th>\n",
       "      <th>f2</th>\n",
       "      <th>product</th>\n",
       "    </tr>\n",
       "  </thead>\n",
       "  <tbody>\n",
       "    <tr>\n",
       "      <th>0</th>\n",
       "      <td>txEyH</td>\n",
       "      <td>0.705745</td>\n",
       "      <td>-0.497823</td>\n",
       "      <td>1.221170</td>\n",
       "      <td>105.280062</td>\n",
       "    </tr>\n",
       "    <tr>\n",
       "      <th>1</th>\n",
       "      <td>2acmU</td>\n",
       "      <td>1.334711</td>\n",
       "      <td>-0.340164</td>\n",
       "      <td>4.365080</td>\n",
       "      <td>73.037750</td>\n",
       "    </tr>\n",
       "    <tr>\n",
       "      <th>2</th>\n",
       "      <td>409Wp</td>\n",
       "      <td>1.022732</td>\n",
       "      <td>0.151990</td>\n",
       "      <td>1.419926</td>\n",
       "      <td>85.265647</td>\n",
       "    </tr>\n",
       "    <tr>\n",
       "      <th>3</th>\n",
       "      <td>iJLyR</td>\n",
       "      <td>-0.032172</td>\n",
       "      <td>0.139033</td>\n",
       "      <td>2.978566</td>\n",
       "      <td>168.620776</td>\n",
       "    </tr>\n",
       "    <tr>\n",
       "      <th>4</th>\n",
       "      <td>Xdl7t</td>\n",
       "      <td>1.988431</td>\n",
       "      <td>0.155413</td>\n",
       "      <td>4.751769</td>\n",
       "      <td>154.036647</td>\n",
       "    </tr>\n",
       "  </tbody>\n",
       "</table>\n",
       "</div>"
      ],
      "text/plain": [
       "      id        f0        f1        f2     product\n",
       "0  txEyH  0.705745 -0.497823  1.221170  105.280062\n",
       "1  2acmU  1.334711 -0.340164  4.365080   73.037750\n",
       "2  409Wp  1.022732  0.151990  1.419926   85.265647\n",
       "3  iJLyR -0.032172  0.139033  2.978566  168.620776\n",
       "4  Xdl7t  1.988431  0.155413  4.751769  154.036647"
      ]
     },
     "metadata": {},
     "output_type": "display_data"
    },
    {
     "data": {
      "text/html": [
       "<div>\n",
       "<style scoped>\n",
       "    .dataframe tbody tr th:only-of-type {\n",
       "        vertical-align: middle;\n",
       "    }\n",
       "\n",
       "    .dataframe tbody tr th {\n",
       "        vertical-align: top;\n",
       "    }\n",
       "\n",
       "    .dataframe thead th {\n",
       "        text-align: right;\n",
       "    }\n",
       "</style>\n",
       "<table border=\"1\" class=\"dataframe\">\n",
       "  <thead>\n",
       "    <tr style=\"text-align: right;\">\n",
       "      <th></th>\n",
       "      <th>id</th>\n",
       "      <th>f0</th>\n",
       "      <th>f1</th>\n",
       "      <th>f2</th>\n",
       "      <th>product</th>\n",
       "    </tr>\n",
       "  </thead>\n",
       "  <tbody>\n",
       "    <tr>\n",
       "      <th>0</th>\n",
       "      <td>kBEdx</td>\n",
       "      <td>-15.001348</td>\n",
       "      <td>-8.276000</td>\n",
       "      <td>-0.005876</td>\n",
       "      <td>3.179103</td>\n",
       "    </tr>\n",
       "    <tr>\n",
       "      <th>1</th>\n",
       "      <td>62mP7</td>\n",
       "      <td>14.272088</td>\n",
       "      <td>-3.475083</td>\n",
       "      <td>0.999183</td>\n",
       "      <td>26.953261</td>\n",
       "    </tr>\n",
       "    <tr>\n",
       "      <th>2</th>\n",
       "      <td>vyE1P</td>\n",
       "      <td>6.263187</td>\n",
       "      <td>-5.948386</td>\n",
       "      <td>5.001160</td>\n",
       "      <td>134.766305</td>\n",
       "    </tr>\n",
       "    <tr>\n",
       "      <th>3</th>\n",
       "      <td>KcrkZ</td>\n",
       "      <td>-13.081196</td>\n",
       "      <td>-11.506057</td>\n",
       "      <td>4.999415</td>\n",
       "      <td>137.945408</td>\n",
       "    </tr>\n",
       "    <tr>\n",
       "      <th>4</th>\n",
       "      <td>AHL4O</td>\n",
       "      <td>12.702195</td>\n",
       "      <td>-8.147433</td>\n",
       "      <td>5.004363</td>\n",
       "      <td>134.766305</td>\n",
       "    </tr>\n",
       "  </tbody>\n",
       "</table>\n",
       "</div>"
      ],
      "text/plain": [
       "      id         f0         f1        f2     product\n",
       "0  kBEdx -15.001348  -8.276000 -0.005876    3.179103\n",
       "1  62mP7  14.272088  -3.475083  0.999183   26.953261\n",
       "2  vyE1P   6.263187  -5.948386  5.001160  134.766305\n",
       "3  KcrkZ -13.081196 -11.506057  4.999415  137.945408\n",
       "4  AHL4O  12.702195  -8.147433  5.004363  134.766305"
      ]
     },
     "metadata": {},
     "output_type": "display_data"
    },
    {
     "data": {
      "text/html": [
       "<div>\n",
       "<style scoped>\n",
       "    .dataframe tbody tr th:only-of-type {\n",
       "        vertical-align: middle;\n",
       "    }\n",
       "\n",
       "    .dataframe tbody tr th {\n",
       "        vertical-align: top;\n",
       "    }\n",
       "\n",
       "    .dataframe thead th {\n",
       "        text-align: right;\n",
       "    }\n",
       "</style>\n",
       "<table border=\"1\" class=\"dataframe\">\n",
       "  <thead>\n",
       "    <tr style=\"text-align: right;\">\n",
       "      <th></th>\n",
       "      <th>id</th>\n",
       "      <th>f0</th>\n",
       "      <th>f1</th>\n",
       "      <th>f2</th>\n",
       "      <th>product</th>\n",
       "    </tr>\n",
       "  </thead>\n",
       "  <tbody>\n",
       "    <tr>\n",
       "      <th>0</th>\n",
       "      <td>fwXo0</td>\n",
       "      <td>-1.146987</td>\n",
       "      <td>0.963328</td>\n",
       "      <td>-0.828965</td>\n",
       "      <td>27.758673</td>\n",
       "    </tr>\n",
       "    <tr>\n",
       "      <th>1</th>\n",
       "      <td>WJtFt</td>\n",
       "      <td>0.262778</td>\n",
       "      <td>0.269839</td>\n",
       "      <td>-2.530187</td>\n",
       "      <td>56.069697</td>\n",
       "    </tr>\n",
       "    <tr>\n",
       "      <th>2</th>\n",
       "      <td>ovLUW</td>\n",
       "      <td>0.194587</td>\n",
       "      <td>0.289035</td>\n",
       "      <td>-5.586433</td>\n",
       "      <td>62.871910</td>\n",
       "    </tr>\n",
       "    <tr>\n",
       "      <th>3</th>\n",
       "      <td>q6cA6</td>\n",
       "      <td>2.236060</td>\n",
       "      <td>-0.553760</td>\n",
       "      <td>0.930038</td>\n",
       "      <td>114.572842</td>\n",
       "    </tr>\n",
       "    <tr>\n",
       "      <th>4</th>\n",
       "      <td>WPMUX</td>\n",
       "      <td>-0.515993</td>\n",
       "      <td>1.716266</td>\n",
       "      <td>5.899011</td>\n",
       "      <td>149.600746</td>\n",
       "    </tr>\n",
       "  </tbody>\n",
       "</table>\n",
       "</div>"
      ],
      "text/plain": [
       "      id        f0        f1        f2     product\n",
       "0  fwXo0 -1.146987  0.963328 -0.828965   27.758673\n",
       "1  WJtFt  0.262778  0.269839 -2.530187   56.069697\n",
       "2  ovLUW  0.194587  0.289035 -5.586433   62.871910\n",
       "3  q6cA6  2.236060 -0.553760  0.930038  114.572842\n",
       "4  WPMUX -0.515993  1.716266  5.899011  149.600746"
      ]
     },
     "metadata": {},
     "output_type": "display_data"
    },
    {
     "name": "stderr",
     "output_type": "stream",
     "text": [
      "UsageError: Line magic function `%%time` not found.\n"
     ]
    }
   ],
   "source": [
    "df_0 = pd.read_csv('/datasets/geo_data_0.csv')\n",
    "df_1 = pd.read_csv('/datasets/geo_data_1.csv')\n",
    "df_2 = pd.read_csv('/datasets/geo_data_2.csv')\n",
    "df_0.info()\n",
    "df_1.info()\n",
    "df_2.info()\n",
    "display(df_0.head())\n",
    "display(df_1.head())\n",
    "display(df_2.head())\n",
    "%%time"
   ]
  },
  {
   "cell_type": "markdown",
   "metadata": {},
   "source": [
    "* id — уникальный идентификатор скважины;\n",
    "* f0, f1, f2 — три признака точек (неважно, что они означают, но сами признаки значимы);\n",
    "* product — объём запасов в скважине (тыс. баррелей).\n",
    "\n",
    "В каждом из датасетов по регионам 10000 записей. \n",
    "Тип данных float64\n",
    "\n",
    "Проверим на наличие дубликатов"
   ]
  },
  {
   "cell_type": "code",
   "execution_count": 3,
   "metadata": {},
   "outputs": [
    {
     "data": {
      "text/plain": [
       "0"
      ]
     },
     "metadata": {},
     "output_type": "display_data"
    },
    {
     "data": {
      "text/plain": [
       "0"
      ]
     },
     "metadata": {},
     "output_type": "display_data"
    },
    {
     "data": {
      "text/plain": [
       "0"
      ]
     },
     "metadata": {},
     "output_type": "display_data"
    }
   ],
   "source": [
    "display(df_0.duplicated().sum(), df_1.duplicated().sum(), df_2.duplicated().sum())"
   ]
  },
  {
   "cell_type": "markdown",
   "metadata": {},
   "source": [
    "Дубликаты строк отсутствуют"
   ]
  },
  {
   "cell_type": "markdown",
   "metadata": {},
   "source": [
    "### Анализ данных"
   ]
  },
  {
   "cell_type": "markdown",
   "metadata": {},
   "source": [
    "Рассмотрим сводную статистику по каждому из регионов"
   ]
  },
  {
   "cell_type": "code",
   "execution_count": 4,
   "metadata": {},
   "outputs": [
    {
     "data": {
      "text/html": [
       "<div>\n",
       "<style scoped>\n",
       "    .dataframe tbody tr th:only-of-type {\n",
       "        vertical-align: middle;\n",
       "    }\n",
       "\n",
       "    .dataframe tbody tr th {\n",
       "        vertical-align: top;\n",
       "    }\n",
       "\n",
       "    .dataframe thead th {\n",
       "        text-align: right;\n",
       "    }\n",
       "</style>\n",
       "<table border=\"1\" class=\"dataframe\">\n",
       "  <thead>\n",
       "    <tr style=\"text-align: right;\">\n",
       "      <th></th>\n",
       "      <th>count</th>\n",
       "      <th>mean</th>\n",
       "      <th>std</th>\n",
       "      <th>min</th>\n",
       "      <th>25%</th>\n",
       "      <th>50%</th>\n",
       "      <th>75%</th>\n",
       "      <th>max</th>\n",
       "    </tr>\n",
       "  </thead>\n",
       "  <tbody>\n",
       "    <tr>\n",
       "      <th>f0</th>\n",
       "      <td>100000.0</td>\n",
       "      <td>0.500419</td>\n",
       "      <td>0.871832</td>\n",
       "      <td>-1.408605</td>\n",
       "      <td>-0.072580</td>\n",
       "      <td>0.502360</td>\n",
       "      <td>1.073581</td>\n",
       "      <td>2.362331</td>\n",
       "    </tr>\n",
       "    <tr>\n",
       "      <th>f1</th>\n",
       "      <td>100000.0</td>\n",
       "      <td>0.250143</td>\n",
       "      <td>0.504433</td>\n",
       "      <td>-0.848218</td>\n",
       "      <td>-0.200881</td>\n",
       "      <td>0.250252</td>\n",
       "      <td>0.700646</td>\n",
       "      <td>1.343769</td>\n",
       "    </tr>\n",
       "    <tr>\n",
       "      <th>f2</th>\n",
       "      <td>100000.0</td>\n",
       "      <td>2.502647</td>\n",
       "      <td>3.248248</td>\n",
       "      <td>-12.088328</td>\n",
       "      <td>0.287748</td>\n",
       "      <td>2.515969</td>\n",
       "      <td>4.715088</td>\n",
       "      <td>16.003790</td>\n",
       "    </tr>\n",
       "    <tr>\n",
       "      <th>product</th>\n",
       "      <td>100000.0</td>\n",
       "      <td>92.500000</td>\n",
       "      <td>44.288691</td>\n",
       "      <td>0.000000</td>\n",
       "      <td>56.497507</td>\n",
       "      <td>91.849972</td>\n",
       "      <td>128.564089</td>\n",
       "      <td>185.364347</td>\n",
       "    </tr>\n",
       "  </tbody>\n",
       "</table>\n",
       "</div>"
      ],
      "text/plain": [
       "            count       mean        std        min        25%        50%  \\\n",
       "f0       100000.0   0.500419   0.871832  -1.408605  -0.072580   0.502360   \n",
       "f1       100000.0   0.250143   0.504433  -0.848218  -0.200881   0.250252   \n",
       "f2       100000.0   2.502647   3.248248 -12.088328   0.287748   2.515969   \n",
       "product  100000.0  92.500000  44.288691   0.000000  56.497507  91.849972   \n",
       "\n",
       "                75%         max  \n",
       "f0         1.073581    2.362331  \n",
       "f1         0.700646    1.343769  \n",
       "f2         4.715088   16.003790  \n",
       "product  128.564089  185.364347  "
      ]
     },
     "execution_count": 4,
     "metadata": {},
     "output_type": "execute_result"
    }
   ],
   "source": [
    "df_0.describe().T"
   ]
  },
  {
   "cell_type": "code",
   "execution_count": 5,
   "metadata": {},
   "outputs": [
    {
     "data": {
      "text/html": [
       "<div>\n",
       "<style scoped>\n",
       "    .dataframe tbody tr th:only-of-type {\n",
       "        vertical-align: middle;\n",
       "    }\n",
       "\n",
       "    .dataframe tbody tr th {\n",
       "        vertical-align: top;\n",
       "    }\n",
       "\n",
       "    .dataframe thead th {\n",
       "        text-align: right;\n",
       "    }\n",
       "</style>\n",
       "<table border=\"1\" class=\"dataframe\">\n",
       "  <thead>\n",
       "    <tr style=\"text-align: right;\">\n",
       "      <th></th>\n",
       "      <th>count</th>\n",
       "      <th>mean</th>\n",
       "      <th>std</th>\n",
       "      <th>min</th>\n",
       "      <th>25%</th>\n",
       "      <th>50%</th>\n",
       "      <th>75%</th>\n",
       "      <th>max</th>\n",
       "    </tr>\n",
       "  </thead>\n",
       "  <tbody>\n",
       "    <tr>\n",
       "      <th>f0</th>\n",
       "      <td>100000.0</td>\n",
       "      <td>1.141296</td>\n",
       "      <td>8.965932</td>\n",
       "      <td>-31.609576</td>\n",
       "      <td>-6.298551</td>\n",
       "      <td>1.153055</td>\n",
       "      <td>8.621015</td>\n",
       "      <td>29.421755</td>\n",
       "    </tr>\n",
       "    <tr>\n",
       "      <th>f1</th>\n",
       "      <td>100000.0</td>\n",
       "      <td>-4.796579</td>\n",
       "      <td>5.119872</td>\n",
       "      <td>-26.358598</td>\n",
       "      <td>-8.267985</td>\n",
       "      <td>-4.813172</td>\n",
       "      <td>-1.332816</td>\n",
       "      <td>18.734063</td>\n",
       "    </tr>\n",
       "    <tr>\n",
       "      <th>f2</th>\n",
       "      <td>100000.0</td>\n",
       "      <td>2.494541</td>\n",
       "      <td>1.703572</td>\n",
       "      <td>-0.018144</td>\n",
       "      <td>1.000021</td>\n",
       "      <td>2.011479</td>\n",
       "      <td>3.999904</td>\n",
       "      <td>5.019721</td>\n",
       "    </tr>\n",
       "    <tr>\n",
       "      <th>product</th>\n",
       "      <td>100000.0</td>\n",
       "      <td>68.825000</td>\n",
       "      <td>45.944423</td>\n",
       "      <td>0.000000</td>\n",
       "      <td>26.953261</td>\n",
       "      <td>57.085625</td>\n",
       "      <td>107.813044</td>\n",
       "      <td>137.945408</td>\n",
       "    </tr>\n",
       "  </tbody>\n",
       "</table>\n",
       "</div>"
      ],
      "text/plain": [
       "            count       mean        std        min        25%        50%  \\\n",
       "f0       100000.0   1.141296   8.965932 -31.609576  -6.298551   1.153055   \n",
       "f1       100000.0  -4.796579   5.119872 -26.358598  -8.267985  -4.813172   \n",
       "f2       100000.0   2.494541   1.703572  -0.018144   1.000021   2.011479   \n",
       "product  100000.0  68.825000  45.944423   0.000000  26.953261  57.085625   \n",
       "\n",
       "                75%         max  \n",
       "f0         8.621015   29.421755  \n",
       "f1        -1.332816   18.734063  \n",
       "f2         3.999904    5.019721  \n",
       "product  107.813044  137.945408  "
      ]
     },
     "execution_count": 5,
     "metadata": {},
     "output_type": "execute_result"
    }
   ],
   "source": [
    "df_1.describe().T"
   ]
  },
  {
   "cell_type": "code",
   "execution_count": 6,
   "metadata": {},
   "outputs": [
    {
     "data": {
      "text/html": [
       "<div>\n",
       "<style scoped>\n",
       "    .dataframe tbody tr th:only-of-type {\n",
       "        vertical-align: middle;\n",
       "    }\n",
       "\n",
       "    .dataframe tbody tr th {\n",
       "        vertical-align: top;\n",
       "    }\n",
       "\n",
       "    .dataframe thead th {\n",
       "        text-align: right;\n",
       "    }\n",
       "</style>\n",
       "<table border=\"1\" class=\"dataframe\">\n",
       "  <thead>\n",
       "    <tr style=\"text-align: right;\">\n",
       "      <th></th>\n",
       "      <th>count</th>\n",
       "      <th>mean</th>\n",
       "      <th>std</th>\n",
       "      <th>min</th>\n",
       "      <th>25%</th>\n",
       "      <th>50%</th>\n",
       "      <th>75%</th>\n",
       "      <th>max</th>\n",
       "    </tr>\n",
       "  </thead>\n",
       "  <tbody>\n",
       "    <tr>\n",
       "      <th>f0</th>\n",
       "      <td>100000.0</td>\n",
       "      <td>0.002023</td>\n",
       "      <td>1.732045</td>\n",
       "      <td>-8.760004</td>\n",
       "      <td>-1.162288</td>\n",
       "      <td>0.009424</td>\n",
       "      <td>1.158535</td>\n",
       "      <td>7.238262</td>\n",
       "    </tr>\n",
       "    <tr>\n",
       "      <th>f1</th>\n",
       "      <td>100000.0</td>\n",
       "      <td>-0.002081</td>\n",
       "      <td>1.730417</td>\n",
       "      <td>-7.084020</td>\n",
       "      <td>-1.174820</td>\n",
       "      <td>-0.009482</td>\n",
       "      <td>1.163678</td>\n",
       "      <td>7.844801</td>\n",
       "    </tr>\n",
       "    <tr>\n",
       "      <th>f2</th>\n",
       "      <td>100000.0</td>\n",
       "      <td>2.495128</td>\n",
       "      <td>3.473445</td>\n",
       "      <td>-11.970335</td>\n",
       "      <td>0.130359</td>\n",
       "      <td>2.484236</td>\n",
       "      <td>4.858794</td>\n",
       "      <td>16.739402</td>\n",
       "    </tr>\n",
       "    <tr>\n",
       "      <th>product</th>\n",
       "      <td>100000.0</td>\n",
       "      <td>95.000000</td>\n",
       "      <td>44.749921</td>\n",
       "      <td>0.000000</td>\n",
       "      <td>59.450441</td>\n",
       "      <td>94.925613</td>\n",
       "      <td>130.595027</td>\n",
       "      <td>190.029838</td>\n",
       "    </tr>\n",
       "  </tbody>\n",
       "</table>\n",
       "</div>"
      ],
      "text/plain": [
       "            count       mean        std        min        25%        50%  \\\n",
       "f0       100000.0   0.002023   1.732045  -8.760004  -1.162288   0.009424   \n",
       "f1       100000.0  -0.002081   1.730417  -7.084020  -1.174820  -0.009482   \n",
       "f2       100000.0   2.495128   3.473445 -11.970335   0.130359   2.484236   \n",
       "product  100000.0  95.000000  44.749921   0.000000  59.450441  94.925613   \n",
       "\n",
       "                75%         max  \n",
       "f0         1.158535    7.238262  \n",
       "f1         1.163678    7.844801  \n",
       "f2         4.858794   16.739402  \n",
       "product  130.595027  190.029838  "
      ]
     },
     "execution_count": 6,
     "metadata": {},
     "output_type": "execute_result"
    }
   ],
   "source": [
    "df_2.describe().T"
   ]
  },
  {
   "cell_type": "markdown",
   "metadata": {},
   "source": [
    "Рассмотрим корреляцию целевого показателя `product` от `f0`, `f1`, `f2`"
   ]
  },
  {
   "cell_type": "code",
   "execution_count": 7,
   "metadata": {},
   "outputs": [
    {
     "data": {
      "text/plain": [
       "<AxesSubplot:>"
      ]
     },
     "execution_count": 7,
     "metadata": {},
     "output_type": "execute_result"
    },
    {
     "data": {
      "image/png": "[encoded data removed]",
      "text/plain": [
       "<Figure size 432x288 with 2 Axes>"
      ]
     },
     "metadata": {
      "needs_background": "light"
     },
     "output_type": "display_data"
    }
   ],
   "source": [
    "sns.heatmap(df_0.corr())"
   ]
  },
  {
   "cell_type": "markdown",
   "metadata": {},
   "source": [
    "Корреляция  целевого показателя `product` от  `f2` средняя, по остальным - низкая "
   ]
  },
  {
   "cell_type": "code",
   "execution_count": 8,
   "metadata": {},
   "outputs": [
    {
     "data": {
      "text/plain": [
       "<AxesSubplot:>"
      ]
     },
     "execution_count": 8,
     "metadata": {},
     "output_type": "execute_result"
    },
    {
     "data": {
      "image/png": "[encoded data removed]",
      "text/plain": [
       "<Figure size 432x288 with 2 Axes>"
      ]
     },
     "metadata": {
      "needs_background": "light"
     },
     "output_type": "display_data"
    }
   ],
   "source": [
    "sns.heatmap(df_1.corr())"
   ]
  },
  {
   "cell_type": "markdown",
   "metadata": {},
   "source": [
    "Корреляция  целевого показателя `product` от  `f2` очень высокая, по остальным - очень слабая"
   ]
  },
  {
   "cell_type": "code",
   "execution_count": 9,
   "metadata": {},
   "outputs": [
    {
     "data": {
      "text/plain": [
       "<AxesSubplot:>"
      ]
     },
     "execution_count": 9,
     "metadata": {},
     "output_type": "execute_result"
    },
    {
     "data": {
      "image/png": "[encoded data removed]",
      "text/plain": [
       "<Figure size 432x288 with 2 Axes>"
      ]
     },
     "metadata": {
      "needs_background": "light"
     },
     "output_type": "display_data"
    }
   ],
   "source": [
    "sns.heatmap(df_2.corr())"
   ]
  },
  {
   "cell_type": "markdown",
   "metadata": {},
   "source": [
    "Корреляция  целевого показателя `product` от  `f2` средняя, по остальным - очень слабая"
   ]
  },
  {
   "cell_type": "markdown",
   "metadata": {},
   "source": [
    "## Обучение и проверка модели"
   ]
  },
  {
   "cell_type": "markdown",
   "metadata": {},
   "source": [
    "### Создание выборок\n",
    "Разбьем данные на обучающую и валидационную выборки в соотношении 75:25 по каждому региону\n"
   ]
  },
  {
   "cell_type": "code",
   "execution_count": 10,
   "metadata": {},
   "outputs": [],
   "source": [
    "def split_data(data, target_column):\n",
    "    return data.drop(columns=[target_column, 'id'], axis=1), data[target_column]"
   ]
  },
  {
   "cell_type": "code",
   "execution_count": 11,
   "metadata": {},
   "outputs": [],
   "source": [
    "features_0, target_0 = split_data(df_0,'product')\n",
    "features_1, target_1 = split_data(df_1,'product')\n",
    "features_2, target_2 = split_data(df_2,'product')"
   ]
  },
  {
   "cell_type": "code",
   "execution_count": 12,
   "metadata": {},
   "outputs": [],
   "source": [
    "features_train_0, features_valid_0, target_train_0, target_valid_0 = ( \n",
    "                                train_test_split(\n",
    "                                features_0, target_0, test_size=0.25, random_state=12345)\n",
    ")"
   ]
  },
  {
   "cell_type": "code",
   "execution_count": 13,
   "metadata": {},
   "outputs": [],
   "source": [
    "features_train_1, features_valid_1, target_train_1, target_valid_1 = ( \n",
    "                                train_test_split(\n",
    "                                features_1, target_1, test_size=0.25, random_state=12345)\n",
    ")"
   ]
  },
  {
   "cell_type": "code",
   "execution_count": 14,
   "metadata": {},
   "outputs": [],
   "source": [
    "features_train_2, features_valid_2, target_train_2, target_valid_2 = ( \n",
    "                                train_test_split(\n",
    "                                features_2, target_2, test_size=0.25, random_state=12345)\n",
    ")"
   ]
  },
  {
   "cell_type": "markdown",
   "metadata": {},
   "source": [
    "Проверим размер выборок"
   ]
  },
  {
   "cell_type": "code",
   "execution_count": 15,
   "metadata": {},
   "outputs": [
    {
     "name": "stdout",
     "output_type": "stream",
     "text": [
      "(75000, 3) (25000, 3) (75000,) (25000,)\n",
      "(75000, 3) (25000, 3) (75000,) (25000,)\n",
      "(75000, 3) (25000, 3) (75000,) (25000,)\n"
     ]
    }
   ],
   "source": [
    "print(features_train_0.shape, features_valid_0.shape, target_train_0.shape, target_valid_0.shape)\n",
    "print(features_train_1.shape, features_valid_1.shape, target_train_1.shape, target_valid_1.shape)\n",
    "print(features_train_2.shape, features_valid_2.shape, target_train_2.shape, target_valid_2.shape)"
   ]
  },
  {
   "cell_type": "markdown",
   "metadata": {},
   "source": [
    "### Модель\n",
    "Обучим модель и сделаем предсказания на валидационной выборке.\n"
   ]
  },
  {
   "cell_type": "code",
   "execution_count": 16,
   "metadata": {},
   "outputs": [
    {
     "name": "stdout",
     "output_type": "stream",
     "text": [
      "Регион 1\n",
      "RMSE: 37.5794217150813\n",
      "Средний запас: 92.07859674082927\n",
      "Средний запас предсказанного сырья 92.59256778438035\n"
     ]
    }
   ],
   "source": [
    "model_0 = LinearRegression()\n",
    "model_0.fit(features_train_0, target_train_0)\n",
    "\n",
    "\n",
    "predicted_valid_0 = model_0.predict(features_valid_0)\n",
    "rmse_0 = sqrt(mean_squared_error(target_valid_0, predicted_valid_0))\n",
    "target_mean_0 = target_valid_0.mean()\n",
    "predicted_mean_0 = predicted_valid_0.mean()\n",
    "print(\"Регион 1\")\n",
    "print(\"RMSE:\", rmse_0)\n",
    "print(\"Средний запас:\", target_mean_0)\n",
    "print(\"Средний запас предсказанного сырья\", predicted_mean_0)"
   ]
  },
  {
   "cell_type": "code",
   "execution_count": 17,
   "metadata": {},
   "outputs": [
    {
     "name": "stdout",
     "output_type": "stream",
     "text": [
      "Регион 2\n",
      "RMSE: 0.893099286775617\n",
      "Средний запас: 68.72313602435997\n",
      "Средний запас предсказанного сырья: 68.728546895446\n"
     ]
    }
   ],
   "source": [
    "model_1 = LinearRegression()\n",
    "model_1.fit(features_train_1, target_train_1)\n",
    "\n",
    "predicted_valid_1 = model_1.predict(features_valid_1)\n",
    "rmse_1 = sqrt(mean_squared_error(target_valid_1, predicted_valid_1))\n",
    "target_mean_1 = target_valid_1.mean()\n",
    "predicted_mean_1 = predicted_valid_1.mean()\n",
    "print(\"Регион 2\")\n",
    "print(\"RMSE:\", rmse_1)\n",
    "print(\"Средний запас:\", target_mean_1)\n",
    "print(\"Средний запас предсказанного сырья:\", predicted_mean_1)"
   ]
  },
  {
   "cell_type": "code",
   "execution_count": 18,
   "metadata": {},
   "outputs": [
    {
     "name": "stdout",
     "output_type": "stream",
     "text": [
      "Регион 3\n",
      "RMSE: 40.02970873393434\n",
      "Средний запас: 94.88423280885438\n",
      "Средний запас предсказанного сырья: 92.59256778438035\n"
     ]
    }
   ],
   "source": [
    "model_2 = LinearRegression()\n",
    "model_2.fit(features_train_2, target_train_2)\n",
    "\n",
    "predicted_valid_2 = model_2.predict(features_valid_2)\n",
    "rmse_2 = sqrt(mean_squared_error(target_valid_2, predicted_valid_2))\n",
    "target_mean_2 = target_valid_2.mean()\n",
    "predicted_mean_2 = predicted_valid_0.mean()\n",
    "print(\"Регион 3\")\n",
    "print(\"RMSE:\", rmse_2)\n",
    "print(\"Средний запас:\", target_mean_2)\n",
    "print(\"Средний запас предсказанного сырья:\", predicted_mean_2)"
   ]
  },
  {
   "cell_type": "code",
   "execution_count": 19,
   "metadata": {},
   "outputs": [
    {
     "data": {
      "text/html": [
       "<div>\n",
       "<style scoped>\n",
       "    .dataframe tbody tr th:only-of-type {\n",
       "        vertical-align: middle;\n",
       "    }\n",
       "\n",
       "    .dataframe tbody tr th {\n",
       "        vertical-align: top;\n",
       "    }\n",
       "\n",
       "    .dataframe thead th {\n",
       "        text-align: right;\n",
       "    }\n",
       "</style>\n",
       "<table border=\"1\" class=\"dataframe\">\n",
       "  <thead>\n",
       "    <tr style=\"text-align: right;\">\n",
       "      <th></th>\n",
       "      <th>RMSE</th>\n",
       "      <th>Средний запас</th>\n",
       "      <th>Средний запас предсказанного сырья</th>\n",
       "    </tr>\n",
       "  </thead>\n",
       "  <tbody>\n",
       "    <tr>\n",
       "      <th>Регион 1</th>\n",
       "      <td>37.579422</td>\n",
       "      <td>92.078597</td>\n",
       "      <td>92.592568</td>\n",
       "    </tr>\n",
       "    <tr>\n",
       "      <th>Регион 2</th>\n",
       "      <td>0.893099</td>\n",
       "      <td>68.723136</td>\n",
       "      <td>68.728547</td>\n",
       "    </tr>\n",
       "    <tr>\n",
       "      <th>Регион 3</th>\n",
       "      <td>40.029709</td>\n",
       "      <td>94.884233</td>\n",
       "      <td>92.592568</td>\n",
       "    </tr>\n",
       "  </tbody>\n",
       "</table>\n",
       "</div>"
      ],
      "text/plain": [
       "               RMSE  Средний запас  Средний запас предсказанного сырья\n",
       "Регион 1  37.579422      92.078597                           92.592568\n",
       "Регион 2   0.893099      68.723136                           68.728547\n",
       "Регион 3  40.029709      94.884233                           92.592568"
      ]
     },
     "metadata": {},
     "output_type": "display_data"
    }
   ],
   "source": [
    "display(pd.DataFrame({ 'RMSE': [rmse_0, rmse_1, rmse_2], \n",
    "'Средний запас':[target_mean_0, target_mean_1, target_mean_2], \n",
    "'Средний запас предсказанного сырья': [predicted_mean_0, predicted_mean_1, predicted_mean_2]}, index = ['Регион 1', 'Регион 2', 'Регион 3' ] ))"
   ]
  },
  {
   "cell_type": "markdown",
   "metadata": {},
   "source": [
    "Более точно предсказаны данные по второму региону. Далее по точности идет первый регион. Меньше всего точность по данным третьего региона. "
   ]
  },
  {
   "cell_type": "markdown",
   "metadata": {},
   "source": [
    "## Подготовка к расчёту прибыли"
   ]
  },
  {
   "cell_type": "markdown",
   "metadata": {},
   "source": [
    "### Рассчет достаточного объёма сырья для безубыточной разработки новой скважины \n",
    "Расчитаем объёма сырья для безубыточной разработки новой скважины.\n",
    "\n",
    "Сравним полученный объём сырья со средним запасом в каждом регионе.\n",
    "\n",
    "Исходные данные: \n",
    "* При разведке региона исследуют 500 точек, из которых с помощью машинного обучения выбирают 200 лучших для разработки.\n",
    "* Бюджет на разработку скважин в регионе — 10 млрд рублей.\n",
    "* При нынешних ценах один баррель сырья приносит 450 рублей дохода. Доход с каждой единицы продукта составляет 450 тыс. рублей, поскольку объём указан в тысячах баррелей."
   ]
  },
  {
   "cell_type": "code",
   "execution_count": 20,
   "metadata": {},
   "outputs": [],
   "source": [
    "revenue_unit = 450000\n",
    "cost_all = 10000000000\n",
    "count_borehole = 200"
   ]
  },
  {
   "cell_type": "markdown",
   "metadata": {},
   "source": [
    "Средняя добыча по регионам"
   ]
  },
  {
   "cell_type": "code",
   "execution_count": 21,
   "metadata": {},
   "outputs": [
    {
     "name": "stdout",
     "output_type": "stream",
     "text": [
      "Регион 1: 92.50000000000001 Регион 2: 68.82500000000002 Регион 3: 95.00000000000004\n"
     ]
    }
   ],
   "source": [
    "product_0 = df_0['product'].mean()\n",
    "product_1 = df_1['product'].mean()\n",
    "product_2 = df_2['product'].mean()\n",
    "print('Регион 1:', product_0, 'Регион 2:', product_1, 'Регион 3:', product_2)"
   ]
  },
  {
   "cell_type": "markdown",
   "metadata": {},
   "source": [
    "Бюджет на 1 скважину"
   ]
  },
  {
   "cell_type": "code",
   "execution_count": 22,
   "metadata": {},
   "outputs": [
    {
     "name": "stdout",
     "output_type": "stream",
     "text": [
      "50000000.0\n"
     ]
    }
   ],
   "source": [
    "cost_borehole = cost_all/count_borehole\n",
    "print(cost_borehole)"
   ]
  },
  {
   "cell_type": "markdown",
   "metadata": {},
   "source": [
    "Минимальное среднее количество продукта в месторождениях региона, достаточное для разработки:"
   ]
  },
  {
   "cell_type": "code",
   "execution_count": 23,
   "metadata": {},
   "outputs": [
    {
     "name": "stdout",
     "output_type": "stream",
     "text": [
      "111.11111111111111\n"
     ]
    }
   ],
   "source": [
    "null_product = cost_borehole/revenue_unit\n",
    "print(null_product)"
   ]
  },
  {
   "cell_type": "markdown",
   "metadata": {},
   "source": [
    "Минимальное среднее количество продукта в месторождениях региона, достаточное для разработки, больше чем среднее по всем регионам, соответственно выбирают только лучшие для  разработки"
   ]
  },
  {
   "cell_type": "markdown",
   "metadata": {},
   "source": [
    "## Расчёт прибыли "
   ]
  },
  {
   "cell_type": "markdown",
   "metadata": {},
   "source": [
    "### Подготовка данных\n"
   ]
  },
  {
   "cell_type": "code",
   "execution_count": 24,
   "metadata": {},
   "outputs": [],
   "source": [
    "predicted_valid_0= pd.DataFrame(predicted_valid_0)\n",
    "predicted_valid_1= pd.DataFrame(predicted_valid_1)\n",
    "predicted_valid_2= pd.DataFrame(predicted_valid_2)"
   ]
  },
  {
   "cell_type": "code",
   "execution_count": 25,
   "metadata": {},
   "outputs": [],
   "source": [
    "target_valid_0 = target_valid_0.reset_index(drop=True)\n",
    "target_valid_1 = target_valid_1.reset_index(drop=True)\n",
    "target_valid_2 = target_valid_2.reset_index(drop=True)\n"
   ]
  },
  {
   "cell_type": "markdown",
   "metadata": {},
   "source": [
    "### Функция\n",
    "\n",
    "* Выберим скважины с максимальными значениями предсказаний.\n",
    "* Просуммируем целевое значение объёма сырья, соответствующее этим предсказаниям.\n",
    "* Рассчитаем прибыль для полученного объёма сырья."
   ]
  },
  {
   "cell_type": "code",
   "execution_count": 26,
   "metadata": {},
   "outputs": [],
   "source": [
    "def revenue(target, predicted,count):\n",
    "    probs_sorted = predicted.sort_values(0, ascending=False)\n",
    "    selected = target.loc[probs_sorted.head(count).index]\n",
    "    return selected.sum()*revenue_unit-cost_all \n"
   ]
  },
  {
   "cell_type": "markdown",
   "metadata": {},
   "source": [
    "### Расчет\n",
    "\n",
    "Проверка на данных по регионам"
   ]
  },
  {
   "cell_type": "code",
   "execution_count": 27,
   "metadata": {},
   "outputs": [
    {
     "data": {
      "text/plain": [
       "3320826043.1398506"
      ]
     },
     "execution_count": 27,
     "metadata": {},
     "output_type": "execute_result"
    }
   ],
   "source": [
    "revenue(target_valid_0, predicted_valid_0,200)"
   ]
  },
  {
   "cell_type": "code",
   "execution_count": 28,
   "metadata": {},
   "outputs": [
    {
     "data": {
      "text/plain": [
       "2415086696.681511"
      ]
     },
     "execution_count": 28,
     "metadata": {},
     "output_type": "execute_result"
    }
   ],
   "source": [
    "revenue(target_valid_1, predicted_valid_1,200)"
   ]
  },
  {
   "cell_type": "code",
   "execution_count": 29,
   "metadata": {},
   "outputs": [
    {
     "data": {
      "text/plain": [
       "2710349963.5998325"
      ]
     },
     "execution_count": 29,
     "metadata": {},
     "output_type": "execute_result"
    }
   ],
   "source": [
    "revenue(target_valid_2, predicted_valid_2,200)"
   ]
  },
  {
   "cell_type": "markdown",
   "metadata": {},
   "source": [
    "## Риски и прибыль для каждого региона"
   ]
  },
  {
   "cell_type": "markdown",
   "metadata": {},
   "source": [
    "### Расчет\n",
    "\n",
    "* Посчитаем риски и прибыль для каждого региона:\n",
    "* Применим технику Bootstrap с 1000 выборок, чтобы найти распределение прибыли.\n",
    "* Найдем среднюю прибыль, 95%-й доверительный интервал и риск убытков. \n"
   ]
  },
  {
   "cell_type": "code",
   "execution_count": 34,
   "metadata": {},
   "outputs": [
    {
     "name": "stdout",
     "output_type": "stream",
     "text": [
      "Регион 1\n",
      "Средняя прибыль: 380710891 руб.\n",
      "2,5%-квантиль: -126947638 руб.\n",
      "97,5%-квантиль: 879613968 руб.\n",
      "95%-ый доверительный интервал: (-126947638.03180212, 879613967.8477957)\n",
      "Количество убыточных экспериментов: 72\n",
      "Вероятность убытков: 7.20%\n",
      "Максимальный убыток: -424243979 руб.\n",
      "Максимальная прибыль: 1257325709 руб.\n",
      "Количество экспериментов всего: 1000.\n"
     ]
    }
   ],
   "source": [
    "state = np.random.RandomState(12345)\n",
    "\n",
    "values = []\n",
    "for i in range(1000):\n",
    "    target_subsample = target_valid_0.sample(n = 500, random_state=state)\n",
    "    probs_subsample = predicted_valid_0.loc[target_subsample.index]\n",
    "    rev = revenue(target_subsample, probs_subsample, 200)\n",
    "    values.append(rev)\n",
    "\n",
    "values = pd.Series(values)\n",
    "lower = values.quantile(0.025)\n",
    "\n",
    "mean = values.mean()\n",
    "hight = values.quantile(0.975)\n",
    "loss = values[values<0]\n",
    "\n",
    "confidence_interval = (lower, hight)\n",
    "print(\"Регион 1\")\n",
    "print(\"Средняя прибыль: {:.0f} руб.\".format(mean))\n",
    "print(\"2,5%-квантиль: {:.0f} руб.\".format(lower))\n",
    "print(\"97,5%-квантиль: {:.0f} руб.\".format(hight))\n",
    "print(\"95%-ый доверительный интервал:\", confidence_interval)\n",
    "print(\"Количество убыточных экспериментов:\", loss.count())\n",
    "print(\"Вероятность убытков: {:.2%}\".format(loss.count()/len(values)))\n",
    "print(\"Максимальный убыток: {:.0f} руб.\".format(loss.min()))\n",
    "print(\"Максимальная прибыль: {:.0f} руб.\".format(values.max()))\n",
    "print(\"Количество экспериментов всего: {:.0f}.\".format(len(values)))"
   ]
  },
  {
   "cell_type": "code",
   "execution_count": 35,
   "metadata": {},
   "outputs": [
    {
     "name": "stdout",
     "output_type": "stream",
     "text": [
      "Регион 2\n",
      "Средняя прибыль: 454785435 руб.\n",
      "2,5%-квантиль: 46730085 руб.\n",
      "97,5%-квантиль: 840213356 руб.\n",
      "95%-ый доверительный интервал: (46730084.769206285, 840213356.26002)\n",
      "Количество убыточных экспериментов: 13\n",
      "Вероятность убытков: 1.30%\n",
      "Максимальный убыток: -109480131 руб.\n",
      "Максимальная прибыль: 1127612350 руб.\n",
      "Количество экспериментов всего: 1000.\n"
     ]
    }
   ],
   "source": [
    "values = []\n",
    "for i in range(1000):\n",
    "    target_subsample = target_valid_1.sample(n = 500, random_state=state)\n",
    "    probs_subsample = predicted_valid_1.loc[target_subsample.index]\n",
    "    rev = revenue(target_subsample, probs_subsample, 200)\n",
    "    values.append(rev)\n",
    "\n",
    "values = pd.Series(values)\n",
    "lower = values.quantile(0.025)\n",
    "\n",
    "mean = values.mean()\n",
    "hight = values.quantile(0.975)\n",
    "loss = values[values<0]\n",
    "\n",
    "\n",
    "confidence_interval = (lower, hight)\n",
    "print(\"Регион 2\")\n",
    "print(\"Средняя прибыль: {:.0f} руб.\".format(mean))\n",
    "print(\"2,5%-квантиль: {:.0f} руб.\".format(lower))\n",
    "print(\"97,5%-квантиль: {:.0f} руб.\".format(hight))\n",
    "print(\"95%-ый доверительный интервал:\", confidence_interval)\n",
    "print(\"Количество убыточных экспериментов:\", loss.count())\n",
    "print(\"Вероятность убытков: {:.2%}\".format(loss.count()/len(values)))\n",
    "print(\"Максимальный убыток: {:.0f} руб.\".format(loss.min()))\n",
    "print(\"Максимальная прибыль: {:.0f} руб.\".format(values.max()))\n",
    "print(\"Количество экспериментов всего: {:.0f}.\".format(len(values)))"
   ]
  },
  {
   "cell_type": "code",
   "execution_count": 36,
   "metadata": {},
   "outputs": [
    {
     "name": "stdout",
     "output_type": "stream",
     "text": [
      "Регион 3\n",
      "Средняя прибыль: 389217074 руб.\n",
      "2,5%-квантиль: -115609566 руб.\n",
      "97,5%-квантиль: 906512590 руб.\n",
      "95%-ый доверительный интервал: (-115609565.77767342, 906512590.1730093)\n",
      "Количество убыточных экспериментов: 73\n",
      "Вероятность убытков: 7.30%\n",
      "Максимальный убыток: -430992700 руб.\n",
      "Максимальная прибыль: 1386235138 руб.\n",
      "Количество экспериментов всего: 1000.\n"
     ]
    }
   ],
   "source": [
    "values = []\n",
    "for i in range(1000):\n",
    "    target_subsample = target_valid_2.sample(n = 500, random_state=state)\n",
    "    probs_subsample = predicted_valid_2.loc[target_subsample.index]\n",
    "    rev = revenue(target_subsample, probs_subsample, 200)\n",
    "    values.append(rev)\n",
    "\n",
    "values = pd.Series(values)\n",
    "lower = values.quantile(0.025)\n",
    "\n",
    "mean = values.mean()\n",
    "hight = values.quantile(0.975)\n",
    "loss = values[values<0]\n",
    "confidence_interval = (lower, hight)\n",
    "print(\"Регион 3\")\n",
    "print(\"Средняя прибыль: {:.0f} руб.\".format(mean))\n",
    "print(\"2,5%-квантиль: {:.0f} руб.\".format(lower))\n",
    "print(\"97,5%-квантиль: {:.0f} руб.\".format(hight))\n",
    "print(\"95%-ый доверительный интервал:\", confidence_interval)\n",
    "print(\"Количество убыточных экспериментов:\", loss.count())\n",
    "print(\"Вероятность убытков: {:.2%}\".format(loss.count()/len(values)))\n",
    "print(\"Максимальный убыток: {:.0f} руб.\".format(loss.min()))\n",
    "print(\"Максимальная прибыль: {:.0f} руб.\".format(values.max()))\n",
    "print(\"Количество экспериментов всего: {:.0f}.\".format(len(values)))"
   ]
  },
  {
   "cell_type": "markdown",
   "metadata": {},
   "source": [
    "### Вывод\n",
    "* Регионы, в которых вероятность убытков меньше 2.5%:\n",
    " Регион 2. \n",
    "\n",
    "* Регион с наибольшей средней прибылью : Регион 2\n",
    "\n",
    "***Из выше сказанного: для разработки скважин  предлагается  регион 2***"
   ]
  },
  {
   "cell_type": "markdown",
   "metadata": {},
   "source": [
    "## Чек-лист готовности проекта"
   ]
  },
  {
   "cell_type": "markdown",
   "metadata": {},
   "source": [
    "Поставьте 'x' в выполненных пунктах. Далее нажмите Shift+Enter."
   ]
  },
  {
   "cell_type": "markdown",
   "metadata": {},
   "source": [
    "- [x]  Jupyter Notebook открыт\n",
    "- [x]  Весь код выполняется без ошибок\n",
    "- [x]  Ячейки с кодом расположены в порядке исполнения\n",
    "- [x]  Выполнен шаг 1: данные подготовлены\n",
    "- [x]  Выполнен шаг 2: модели обучены и проверены\n",
    "    - [x]  Данные корректно разбиты на обучающую и валидационную выборки\n",
    "    - [x]  Модели обучены, предсказания сделаны\n",
    "    - [x]  Предсказания и правильные ответы на валидационной выборке сохранены\n",
    "    - [x]  На экране напечатаны результаты\n",
    "    - [x]  Сделаны выводы\n",
    "- [x]  Выполнен шаг 3: проведена подготовка к расчёту прибыли\n",
    "    - [x]  Для всех ключевых значений созданы константы Python\n",
    "    - [x]  Посчитано минимальное среднее количество продукта в месторождениях региона, достаточное для разработки\n",
    "    - [x]  По предыдущему пункту сделаны выводы\n",
    "    - [x]  Написана функция расчёта прибыли\n",
    "- [x]  Выполнен шаг 4: посчитаны риски и прибыль\n",
    "    - [x]  Проведена процедура *Bootstrap*\n",
    "    - [x]  Все параметры бутстрепа соответствуют условию\n",
    "    - [x]  Найдены все нужные величины\n",
    "    - [x]  Предложен регион для разработки месторождения\n",
    "    - [x]  Выбор региона обоснован"
   ]
  },
  {
   "cell_type": "code",
   "execution_count": null,
   "metadata": {},
   "outputs": [],
   "source": []
  }
 ],
 "metadata": {
  "ExecuteTimeLog": [
   {
    "duration": 430,
    "start_time": "2022-05-16T15:12:55.302Z"
   },
   {
    "duration": 416,
    "start_time": "2022-05-16T15:12:57.816Z"
   },
   {
    "duration": 538,
    "start_time": "2022-05-17T07:32:52.238Z"
   },
   {
    "duration": 592,
    "start_time": "2022-05-17T07:32:53.042Z"
   },
   {
    "duration": 107,
    "start_time": "2022-05-17T07:32:55.567Z"
   },
   {
    "duration": 21,
    "start_time": "2022-05-17T07:33:18.797Z"
   },
   {
    "duration": 441,
    "start_time": "2022-05-17T07:33:22.713Z"
   },
   {
    "duration": 4,
    "start_time": "2022-05-17T07:33:54.439Z"
   },
   {
    "duration": 53,
    "start_time": "2022-05-17T07:34:00.650Z"
   },
   {
    "duration": 7,
    "start_time": "2022-05-17T07:34:13.144Z"
   },
   {
    "duration": 451,
    "start_time": "2022-05-17T07:34:25.245Z"
   },
   {
    "duration": 1079,
    "start_time": "2022-05-17T08:03:16.123Z"
   },
   {
    "duration": 626,
    "start_time": "2022-05-17T08:03:17.204Z"
   },
   {
    "duration": 52,
    "start_time": "2022-05-17T08:03:17.833Z"
   },
   {
    "duration": 50,
    "start_time": "2022-05-17T08:03:23.020Z"
   },
   {
    "duration": 46,
    "start_time": "2022-05-17T08:03:24.331Z"
   },
   {
    "duration": 61,
    "start_time": "2022-05-17T08:06:28.102Z"
   },
   {
    "duration": 35,
    "start_time": "2022-05-17T08:07:00.211Z"
   },
   {
    "duration": 36,
    "start_time": "2022-05-17T08:07:00.976Z"
   },
   {
    "duration": 33,
    "start_time": "2022-05-17T08:07:01.896Z"
   },
   {
    "duration": 20,
    "start_time": "2022-05-17T08:07:02.681Z"
   },
   {
    "duration": 12,
    "start_time": "2022-05-17T08:07:04.112Z"
   },
   {
    "duration": 5,
    "start_time": "2022-05-17T08:07:06.680Z"
   },
   {
    "duration": 46,
    "start_time": "2022-05-17T08:07:10.572Z"
   },
   {
    "duration": 6,
    "start_time": "2022-05-17T08:07:38.289Z"
   },
   {
    "duration": 136,
    "start_time": "2022-05-17T08:08:25.515Z"
   },
   {
    "duration": 5,
    "start_time": "2022-05-17T08:08:30.683Z"
   },
   {
    "duration": 4,
    "start_time": "2022-05-17T08:10:21.266Z"
   },
   {
    "duration": 40,
    "start_time": "2022-05-17T08:17:04.098Z"
   },
   {
    "duration": 14,
    "start_time": "2022-05-17T08:17:05.033Z"
   },
   {
    "duration": 12,
    "start_time": "2022-05-17T08:17:05.688Z"
   },
   {
    "duration": 14,
    "start_time": "2022-05-17T08:17:13.287Z"
   },
   {
    "duration": 22,
    "start_time": "2022-05-17T08:18:02.651Z"
   },
   {
    "duration": 9,
    "start_time": "2022-05-17T08:18:03.170Z"
   },
   {
    "duration": 9,
    "start_time": "2022-05-17T08:18:03.738Z"
   },
   {
    "duration": 6,
    "start_time": "2022-05-17T08:18:04.290Z"
   },
   {
    "duration": 5,
    "start_time": "2022-05-17T08:18:05.660Z"
   },
   {
    "duration": 30,
    "start_time": "2022-05-17T08:18:06.297Z"
   },
   {
    "duration": 11,
    "start_time": "2022-05-17T08:18:06.834Z"
   },
   {
    "duration": 11,
    "start_time": "2022-05-17T08:18:07.449Z"
   },
   {
    "duration": 7,
    "start_time": "2022-05-17T08:22:27.269Z"
   },
   {
    "duration": 30,
    "start_time": "2022-05-17T08:22:37.842Z"
   },
   {
    "duration": 33,
    "start_time": "2022-05-17T08:22:38.265Z"
   },
   {
    "duration": 23,
    "start_time": "2022-05-17T08:22:38.729Z"
   },
   {
    "duration": 7,
    "start_time": "2022-05-17T08:22:39.199Z"
   },
   {
    "duration": 5,
    "start_time": "2022-05-17T08:22:50.691Z"
   },
   {
    "duration": 30,
    "start_time": "2022-05-17T08:22:56.800Z"
   },
   {
    "duration": 4,
    "start_time": "2022-05-17T08:25:24.957Z"
   },
   {
    "duration": 7,
    "start_time": "2022-05-17T08:25:38.591Z"
   },
   {
    "duration": 6,
    "start_time": "2022-05-17T08:26:17.110Z"
   },
   {
    "duration": 8,
    "start_time": "2022-05-17T08:26:17.741Z"
   },
   {
    "duration": 7,
    "start_time": "2022-05-17T08:26:18.173Z"
   },
   {
    "duration": 16,
    "start_time": "2022-05-17T08:34:05.877Z"
   },
   {
    "duration": 4,
    "start_time": "2022-05-17T08:34:22.194Z"
   },
   {
    "duration": 49,
    "start_time": "2022-05-17T08:34:26.737Z"
   },
   {
    "duration": 65,
    "start_time": "2022-05-17T08:35:26.744Z"
   },
   {
    "duration": 65,
    "start_time": "2022-05-17T08:35:36.866Z"
   },
   {
    "duration": 60,
    "start_time": "2022-05-17T08:35:48.684Z"
   },
   {
    "duration": 106,
    "start_time": "2022-05-17T08:37:37.179Z"
   },
   {
    "duration": 79,
    "start_time": "2022-05-17T10:29:02.548Z"
   },
   {
    "duration": 32141,
    "start_time": "2022-05-17T10:29:08.394Z"
   },
   {
    "duration": 11,
    "start_time": "2022-05-17T10:31:46.575Z"
   },
   {
    "duration": 31838,
    "start_time": "2022-05-17T10:31:59.587Z"
   },
   {
    "duration": 21,
    "start_time": "2022-05-17T10:33:14.684Z"
   },
   {
    "duration": 19,
    "start_time": "2022-05-17T10:33:48.803Z"
   },
   {
    "duration": 24273,
    "start_time": "2022-05-17T10:34:28.716Z"
   },
   {
    "duration": 6,
    "start_time": "2022-05-17T10:35:39.773Z"
   },
   {
    "duration": 25420,
    "start_time": "2022-05-17T10:35:40.620Z"
   },
   {
    "duration": 5,
    "start_time": "2022-05-17T10:37:32.892Z"
   },
   {
    "duration": 1238,
    "start_time": "2022-05-17T10:37:33.530Z"
   },
   {
    "duration": 1627,
    "start_time": "2022-05-17T10:42:44.502Z"
   },
   {
    "duration": 536,
    "start_time": "2022-05-17T10:42:46.132Z"
   },
   {
    "duration": 23,
    "start_time": "2022-05-17T10:42:46.671Z"
   },
   {
    "duration": 25,
    "start_time": "2022-05-17T10:42:46.697Z"
   },
   {
    "duration": 55,
    "start_time": "2022-05-17T10:42:46.724Z"
   },
   {
    "duration": 7,
    "start_time": "2022-05-17T10:42:46.781Z"
   },
   {
    "duration": 11,
    "start_time": "2022-05-17T10:42:46.791Z"
   },
   {
    "duration": 10,
    "start_time": "2022-05-17T10:42:46.804Z"
   },
   {
    "duration": 47,
    "start_time": "2022-05-17T10:42:46.817Z"
   },
   {
    "duration": 11,
    "start_time": "2022-05-17T10:42:46.869Z"
   },
   {
    "duration": 182,
    "start_time": "2022-05-17T10:42:46.883Z"
   },
   {
    "duration": 0,
    "start_time": "2022-05-17T10:42:47.067Z"
   },
   {
    "duration": 0,
    "start_time": "2022-05-17T10:42:47.069Z"
   },
   {
    "duration": 0,
    "start_time": "2022-05-17T10:42:47.071Z"
   },
   {
    "duration": 0,
    "start_time": "2022-05-17T10:42:47.073Z"
   },
   {
    "duration": 118,
    "start_time": "2022-05-17T10:45:18.652Z"
   },
   {
    "duration": 18,
    "start_time": "2022-05-17T10:45:30.446Z"
   },
   {
    "duration": 5,
    "start_time": "2022-05-17T10:45:44.450Z"
   },
   {
    "duration": 1406,
    "start_time": "2022-05-17T10:45:45.897Z"
   },
   {
    "duration": 144,
    "start_time": "2022-05-17T10:47:40.878Z"
   },
   {
    "duration": 14,
    "start_time": "2022-05-17T10:47:49.689Z"
   },
   {
    "duration": 7,
    "start_time": "2022-05-17T10:48:32.521Z"
   },
   {
    "duration": 810,
    "start_time": "2022-05-17T10:49:33.265Z"
   },
   {
    "duration": 148,
    "start_time": "2022-05-17T10:50:48.381Z"
   },
   {
    "duration": 796,
    "start_time": "2022-05-17T10:51:04.076Z"
   },
   {
    "duration": 746,
    "start_time": "2022-05-17T10:51:29.261Z"
   },
   {
    "duration": 1045,
    "start_time": "2022-05-17T10:55:05.370Z"
   },
   {
    "duration": 20,
    "start_time": "2022-05-17T10:57:06.316Z"
   },
   {
    "duration": 19,
    "start_time": "2022-05-17T10:58:45.413Z"
   },
   {
    "duration": 5,
    "start_time": "2022-05-17T10:59:24.895Z"
   },
   {
    "duration": 25,
    "start_time": "2022-05-17T10:59:26.071Z"
   },
   {
    "duration": 1561,
    "start_time": "2022-05-17T10:59:34.990Z"
   },
   {
    "duration": 594,
    "start_time": "2022-05-17T10:59:36.554Z"
   },
   {
    "duration": 36,
    "start_time": "2022-05-17T10:59:37.150Z"
   },
   {
    "duration": 25,
    "start_time": "2022-05-17T10:59:37.189Z"
   },
   {
    "duration": 66,
    "start_time": "2022-05-17T10:59:37.216Z"
   },
   {
    "duration": 7,
    "start_time": "2022-05-17T10:59:37.284Z"
   },
   {
    "duration": 11,
    "start_time": "2022-05-17T10:59:37.294Z"
   },
   {
    "duration": 87,
    "start_time": "2022-05-17T10:59:37.308Z"
   },
   {
    "duration": 14,
    "start_time": "2022-05-17T10:59:37.398Z"
   },
   {
    "duration": 25,
    "start_time": "2022-05-17T10:59:37.415Z"
   },
   {
    "duration": 335,
    "start_time": "2022-05-17T10:59:37.443Z"
   },
   {
    "duration": 21,
    "start_time": "2022-05-17T10:59:37.780Z"
   },
   {
    "duration": 182,
    "start_time": "2022-05-17T10:59:37.803Z"
   },
   {
    "duration": 4,
    "start_time": "2022-05-17T11:00:02.888Z"
   },
   {
    "duration": 28,
    "start_time": "2022-05-17T11:00:03.360Z"
   },
   {
    "duration": 5,
    "start_time": "2022-05-17T11:02:31.057Z"
   },
   {
    "duration": 13,
    "start_time": "2022-05-17T11:02:31.601Z"
   },
   {
    "duration": 137,
    "start_time": "2022-05-17T11:04:18.284Z"
   },
   {
    "duration": 19,
    "start_time": "2022-05-17T11:04:34.666Z"
   },
   {
    "duration": 18,
    "start_time": "2022-05-17T11:05:25.239Z"
   },
   {
    "duration": 16,
    "start_time": "2022-05-17T11:05:25.710Z"
   },
   {
    "duration": 7,
    "start_time": "2022-05-17T11:07:12.801Z"
   },
   {
    "duration": 1064,
    "start_time": "2022-05-17T11:08:06.271Z"
   },
   {
    "duration": 20,
    "start_time": "2022-05-17T11:08:38.531Z"
   },
   {
    "duration": 21,
    "start_time": "2022-05-17T11:08:48.499Z"
   },
   {
    "duration": 21,
    "start_time": "2022-05-17T11:09:04.661Z"
   },
   {
    "duration": 19,
    "start_time": "2022-05-17T11:09:08.084Z"
   },
   {
    "duration": 19,
    "start_time": "2022-05-17T11:09:15.440Z"
   },
   {
    "duration": 20,
    "start_time": "2022-05-17T11:09:20.997Z"
   },
   {
    "duration": 18,
    "start_time": "2022-05-17T11:09:28.671Z"
   },
   {
    "duration": 4,
    "start_time": "2022-05-17T11:09:34.293Z"
   },
   {
    "duration": 4,
    "start_time": "2022-05-17T11:10:00.502Z"
   },
   {
    "duration": 21,
    "start_time": "2022-05-17T11:10:05.574Z"
   },
   {
    "duration": 13,
    "start_time": "2022-05-17T11:17:15.330Z"
   },
   {
    "duration": 5,
    "start_time": "2022-05-17T11:17:32.483Z"
   },
   {
    "duration": 13,
    "start_time": "2022-05-17T11:17:37.489Z"
   },
   {
    "duration": 20,
    "start_time": "2022-05-17T11:17:51.401Z"
   },
   {
    "duration": 12,
    "start_time": "2022-05-17T11:22:15.329Z"
   },
   {
    "duration": 5,
    "start_time": "2022-05-17T11:22:52.986Z"
   },
   {
    "duration": 13,
    "start_time": "2022-05-17T11:22:56.834Z"
   },
   {
    "duration": 19,
    "start_time": "2022-05-17T11:23:07.513Z"
   },
   {
    "duration": 35,
    "start_time": "2022-05-17T11:23:15.144Z"
   },
   {
    "duration": 30,
    "start_time": "2022-05-17T11:27:04.729Z"
   },
   {
    "duration": 193,
    "start_time": "2022-05-17T11:27:16.166Z"
   },
   {
    "duration": 131,
    "start_time": "2022-05-17T11:27:26.630Z"
   },
   {
    "duration": 153,
    "start_time": "2022-05-17T11:27:37.808Z"
   },
   {
    "duration": 201,
    "start_time": "2022-05-17T11:28:04.360Z"
   },
   {
    "duration": 5,
    "start_time": "2022-05-17T11:28:10.040Z"
   },
   {
    "duration": 164,
    "start_time": "2022-05-17T11:28:14.912Z"
   },
   {
    "duration": 235,
    "start_time": "2022-05-17T11:28:31.426Z"
   },
   {
    "duration": 26,
    "start_time": "2022-05-17T11:28:43.162Z"
   },
   {
    "duration": 99,
    "start_time": "2022-05-17T11:29:17.781Z"
   },
   {
    "duration": 83,
    "start_time": "2022-05-17T11:29:32.276Z"
   },
   {
    "duration": 25,
    "start_time": "2022-05-17T11:29:51.787Z"
   },
   {
    "duration": 81,
    "start_time": "2022-05-17T11:33:02.378Z"
   },
   {
    "duration": 25,
    "start_time": "2022-05-17T11:33:04.185Z"
   },
   {
    "duration": 1610,
    "start_time": "2022-05-17T11:33:36.094Z"
   },
   {
    "duration": 561,
    "start_time": "2022-05-17T11:33:37.706Z"
   },
   {
    "duration": 5,
    "start_time": "2022-05-17T11:33:38.269Z"
   },
   {
    "duration": 17,
    "start_time": "2022-05-17T11:33:38.278Z"
   },
   {
    "duration": 20,
    "start_time": "2022-05-17T11:33:38.297Z"
   },
   {
    "duration": 49,
    "start_time": "2022-05-17T11:33:38.320Z"
   },
   {
    "duration": 16,
    "start_time": "2022-05-17T11:33:38.372Z"
   },
   {
    "duration": 7,
    "start_time": "2022-05-17T11:33:38.391Z"
   },
   {
    "duration": 125,
    "start_time": "2022-05-17T11:33:38.400Z"
   },
   {
    "duration": 48,
    "start_time": "2022-05-17T11:33:38.528Z"
   },
   {
    "duration": 117,
    "start_time": "2022-05-17T11:33:38.661Z"
   },
   {
    "duration": 206,
    "start_time": "2022-05-17T11:33:38.780Z"
   },
   {
    "duration": 2043,
    "start_time": "2022-05-17T11:35:38.845Z"
   },
   {
    "duration": 525,
    "start_time": "2022-05-17T11:35:40.891Z"
   },
   {
    "duration": 5,
    "start_time": "2022-05-17T11:35:41.418Z"
   },
   {
    "duration": 36,
    "start_time": "2022-05-17T11:35:41.426Z"
   },
   {
    "duration": 19,
    "start_time": "2022-05-17T11:35:41.464Z"
   },
   {
    "duration": 16,
    "start_time": "2022-05-17T11:35:41.486Z"
   },
   {
    "duration": 16,
    "start_time": "2022-05-17T11:35:41.504Z"
   },
   {
    "duration": 39,
    "start_time": "2022-05-17T11:35:41.522Z"
   },
   {
    "duration": 100,
    "start_time": "2022-05-17T11:35:41.564Z"
   },
   {
    "duration": 108,
    "start_time": "2022-05-17T11:35:41.669Z"
   },
   {
    "duration": 197,
    "start_time": "2022-05-17T11:35:41.861Z"
   },
   {
    "duration": 53,
    "start_time": "2022-05-17T11:36:39.116Z"
   },
   {
    "duration": 51,
    "start_time": "2022-05-17T11:37:00.111Z"
   },
   {
    "duration": 49,
    "start_time": "2022-05-17T11:37:00.583Z"
   },
   {
    "duration": 235,
    "start_time": "2022-05-17T11:38:13.297Z"
   },
   {
    "duration": 155,
    "start_time": "2022-05-17T11:43:28.659Z"
   },
   {
    "duration": 184,
    "start_time": "2022-05-17T11:48:11.588Z"
   },
   {
    "duration": 4,
    "start_time": "2022-05-17T11:48:23.227Z"
   },
   {
    "duration": 22,
    "start_time": "2022-05-17T11:48:28.693Z"
   },
   {
    "duration": 24,
    "start_time": "2022-05-17T11:48:54.258Z"
   },
   {
    "duration": 11,
    "start_time": "2022-05-17T11:51:01.869Z"
   },
   {
    "duration": 655,
    "start_time": "2022-05-17T11:51:14.756Z"
   },
   {
    "duration": 208,
    "start_time": "2022-05-17T11:51:21.030Z"
   },
   {
    "duration": 1524,
    "start_time": "2022-05-17T11:51:42.309Z"
   },
   {
    "duration": 174,
    "start_time": "2022-05-17T11:52:09.230Z"
   },
   {
    "duration": 1339,
    "start_time": "2022-05-17T11:52:23.464Z"
   },
   {
    "duration": 1221,
    "start_time": "2022-05-17T11:52:32.007Z"
   },
   {
    "duration": 1224,
    "start_time": "2022-05-17T11:52:39.080Z"
   },
   {
    "duration": 160,
    "start_time": "2022-05-17T11:55:58.301Z"
   },
   {
    "duration": 5,
    "start_time": "2022-05-17T11:56:25.887Z"
   },
   {
    "duration": 24,
    "start_time": "2022-05-17T11:56:31.265Z"
   },
   {
    "duration": 26,
    "start_time": "2022-05-17T11:58:48.045Z"
   },
   {
    "duration": 86,
    "start_time": "2022-05-17T12:00:00.573Z"
   },
   {
    "duration": 287,
    "start_time": "2022-05-17T12:00:37.675Z"
   },
   {
    "duration": 155,
    "start_time": "2022-05-17T12:00:54.404Z"
   },
   {
    "duration": 263,
    "start_time": "2022-05-17T12:02:26.573Z"
   },
   {
    "duration": 3414,
    "start_time": "2022-05-17T12:02:31.734Z"
   },
   {
    "duration": 1529,
    "start_time": "2022-05-17T12:02:53.277Z"
   },
   {
    "duration": 14,
    "start_time": "2022-05-17T14:10:02.697Z"
   },
   {
    "duration": 93,
    "start_time": "2022-05-17T14:10:11.872Z"
   },
   {
    "duration": 4812,
    "start_time": "2022-05-17T14:10:17.187Z"
   },
   {
    "duration": 7281,
    "start_time": "2022-05-17T14:10:36.295Z"
   },
   {
    "duration": 7176,
    "start_time": "2022-05-17T14:11:31.441Z"
   },
   {
    "duration": 15,
    "start_time": "2022-05-17T14:12:50.698Z"
   },
   {
    "duration": 7697,
    "start_time": "2022-05-17T14:12:56.571Z"
   },
   {
    "duration": 599,
    "start_time": "2022-05-17T14:15:11.976Z"
   },
   {
    "duration": 367,
    "start_time": "2022-05-17T14:15:42.364Z"
   },
   {
    "duration": 411,
    "start_time": "2022-05-17T14:16:26.019Z"
   },
   {
    "duration": 32,
    "start_time": "2022-05-17T14:28:20.498Z"
   },
   {
    "duration": 26,
    "start_time": "2022-05-17T14:28:30.573Z"
   },
   {
    "duration": 35,
    "start_time": "2022-05-17T14:30:21.653Z"
   },
   {
    "duration": 33,
    "start_time": "2022-05-17T14:30:56.300Z"
   },
   {
    "duration": 33,
    "start_time": "2022-05-17T14:30:57.236Z"
   },
   {
    "duration": 32,
    "start_time": "2022-05-17T14:32:39.381Z"
   },
   {
    "duration": 33,
    "start_time": "2022-05-17T14:32:39.850Z"
   },
   {
    "duration": 40,
    "start_time": "2022-05-17T14:32:40.164Z"
   },
   {
    "duration": 6,
    "start_time": "2022-05-17T14:34:08.010Z"
   },
   {
    "duration": 5,
    "start_time": "2022-05-17T14:42:25.129Z"
   },
   {
    "duration": 6,
    "start_time": "2022-05-17T14:42:50.054Z"
   },
   {
    "duration": 87,
    "start_time": "2022-05-17T14:43:13.850Z"
   },
   {
    "duration": 14,
    "start_time": "2022-05-17T14:43:15.061Z"
   },
   {
    "duration": 4,
    "start_time": "2022-05-17T14:43:17.329Z"
   },
   {
    "duration": 6,
    "start_time": "2022-05-17T14:43:17.607Z"
   },
   {
    "duration": 86,
    "start_time": "2022-05-17T14:43:17.799Z"
   },
   {
    "duration": 4,
    "start_time": "2022-05-17T14:43:18.050Z"
   },
   {
    "duration": 3,
    "start_time": "2022-05-17T14:48:28.265Z"
   },
   {
    "duration": 6,
    "start_time": "2022-05-17T14:49:25.818Z"
   },
   {
    "duration": 5,
    "start_time": "2022-05-17T14:51:08.155Z"
   },
   {
    "duration": 7,
    "start_time": "2022-05-17T14:54:26.394Z"
   },
   {
    "duration": 13,
    "start_time": "2022-05-17T15:01:35.384Z"
   },
   {
    "duration": 4,
    "start_time": "2022-05-17T15:01:42.613Z"
   },
   {
    "duration": 7,
    "start_time": "2022-05-17T15:01:43.386Z"
   },
   {
    "duration": 86,
    "start_time": "2022-05-17T15:01:44.729Z"
   },
   {
    "duration": 6,
    "start_time": "2022-05-17T15:01:45.625Z"
   },
   {
    "duration": 6,
    "start_time": "2022-05-17T15:02:45.058Z"
   },
   {
    "duration": 5,
    "start_time": "2022-05-17T15:03:40.255Z"
   },
   {
    "duration": 12,
    "start_time": "2022-05-17T15:10:56.580Z"
   },
   {
    "duration": 12,
    "start_time": "2022-05-17T15:11:06.483Z"
   },
   {
    "duration": 5,
    "start_time": "2022-05-17T15:14:32.109Z"
   },
   {
    "duration": 5,
    "start_time": "2022-05-17T15:14:51.962Z"
   },
   {
    "duration": 12,
    "start_time": "2022-05-17T15:15:11.553Z"
   },
   {
    "duration": 12,
    "start_time": "2022-05-17T15:15:47.736Z"
   },
   {
    "duration": 5,
    "start_time": "2022-05-17T15:15:54.103Z"
   },
   {
    "duration": 5,
    "start_time": "2022-05-17T15:16:06.945Z"
   },
   {
    "duration": 5,
    "start_time": "2022-05-17T15:20:15.346Z"
   },
   {
    "duration": 11,
    "start_time": "2022-05-17T15:20:55.454Z"
   },
   {
    "duration": 13,
    "start_time": "2022-05-17T15:21:17.225Z"
   },
   {
    "duration": 18,
    "start_time": "2022-05-17T15:21:36.366Z"
   },
   {
    "duration": 13,
    "start_time": "2022-05-17T15:22:08.017Z"
   },
   {
    "duration": 19,
    "start_time": "2022-05-17T15:22:16.413Z"
   },
   {
    "duration": 532,
    "start_time": "2022-05-17T15:22:55.502Z"
   },
   {
    "duration": 13,
    "start_time": "2022-05-17T15:23:08.527Z"
   },
   {
    "duration": 14,
    "start_time": "2022-05-17T15:23:20.053Z"
   },
   {
    "duration": 2041,
    "start_time": "2022-05-17T15:23:45.731Z"
   },
   {
    "duration": 567,
    "start_time": "2022-05-17T15:23:47.774Z"
   },
   {
    "duration": 261,
    "start_time": "2022-05-17T15:23:48.344Z"
   },
   {
    "duration": 77,
    "start_time": "2022-05-17T15:23:48.609Z"
   },
   {
    "duration": 51,
    "start_time": "2022-05-17T15:23:48.689Z"
   },
   {
    "duration": 51,
    "start_time": "2022-05-17T15:23:48.759Z"
   },
   {
    "duration": 421,
    "start_time": "2022-05-17T15:23:48.813Z"
   },
   {
    "duration": 363,
    "start_time": "2022-05-17T15:23:49.237Z"
   },
   {
    "duration": 390,
    "start_time": "2022-05-17T15:23:49.603Z"
   },
   {
    "duration": 4,
    "start_time": "2022-05-17T15:23:49.997Z"
   },
   {
    "duration": 17,
    "start_time": "2022-05-17T15:23:50.003Z"
   },
   {
    "duration": 43,
    "start_time": "2022-05-17T15:23:50.022Z"
   },
   {
    "duration": 17,
    "start_time": "2022-05-17T15:23:50.067Z"
   },
   {
    "duration": 17,
    "start_time": "2022-05-17T15:23:50.087Z"
   },
   {
    "duration": 8,
    "start_time": "2022-05-17T15:23:50.107Z"
   },
   {
    "duration": 141,
    "start_time": "2022-05-17T15:23:50.117Z"
   },
   {
    "duration": 108,
    "start_time": "2022-05-17T15:23:50.270Z"
   },
   {
    "duration": 189,
    "start_time": "2022-05-17T15:23:50.382Z"
   },
   {
    "duration": 85,
    "start_time": "2022-05-17T15:23:50.575Z"
   },
   {
    "duration": 118,
    "start_time": "2022-05-17T15:23:50.663Z"
   },
   {
    "duration": 17,
    "start_time": "2022-05-17T15:23:50.784Z"
   },
   {
    "duration": 26,
    "start_time": "2022-05-17T15:23:50.804Z"
   },
   {
    "duration": 26,
    "start_time": "2022-05-17T15:23:50.833Z"
   },
   {
    "duration": 55,
    "start_time": "2022-05-17T15:23:50.861Z"
   },
   {
    "duration": 43,
    "start_time": "2022-05-17T15:23:50.918Z"
   },
   {
    "duration": 165,
    "start_time": "2022-05-17T15:25:06.516Z"
   },
   {
    "duration": 11,
    "start_time": "2022-05-17T15:25:12.560Z"
   },
   {
    "duration": 11,
    "start_time": "2022-05-17T15:29:37.710Z"
   },
   {
    "duration": 8,
    "start_time": "2022-05-17T15:29:41.462Z"
   },
   {
    "duration": 21,
    "start_time": "2022-05-17T15:29:42.253Z"
   },
   {
    "duration": 23,
    "start_time": "2022-05-17T15:30:00.488Z"
   },
   {
    "duration": 5,
    "start_time": "2022-05-17T15:34:15.069Z"
   },
   {
    "duration": 7,
    "start_time": "2022-05-17T15:35:01.949Z"
   },
   {
    "duration": 13,
    "start_time": "2022-05-17T15:37:39.947Z"
   },
   {
    "duration": 7,
    "start_time": "2022-05-17T15:38:25.564Z"
   },
   {
    "duration": 5,
    "start_time": "2022-05-17T15:46:10.896Z"
   },
   {
    "duration": 20,
    "start_time": "2022-05-17T15:47:00.759Z"
   },
   {
    "duration": 36,
    "start_time": "2022-05-17T15:48:10.815Z"
   },
   {
    "duration": 19,
    "start_time": "2022-05-17T15:48:56.527Z"
   },
   {
    "duration": 33,
    "start_time": "2022-05-17T15:49:17.064Z"
   },
   {
    "duration": 33,
    "start_time": "2022-05-17T15:50:01.527Z"
   },
   {
    "duration": 31,
    "start_time": "2022-05-17T15:50:24.487Z"
   },
   {
    "duration": 4,
    "start_time": "2022-05-17T15:50:31.350Z"
   },
   {
    "duration": 5,
    "start_time": "2022-05-17T15:52:27.534Z"
   },
   {
    "duration": 11,
    "start_time": "2022-05-17T15:52:27.982Z"
   },
   {
    "duration": 12,
    "start_time": "2022-05-17T15:53:15.252Z"
   },
   {
    "duration": 10,
    "start_time": "2022-05-17T15:53:16.118Z"
   },
   {
    "duration": 12,
    "start_time": "2022-05-17T15:53:17.039Z"
   },
   {
    "duration": 2161,
    "start_time": "2022-05-17T15:58:20.613Z"
   },
   {
    "duration": 586,
    "start_time": "2022-05-17T15:58:22.778Z"
   },
   {
    "duration": 292,
    "start_time": "2022-05-17T15:58:23.367Z"
   },
   {
    "duration": 56,
    "start_time": "2022-05-17T15:58:23.662Z"
   },
   {
    "duration": 80,
    "start_time": "2022-05-17T15:58:23.720Z"
   },
   {
    "duration": 63,
    "start_time": "2022-05-17T15:58:23.802Z"
   },
   {
    "duration": 424,
    "start_time": "2022-05-17T15:58:23.867Z"
   },
   {
    "duration": 382,
    "start_time": "2022-05-17T15:58:24.293Z"
   },
   {
    "duration": 396,
    "start_time": "2022-05-17T15:58:24.678Z"
   },
   {
    "duration": 4,
    "start_time": "2022-05-17T15:58:25.078Z"
   },
   {
    "duration": 22,
    "start_time": "2022-05-17T15:58:25.085Z"
   },
   {
    "duration": 22,
    "start_time": "2022-05-17T15:58:25.110Z"
   },
   {
    "duration": 39,
    "start_time": "2022-05-17T15:58:25.135Z"
   },
   {
    "duration": 52,
    "start_time": "2022-05-17T15:58:25.178Z"
   },
   {
    "duration": 10,
    "start_time": "2022-05-17T15:58:25.234Z"
   },
   {
    "duration": 120,
    "start_time": "2022-05-17T15:58:25.247Z"
   },
   {
    "duration": 186,
    "start_time": "2022-05-17T15:58:25.375Z"
   },
   {
    "duration": 108,
    "start_time": "2022-05-17T15:58:25.565Z"
   },
   {
    "duration": 85,
    "start_time": "2022-05-17T15:58:25.676Z"
   },
   {
    "duration": 99,
    "start_time": "2022-05-17T15:58:25.765Z"
   },
   {
    "duration": 7,
    "start_time": "2022-05-17T15:58:25.866Z"
   },
   {
    "duration": 6,
    "start_time": "2022-05-17T15:58:25.876Z"
   },
   {
    "duration": 7,
    "start_time": "2022-05-17T15:58:25.885Z"
   },
   {
    "duration": 15,
    "start_time": "2022-05-17T15:58:25.895Z"
   },
   {
    "duration": 54,
    "start_time": "2022-05-17T15:58:25.913Z"
   },
   {
    "duration": 14,
    "start_time": "2022-05-17T15:58:25.970Z"
   },
   {
    "duration": 133,
    "start_time": "2022-05-17T15:58:25.988Z"
   },
   {
    "duration": 213,
    "start_time": "2022-05-17T16:06:19.912Z"
   },
   {
    "duration": 14,
    "start_time": "2022-05-17T16:06:40.756Z"
   },
   {
    "duration": 5,
    "start_time": "2022-05-17T16:06:48.610Z"
   },
   {
    "duration": 25,
    "start_time": "2022-05-17T16:06:54.172Z"
   },
   {
    "duration": 17,
    "start_time": "2022-05-17T16:07:45.517Z"
   },
   {
    "duration": 16,
    "start_time": "2022-05-17T16:08:25.387Z"
   },
   {
    "duration": 21,
    "start_time": "2022-05-17T16:09:13.588Z"
   },
   {
    "duration": 17,
    "start_time": "2022-05-17T16:10:59.969Z"
   },
   {
    "duration": 1028,
    "start_time": "2022-05-17T16:13:16.392Z"
   },
   {
    "duration": 481,
    "start_time": "2022-05-17T16:14:17.925Z"
   },
   {
    "duration": 16,
    "start_time": "2022-05-17T16:15:17.977Z"
   },
   {
    "duration": 19,
    "start_time": "2022-05-17T16:16:01.632Z"
   },
   {
    "duration": 16,
    "start_time": "2022-05-17T16:16:09.698Z"
   },
   {
    "duration": 18,
    "start_time": "2022-05-17T16:22:57.627Z"
   },
   {
    "duration": 17,
    "start_time": "2022-05-17T16:23:04.638Z"
   },
   {
    "duration": 16,
    "start_time": "2022-05-17T16:23:21.563Z"
   },
   {
    "duration": 17,
    "start_time": "2022-05-17T16:23:31.423Z"
   },
   {
    "duration": 8,
    "start_time": "2022-05-17T16:23:51.498Z"
   },
   {
    "duration": 5,
    "start_time": "2022-05-17T16:24:27.836Z"
   },
   {
    "duration": 12,
    "start_time": "2022-05-17T16:27:17.002Z"
   },
   {
    "duration": 7,
    "start_time": "2022-05-17T16:27:23.961Z"
   },
   {
    "duration": 12,
    "start_time": "2022-05-17T16:27:47.771Z"
   },
   {
    "duration": 9,
    "start_time": "2022-05-17T16:28:07.737Z"
   },
   {
    "duration": 7,
    "start_time": "2022-05-18T03:07:02.774Z"
   },
   {
    "duration": 1483,
    "start_time": "2022-05-18T03:07:10.664Z"
   },
   {
    "duration": 1565,
    "start_time": "2022-05-18T03:07:12.149Z"
   },
   {
    "duration": 155,
    "start_time": "2022-05-18T03:07:13.716Z"
   },
   {
    "duration": 66,
    "start_time": "2022-05-18T03:07:13.874Z"
   },
   {
    "duration": 37,
    "start_time": "2022-05-18T03:07:13.942Z"
   },
   {
    "duration": 51,
    "start_time": "2022-05-18T03:07:13.981Z"
   },
   {
    "duration": 304,
    "start_time": "2022-05-18T03:07:14.033Z"
   },
   {
    "duration": 232,
    "start_time": "2022-05-18T03:07:14.339Z"
   },
   {
    "duration": 282,
    "start_time": "2022-05-18T03:07:14.573Z"
   },
   {
    "duration": 3,
    "start_time": "2022-05-18T03:07:14.858Z"
   },
   {
    "duration": 32,
    "start_time": "2022-05-18T03:07:14.862Z"
   },
   {
    "duration": 24,
    "start_time": "2022-05-18T03:07:14.895Z"
   },
   {
    "duration": 20,
    "start_time": "2022-05-18T03:07:14.920Z"
   },
   {
    "duration": 20,
    "start_time": "2022-05-18T03:07:14.942Z"
   },
   {
    "duration": 32,
    "start_time": "2022-05-18T03:07:14.963Z"
   },
   {
    "duration": 43,
    "start_time": "2022-05-18T03:07:14.997Z"
   },
   {
    "duration": 175,
    "start_time": "2022-05-18T03:07:15.041Z"
   },
   {
    "duration": 202,
    "start_time": "2022-05-18T03:07:15.218Z"
   },
   {
    "duration": 6,
    "start_time": "2022-05-18T03:07:15.511Z"
   },
   {
    "duration": 9,
    "start_time": "2022-05-18T03:07:15.611Z"
   },
   {
    "duration": 4,
    "start_time": "2022-05-18T03:07:15.622Z"
   },
   {
    "duration": 5,
    "start_time": "2022-05-18T03:07:15.628Z"
   },
   {
    "duration": 122,
    "start_time": "2022-05-18T03:07:15.634Z"
   },
   {
    "duration": 0,
    "start_time": "2022-05-18T03:07:15.758Z"
   },
   {
    "duration": 0,
    "start_time": "2022-05-18T03:07:15.759Z"
   },
   {
    "duration": 0,
    "start_time": "2022-05-18T03:07:15.760Z"
   },
   {
    "duration": 0,
    "start_time": "2022-05-18T03:07:15.761Z"
   },
   {
    "duration": 0,
    "start_time": "2022-05-18T03:07:15.762Z"
   },
   {
    "duration": 0,
    "start_time": "2022-05-18T03:07:15.763Z"
   },
   {
    "duration": 0,
    "start_time": "2022-05-18T03:07:15.764Z"
   },
   {
    "duration": 0,
    "start_time": "2022-05-18T03:07:15.765Z"
   },
   {
    "duration": 0,
    "start_time": "2022-05-18T03:07:15.766Z"
   },
   {
    "duration": 0,
    "start_time": "2022-05-18T03:07:15.767Z"
   },
   {
    "duration": 0,
    "start_time": "2022-05-18T03:07:15.768Z"
   },
   {
    "duration": 0,
    "start_time": "2022-05-18T03:07:15.769Z"
   },
   {
    "duration": 7,
    "start_time": "2022-05-18T03:08:18.677Z"
   },
   {
    "duration": 9,
    "start_time": "2022-05-18T03:08:39.581Z"
   },
   {
    "duration": 10,
    "start_time": "2022-05-18T03:08:50.620Z"
   },
   {
    "duration": 9,
    "start_time": "2022-05-18T03:09:25.062Z"
   },
   {
    "duration": 13,
    "start_time": "2022-05-18T03:09:37.291Z"
   },
   {
    "duration": 11,
    "start_time": "2022-05-18T03:10:01.533Z"
   },
   {
    "duration": 9,
    "start_time": "2022-05-18T03:10:19.361Z"
   },
   {
    "duration": 10,
    "start_time": "2022-05-18T03:10:56.746Z"
   },
   {
    "duration": 18,
    "start_time": "2022-05-18T03:11:06.112Z"
   },
   {
    "duration": 4,
    "start_time": "2022-05-18T03:11:32.530Z"
   },
   {
    "duration": 13,
    "start_time": "2022-05-18T03:11:42.559Z"
   },
   {
    "duration": 5,
    "start_time": "2022-05-18T03:11:52.525Z"
   },
   {
    "duration": 3,
    "start_time": "2022-05-18T03:11:54.430Z"
   },
   {
    "duration": 25,
    "start_time": "2022-05-18T03:12:17.104Z"
   },
   {
    "duration": 5,
    "start_time": "2022-05-18T03:12:53.634Z"
   },
   {
    "duration": 5,
    "start_time": "2022-05-18T03:12:55.126Z"
   },
   {
    "duration": 13,
    "start_time": "2022-05-18T03:12:58.192Z"
   },
   {
    "duration": 3,
    "start_time": "2022-05-18T03:18:33.119Z"
   },
   {
    "duration": 3,
    "start_time": "2022-05-18T03:18:37.809Z"
   },
   {
    "duration": 4,
    "start_time": "2022-05-18T03:18:42.113Z"
   },
   {
    "duration": 14,
    "start_time": "2022-05-18T03:18:48.514Z"
   },
   {
    "duration": 1353,
    "start_time": "2022-05-18T03:18:58.488Z"
   },
   {
    "duration": 502,
    "start_time": "2022-05-18T03:18:59.844Z"
   },
   {
    "duration": 167,
    "start_time": "2022-05-18T03:19:00.347Z"
   },
   {
    "duration": 43,
    "start_time": "2022-05-18T03:19:00.516Z"
   },
   {
    "duration": 63,
    "start_time": "2022-05-18T03:19:00.560Z"
   },
   {
    "duration": 39,
    "start_time": "2022-05-18T03:19:00.625Z"
   },
   {
    "duration": 397,
    "start_time": "2022-05-18T03:19:00.667Z"
   },
   {
    "duration": 365,
    "start_time": "2022-05-18T03:19:01.066Z"
   },
   {
    "duration": 337,
    "start_time": "2022-05-18T03:19:01.433Z"
   },
   {
    "duration": 4,
    "start_time": "2022-05-18T03:19:01.773Z"
   },
   {
    "duration": 30,
    "start_time": "2022-05-18T03:19:01.779Z"
   },
   {
    "duration": 33,
    "start_time": "2022-05-18T03:19:01.811Z"
   },
   {
    "duration": 16,
    "start_time": "2022-05-18T03:19:01.845Z"
   },
   {
    "duration": 25,
    "start_time": "2022-05-18T03:19:01.863Z"
   },
   {
    "duration": 8,
    "start_time": "2022-05-18T03:19:01.891Z"
   },
   {
    "duration": 50,
    "start_time": "2022-05-18T03:19:01.902Z"
   },
   {
    "duration": 115,
    "start_time": "2022-05-18T03:19:02.013Z"
   },
   {
    "duration": 94,
    "start_time": "2022-05-18T03:19:02.129Z"
   },
   {
    "duration": 95,
    "start_time": "2022-05-18T03:19:02.225Z"
   },
   {
    "duration": 90,
    "start_time": "2022-05-18T03:19:02.322Z"
   },
   {
    "duration": 5,
    "start_time": "2022-05-18T03:19:02.414Z"
   },
   {
    "duration": 10,
    "start_time": "2022-05-18T03:19:02.421Z"
   },
   {
    "duration": 9,
    "start_time": "2022-05-18T03:19:02.433Z"
   },
   {
    "duration": 7,
    "start_time": "2022-05-18T03:19:02.444Z"
   },
   {
    "duration": 8,
    "start_time": "2022-05-18T03:19:02.452Z"
   },
   {
    "duration": 0,
    "start_time": "2022-05-18T03:19:02.462Z"
   },
   {
    "duration": 0,
    "start_time": "2022-05-18T03:19:02.463Z"
   },
   {
    "duration": 0,
    "start_time": "2022-05-18T03:19:02.465Z"
   },
   {
    "duration": 0,
    "start_time": "2022-05-18T03:19:02.466Z"
   },
   {
    "duration": 0,
    "start_time": "2022-05-18T03:19:02.467Z"
   },
   {
    "duration": 0,
    "start_time": "2022-05-18T03:19:02.468Z"
   },
   {
    "duration": 0,
    "start_time": "2022-05-18T03:19:02.469Z"
   },
   {
    "duration": 0,
    "start_time": "2022-05-18T03:19:02.471Z"
   },
   {
    "duration": 0,
    "start_time": "2022-05-18T03:19:02.472Z"
   },
   {
    "duration": 0,
    "start_time": "2022-05-18T03:19:02.473Z"
   },
   {
    "duration": 3,
    "start_time": "2022-05-18T03:19:49.530Z"
   },
   {
    "duration": 4,
    "start_time": "2022-05-18T03:19:58.524Z"
   },
   {
    "duration": 124,
    "start_time": "2022-05-18T03:20:02.362Z"
   },
   {
    "duration": 4,
    "start_time": "2022-05-18T03:20:13.562Z"
   },
   {
    "duration": 12,
    "start_time": "2022-05-18T03:20:18.613Z"
   },
   {
    "duration": 3,
    "start_time": "2022-05-18T03:21:34.416Z"
   },
   {
    "duration": 5,
    "start_time": "2022-05-18T03:21:34.670Z"
   },
   {
    "duration": 6,
    "start_time": "2022-05-18T03:21:34.902Z"
   },
   {
    "duration": 11,
    "start_time": "2022-05-18T03:21:35.765Z"
   },
   {
    "duration": 8,
    "start_time": "2022-05-18T03:21:36.351Z"
   },
   {
    "duration": 10,
    "start_time": "2022-05-18T03:21:36.821Z"
   },
   {
    "duration": 31,
    "start_time": "2022-05-18T03:22:00.809Z"
   },
   {
    "duration": 4,
    "start_time": "2022-05-18T03:25:38.701Z"
   },
   {
    "duration": 10,
    "start_time": "2022-05-18T03:25:39.212Z"
   },
   {
    "duration": 10,
    "start_time": "2022-05-18T03:25:39.861Z"
   },
   {
    "duration": 10,
    "start_time": "2022-05-18T03:25:40.356Z"
   },
   {
    "duration": 161,
    "start_time": "2022-05-18T03:25:44.480Z"
   },
   {
    "duration": 1214,
    "start_time": "2022-05-18T03:26:02.855Z"
   },
   {
    "duration": 1375,
    "start_time": "2022-05-18T03:26:24.366Z"
   },
   {
    "duration": 1206,
    "start_time": "2022-05-18T03:27:09.736Z"
   },
   {
    "duration": 1210,
    "start_time": "2022-05-18T03:27:12.935Z"
   },
   {
    "duration": 1222,
    "start_time": "2022-05-18T05:36:37.658Z"
   },
   {
    "duration": 1429,
    "start_time": "2022-05-18T05:37:09.323Z"
   },
   {
    "duration": 12329,
    "start_time": "2022-05-18T05:37:47.514Z"
   },
   {
    "duration": 1298,
    "start_time": "2022-05-18T05:38:34.997Z"
   },
   {
    "duration": 1264,
    "start_time": "2022-05-18T05:44:35.320Z"
   },
   {
    "duration": 1459,
    "start_time": "2022-05-18T05:44:58.844Z"
   },
   {
    "duration": 1243,
    "start_time": "2022-05-18T05:45:46.282Z"
   },
   {
    "duration": 1265,
    "start_time": "2022-05-18T05:46:52.906Z"
   },
   {
    "duration": 1509,
    "start_time": "2022-05-18T05:47:27.920Z"
   },
   {
    "duration": 1425,
    "start_time": "2022-05-18T05:47:34.303Z"
   },
   {
    "duration": 137,
    "start_time": "2022-05-18T05:48:22.893Z"
   },
   {
    "duration": 6,
    "start_time": "2022-05-18T06:36:14.203Z"
   },
   {
    "duration": 3,
    "start_time": "2022-05-18T06:45:52.129Z"
   },
   {
    "duration": 1181,
    "start_time": "2022-05-18T06:50:47.531Z"
   },
   {
    "duration": 1259,
    "start_time": "2022-05-18T06:50:51.338Z"
   },
   {
    "duration": 1221,
    "start_time": "2022-05-18T06:50:52.598Z"
   },
   {
    "duration": 1217,
    "start_time": "2022-05-18T07:04:47.838Z"
   },
   {
    "duration": 398,
    "start_time": "2022-05-18T07:04:49.057Z"
   },
   {
    "duration": 130,
    "start_time": "2022-05-18T07:04:49.457Z"
   },
   {
    "duration": 53,
    "start_time": "2022-05-18T07:04:49.589Z"
   },
   {
    "duration": 35,
    "start_time": "2022-05-18T07:04:49.643Z"
   },
   {
    "duration": 52,
    "start_time": "2022-05-18T07:04:49.680Z"
   },
   {
    "duration": 286,
    "start_time": "2022-05-18T07:04:49.733Z"
   },
   {
    "duration": 245,
    "start_time": "2022-05-18T07:04:50.021Z"
   },
   {
    "duration": 285,
    "start_time": "2022-05-18T07:04:50.268Z"
   },
   {
    "duration": 3,
    "start_time": "2022-05-18T07:04:50.555Z"
   },
   {
    "duration": 28,
    "start_time": "2022-05-18T07:04:50.560Z"
   },
   {
    "duration": 33,
    "start_time": "2022-05-18T07:04:50.589Z"
   },
   {
    "duration": 27,
    "start_time": "2022-05-18T07:04:50.623Z"
   },
   {
    "duration": 34,
    "start_time": "2022-05-18T07:04:50.652Z"
   },
   {
    "duration": 12,
    "start_time": "2022-05-18T07:04:50.687Z"
   },
   {
    "duration": 28,
    "start_time": "2022-05-18T07:04:50.701Z"
   },
   {
    "duration": 195,
    "start_time": "2022-05-18T07:04:50.731Z"
   },
   {
    "duration": 195,
    "start_time": "2022-05-18T07:04:50.929Z"
   },
   {
    "duration": 187,
    "start_time": "2022-05-18T07:04:51.126Z"
   },
   {
    "duration": 15,
    "start_time": "2022-05-18T07:04:51.314Z"
   },
   {
    "duration": 19,
    "start_time": "2022-05-18T07:04:51.331Z"
   },
   {
    "duration": 12,
    "start_time": "2022-05-18T07:04:51.351Z"
   },
   {
    "duration": 18,
    "start_time": "2022-05-18T07:04:51.365Z"
   },
   {
    "duration": 21,
    "start_time": "2022-05-18T07:04:51.384Z"
   },
   {
    "duration": 27,
    "start_time": "2022-05-18T07:04:51.406Z"
   },
   {
    "duration": 24,
    "start_time": "2022-05-18T07:04:51.435Z"
   },
   {
    "duration": 20,
    "start_time": "2022-05-18T07:04:51.461Z"
   },
   {
    "duration": 13,
    "start_time": "2022-05-18T07:04:51.485Z"
   },
   {
    "duration": 1275,
    "start_time": "2022-05-18T07:04:51.500Z"
   },
   {
    "duration": 1171,
    "start_time": "2022-05-18T07:04:52.776Z"
   },
   {
    "duration": 1222,
    "start_time": "2022-05-18T07:04:53.949Z"
   },
   {
    "duration": 10,
    "start_time": "2022-05-18T07:11:30.626Z"
   },
   {
    "duration": 9,
    "start_time": "2022-05-18T07:12:18.087Z"
   },
   {
    "duration": 9,
    "start_time": "2022-05-18T07:15:58.772Z"
   },
   {
    "duration": 402,
    "start_time": "2022-05-18T07:15:58.782Z"
   },
   {
    "duration": 120,
    "start_time": "2022-05-18T07:15:59.185Z"
   },
   {
    "duration": 34,
    "start_time": "2022-05-18T07:15:59.312Z"
   },
   {
    "duration": 33,
    "start_time": "2022-05-18T07:15:59.348Z"
   },
   {
    "duration": 54,
    "start_time": "2022-05-18T07:15:59.382Z"
   },
   {
    "duration": 263,
    "start_time": "2022-05-18T07:15:59.437Z"
   },
   {
    "duration": 282,
    "start_time": "2022-05-18T07:15:59.701Z"
   },
   {
    "duration": 279,
    "start_time": "2022-05-18T07:15:59.984Z"
   },
   {
    "duration": 3,
    "start_time": "2022-05-18T07:16:00.264Z"
   },
   {
    "duration": 43,
    "start_time": "2022-05-18T07:16:00.269Z"
   },
   {
    "duration": 35,
    "start_time": "2022-05-18T07:16:00.314Z"
   },
   {
    "duration": 19,
    "start_time": "2022-05-18T07:16:00.351Z"
   },
   {
    "duration": 33,
    "start_time": "2022-05-18T07:16:00.372Z"
   },
   {
    "duration": 17,
    "start_time": "2022-05-18T07:16:00.407Z"
   },
   {
    "duration": 33,
    "start_time": "2022-05-18T07:16:00.426Z"
   },
   {
    "duration": 107,
    "start_time": "2022-05-18T07:16:00.514Z"
   },
   {
    "duration": 202,
    "start_time": "2022-05-18T07:16:00.624Z"
   },
   {
    "duration": 193,
    "start_time": "2022-05-18T07:16:00.828Z"
   },
   {
    "duration": 33,
    "start_time": "2022-05-18T07:16:01.022Z"
   },
   {
    "duration": 34,
    "start_time": "2022-05-18T07:16:01.057Z"
   },
   {
    "duration": 34,
    "start_time": "2022-05-18T07:16:01.093Z"
   },
   {
    "duration": 29,
    "start_time": "2022-05-18T07:16:01.129Z"
   },
   {
    "duration": 12,
    "start_time": "2022-05-18T07:16:01.160Z"
   },
   {
    "duration": 35,
    "start_time": "2022-05-18T07:16:01.173Z"
   },
   {
    "duration": 32,
    "start_time": "2022-05-18T07:16:01.210Z"
   },
   {
    "duration": 29,
    "start_time": "2022-05-18T07:16:01.244Z"
   },
   {
    "duration": 11,
    "start_time": "2022-05-18T07:16:01.275Z"
   },
   {
    "duration": 26,
    "start_time": "2022-05-18T07:16:01.288Z"
   },
   {
    "duration": 1411,
    "start_time": "2022-05-18T07:16:01.316Z"
   },
   {
    "duration": 1258,
    "start_time": "2022-05-18T07:16:02.729Z"
   },
   {
    "duration": 1246,
    "start_time": "2022-05-18T07:16:03.989Z"
   },
   {
    "duration": 1234,
    "start_time": "2022-05-19T13:46:07.492Z"
   },
   {
    "duration": 401,
    "start_time": "2022-05-19T13:46:08.728Z"
   },
   {
    "duration": 142,
    "start_time": "2022-05-19T13:46:09.131Z"
   },
   {
    "duration": 38,
    "start_time": "2022-05-19T13:46:09.274Z"
   },
   {
    "duration": 58,
    "start_time": "2022-05-19T13:46:09.314Z"
   },
   {
    "duration": 39,
    "start_time": "2022-05-19T13:46:09.373Z"
   },
   {
    "duration": 320,
    "start_time": "2022-05-19T13:46:09.413Z"
   },
   {
    "duration": 275,
    "start_time": "2022-05-19T13:46:09.735Z"
   },
   {
    "duration": 306,
    "start_time": "2022-05-19T13:46:10.012Z"
   },
   {
    "duration": 3,
    "start_time": "2022-05-19T13:46:10.322Z"
   },
   {
    "duration": 25,
    "start_time": "2022-05-19T13:46:10.327Z"
   },
   {
    "duration": 17,
    "start_time": "2022-05-19T13:46:10.354Z"
   },
   {
    "duration": 19,
    "start_time": "2022-05-19T13:46:10.372Z"
   },
   {
    "duration": 12,
    "start_time": "2022-05-19T13:46:10.393Z"
   },
   {
    "duration": 5,
    "start_time": "2022-05-19T13:46:10.407Z"
   },
   {
    "duration": 56,
    "start_time": "2022-05-19T13:46:10.413Z"
   },
   {
    "duration": 105,
    "start_time": "2022-05-19T13:46:10.471Z"
   },
   {
    "duration": 115,
    "start_time": "2022-05-19T13:46:10.655Z"
   },
   {
    "duration": 92,
    "start_time": "2022-05-19T13:46:10.772Z"
   },
   {
    "duration": 87,
    "start_time": "2022-05-19T13:46:10.866Z"
   },
   {
    "duration": 19,
    "start_time": "2022-05-19T13:46:10.955Z"
   },
   {
    "duration": 7,
    "start_time": "2022-05-19T13:46:10.975Z"
   },
   {
    "duration": 5,
    "start_time": "2022-05-19T13:46:10.984Z"
   },
   {
    "duration": 6,
    "start_time": "2022-05-19T13:46:10.990Z"
   },
   {
    "duration": 6,
    "start_time": "2022-05-19T13:46:10.998Z"
   },
   {
    "duration": 4,
    "start_time": "2022-05-19T13:46:11.006Z"
   },
   {
    "duration": 10,
    "start_time": "2022-05-19T13:46:11.011Z"
   },
   {
    "duration": 7,
    "start_time": "2022-05-19T13:46:11.024Z"
   },
   {
    "duration": 32,
    "start_time": "2022-05-19T13:46:11.033Z"
   },
   {
    "duration": 130,
    "start_time": "2022-05-19T13:46:11.067Z"
   },
   {
    "duration": 0,
    "start_time": "2022-05-19T13:46:11.199Z"
   },
   {
    "duration": 0,
    "start_time": "2022-05-19T13:46:11.200Z"
   },
   {
    "duration": 0,
    "start_time": "2022-05-19T13:46:11.201Z"
   },
   {
    "duration": 1512,
    "start_time": "2022-05-19T13:50:59.805Z"
   },
   {
    "duration": 1558,
    "start_time": "2022-05-19T13:51:04.679Z"
   },
   {
    "duration": 1520,
    "start_time": "2022-05-19T13:51:06.239Z"
   },
   {
    "duration": 2662,
    "start_time": "2022-05-28T07:05:02.805Z"
   },
   {
    "duration": 1291,
    "start_time": "2022-05-28T07:05:09.564Z"
   },
   {
    "duration": 951,
    "start_time": "2022-05-28T07:05:21.445Z"
   }
  ],
  "kernelspec": {
   "display_name": "Python 3 (ipykernel)",
   "language": "python",
   "name": "python3"
  },
  "language_info": {
   "codemirror_mode": {
    "name": "ipython",
    "version": 3
   },
   "file_extension": ".py",
   "mimetype": "text/x-python",
   "name": "python",
   "nbconvert_exporter": "python",
   "pygments_lexer": "ipython3",
   "version": "3.9.12"
  },
  "toc": {
   "base_numbering": 1,
   "nav_menu": {},
   "number_sections": true,
   "sideBar": true,
   "skip_h1_title": true,
   "title_cell": "Table of Contents",
   "title_sidebar": "Contents",
   "toc_cell": false,
   "toc_position": {},
   "toc_section_display": true,
   "toc_window_display": false
  }
 },
 "nbformat": 4,
 "nbformat_minor": 2
}
