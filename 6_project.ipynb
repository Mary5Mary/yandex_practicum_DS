{
 "cells": [
  {
   "cell_type": "markdown",
   "metadata": {},
   "source": [
    "# Рекомендация тарифов"
   ]
  },
  {
   "cell_type": "markdown",
   "metadata": {},
   "source": [
    " ***Цель***\n",
    " \n",
    "Построить систему, способную проанализировать поведение клиентов, и предложить пользователям новый тариф: «Смарт» или «Ультра»\n",
    "\n",
    " ***Задача***\n",
    " \n",
    " Построить модель для задачи классификации, которая выберет подходящий тариф.\n",
    " \n",
    " Проверить модели на вменяемость"
   ]
  },
  {
   "cell_type": "markdown",
   "metadata": {},
   "source": [
    "***Ход исследования***\n",
    "\n",
    "В вашем распоряжении данные о поведении клиентов, которые уже перешли на эти тарифы \n",
    "Нужно построить модель для задачи классификации, которая выберет подходящий тариф. \n",
    "\n",
    "Предобработка данных не понадобится. \n",
    "\n",
    "Постройте модель с максимально большим значением accuracy. Доля правильных ответов должна быть больше  0.75. \n",
    "\n",
    "Таким образом, исследование пройдёт в три этапа:\n",
    " 1. Построение модели.\n",
    " 2. Исследование качества разных моделей\n",
    " 3. Проверка accuracy на тестовой выборке\n",
    " 4. Проверка модели на вменяемость\n",
    " "
   ]
  },
  {
   "cell_type": "markdown",
   "metadata": {},
   "source": [
    "***Описание данных***\n",
    "\n",
    "Путь к файлу: datasets/users_behavior.csv\n",
    "\n",
    "Каждый объект в наборе данных — это информация о поведении одного пользователя за месяц. \n",
    "\n",
    "* сalls — количество звонков, \n",
    "* minutes — суммарная длительность звонков в минутах,\n",
    "* messages — количество sms-сообщений, \n",
    "* mb_used — израсходованный интернет-трафик в Мб, \n",
    "* is_ultra — каким тарифом пользовался в течение месяца («Ультра» — 1, «Смарт» — 0)"
   ]
  },
  {
   "cell_type": "markdown",
   "metadata": {},
   "source": [
    "## Изучение данных"
   ]
  },
  {
   "cell_type": "code",
   "execution_count": 1,
   "metadata": {},
   "outputs": [],
   "source": [
    "import pandas as pd\n",
    "import numpy as np\n",
    "from sklearn.model_selection import train_test_split\n",
    "from sklearn.tree import DecisionTreeClassifier\n",
    "from sklearn.metrics import accuracy_score\n",
    "from sklearn.ensemble import RandomForestClassifier\n",
    "from sklearn.linear_model import LogisticRegression\n",
    "from sklearn.metrics import confusion_matrix \n",
    "from sklearn.metrics import accuracy_score\n",
    "from sklearn.metrics import recall_score\n",
    "from sklearn.metrics import precision_score\n",
    "from sklearn.metrics import f1_score\n",
    "from sklearn.metrics import roc_curve\n",
    "from sklearn.metrics import roc_auc_score\n",
    "import matplotlib.pyplot as plt"
   ]
  },
  {
   "cell_type": "code",
   "execution_count": 2,
   "metadata": {},
   "outputs": [
    {
     "name": "stdout",
     "output_type": "stream",
     "text": [
      "<class 'pandas.core.frame.DataFrame'>\n",
      "RangeIndex: 3214 entries, 0 to 3213\n",
      "Data columns (total 5 columns):\n",
      " #   Column    Non-Null Count  Dtype  \n",
      "---  ------    --------------  -----  \n",
      " 0   calls     3214 non-null   float64\n",
      " 1   minutes   3214 non-null   float64\n",
      " 2   messages  3214 non-null   float64\n",
      " 3   mb_used   3214 non-null   float64\n",
      " 4   is_ultra  3214 non-null   int64  \n",
      "dtypes: float64(4), int64(1)\n",
      "memory usage: 125.7 KB\n"
     ]
    },
    {
     "data": {
      "text/html": [
       "<div>\n",
       "<style scoped>\n",
       "    .dataframe tbody tr th:only-of-type {\n",
       "        vertical-align: middle;\n",
       "    }\n",
       "\n",
       "    .dataframe tbody tr th {\n",
       "        vertical-align: top;\n",
       "    }\n",
       "\n",
       "    .dataframe thead th {\n",
       "        text-align: right;\n",
       "    }\n",
       "</style>\n",
       "<table border=\"1\" class=\"dataframe\">\n",
       "  <thead>\n",
       "    <tr style=\"text-align: right;\">\n",
       "      <th></th>\n",
       "      <th>calls</th>\n",
       "      <th>minutes</th>\n",
       "      <th>messages</th>\n",
       "      <th>mb_used</th>\n",
       "      <th>is_ultra</th>\n",
       "    </tr>\n",
       "  </thead>\n",
       "  <tbody>\n",
       "    <tr>\n",
       "      <th>0</th>\n",
       "      <td>40.0</td>\n",
       "      <td>311.90</td>\n",
       "      <td>83.0</td>\n",
       "      <td>19915.42</td>\n",
       "      <td>0</td>\n",
       "    </tr>\n",
       "    <tr>\n",
       "      <th>1</th>\n",
       "      <td>85.0</td>\n",
       "      <td>516.75</td>\n",
       "      <td>56.0</td>\n",
       "      <td>22696.96</td>\n",
       "      <td>0</td>\n",
       "    </tr>\n",
       "    <tr>\n",
       "      <th>2</th>\n",
       "      <td>77.0</td>\n",
       "      <td>467.66</td>\n",
       "      <td>86.0</td>\n",
       "      <td>21060.45</td>\n",
       "      <td>0</td>\n",
       "    </tr>\n",
       "    <tr>\n",
       "      <th>3</th>\n",
       "      <td>106.0</td>\n",
       "      <td>745.53</td>\n",
       "      <td>81.0</td>\n",
       "      <td>8437.39</td>\n",
       "      <td>1</td>\n",
       "    </tr>\n",
       "    <tr>\n",
       "      <th>4</th>\n",
       "      <td>66.0</td>\n",
       "      <td>418.74</td>\n",
       "      <td>1.0</td>\n",
       "      <td>14502.75</td>\n",
       "      <td>0</td>\n",
       "    </tr>\n",
       "  </tbody>\n",
       "</table>\n",
       "</div>"
      ],
      "text/plain": [
       "   calls  minutes  messages   mb_used  is_ultra\n",
       "0   40.0   311.90      83.0  19915.42         0\n",
       "1   85.0   516.75      56.0  22696.96         0\n",
       "2   77.0   467.66      86.0  21060.45         0\n",
       "3  106.0   745.53      81.0   8437.39         1\n",
       "4   66.0   418.74       1.0  14502.75         0"
      ]
     },
     "metadata": {},
     "output_type": "display_data"
    }
   ],
   "source": [
    "df = pd.read_csv('/datasets/users_behavior.csv')\n",
    "df.info()\n",
    "display(df.head())"
   ]
  },
  {
   "cell_type": "markdown",
   "metadata": {},
   "source": [
    "## Обработка даннх "
   ]
  },
  {
   "cell_type": "markdown",
   "metadata": {},
   "source": [
    "### Разделим исходные данные на обучающую, валидационную и тестовую выборки\n",
    "\n",
    "Разделим в соотношении 60/20/20"
   ]
  },
  {
   "cell_type": "code",
   "execution_count": 3,
   "metadata": {},
   "outputs": [],
   "source": [
    "df_tr_test, df_valid = train_test_split(df, test_size=0.20, random_state=12345) \n",
    "df_train, df_test = train_test_split(df_tr_test, test_size=0.25, random_state=12345) "
   ]
  },
  {
   "cell_type": "code",
   "execution_count": 4,
   "metadata": {},
   "outputs": [
    {
     "name": "stdout",
     "output_type": "stream",
     "text": [
      "<class 'pandas.core.frame.DataFrame'>\n",
      "Int64Index: 1928 entries, 2656 to 510\n",
      "Data columns (total 5 columns):\n",
      " #   Column    Non-Null Count  Dtype  \n",
      "---  ------    --------------  -----  \n",
      " 0   calls     1928 non-null   float64\n",
      " 1   minutes   1928 non-null   float64\n",
      " 2   messages  1928 non-null   float64\n",
      " 3   mb_used   1928 non-null   float64\n",
      " 4   is_ultra  1928 non-null   int64  \n",
      "dtypes: float64(4), int64(1)\n",
      "memory usage: 90.4 KB\n",
      "<class 'pandas.core.frame.DataFrame'>\n",
      "Int64Index: 643 entries, 1415 to 1196\n",
      "Data columns (total 5 columns):\n",
      " #   Column    Non-Null Count  Dtype  \n",
      "---  ------    --------------  -----  \n",
      " 0   calls     643 non-null    float64\n",
      " 1   minutes   643 non-null    float64\n",
      " 2   messages  643 non-null    float64\n",
      " 3   mb_used   643 non-null    float64\n",
      " 4   is_ultra  643 non-null    int64  \n",
      "dtypes: float64(4), int64(1)\n",
      "memory usage: 30.1 KB\n",
      "<class 'pandas.core.frame.DataFrame'>\n",
      "Int64Index: 643 entries, 2699 to 1806\n",
      "Data columns (total 5 columns):\n",
      " #   Column    Non-Null Count  Dtype  \n",
      "---  ------    --------------  -----  \n",
      " 0   calls     643 non-null    float64\n",
      " 1   minutes   643 non-null    float64\n",
      " 2   messages  643 non-null    float64\n",
      " 3   mb_used   643 non-null    float64\n",
      " 4   is_ultra  643 non-null    int64  \n",
      "dtypes: float64(4), int64(1)\n",
      "memory usage: 30.1 KB\n"
     ]
    }
   ],
   "source": [
    "df_train.info()\n",
    "df_valid.info()\n",
    "df_test.info()"
   ]
  },
  {
   "cell_type": "code",
   "execution_count": 5,
   "metadata": {},
   "outputs": [],
   "source": [
    "features_train = df_train.drop(['is_ultra'], axis=1)\n",
    "target_train = df_train['is_ultra']\n",
    "features_valid = df_valid.drop(['is_ultra'], axis=1)\n",
    "target_valid = df_valid['is_ultra']\n",
    "features_test = df_test.drop(['is_ultra'], axis=1)\n",
    "target_test = df_test['is_ultra']  "
   ]
  },
  {
   "cell_type": "markdown",
   "metadata": {},
   "source": [
    "## Исследуем модели"
   ]
  },
  {
   "cell_type": "markdown",
   "metadata": {},
   "source": [
    "### Построи разные модели, меняя гиперпараметры\n",
    "\n",
    "#### Рассмотрим модель  решающее дерево"
   ]
  },
  {
   "cell_type": "code",
   "execution_count": 6,
   "metadata": {},
   "outputs": [
    {
     "name": "stdout",
     "output_type": "stream",
     "text": [
      "max_depth = 1 : 0.7480559875583204\n",
      "max_depth = 2 : 0.7838258164852255\n",
      "max_depth = 3 : 0.7869362363919129\n",
      "max_depth = 4 : 0.7869362363919129\n",
      "max_depth = 5 : 0.7884914463452566\n"
     ]
    }
   ],
   "source": [
    "best_model = None\n",
    "best_result = 0\n",
    "for depth in range(1, 6):\n",
    "    model = DecisionTreeClassifier(random_state=12345, max_depth=depth)\n",
    "    model.fit(features_train, target_train)\n",
    "    predictions_valid = model.predict(features_valid)\n",
    "    result = accuracy_score(target_valid, predictions_valid)\n",
    "    print(\"max_depth =\", depth, \": \", end='')\n",
    "    print(accuracy_score(target_valid, predictions_valid))"
   ]
  },
  {
   "cell_type": "markdown",
   "metadata": {},
   "source": [
    "Наибольшее значение accuracy ( 0.7884914463452566) со значением max_depth=5"
   ]
  },
  {
   "cell_type": "markdown",
   "metadata": {},
   "source": [
    "#### Модель случайный лес"
   ]
  },
  {
   "cell_type": "code",
   "execution_count": 7,
   "metadata": {},
   "outputs": [
    {
     "name": "stdout",
     "output_type": "stream",
     "text": [
      "1 0.7340590979782271\n",
      "2 0.7542768273716952\n",
      "3 0.7729393468118196\n",
      "4 0.7667185069984448\n",
      "5 0.7807153965785381\n",
      "Accuracy наилучшей модели на валидационной выборке: 0.7807153965785381\n"
     ]
    }
   ],
   "source": [
    "best_model = None\n",
    "best_result = 0\n",
    "for est in range(1, 6):\n",
    "    model = RandomForestClassifier(random_state=12345, n_estimators=est) \n",
    "    model.fit(features_train, target_train)\n",
    "    result = model.score(features_valid, target_valid)\n",
    "    print(est, result)\n",
    "    if result > best_result:\n",
    "        best_model = model\n",
    "        best_result = result\n",
    "\n",
    "print(\"Accuracy наилучшей модели на валидационной выборке:\", best_result)"
   ]
  },
  {
   "cell_type": "markdown",
   "metadata": {},
   "source": [
    "Accuracy наилучшей модели на валидационной выборке: 0.7807153965785381 при параметре n_estimators=5"
   ]
  },
  {
   "cell_type": "markdown",
   "metadata": {},
   "source": [
    "#### Модель логистическая регрессия"
   ]
  },
  {
   "cell_type": "code",
   "execution_count": 8,
   "metadata": {},
   "outputs": [
    {
     "name": "stdout",
     "output_type": "stream",
     "text": [
      "Accuracy модели на валидационной выборке: 0.7589424572317263\n"
     ]
    }
   ],
   "source": [
    "model = LogisticRegression(random_state=12345) \n",
    "model.fit(features_train, target_train) \n",
    "result = model.score(features_valid, target_valid)\n",
    "print(\"Accuracy модели на валидационной выборке:\", result)"
   ]
  },
  {
   "cell_type": "markdown",
   "metadata": {},
   "source": [
    "***Наилучшее значение на моделе  случайный лес (DT)***"
   ]
  },
  {
   "cell_type": "markdown",
   "metadata": {},
   "source": [
    "<div class=\"alert alert-block alert-success\">\n",
    "<b>Комментарий ревьюера👍:</b> Для подбора оптимальных параметров можно использовать функции Gridsearchcv или Randomizedsearchcv. Статья про разницу между ними: https://towardsdatascience.com/gridsearchcv-or-randomsearchcv-5aa4acf5348c#:~:text=RandomSearchCV%20has%20the%20same%20purpose,parameters%20to%20improve%20your%20model.&text=The%20main%20difference%20between%20the,want%20to%20sample%20and%20test. И просто очень большая статья по их применению: https://machinelearningmastery.com/hyperparameter-optimization-with-random-search-and-grid-search/ Совсем обьемная статья с огромным количеством библиотек для подбора гиперпараметров: https://neptune.ai/blog/hyperparameter-tuning-in-python-complete-guide/. Ускоренная версия GridsearchCV https://towardsdatascience.com/20x-times-faster-grid-search-cross-validation-19ef01409b7c.\n",
    "</div>\n"
   ]
  },
  {
   "cell_type": "markdown",
   "metadata": {},
   "source": [
    "## Проверка модели на тестовой выборке"
   ]
  },
  {
   "cell_type": "code",
   "execution_count": 9,
   "metadata": {},
   "outputs": [
    {
     "name": "stdout",
     "output_type": "stream",
     "text": [
      "Accuracy модели на тестовой выборке: 0.7589424572317263\n"
     ]
    }
   ],
   "source": [
    "model_DTC = DecisionTreeClassifier(random_state=12345, max_depth=5)\n",
    "model_DTC.fit(features_train, target_train)\n",
    "predictions_DTC_test = model_DTC.predict(features_test)\n",
    "result_DTC = accuracy_score(target_test, predictions_DTC_test)\n",
    "print(\"Accuracy модели на тестовой выборке:\", result_DTC)"
   ]
  },
  {
   "cell_type": "code",
   "execution_count": 10,
   "metadata": {},
   "outputs": [
    {
     "name": "stdout",
     "output_type": "stream",
     "text": [
      "Accuracy модели на тестовой выборке: 0.7620528771384136\n"
     ]
    }
   ],
   "source": [
    "model_RFC = RandomForestClassifier(random_state=12345, n_estimators=5) \n",
    "model_RFC.fit(features_train, target_train)\n",
    "predictions_RFC_test = model_RFC.predict(features_test)\n",
    "result_RFC = accuracy_score(target_test, predictions_RFC_test)\n",
    "print(\"Accuracy модели на тестовой выборке:\", result_RFC)"
   ]
  },
  {
   "cell_type": "code",
   "execution_count": 11,
   "metadata": {},
   "outputs": [
    {
     "name": "stdout",
     "output_type": "stream",
     "text": [
      "Accuracy модели на тестовой выборке: 0.7262830482115086\n"
     ]
    }
   ],
   "source": [
    "model_LR = LogisticRegression(random_state=12345) \n",
    "model_LR.fit(features_train, target_train) \n",
    "predictions_LR_test = model_LR.predict(features_test)\n",
    "result_LR = model_LR.score(features_test, target_test)\n",
    "print(\"Accuracy модели на тестовой выборке:\", result_LR)"
   ]
  },
  {
   "cell_type": "markdown",
   "metadata": {},
   "source": [
    "На тестовой выборке Accuracy модели DT составило 0.7589424572317263\n",
    "При этом Accuracy модели RF на тестовой выборке составило 0.7620528771384136"
   ]
  },
  {
   "cell_type": "markdown",
   "metadata": {},
   "source": [
    "## Проверка модели на адекватность"
   ]
  },
  {
   "cell_type": "markdown",
   "metadata": {},
   "source": [
    "### Найдем confusion_matrix для наших моделей "
   ]
  },
  {
   "cell_type": "code",
   "execution_count": 12,
   "metadata": {},
   "outputs": [
    {
     "name": "stdout",
     "output_type": "stream",
     "text": [
      "DT [[420 132]\n",
      " [ 23  68]]\n",
      "RF [[383  93]\n",
      " [ 60 107]]\n",
      "LR [[430 163]\n",
      " [ 13  37]]\n"
     ]
    }
   ],
   "source": [
    "print('DT', confusion_matrix(predictions_DTC_test, target_test))\n",
    "print('RF', confusion_matrix(predictions_RFC_test, target_test))\n",
    "print('LR', confusion_matrix(predictions_LR_test, target_test))"
   ]
  },
  {
   "cell_type": "markdown",
   "metadata": {},
   "source": [
    "Заметим что \n",
    "\n",
    "* RF дала больше всего истенно положительных и меньше всего ложно положительных. \n",
    "\n",
    "* LR дала меньше ложно отрицательных и больше истенно ложных. \n",
    "\n",
    "* DT дала средни значения"
   ]
  },
  {
   "cell_type": "markdown",
   "metadata": {},
   "source": [
    "### Найдем accuracy_score - долю выборок, правильно спрогнозированных¶"
   ]
  },
  {
   "cell_type": "code",
   "execution_count": 13,
   "metadata": {},
   "outputs": [
    {
     "name": "stdout",
     "output_type": "stream",
     "text": [
      "DT 0.7589424572317263\n",
      "RF 0.7620528771384136\n",
      "LR 0.7262830482115086\n"
     ]
    }
   ],
   "source": [
    "print('DT', accuracy_score(predictions_DTC_test, target_test))\n",
    "print('RF', accuracy_score(predictions_RFC_test, target_test))\n",
    "print('LR', accuracy_score(predictions_LR_test, target_test))      "
   ]
  },
  {
   "cell_type": "markdown",
   "metadata": {},
   "source": [
    "***Лучший результат accuracy_score RF***"
   ]
  },
  {
   "cell_type": "markdown",
   "metadata": {},
   "source": [
    "### Найдем recall_score, \n",
    "также известный как чувствительность, доля положительных событий, которые\n",
    "правильно предсказали"
   ]
  },
  {
   "cell_type": "code",
   "execution_count": 14,
   "metadata": {},
   "outputs": [
    {
     "name": "stdout",
     "output_type": "stream",
     "text": [
      "DT 0.7472527472527473\n",
      "RF 0.6407185628742516\n",
      "LR 0.74\n"
     ]
    }
   ],
   "source": [
    "print('DT', recall_score(predictions_DTC_test, target_test))\n",
    "print('RF', recall_score(predictions_RFC_test, target_test))\n",
    "print('LR', recall_score(predictions_LR_test, target_test))"
   ]
  },
  {
   "cell_type": "markdown",
   "metadata": {},
   "source": [
    "***Лучший результат recall_score у модели DT***"
   ]
  },
  {
   "cell_type": "markdown",
   "metadata": {},
   "source": [
    "###  Найдем precision_score\n",
    "Точность - это доля ожидаемых положительных событий, которые на самом деле являются\n",
    "положительными"
   ]
  },
  {
   "cell_type": "code",
   "execution_count": 15,
   "metadata": {},
   "outputs": [
    {
     "name": "stdout",
     "output_type": "stream",
     "text": [
      "DT 0.34\n",
      "RF 0.535\n",
      "LR 0.185\n"
     ]
    }
   ],
   "source": [
    "print('DT', precision_score(predictions_DTC_test, target_test))\n",
    "print('RF', precision_score(predictions_RFC_test, target_test))\n",
    "print('LR', precision_score(predictions_LR_test, target_test))"
   ]
  },
  {
   "cell_type": "markdown",
   "metadata": {},
   "source": [
    "***Лучший результат precision_score у модели RF***"
   ]
  },
  {
   "cell_type": "markdown",
   "metadata": {},
   "source": [
    "### Найдем  f1_score\n",
    "Оценка f1 является гармоническим средним значением запоминания и точности, с более высокой\n",
    "оценкой в качестве лучшей модели"
   ]
  },
  {
   "cell_type": "code",
   "execution_count": 16,
   "metadata": {},
   "outputs": [
    {
     "name": "stdout",
     "output_type": "stream",
     "text": [
      "DT 0.46735395189003437\n",
      "RF 0.5831062670299728\n",
      "LR 0.296\n"
     ]
    }
   ],
   "source": [
    "print('DT', f1_score(predictions_DTC_test, target_test))\n",
    "print('RF', f1_score(predictions_RFC_test, target_test))\n",
    "print('LR', f1_score(predictions_LR_test, target_test))"
   ]
  },
  {
   "cell_type": "markdown",
   "metadata": {},
   "source": [
    "***Лучший результат  f1_score у модели RF***"
   ]
  },
  {
   "cell_type": "markdown",
   "metadata": {},
   "source": [
    "### Найдем roc_curve и roc_auc_score\n",
    "\n",
    "Кривые ROC помогают понять баланс между истинно положительными показателями и\n",
    "ложноположительными показателями\n",
    "* thresholds = все уникальные вероятности предсказания в порядке убывания\n",
    "* fpr = ложноположительный показатель (FP / (FP + TN)) для каждого порога\n",
    "* tpr = истинная положительная скорость (TP / (TP + FN)) для каждого порога"
   ]
  },
  {
   "cell_type": "code",
   "execution_count": 17,
   "metadata": {},
   "outputs": [],
   "source": [
    "fpr_RFC, tpr_RFC, thresholds_RFC = roc_curve(predictions_RFC_test, target_test)\n",
    "fpr_LR, tpr_LR, thresholds_LR = roc_curve(predictions_LR_test, target_test)\n",
    "fpr_DTC, tpr_DTC, thresholds_DTC = roc_curve(predictions_DTC_test, target_test)"
   ]
  },
  {
   "cell_type": "code",
   "execution_count": 18,
   "metadata": {},
   "outputs": [
    {
     "data": {
      "image/png": "[encoded data removed]",
      "text/plain": [
       "<Figure size 432x288 with 1 Axes>"
      ]
     },
     "metadata": {
      "needs_background": "light"
     },
     "output_type": "display_data"
    }
   ],
   "source": [
    "plt.plot(fpr_RFC, tpr_RFC,'r-',label = 'RF')\n",
    "plt.plot(fpr_LR,tpr_LR,'b-', label= 'LR')\n",
    "plt.plot(fpr_DTC,tpr_DTC,'m-', label= 'DT')\n",
    "plt.plot([0,1],[0,1],'k-',label='random')\n",
    "plt.plot([0,0,1,1],[0,1,1,1],'g-',label='perfect')\n",
    "plt.legend()\n",
    "plt.xlabel('False Positive Rate')\n",
    "plt.ylabel('True Positive Rate')\n",
    "plt.show()"
   ]
  },
  {
   "cell_type": "markdown",
   "metadata": {},
   "source": [
    "Модель, которая случайно угадывает метку, приведет к черной линии\n",
    "\n",
    "ROC, который находится дальше от черной линии, лучше\n",
    "\n",
    "Для анализа производительности мы будем использовать метрику площади под кривой."
   ]
  },
  {
   "cell_type": "code",
   "execution_count": 19,
   "metadata": {},
   "outputs": [
    {
     "name": "stdout",
     "output_type": "stream",
     "text": [
      "AUC RF:0.723\n",
      "AUC LR:0.733\n",
      "AUC DT:0.754\n"
     ]
    }
   ],
   "source": [
    "auc_RFC = roc_auc_score(predictions_RFC_test, target_test)\n",
    "auc_LR = roc_auc_score(predictions_LR_test, target_test)\n",
    "auc_DTC = roc_auc_score(predictions_DTC_test, target_test)\n",
    "print('AUC RF:%.3f'% auc_RFC)\n",
    "print('AUC LR:%.3f'% auc_LR)\n",
    "print('AUC DT:%.3f'% auc_DTC)"
   ]
  },
  {
   "cell_type": "markdown",
   "metadata": {},
   "source": [
    "***Лучший вариант у roc_curve и roc_auc_score модели DT***"
   ]
  },
  {
   "cell_type": "code",
   "execution_count": 26,
   "metadata": {},
   "outputs": [
    {
     "data": {
      "text/html": [
       "<div>\n",
       "<style scoped>\n",
       "    .dataframe tbody tr th:only-of-type {\n",
       "        vertical-align: middle;\n",
       "    }\n",
       "\n",
       "    .dataframe tbody tr th {\n",
       "        vertical-align: top;\n",
       "    }\n",
       "\n",
       "    .dataframe thead th {\n",
       "        text-align: right;\n",
       "    }\n",
       "</style>\n",
       "<table border=\"1\" class=\"dataframe\">\n",
       "  <thead>\n",
       "    <tr style=\"text-align: right;\">\n",
       "      <th></th>\n",
       "      <th>accuracy_score</th>\n",
       "      <th>roc_auc_score</th>\n",
       "      <th>f1_score</th>\n",
       "      <th>precision_score</th>\n",
       "      <th>recall_score</th>\n",
       "    </tr>\n",
       "  </thead>\n",
       "  <tbody>\n",
       "    <tr>\n",
       "      <th>DT</th>\n",
       "      <td>0.758942</td>\n",
       "      <td>0.722670</td>\n",
       "      <td>0.467354</td>\n",
       "      <td>0.340</td>\n",
       "      <td>0.747253</td>\n",
       "    </tr>\n",
       "    <tr>\n",
       "      <th>RF</th>\n",
       "      <td>0.762053</td>\n",
       "      <td>0.732563</td>\n",
       "      <td>0.583106</td>\n",
       "      <td>0.535</td>\n",
       "      <td>0.640719</td>\n",
       "    </tr>\n",
       "    <tr>\n",
       "      <th>LR</th>\n",
       "      <td>0.726283</td>\n",
       "      <td>0.754061</td>\n",
       "      <td>0.296000</td>\n",
       "      <td>0.185</td>\n",
       "      <td>0.740000</td>\n",
       "    </tr>\n",
       "  </tbody>\n",
       "</table>\n",
       "</div>"
      ],
      "text/plain": [
       "    accuracy_score  roc_auc_score  f1_score  precision_score  recall_score\n",
       "DT        0.758942       0.722670  0.467354            0.340      0.747253\n",
       "RF        0.762053       0.732563  0.583106            0.535      0.640719\n",
       "LR        0.726283       0.754061  0.296000            0.185      0.740000"
      ]
     },
     "metadata": {},
     "output_type": "display_data"
    }
   ],
   "source": [
    "display(pd.DataFrame({ 'accuracy_score': [accuracy_score(predictions_DTC_test, target_test),\n",
    "accuracy_score(predictions_RFC_test, target_test),\n",
    "accuracy_score(predictions_LR_test, target_test)], \n",
    "'roc_auc_score':[auc_RFC, auc_LR, auc_DTC], \n",
    "'f1_score': [f1_score(predictions_DTC_test, target_test), f1_score(predictions_RFC_test, target_test), \n",
    " f1_score(predictions_LR_test, target_test)], \n",
    "'precision_score': [precision_score(predictions_DTC_test, target_test),\n",
    "precision_score(predictions_RFC_test, target_test),\n",
    "precision_score(predictions_LR_test, target_test)],\n",
    "\n",
    "'recall_score': [recall_score(predictions_DTC_test, target_test),\n",
    "recall_score(predictions_RFC_test, target_test),\n",
    "recall_score(predictions_LR_test, target_test)]}, index = ['DT', 'RF', 'LR' ], ))"
   ]
  },
  {
   "cell_type": "markdown",
   "metadata": {},
   "source": [
    "<div class=\"alert alert-block alert-success\">\n",
    "<b>Комментарий ревьюера👍:</b> По изначальному замыслу тут задумывалось, что ты просто построишь константную модель. Логика константной модели в следующем: это теоретическая модель, которая каждой строке присваивает один наиболее часто встречаемый класс. Т.е. в нашем случае, если модель решит, что все строки -это класс 0, то её точность будет 69.5%. Точность твоей модели (Случайный лес) на тестовой выборке 76.2%, т.е. она лучше, чем просто тыкнуть везде одинаковый класс. \n",
    "    \n",
    "Для проверки константной модели ты мог бы использовать DummyClassifier() https://scikit-learn.org/stable/modules/generated/sklearn.dummy.DummyClassifier.html strategy = 'most_frequent' или просто:\n",
    "    \n",
    "df['is_ultra'].value_counts() / df.shape[0]\n",
    "    \n",
    "Интересная статья на эту тему:\n",
    "    \n",
    "https://towardsdatascience.com/why-using-a-dummy-classifier-is-a-smart-move-4a55080e3549\n",
    "    \n",
    "\n",
    "\n",
    "</div>"
   ]
  },
  {
   "cell_type": "markdown",
   "metadata": {},
   "source": [
    "<div class=\"alert alert-block alert-success\">\n",
    "<b>Комментарий ревьюера👍:</b> Ты пошла дальше и рассмотрела другие метрики модели помимо точности, это здорово, что ты вышла за пределы необходимых требований. Подробная статья по метрикам и шпаргалка:\n",
    "    \n",
    "- https://neptune.ai/blog/evaluation-metrics-binary-classification\n",
    "    \n",
    "- https://github.com/neptune-ai/blog-binary-classification-metrics/blob/master/binary_classification_metrics_cheathsheet.pdf\n",
    "</div>"
   ]
  },
  {
   "cell_type": "markdown",
   "metadata": {},
   "source": [
    "# Вывод\n",
    "\n",
    "* Лучший результат accuracy_score модель RF   долю выборок, правильно спрогнозированных\n",
    "\n",
    "* Лучший результат recall_score модель  LR  доля положительных событий, которые  правильно предсказали\n",
    "\n",
    "* Лучший результат precision_score модель RF  точность - доля ожидаемых положительных событий, которые на самом деле являются положительными \n",
    "\n",
    "* Лучший результат f1_score модель RF  гармоническим средним значением запоминания и точности\n",
    "\n",
    "* Лучший результат roc_curve и roc_auc_score DT  баланс между истинно положительными показателями и ложноположительными показателями\n",
    "\n",
    "* RF дала больше всего истенно положительных и меньше всего ложно положительных. \n",
    "* LR дала меньше ложно отрицательных и больше истенно ложных. \n",
    "\n",
    "***Модель DT имеет лучший Accuracy модели на валидационной выборке и лучший показатель баланса между истинно положительными показателями и ложноположительными показателями (roc_curve и roc_auc_score)***\n",
    "\n",
    "***RF более точная модель, она подходит для получения истенных значений, т.е. для тех, кому необходимо предложить тариф \"Ультра\"***\n",
    "\n",
    "***LR более \"чувствительная\" и больше подходит для получения ложных событий, т.е. для тех, кому необходимо предложить тариф \"Смарт\"***"
   ]
  },
  {
   "cell_type": "markdown",
   "metadata": {},
   "source": [
    "## Чек-лист готовности проекта"
   ]
  },
  {
   "cell_type": "markdown",
   "metadata": {},
   "source": [
    "- [x] Jupyter Notebook открыт\n",
    "- [x] Весь код исполняется без ошибок\n",
    "- [x] Ячейки с кодом расположены в порядке исполнения\n",
    "- [x] Выполнено задание 1: данные загружены и изучены\n",
    "- [x] Выполнено задание 2: данные разбиты на три выборки\n",
    "- [x] Выполнено задание 3: проведено исследование моделей\n",
    "    - [x] Рассмотрено больше одной модели\n",
    "    - [x] Рассмотрено хотя бы 3 значения гипепараметров для какой-нибудь модели\n",
    "    - [x] Написаны выводы по результатам исследования\n",
    "- [x] Выполнено задание 3: Проведено тестирование\n",
    "- [x] Удалось достичь accuracy не меньше 0.75\n"
   ]
  }
 ],
 "metadata": {
  "ExecuteTimeLog": [
   {
    "duration": 1538,
    "start_time": "2022-04-25T04:13:56.686Z"
   },
   {
    "duration": 34,
    "start_time": "2022-04-25T04:13:58.226Z"
   },
   {
    "duration": 5,
    "start_time": "2022-04-25T04:13:58.262Z"
   },
   {
    "duration": 22,
    "start_time": "2022-04-25T04:13:58.268Z"
   },
   {
    "duration": 4,
    "start_time": "2022-04-25T04:13:58.291Z"
   },
   {
    "duration": 113,
    "start_time": "2022-04-25T04:13:58.297Z"
   },
   {
    "duration": 10,
    "start_time": "2022-04-25T04:13:58.412Z"
   },
   {
    "duration": 218,
    "start_time": "2022-04-25T04:13:58.423Z"
   },
   {
    "duration": 33,
    "start_time": "2022-04-25T04:13:58.643Z"
   },
   {
    "duration": 30,
    "start_time": "2022-04-25T04:13:58.679Z"
   },
   {
    "duration": 44,
    "start_time": "2022-04-25T04:13:58.711Z"
   },
   {
    "duration": 7,
    "start_time": "2022-04-25T04:13:58.756Z"
   },
   {
    "duration": 5,
    "start_time": "2022-04-25T04:13:58.764Z"
   },
   {
    "duration": 7,
    "start_time": "2022-04-25T04:13:58.770Z"
   },
   {
    "duration": 6,
    "start_time": "2022-04-25T04:13:58.778Z"
   },
   {
    "duration": 8,
    "start_time": "2022-04-25T04:13:58.786Z"
   },
   {
    "duration": 4,
    "start_time": "2022-04-25T04:13:58.795Z"
   },
   {
    "duration": 186,
    "start_time": "2022-04-25T04:13:58.800Z"
   },
   {
    "duration": 7,
    "start_time": "2022-04-25T04:13:58.988Z"
   },
   {
    "duration": 1639,
    "start_time": "2022-04-25T04:51:51.964Z"
   },
   {
    "duration": 30,
    "start_time": "2022-04-25T04:51:53.605Z"
   },
   {
    "duration": 6,
    "start_time": "2022-04-25T04:51:53.637Z"
   },
   {
    "duration": 30,
    "start_time": "2022-04-25T04:51:53.644Z"
   },
   {
    "duration": 5,
    "start_time": "2022-04-25T04:51:53.676Z"
   },
   {
    "duration": 39,
    "start_time": "2022-04-25T04:51:53.682Z"
   },
   {
    "duration": 94,
    "start_time": "2022-04-25T04:51:53.723Z"
   },
   {
    "duration": 44,
    "start_time": "2022-04-25T04:51:53.819Z"
   },
   {
    "duration": 10,
    "start_time": "2022-04-25T04:51:53.864Z"
   },
   {
    "duration": 30,
    "start_time": "2022-04-25T04:51:53.876Z"
   },
   {
    "duration": 54,
    "start_time": "2022-04-25T04:51:53.908Z"
   },
   {
    "duration": 7,
    "start_time": "2022-04-25T04:51:53.963Z"
   },
   {
    "duration": 10,
    "start_time": "2022-04-25T04:51:53.972Z"
   },
   {
    "duration": 9,
    "start_time": "2022-04-25T04:51:53.983Z"
   },
   {
    "duration": 8,
    "start_time": "2022-04-25T04:51:53.993Z"
   },
   {
    "duration": 7,
    "start_time": "2022-04-25T04:51:54.003Z"
   },
   {
    "duration": 5,
    "start_time": "2022-04-25T04:51:54.011Z"
   },
   {
    "duration": 192,
    "start_time": "2022-04-25T04:51:54.017Z"
   },
   {
    "duration": 8,
    "start_time": "2022-04-25T04:51:54.210Z"
   },
   {
    "duration": 1358,
    "start_time": "2022-04-25T04:57:28.980Z"
   },
   {
    "duration": 34,
    "start_time": "2022-04-25T04:57:30.340Z"
   },
   {
    "duration": 6,
    "start_time": "2022-04-25T04:57:30.375Z"
   },
   {
    "duration": 23,
    "start_time": "2022-04-25T04:57:30.383Z"
   },
   {
    "duration": 5,
    "start_time": "2022-04-25T04:57:30.407Z"
   },
   {
    "duration": 49,
    "start_time": "2022-04-25T04:57:30.413Z"
   },
   {
    "duration": 90,
    "start_time": "2022-04-25T04:57:30.464Z"
   },
   {
    "duration": 33,
    "start_time": "2022-04-25T04:57:30.556Z"
   },
   {
    "duration": 10,
    "start_time": "2022-04-25T04:57:30.591Z"
   },
   {
    "duration": 27,
    "start_time": "2022-04-25T04:57:30.603Z"
   },
   {
    "duration": 53,
    "start_time": "2022-04-25T04:57:30.631Z"
   },
   {
    "duration": 7,
    "start_time": "2022-04-25T04:57:30.685Z"
   },
   {
    "duration": 13,
    "start_time": "2022-04-25T04:57:30.693Z"
   },
   {
    "duration": 18,
    "start_time": "2022-04-25T04:57:30.708Z"
   },
   {
    "duration": 15,
    "start_time": "2022-04-25T04:57:30.728Z"
   },
   {
    "duration": 18,
    "start_time": "2022-04-25T04:57:30.745Z"
   },
   {
    "duration": 12,
    "start_time": "2022-04-25T04:57:30.765Z"
   },
   {
    "duration": 167,
    "start_time": "2022-04-25T04:57:30.779Z"
   },
   {
    "duration": 8,
    "start_time": "2022-04-25T04:57:30.954Z"
   },
   {
    "duration": 1858,
    "start_time": "2022-04-25T05:21:45.947Z"
   },
   {
    "duration": 39,
    "start_time": "2022-04-25T05:21:47.807Z"
   },
   {
    "duration": 8,
    "start_time": "2022-04-25T05:21:47.848Z"
   },
   {
    "duration": 27,
    "start_time": "2022-04-25T05:21:47.858Z"
   },
   {
    "duration": 6,
    "start_time": "2022-04-25T05:21:47.887Z"
   },
   {
    "duration": 35,
    "start_time": "2022-04-25T05:21:47.895Z"
   },
   {
    "duration": 137,
    "start_time": "2022-04-25T05:21:47.932Z"
   },
   {
    "duration": 55,
    "start_time": "2022-04-25T05:21:48.071Z"
   },
   {
    "duration": 31,
    "start_time": "2022-04-25T05:21:48.128Z"
   },
   {
    "duration": 37,
    "start_time": "2022-04-25T05:21:48.162Z"
   },
   {
    "duration": 76,
    "start_time": "2022-04-25T05:21:48.202Z"
   },
   {
    "duration": 10,
    "start_time": "2022-04-25T05:21:48.280Z"
   },
   {
    "duration": 7,
    "start_time": "2022-04-25T05:21:48.292Z"
   },
   {
    "duration": 20,
    "start_time": "2022-04-25T05:21:48.301Z"
   },
   {
    "duration": 11,
    "start_time": "2022-04-25T05:21:48.323Z"
   },
   {
    "duration": 27,
    "start_time": "2022-04-25T05:21:48.336Z"
   },
   {
    "duration": 19,
    "start_time": "2022-04-25T05:21:48.365Z"
   },
   {
    "duration": 254,
    "start_time": "2022-04-25T05:21:48.386Z"
   },
   {
    "duration": 15,
    "start_time": "2022-04-25T05:21:48.642Z"
   },
   {
    "duration": 152,
    "start_time": "2022-04-26T10:31:04.707Z"
   },
   {
    "duration": 45,
    "start_time": "2022-04-26T11:36:07.133Z"
   },
   {
    "duration": 1520,
    "start_time": "2022-04-26T11:36:16.474Z"
   },
   {
    "duration": 35,
    "start_time": "2022-04-26T11:36:17.996Z"
   },
   {
    "duration": 7,
    "start_time": "2022-04-26T11:36:18.032Z"
   },
   {
    "duration": 22,
    "start_time": "2022-04-26T11:36:18.041Z"
   },
   {
    "duration": 7,
    "start_time": "2022-04-26T11:36:18.065Z"
   },
   {
    "duration": 70,
    "start_time": "2022-04-26T11:36:18.073Z"
   },
   {
    "duration": 93,
    "start_time": "2022-04-26T11:36:18.144Z"
   },
   {
    "duration": 34,
    "start_time": "2022-04-26T11:36:18.239Z"
   },
   {
    "duration": 12,
    "start_time": "2022-04-26T11:36:18.274Z"
   },
   {
    "duration": 66,
    "start_time": "2022-04-26T11:36:18.289Z"
   },
   {
    "duration": 52,
    "start_time": "2022-04-26T11:36:18.357Z"
   },
   {
    "duration": 10,
    "start_time": "2022-04-26T11:36:18.423Z"
   },
   {
    "duration": 6,
    "start_time": "2022-04-26T11:36:18.435Z"
   },
   {
    "duration": 8,
    "start_time": "2022-04-26T11:36:18.443Z"
   },
   {
    "duration": 7,
    "start_time": "2022-04-26T11:36:18.452Z"
   },
   {
    "duration": 7,
    "start_time": "2022-04-26T11:36:18.461Z"
   },
   {
    "duration": 5,
    "start_time": "2022-04-26T11:36:18.469Z"
   },
   {
    "duration": 202,
    "start_time": "2022-04-26T11:36:18.476Z"
   },
   {
    "duration": 8,
    "start_time": "2022-04-26T11:36:18.679Z"
   },
   {
    "duration": 17,
    "start_time": "2022-04-26T11:36:18.688Z"
   },
   {
    "duration": 16,
    "start_time": "2022-04-26T11:52:50.174Z"
   },
   {
    "duration": 17,
    "start_time": "2022-04-26T11:53:18.848Z"
   },
   {
    "duration": 110,
    "start_time": "2022-04-26T11:56:05.608Z"
   },
   {
    "duration": 113,
    "start_time": "2022-04-26T11:56:12.643Z"
   },
   {
    "duration": 28,
    "start_time": "2022-04-26T11:56:26.701Z"
   },
   {
    "duration": 30,
    "start_time": "2022-04-26T11:57:11.100Z"
   }
  ],
  "kernelspec": {
   "display_name": "Python 3 (ipykernel)",
   "language": "python",
   "name": "python3"
  },
  "language_info": {
   "codemirror_mode": {
    "name": "ipython",
    "version": 3
   },
   "file_extension": ".py",
   "mimetype": "text/x-python",
   "name": "python",
   "nbconvert_exporter": "python",
   "pygments_lexer": "ipython3",
   "version": "3.9.12"
  },
  "toc": {
   "base_numbering": 1,
   "nav_menu": {},
   "number_sections": true,
   "sideBar": true,
   "skip_h1_title": true,
   "title_cell": "Table of Contents",
   "title_sidebar": "Contents",
   "toc_cell": false,
   "toc_position": {},
   "toc_section_display": true,
   "toc_window_display": false
  }
 },
 "nbformat": 4,
 "nbformat_minor": 2
}
